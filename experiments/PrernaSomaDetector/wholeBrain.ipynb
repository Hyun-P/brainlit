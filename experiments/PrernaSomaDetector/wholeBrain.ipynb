{
 "cells": [
  {
   "cell_type": "markdown",
   "id": "elect-passport",
   "metadata": {},
   "source": [
    "# Deep-Learning-Based Neuron Detection in Brain Volumes\n",
    "## *Written by Prerna Singh and John D'Uva* \n",
    "\n",
    "## Problem: In order to study morphology, connectivity, and firing characteristics of neurons, we need to know where they are located in the brain. Instead of a human manually going through terabytes of data to annotate cells, we propose a six-layer 3D convolutional neural network that can detect fluorescent neurons within given sections of a brain.\n",
    "\n",
    "## Hypothesis: This model has been previously proven to show ~95% accuracy in CLARITY-cleared brains. We believe that it may be able to generalize – with a similar degree of success – to other datasets.\n",
    "\n",
    "\n",
    "## Methods:\n",
    "    1) Loop through an entire brain, looking at each 12x12x12 window (using a stride of 4 pixels)\n",
    "    2) Use a brain-wide illumination correction for intensity \n",
    "    3) Test pre-trained m1 model on windows to detect all cells in the brain\n",
    "\n",
    "### Original repo: https://github.com/prernasingh11/CLARITY"
   ]
  },
  {
   "cell_type": "code",
   "execution_count": 7,
   "id": "ready-birthday",
   "metadata": {},
   "outputs": [],
   "source": [
    "from brainlit.utils.session import NeuroglancerSession\n",
    "import numpy as np\n",
    "import os\n",
    "import matplotlib.pyplot as plt\n",
    "from cloudvolume import CloudVolume, view\n",
    "import sys\n",
    "\n",
    "import torch\n",
    "import torch.nn as nn\n",
    "import torch.nn.functional as F\n",
    "import torch.utils.data as data\n",
    "import torch.optim as optim\n",
    "import sklearn.metrics\n",
    "\n",
    "# Change the following path to your local installation of brainlit\n",
    "sys.path.append(\"/Users/johnduva/Desktop/Git/NeuroData/brainlit\")"
   ]
  },
  {
   "cell_type": "markdown",
   "id": "sophisticated-nickel",
   "metadata": {},
   "source": [
    "### Pull the full volume "
   ]
  },
  {
   "cell_type": "code",
   "execution_count": 8,
   "id": "normal-intake",
   "metadata": {},
   "outputs": [],
   "source": [
    "dir = \"s3://open-neurodata/brainlit/brain1\"\n",
    "vol = CloudVolume(dir, parallel=False, mip=2, progress=True, fill_missing=True)\n",
    "\n",
    "x1 = 0\n",
    "x2 = vol.shape[0]\n",
    "y1 = 0\n",
    "y2 = vol.shape[1]\n",
    "z1 = 0\n",
    "z2 = vol.shape[2]"
   ]
  },
  {
   "cell_type": "markdown",
   "id": "postal-diamond",
   "metadata": {},
   "source": [
    "### Create list of 12x12x12 subvolumes and associated list of coords"
   ]
  },
  {
   "cell_type": "code",
   "execution_count": null,
   "id": "clean-palestine",
   "metadata": {
    "scrolled": true
   },
   "outputs": [],
   "source": [
    "step = 500\n",
    "\n",
    "stride = 4\n",
    "final = []\n",
    "coords = []\n",
    "for x in range(\n",
    "    x1,\n",
    "    x2,\n",
    "    step,\n",
    "):\n",
    "    x500 = x + step\n",
    "    image = vol[x:x500, y1:y2, z1:z2]\n",
    "\n",
    "    \"\"\"  Create a list \"final\" with each element being a 12x12x12 subvolume within the designated region \"\"\"\n",
    "    count = 0\n",
    "    for xx in range(0, x500 - x - (12 - stride), stride):\n",
    "        for y in range(0, y2 - y1 - (12 - stride), stride):\n",
    "            for z in range(0, z2 - z1 - (12 - stride), stride):\n",
    "                final.append(image[xx : xx + 12, y : y + 12, z : z + 12])\n",
    "                coords.append(\n",
    "                    [x + xx + 6, y1 + y + 6, z1 + z + 6]\n",
    "                )  # Keep track of the coordinates of each subvolume in \"coords\"\n",
    "                #                 print( [x+xx+6, y1+y+6, z1+z+6] ) # print the coords of each subvolume's center voxel\n",
    "                #                 print(image[xx:xx+12, y:y+12, z:z+12].shape) # print the shape of each subvolume\n",
    "                #                 print(' ')\n",
    "                count += 1\n",
    "\n",
    "    print(\"There are \" + str(count) + \" subvolumes.\")"
   ]
  },
  {
   "cell_type": "code",
   "execution_count": 44,
   "id": "alike-region",
   "metadata": {},
   "outputs": [],
   "source": [
    "# Test to make sure size of all subvolumes are correct\n",
    "[print(f.shape) for f in final]"
   ]
  },
  {
   "cell_type": "markdown",
   "id": "worse-reason",
   "metadata": {},
   "source": [
    "### Convert to desired shape: n x 12 x 12 x 12 x 1"
   ]
  },
  {
   "cell_type": "code",
   "execution_count": 45,
   "id": "native-external",
   "metadata": {},
   "outputs": [
    {
     "name": "stdout",
     "output_type": "stream",
     "text": [
      "Number of Items in Test Data: 30497\n",
      "Shape of Test Data Vector: (30497, 1, 12, 12, 12)\n"
     ]
    }
   ],
   "source": [
    "final2 = np.zeros((len(final), 12, 12, 12, 1))\n",
    "for i, subv in enumerate(final):\n",
    "    final2[i] = np.asarray(subv)\n",
    "final2 = np.squeeze(final2)\n",
    "\n",
    "print(\"Number of Items in Test Data:\", len(final2))\n",
    "final2 = np.expand_dims(final2, axis=1)\n",
    "print(\"Shape of Test Data Vector:\", final2.shape)"
   ]
  },
  {
   "cell_type": "markdown",
   "id": "capital-indicator",
   "metadata": {},
   "source": [
    "### Load Prernas model"
   ]
  },
  {
   "cell_type": "code",
   "execution_count": 156,
   "id": "caring-sensitivity",
   "metadata": {},
   "outputs": [],
   "source": [
    "class M1(nn.Module):\n",
    "    def __init__(self):\n",
    "        super(M1, self).__init__()\n",
    "        self.conv1 = nn.Sequential(\n",
    "            nn.Conv3d(1, 64, (5, 5, 5), padding=2), nn.Dropout(dr)\n",
    "        )  # in_channel, out_channel, kernel\n",
    "        self.pool = nn.MaxPool3d((2, 2, 2), 2)  # kernel, stride\n",
    "        self.conv2 = nn.Sequential(\n",
    "            nn.Conv3d(64, 64, (3, 3, 3), padding=1), nn.Dropout(dr)\n",
    "        )  # in_channel, out_channel, kernel\n",
    "        self.conv3 = nn.Sequential(\n",
    "            nn.Conv3d(64, 64, (3, 3, 3), padding=1), nn.Dropout(dr)\n",
    "        )  # in_channel, out_channel, kernel\n",
    "        self.fc1 = nn.Sequential(nn.Linear(6 * 6 * 6 * 64, 150), nn.Dropout(dr))\n",
    "        self.fc2 = nn.Sequential(nn.Linear(150, 1), nn.Dropout(dr))\n",
    "\n",
    "    def forward(self, x):\n",
    "        x = F.relu(self.conv1(x))\n",
    "        x = self.pool(x)\n",
    "        x = F.relu(self.conv2(x))\n",
    "        x = F.relu(self.conv3(x))\n",
    "        x = x.reshape(x.size(0), -1)\n",
    "        x = F.relu(self.fc1(x))\n",
    "        x = self.fc2(x)\n",
    "        m = nn.Sigmoid()\n",
    "        x = m(x)\n",
    "        return x\n",
    "\n",
    "\n",
    "# Hyperparamters\n",
    "num_epochs = 200\n",
    "batch_size = 5\n",
    "learning_rate = 1e-3\n",
    "momentum = 0.9\n",
    "dr = 0.3\n",
    "weight_decay = 1e-4\n",
    "m1 = M1()\n",
    "m1.load_state_dict(torch.load(\"crossvalidation4.pt\", map_location=torch.device(\"cpu\")))\n",
    "m1 = m1.double()"
   ]
  },
  {
   "cell_type": "markdown",
   "id": "ahead-philosophy",
   "metadata": {},
   "source": [
    "### Normalize"
   ]
  },
  {
   "cell_type": "code",
   "execution_count": 157,
   "id": "exotic-breach",
   "metadata": {},
   "outputs": [],
   "source": [
    "MAX = np.amax(final2)\n",
    "final_norm = final2 / MAX"
   ]
  },
  {
   "cell_type": "markdown",
   "id": "chemical-safety",
   "metadata": {},
   "source": [
    "### Run subvolumes through model to get list of classification scores"
   ]
  },
  {
   "cell_type": "code",
   "execution_count": 158,
   "id": "northern-harris",
   "metadata": {},
   "outputs": [
    {
     "name": "stdout",
     "output_type": "stream",
     "text": [
      "274625\n"
     ]
    }
   ],
   "source": [
    "labels_norm = []\n",
    "for i in range(len(labels_norm), len(final_norm)):\n",
    "    w = torch.from_numpy(final_norm[i])\n",
    "    w = w.unsqueeze(1)\n",
    "    w = w.double()\n",
    "    w = m1(w)\n",
    "    labels_norm.append(w.detach().numpy())\n",
    "\n",
    "labels_norm = np.asarray(labels_norm)\n",
    "labels_norm = labels_norm.squeeze()\n",
    "print(len(labels_norm))"
   ]
  },
  {
   "cell_type": "markdown",
   "id": "voluntary-disaster",
   "metadata": {},
   "source": [
    "### Order the list from most-likely to be a cell to least-likely..."
   ]
  },
  {
   "cell_type": "code",
   "execution_count": 346,
   "id": "injured-sudan",
   "metadata": {
    "scrolled": true
   },
   "outputs": [],
   "source": [
    "arr = [[float(test), i, final_norm[i].squeeze()] for i, test in enumerate(labels_norm)]\n",
    "arr.sort(reverse=True)\n",
    "onlyScores = [item[0] for item in arr[:20]]\n",
    "# onlyScores[:10]"
   ]
  },
  {
   "cell_type": "markdown",
   "id": "stunning-appreciation",
   "metadata": {},
   "source": [
    "### Display subvolumes in order of highest scores to lowest. Manually look through them to determine reliability."
   ]
  },
  {
   "cell_type": "code",
   "execution_count": 356,
   "id": "brutal-malaysia",
   "metadata": {
    "scrolled": false
   },
   "outputs": [
    {
     "name": "stdout",
     "output_type": "stream",
     "text": [
      "Using the 1st highest-scoring subvolume (coodinates=[4160, 3960, 1762])...\n",
      "filter out the other high-scoring subvolumes that are too close: \n",
      "  jj=1 removing [4160, 3957, 1762]\n",
      "  jj=2 removing [4163, 3960, 1762]\n",
      "  jj=3 removing [4157, 3957, 1762]\n",
      "  jj=4 removing [4166, 3960, 1762]\n",
      "  jj=5 coords are far away...\n",
      "  jj=6 removing [4157, 3960, 1762]\n",
      "  jj=7 coords are far away...\n",
      "  jj=8 removing [4166, 3957, 1762]\n",
      "  jj=9 coords are far away...\n",
      "  jj=10 coords are far away...\n",
      "  jj=11 coords are far away...\n",
      "  jj=12 coords are far away...\n",
      "  jj=13 coords are far away...\n",
      "  jj=14 removing [4169, 3960, 1762]\n",
      "  jj=15 coords are far away...\n",
      "  jj=16 coords are far away...\n",
      "  jj=17 coords are far away...\n",
      "  jj=18 coords are far away...\n",
      "  jj=19 coords are far away...\n",
      " \n",
      "Using the 2nd highest-scoring subvolume (coodinates=[4160, 3957, 1762])...\n",
      "continue because we already removed this duplicate subvolume from arr.\n",
      "\n",
      "Using the 3rd highest-scoring subvolume (coodinates=[4163, 3960, 1762])...\n",
      "continue because we already removed this duplicate subvolume from arr.\n",
      "\n",
      "Using the 4th highest-scoring subvolume (coodinates=[4157, 3957, 1762])...\n",
      "continue because we already removed this duplicate subvolume from arr.\n",
      "\n",
      "Using the 5th highest-scoring subvolume (coodinates=[4166, 3960, 1762])...\n",
      "continue because we already removed this duplicate subvolume from arr.\n",
      "\n",
      "Using the 6th highest-scoring subvolume (coodinates=[4184, 4080, 1756])...\n",
      "filter out the other high-scoring subvolumes that are too close: \n",
      "  jj=6 coords are far away...\n",
      "  jj=7 coords are far away...\n",
      "  jj=8 coords are far away...\n",
      "  jj=9 coords are far away...\n",
      "  jj=10 coords are far away...\n",
      "  jj=11 coords are far away...\n",
      "  jj=12 coords are far away...\n",
      "  jj=13 coords are far away...\n",
      "  jj=14 coords are far away...\n",
      "  jj=15 coords are far away...\n",
      "  jj=16 coords are far away...\n",
      "  jj=17 coords are far away...\n",
      "  jj=18 removing [4190, 4083, 1756]\n",
      "  jj=19 removing [4181, 4080, 1756]\n",
      " \n",
      "Using the 7th highest-scoring subvolume (coodinates=[4157, 3960, 1762])...\n",
      "continue because we already removed this duplicate subvolume from arr.\n",
      "\n",
      "Using the 8th highest-scoring subvolume (coodinates=[4232, 4026, 1783])...\n",
      "filter out the other high-scoring subvolumes that are too close: \n",
      "  jj=8 coords are far away...\n",
      "  jj=9 coords are far away...\n",
      "  jj=10 coords are far away...\n",
      "  jj=11 coords are far away...\n",
      "  jj=12 coords are far away...\n",
      "  jj=13 coords are far away...\n",
      "  jj=14 coords are far away...\n",
      "  jj=15 removing [4241, 4032, 1783]\n",
      "  jj=16 coords are far away...\n",
      "  jj=17 coords are far away...\n",
      "  jj=18 coords are far away...\n",
      "  jj=19 coords are far away...\n",
      " \n",
      "Using the 9th highest-scoring subvolume (coodinates=[4166, 3957, 1762])...\n",
      "continue because we already removed this duplicate subvolume from arr.\n",
      "\n",
      "Using the 10th highest-scoring subvolume (coodinates=[4271, 3963, 1771])...\n",
      "filter out the other high-scoring subvolumes that are too close: \n",
      "  jj=10 removing [4274, 3963, 1771]\n",
      "  jj=11 removing [4268, 3966, 1771]\n",
      "  jj=12 coords are far away...\n",
      "  jj=13 coords are far away...\n",
      "  jj=14 coords are far away...\n",
      "  jj=15 coords are far away...\n",
      "  jj=16 coords are far away...\n",
      "  jj=17 coords are far away...\n",
      "  jj=18 coords are far away...\n",
      "  jj=19 coords are far away...\n",
      " \n",
      "Using the 11th highest-scoring subvolume (coodinates=[4226, 4026, 1783])...\n",
      "continue because we already removed this duplicate subvolume from arr.\n",
      "\n",
      "Using the 12th highest-scoring subvolume (coodinates=[4106, 4065, 1720])...\n",
      "continue because we already removed this duplicate subvolume from arr.\n",
      "\n",
      "Using the 13th highest-scoring subvolume (coodinates=[4235, 4029, 1783])...\n",
      "filter out the other high-scoring subvolumes that are too close: \n",
      "  jj=13 coords are far away...\n",
      "  jj=14 coords are far away...\n",
      "  jj=15 coords are far away...\n",
      "  jj=16 coords are far away...\n",
      "  jj=17 coords are far away...\n",
      "  jj=18 removing [4232, 4029, 1783]\n",
      "  jj=19 coords are far away...\n",
      " \n",
      "Using the 14th highest-scoring subvolume (coodinates=[4106, 3984, 1753])...\n",
      "filter out the other high-scoring subvolumes that are too close: \n",
      "  jj=14 coords are far away...\n",
      "  jj=15 coords are far away...\n",
      "  jj=16 coords are far away...\n",
      "  jj=17 coords are far away...\n",
      "  jj=18 coords are far away...\n",
      "  jj=19 coords are far away...\n",
      " \n",
      "Using the 15th highest-scoring subvolume (coodinates=[4169, 3960, 1762])...\n",
      "continue because we already removed this duplicate subvolume from arr.\n",
      "\n",
      "Using the 16th highest-scoring subvolume (coodinates=[4118, 3942, 1744])...\n",
      "continue because we already removed this duplicate subvolume from arr.\n",
      "\n",
      "Using the 17th highest-scoring subvolume (coodinates=[4274, 3963, 1771])...\n",
      "filter out the other high-scoring subvolumes that are too close: \n",
      "  jj=17 coords are far away...\n",
      "  jj=18 coords are far away...\n",
      "  jj=19 coords are far away...\n",
      " \n",
      "Using the 18th highest-scoring subvolume (coodinates=[4268, 3966, 1771])...\n",
      "filter out the other high-scoring subvolumes that are too close: \n",
      "  jj=18 coords are far away...\n",
      "  jj=19 coords are far away...\n",
      " \n",
      "Using the 19th highest-scoring subvolume (coodinates=[4205, 3918, 1756])...\n",
      "continue because we already removed this duplicate subvolume from arr.\n",
      "\n",
      "Using the 20th highest-scoring subvolume (coodinates=[4106, 3999, 1732])...\n",
      "continue because we already removed this duplicate subvolume from arr.\n",
      "\n"
     ]
    },
    {
     "data": {
      "text/plain": [
       "<Figure size 432x288 with 0 Axes>"
      ]
     },
     "metadata": {},
     "output_type": "display_data"
    },
    {
     "data": {
      "image/png": "[encoded data removed]",
      "text/plain": [
       "<Figure size 864x864 with 3 Axes>"
      ]
     },
     "metadata": {
      "needs_background": "light"
     },
     "output_type": "display_data"
    },
    {
     "data": {
      "text/plain": [
       "<Figure size 432x288 with 0 Axes>"
      ]
     },
     "metadata": {},
     "output_type": "display_data"
    },
    {
     "data": {
      "image/png": "[encoded data removed]",
      "text/plain": [
       "<Figure size 864x864 with 3 Axes>"
      ]
     },
     "metadata": {
      "needs_background": "light"
     },
     "output_type": "display_data"
    },
    {
     "data": {
      "text/plain": [
       "<Figure size 432x288 with 0 Axes>"
      ]
     },
     "metadata": {},
     "output_type": "display_data"
    },
    {
     "data": {
      "image/png": "[encoded data removed]",
      "text/plain": [
       "<Figure size 864x864 with 3 Axes>"
      ]
     },
     "metadata": {
      "needs_background": "light"
     },
     "output_type": "display_data"
    },
    {
     "data": {
      "text/plain": [
       "<Figure size 432x288 with 0 Axes>"
      ]
     },
     "metadata": {},
     "output_type": "display_data"
    },
    {
     "data": {
      "image/png": "[encoded data removed]",
      "text/plain": [
       "<Figure size 864x864 with 3 Axes>"
      ]
     },
     "metadata": {
      "needs_background": "light"
     },
     "output_type": "display_data"
    },
    {
     "data": {
      "text/plain": [
       "<Figure size 432x288 with 0 Axes>"
      ]
     },
     "metadata": {},
     "output_type": "display_data"
    },
    {
     "data": {
      "image/png": "[encoded data removed]",
      "text/plain": [
       "<Figure size 864x864 with 3 Axes>"
      ]
     },
     "metadata": {
      "needs_background": "light"
     },
     "output_type": "display_data"
    },
    {
     "data": {
      "text/plain": [
       "<Figure size 432x288 with 0 Axes>"
      ]
     },
     "metadata": {},
     "output_type": "display_data"
    },
    {
     "data": {
      "image/png": "[encoded data removed]",
      "text/plain": [
       "<Figure size 864x864 with 3 Axes>"
      ]
     },
     "metadata": {
      "needs_background": "light"
     },
     "output_type": "display_data"
    },
    {
     "data": {
      "text/plain": [
       "<Figure size 432x288 with 0 Axes>"
      ]
     },
     "metadata": {},
     "output_type": "display_data"
    },
    {
     "data": {
      "image/png": "[encoded data removed]",
      "text/plain": [
       "<Figure size 864x864 with 3 Axes>"
      ]
     },
     "metadata": {
      "needs_background": "light"
     },
     "output_type": "display_data"
    },
    {
     "data": {
      "text/plain": [
       "<Figure size 432x288 with 0 Axes>"
      ]
     },
     "metadata": {},
     "output_type": "display_data"
    },
    {
     "data": {
      "image/png": "[encoded data removed]",
      "text/plain": [
       "<Figure size 864x864 with 3 Axes>"
      ]
     },
     "metadata": {
      "needs_background": "light"
     },
     "output_type": "display_data"
    }
   ],
   "source": [
    "begin = 0\n",
    "end = 20\n",
    "skip = []\n",
    "dist = 15\n",
    "\n",
    "for ii, subvol in enumerate(arr[begin:end]):\n",
    "    threeCoords = coords[subvol[1]]\n",
    "    suffix = (\n",
    "        \"th\"\n",
    "        if 4 <= ii + 1 % 100 <= 20\n",
    "        else {1: \"st\", 2: \"nd\", 3: \"rd\"}.get(ii + 1 % 10, \"th\")\n",
    "    )\n",
    "    print(\n",
    "        \"Using the \"\n",
    "        + str(ii + 1)\n",
    "        + suffix\n",
    "        + \" highest-scoring subvolume (coodinates=\"\n",
    "        + str(threeCoords)\n",
    "        + \")...\"\n",
    "    )\n",
    "    if ii in skip:\n",
    "        print(\n",
    "            \"continue because we already removed this duplicate subvolume from arr.\\n\"\n",
    "        )\n",
    "        continue\n",
    "    else:\n",
    "        fig = plt.figure()\n",
    "        f, axarr = plt.subplots(1, 3, figsize=(12, 12))\n",
    "        axarr[0].imshow(subvol[2][:, :, 3])\n",
    "        axarr[1].imshow(subvol[2][:, :, 6])\n",
    "        axarr[2].imshow(subvol[2][:, :, 9])\n",
    "\n",
    "        axarr[0].set_title(subvol[1])\n",
    "        axarr[1].set_title(subvol[0])\n",
    "        axarr[2].set_title(coords[subvol[1]])\n",
    "\n",
    "        print(\"filter out the other high-scoring subvolumes that are too close: \")\n",
    "        for jj, subvol2 in enumerate(arr[begin + ii + 1 : end]):\n",
    "            jj = begin + ii + 1 + jj\n",
    "            threeCoords2 = coords[subvol2[1]]\n",
    "            if (\n",
    "                abs(threeCoords[0] - threeCoords2[0]) > dist\n",
    "                or abs(threeCoords[1] - threeCoords2[1]) > dist\n",
    "                or abs(threeCoords[2] - threeCoords2[2]) > dist\n",
    "            ):\n",
    "                print(\"  jj=\" + str(jj) + \" coords are far away...\")\n",
    "                pass\n",
    "            else:\n",
    "                print(\"  jj=\" + str(jj) + \" removing \" + str(threeCoords2))\n",
    "                arr.remove(arr[jj])\n",
    "                skip.append(jj)\n",
    "        print(\" \")"
   ]
  }
 ],
 "metadata": {
  "kernelspec": {
   "display_name": "Python 3",
   "language": "python",
   "name": "python3"
  },
  "language_info": {
   "codemirror_mode": {
    "name": "ipython",
    "version": 3
   },
   "file_extension": ".py",
   "mimetype": "text/x-python",
   "name": "python",
   "nbconvert_exporter": "python",
   "pygments_lexer": "ipython3",
   "version": "3.9.0"
  }
 },
 "nbformat": 4,
 "nbformat_minor": 5
}
