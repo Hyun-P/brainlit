{
 "cells": [
  {
   "cell_type": "markdown",
   "metadata": {},
   "source": [
    "## Target space visualization"
   ]
  },
  {
   "cell_type": "markdown",
   "metadata": {},
   "source": [
    "## Data"
   ]
  },
  {
   "cell_type": "code",
   "execution_count": 1,
   "metadata": {},
   "outputs": [],
   "source": [
    "import pickle\n",
    "\n",
    "samples = {\n",
    "    \"8557\": \"tph2 vglut3\",\n",
    "    \"8555\": \"tph2 vglut3\",\n",
    "    \"8607\": \"tph2 gad2\",\n",
    "    \"8606\": \"tph2 gad2\",\n",
    "    \"8477\": \"gad2/vgat\",\n",
    "    \"8531\": \"gad2/vgat\",\n",
    "    \"8608\": \"tph2 gad2\",\n",
    "    \"8529\": \"gad2/vgat\",\n",
    "    \"8454\": \"gad2/vgat\",\n",
    "    \"8446\": \"gad2/vgat\",\n",
    "}\n",
    "counts = {}\n",
    "for gene in set(samples.values()):\n",
    "    count = 0\n",
    "    for brain in samples.keys():\n",
    "        if samples[brain] == gene:\n",
    "            count += 1\n",
    "    counts[gene] = count\n",
    "\n",
    "quantification_dicts = {}\n",
    "for sample in samples.keys():\n",
    "    name = (\n",
    "        \"/Users/thomasathey/Documents/mimlab/mouselight/ailey/detection_soma/wholebrain_results/quantification_dict_\"\n",
    "        + sample\n",
    "        + \".pickle\"\n",
    "    )\n",
    "    with open(name, \"rb\") as handle:\n",
    "        qdict = pickle.load(handle)\n",
    "        quantification_dicts[sample] = qdict"
   ]
  },
  {
   "cell_type": "code",
   "execution_count": 2,
   "metadata": {},
   "outputs": [],
   "source": [
    "regions = [688, 698, 1089, 583, 477, 803, 703, 1097, 549, 313, 1065]"
   ]
  },
  {
   "cell_type": "markdown",
   "metadata": {},
   "source": [
    "no amygdala\n",
    "http://atlas.brain-map.org/atlas?atlas=1&plate=100960360#atlas=1&plate=100960273&resolution=11.97&x=5804.000069754465&y=4358.8749912806925&zoom=-3&structure=703"
   ]
  },
  {
   "cell_type": "markdown",
   "metadata": {},
   "source": [
    "## setup atlas"
   ]
  },
  {
   "cell_type": "code",
   "execution_count": 3,
   "metadata": {},
   "outputs": [],
   "source": [
    "import json\n",
    "from parse_ara import *\n",
    "import networkx as nx\n",
    "import numpy as np\n",
    "import matplotlib as mpl\n",
    "import matplotlib.pyplot as plt\n",
    "from pyvis.network import Network"
   ]
  },
  {
   "cell_type": "markdown",
   "metadata": {},
   "source": [
    "## Create nx graph"
   ]
  },
  {
   "cell_type": "code",
   "execution_count": 4,
   "metadata": {},
   "outputs": [
    {
     "name": "stdout",
     "output_type": "stream",
     "text": [
      "Max level: 10\n",
      "0\n",
      "45\n",
      "11496\n"
     ]
    }
   ],
   "source": [
    "# create vikram object\n",
    "f = json.load(\n",
    "    open(\n",
    "        \"/Users/thomasathey/Documents/mimlab/mouselight/brainlit_parent/brainlit/experiments/deisseroth/ara_structure_ontology.json\",\n",
    "        \"r\",\n",
    "    )\n",
    ")\n",
    "\n",
    "tree = build_tree(f)\n",
    "stack = [tree]\n",
    "\n",
    "# create nx graph\n",
    "queue = [tree]\n",
    "cur_level = -1\n",
    "counter = 0\n",
    "G = nx.DiGraph()\n",
    "max_level = 0\n",
    "\n",
    "\n",
    "while len(queue) > 0:\n",
    "    node = queue.pop(0)\n",
    "    if node.level > max_level:\n",
    "        max_level = node.level\n",
    "    G.add_node(\n",
    "        node.id,\n",
    "        level=node.level,\n",
    "        st_level=node.st_level,\n",
    "        name=node.name,\n",
    "        acronym=node.acronym,\n",
    "        label=str(node.st_level) + \") \" + node.name,\n",
    "    )\n",
    "    for brain in quantification_dicts.keys():\n",
    "        G.nodes[node.id][brain] = 0\n",
    "    if node.parent_id is not None:\n",
    "        G.add_edge(node.parent_id, node.id)\n",
    "\n",
    "    queue += node.children\n",
    "\n",
    "i_test = 2\n",
    "print(f\"Max level: {max_level}\")\n",
    "print(G.nodes[997][list(quantification_dicts.keys())[i_test]])\n",
    "for brain, quantification_dict in quantification_dicts.items():\n",
    "    for key in quantification_dict.keys():\n",
    "        if key in G.nodes:\n",
    "            G.nodes[key][brain] = G.nodes[key][brain] + quantification_dict[key]\n",
    "print(G.nodes[997][list(quantification_dicts.keys())[i_test]])\n",
    "\n",
    "for brain in quantification_dicts.keys():\n",
    "    for lvl in range(max_level, 0, -1):\n",
    "        for node in G.nodes:\n",
    "            if G.nodes[node][\"level\"] == lvl:\n",
    "                parent = list(G.in_edges(node))[0][0]\n",
    "                G.nodes[parent][brain] = G.nodes[parent][brain] + G.nodes[node][brain]\n",
    "print(G.nodes[997][list(quantification_dicts.keys())[i_test]])"
   ]
  },
  {
   "cell_type": "code",
   "execution_count": 5,
   "metadata": {},
   "outputs": [],
   "source": [
    "def dict2graph(quantification_dict):\n",
    "    # create vikram object\n",
    "    f = json.load(\n",
    "        open(\n",
    "            \"/Users/thomasathey/Documents/mimlab/mouselight/brainlit_parent/brainlit/experiments/deisseroth/ara_structure_ontology.json\",\n",
    "            \"r\",\n",
    "        )\n",
    "    )\n",
    "\n",
    "    tree = build_tree(f)\n",
    "    stack = [tree]\n",
    "    dfs_node_list = []  # node ids ordered by dfs\n",
    "    reg_to_name = {}  # map from id to name\n",
    "\n",
    "    while len(stack) > 0:\n",
    "        node = stack.pop()\n",
    "\n",
    "        if node.id in quantification_dict.keys():\n",
    "            reg_to_name[node.id] = node.name\n",
    "            dfs_node_list.append(node.id)\n",
    "\n",
    "        if len(node.children) > 0:\n",
    "            stack[0:0] = node.children\n",
    "\n",
    "    quantification_dict_ordered = {}\n",
    "    for id in dfs_node_list:\n",
    "        if id not in quantification_dict.keys():\n",
    "            continue\n",
    "        try:\n",
    "            roi_name = reg_to_name[id]\n",
    "        except:\n",
    "            roi_name = \"Missing Name #\" + str(id)\n",
    "        quantification_dict_ordered[roi_name] = quantification_dict[id]\n",
    "\n",
    "    for vol_key in quantification_dict.keys():\n",
    "        if vol_key not in reg_to_name.keys():\n",
    "            roi_name = \"Unknown Name #\" + str(vol_key)\n",
    "            quantification_dict_ordered[roi_name] = quantification_dict[id]\n",
    "\n",
    "    # create nx graph\n",
    "    queue = [tree]\n",
    "    cur_level = -1\n",
    "    counter = 0\n",
    "    G = nx.DiGraph()\n",
    "    max_level = 0\n",
    "\n",
    "    while len(queue) > 0:\n",
    "        node = queue.pop(0)\n",
    "        if node.level > max_level:\n",
    "            max_level = node.level\n",
    "        G.add_node(\n",
    "            node.id,\n",
    "            level=node.level,\n",
    "            st_level=node.st_level,\n",
    "            name=node.name,\n",
    "            acronym=node.acronym,\n",
    "            somas=0,\n",
    "            label=str(node.st_level) + \") \" + node.name,\n",
    "        )\n",
    "        if node.parent_id is not None:\n",
    "            G.add_edge(node.parent_id, node.id)\n",
    "\n",
    "        queue += node.children\n",
    "\n",
    "    print(f\"Max level: {max_level}\")\n",
    "    print(G.nodes[997][\"somas\"])\n",
    "    for key in quantification_dict.keys():\n",
    "        if key in G.nodes:\n",
    "            G.nodes[key][\"somas\"] = G.nodes[key][\"somas\"] + quantification_dict[key]\n",
    "    print(G.nodes[997][\"somas\"])\n",
    "\n",
    "    for lvl in range(max_level, 0, -1):\n",
    "        for node in G.nodes:\n",
    "            if G.nodes[node][\"level\"] == lvl:\n",
    "                parent = list(G.in_edges(node))[0][0]\n",
    "                G.nodes[parent][\"somas\"] = (\n",
    "                    G.nodes[parent][\"somas\"] + G.nodes[node][\"somas\"]\n",
    "                )\n",
    "    print(G.nodes[997][\"somas\"])\n",
    "    return G"
   ]
  },
  {
   "cell_type": "markdown",
   "metadata": {},
   "source": [
    "## Pandas + Seaborn"
   ]
  },
  {
   "cell_type": "code",
   "execution_count": 6,
   "metadata": {},
   "outputs": [],
   "source": [
    "import pandas as pd\n",
    "import seaborn as sns\n",
    "import matplotlib.pyplot as plt\n",
    "from statannotations.Annotator import Annotator"
   ]
  },
  {
   "cell_type": "markdown",
   "metadata": {},
   "source": [
    "### Side by side"
   ]
  },
  {
   "cell_type": "code",
   "execution_count": 7,
   "metadata": {},
   "outputs": [
    {
     "name": "stdout",
     "output_type": "stream",
     "text": [
      "Populating: Cerebral cortex\n",
      "Populating: Olfactory areas\n",
      "Populating: Hippocampal formation\n",
      "Populating: Claustrum\n",
      "Populating: Striatum\n",
      "Populating: Pallidum\n",
      "Populating: Cortical subplate\n",
      "Populating: Hypothalamus\n",
      "Populating: Thalamus\n",
      "Populating: Midbrain\n",
      "Populating: Hindbrain\n"
     ]
    }
   ],
   "source": [
    "totals = {}\n",
    "\n",
    "for brain in quantification_dicts.keys():\n",
    "    total = 0\n",
    "    for node in G.nodes:\n",
    "        total += G.nodes[node][brain]\n",
    "    totals[brain] = total\n",
    "\n",
    "somas = []\n",
    "somas_pct = []\n",
    "gene = []\n",
    "subregion_name = []\n",
    "region_name = []\n",
    "for region in regions:\n",
    "    print(f\"Populating: \" + G.nodes[region][\"name\"])\n",
    "    children = list(G.successors(region))\n",
    "    children = [region]\n",
    "\n",
    "    for child in children:\n",
    "        for brain in quantification_dicts.keys():\n",
    "            somas.append(G.nodes[child][brain])\n",
    "            somas_pct.append(G.nodes[child][brain] / totals[brain] * 100)\n",
    "\n",
    "            gene.append(samples[brain] + f\" (n={counts[samples[brain]]})\")\n",
    "            subregion_name.append(G.nodes[child][\"name\"])\n",
    "            region_name.append(G.nodes[region][\"name\"])\n",
    "\n",
    "d = {\n",
    "    \"Somas (#)\": somas,\n",
    "    \"Percent of Total Somas (%)\": somas_pct,\n",
    "    \"Gene\": gene,\n",
    "    \"Subregion\": subregion_name,\n",
    "    \"Region\": region_name,\n",
    "}\n",
    "df = pd.DataFrame(data=d)"
   ]
  },
  {
   "cell_type": "markdown",
   "metadata": {},
   "source": [
    "## Paper Figure"
   ]
  },
  {
   "cell_type": "code",
   "execution_count": 8,
   "metadata": {},
   "outputs": [
    {
     "name": "stdout",
     "output_type": "stream",
     "text": [
      "p-value annotation legend:\n",
      "      ns: p <= 1.00e+00\n",
      "       *: 1.00e-02 < p <= 5.00e-02\n",
      "      **: 1.00e-03 < p <= 1.00e-02\n",
      "     ***: 1.00e-04 < p <= 1.00e-03\n",
      "    ****: p <= 1.00e-04\n",
      "\n",
      "Hippocampal formation_tph2 vglut3 (n=2) vs. Hippocampal formation_tph2 gad2 (n=3): Mann-Whitney-Wilcoxon test two-sided with Benjamini-Yekutieli correction, P_val:4.000e-01 U_stat=1.000e+00\n",
      "Claustrum_tph2 vglut3 (n=2) vs. Claustrum_tph2 gad2 (n=3): Mann-Whitney-Wilcoxon test two-sided with Benjamini-Yekutieli correction, P_val:2.000e-01 U_stat=0.000e+00\n",
      "Striatum_tph2 vglut3 (n=2) vs. Striatum_tph2 gad2 (n=3): Mann-Whitney-Wilcoxon test two-sided with Benjamini-Yekutieli correction, P_val:2.000e-01 U_stat=0.000e+00\n",
      "Pallidum_tph2 vglut3 (n=2) vs. Pallidum_tph2 gad2 (n=3): Mann-Whitney-Wilcoxon test two-sided with Benjamini-Yekutieli correction, P_val:4.000e-01 U_stat=1.000e+00\n",
      "Cortical subplate_tph2 vglut3 (n=2) vs. Cortical subplate_tph2 gad2 (n=3): Mann-Whitney-Wilcoxon test two-sided with Benjamini-Yekutieli correction, P_val:4.000e-01 U_stat=1.000e+00\n",
      "Hypothalamus_tph2 vglut3 (n=2) vs. Hypothalamus_tph2 gad2 (n=3): Mann-Whitney-Wilcoxon test two-sided with Benjamini-Yekutieli correction, P_val:8.000e-01 U_stat=2.000e+00\n",
      "Thalamus_tph2 vglut3 (n=2) vs. Thalamus_tph2 gad2 (n=3): Mann-Whitney-Wilcoxon test two-sided with Benjamini-Yekutieli correction, P_val:4.000e-01 U_stat=1.000e+00\n",
      "Olfactory areas_tph2 gad2 (n=3) vs. Olfactory areas_gad2/vgat (n=5): Mann-Whitney-Wilcoxon test two-sided with Benjamini-Yekutieli correction, P_val:7.021e-02 U_stat=1.400e+01\n",
      "Hippocampal formation_tph2 gad2 (n=3) vs. Hippocampal formation_gad2/vgat (n=5): Mann-Whitney-Wilcoxon test two-sided with Benjamini-Yekutieli correction, P_val:1.122e-01 U_stat=1.300e+01\n",
      "Claustrum_tph2 gad2 (n=3) vs. Claustrum_gad2/vgat (n=5): Mann-Whitney-Wilcoxon test two-sided with Benjamini-Yekutieli correction, P_val:1.680e-02 (ns) U_stat=1.500e+01\n",
      "Striatum_tph2 gad2 (n=3) vs. Striatum_gad2/vgat (n=5): Mann-Whitney-Wilcoxon test two-sided with Benjamini-Yekutieli correction, P_val:3.247e-02 (ns) U_stat=1.500e+01\n",
      "Pallidum_tph2 gad2 (n=3) vs. Pallidum_gad2/vgat (n=5): Mann-Whitney-Wilcoxon test two-sided with Benjamini-Yekutieli correction, P_val:3.247e-02 (ns) U_stat=1.500e+01\n",
      "Cortical subplate_tph2 gad2 (n=3) vs. Cortical subplate_gad2/vgat (n=5): Mann-Whitney-Wilcoxon test two-sided with Benjamini-Yekutieli correction, P_val:2.618e-02 (ns) U_stat=1.500e+01\n",
      "Hypothalamus_tph2 gad2 (n=3) vs. Hypothalamus_gad2/vgat (n=5): Mann-Whitney-Wilcoxon test two-sided with Benjamini-Yekutieli correction, P_val:3.577e-02 (ns) U_stat=1.500e+01\n",
      "Cerebral cortex_tph2 vglut3 (n=2) vs. Cerebral cortex_tph2 gad2 (n=3): Mann-Whitney-Wilcoxon test two-sided with Benjamini-Yekutieli correction, P_val:8.000e-01 U_stat=2.000e+00\n",
      "Olfactory areas_tph2 vglut3 (n=2) vs. Olfactory areas_tph2 gad2 (n=3): Mann-Whitney-Wilcoxon test two-sided with Benjamini-Yekutieli correction, P_val:8.000e-01 U_stat=2.000e+00\n",
      "Cerebral cortex_tph2 gad2 (n=3) vs. Cerebral cortex_gad2/vgat (n=5): Mann-Whitney-Wilcoxon test two-sided with Benjamini-Yekutieli correction, P_val:7.192e-02 U_stat=1.400e+01\n",
      "Midbrain_tph2 vglut3 (n=2) vs. Midbrain_tph2 gad2 (n=3): Mann-Whitney-Wilcoxon test two-sided with Benjamini-Yekutieli correction, P_val:2.000e-01 U_stat=0.000e+00\n",
      "Hindbrain_tph2 vglut3 (n=2) vs. Hindbrain_tph2 gad2 (n=3): Mann-Whitney-Wilcoxon test two-sided with Benjamini-Yekutieli correction, P_val:4.000e-01 U_stat=1.000e+00\n",
      "Thalamus_tph2 gad2 (n=3) vs. Thalamus_gad2/vgat (n=5): Mann-Whitney-Wilcoxon test two-sided with Benjamini-Yekutieli correction, P_val:3.247e-02 (ns) U_stat=1.500e+01\n",
      "Midbrain_tph2 gad2 (n=3) vs. Midbrain_gad2/vgat (n=5): Mann-Whitney-Wilcoxon test two-sided with Benjamini-Yekutieli correction, P_val:3.571e-02 (ns) U_stat=1.500e+01\n",
      "Hindbrain_tph2 gad2 (n=3) vs. Hindbrain_gad2/vgat (n=5): Mann-Whitney-Wilcoxon test two-sided with Benjamini-Yekutieli correction, P_val:3.577e-02 (ns) U_stat=1.500e+01\n",
      "Hippocampal formation_tph2 vglut3 (n=2) vs. Hippocampal formation_gad2/vgat (n=5): Mann-Whitney-Wilcoxon test two-sided with Benjamini-Yekutieli correction, P_val:8.091e-01 U_stat=6.000e+00\n",
      "Claustrum_tph2 vglut3 (n=2) vs. Claustrum_gad2/vgat (n=5): Mann-Whitney-Wilcoxon test two-sided with Benjamini-Yekutieli correction, P_val:2.059e-01 U_stat=7.500e+00\n",
      "Striatum_tph2 vglut3 (n=2) vs. Striatum_gad2/vgat (n=5): Mann-Whitney-Wilcoxon test two-sided with Benjamini-Yekutieli correction, P_val:7.051e-02 U_stat=1.000e+01\n",
      "Pallidum_tph2 vglut3 (n=2) vs. Pallidum_gad2/vgat (n=5): Mann-Whitney-Wilcoxon test two-sided with Benjamini-Yekutieli correction, P_val:7.051e-02 U_stat=1.000e+01\n",
      "Cortical subplate_tph2 vglut3 (n=2) vs. Cortical subplate_gad2/vgat (n=5): Mann-Whitney-Wilcoxon test two-sided with Benjamini-Yekutieli correction, P_val:5.448e-02 U_stat=1.000e+01\n",
      "Hypothalamus_tph2 vglut3 (n=2) vs. Hypothalamus_gad2/vgat (n=5): Mann-Whitney-Wilcoxon test two-sided with Benjamini-Yekutieli correction, P_val:7.864e-02 U_stat=1.000e+01\n",
      "Olfactory areas_tph2 vglut3 (n=2) vs. Olfactory areas_gad2/vgat (n=5): Mann-Whitney-Wilcoxon test two-sided with Benjamini-Yekutieli correction, P_val:1.675e-01 U_stat=9.000e+00\n",
      "Cerebral cortex_tph2 vglut3 (n=2) vs. Cerebral cortex_gad2/vgat (n=5): Mann-Whitney-Wilcoxon test two-sided with Benjamini-Yekutieli correction, P_val:7.864e-02 U_stat=1.000e+01\n",
      "Thalamus_tph2 vglut3 (n=2) vs. Thalamus_gad2/vgat (n=5): Mann-Whitney-Wilcoxon test two-sided with Benjamini-Yekutieli correction, P_val:7.051e-02 U_stat=1.000e+01\n",
      "Midbrain_tph2 vglut3 (n=2) vs. Midbrain_gad2/vgat (n=5): Mann-Whitney-Wilcoxon test two-sided with Benjamini-Yekutieli correction, P_val:9.524e-02 U_stat=1.000e+01\n",
      "Hindbrain_tph2 vglut3 (n=2) vs. Hindbrain_gad2/vgat (n=5): Mann-Whitney-Wilcoxon test two-sided with Benjamini-Yekutieli correction, P_val:3.286e-01 U_stat=8.000e+00\n",
      "p-value annotation legend:\n",
      "      ns: p <= 1.00e+00\n",
      "       *: 1.00e-02 < p <= 5.00e-02\n",
      "      **: 1.00e-03 < p <= 1.00e-02\n",
      "     ***: 1.00e-04 < p <= 1.00e-03\n",
      "    ****: p <= 1.00e-04\n",
      "\n",
      "Hippocampal formation_tph2 vglut3 (n=2) vs. Hippocampal formation_tph2 gad2 (n=3): Mann-Whitney-Wilcoxon test two-sided with Benjamini-Yekutieli correction, P_val:8.000e-01 U_stat=2.000e+00\n",
      "Claustrum_tph2 vglut3 (n=2) vs. Claustrum_tph2 gad2 (n=3): Mann-Whitney-Wilcoxon test two-sided with Benjamini-Yekutieli correction, P_val:1.000e+00 U_stat=3.000e+00\n",
      "Striatum_tph2 vglut3 (n=2) vs. Striatum_tph2 gad2 (n=3): Mann-Whitney-Wilcoxon test two-sided with Benjamini-Yekutieli correction, P_val:8.000e-01 U_stat=4.000e+00\n",
      "Pallidum_tph2 vglut3 (n=2) vs. Pallidum_tph2 gad2 (n=3): Mann-Whitney-Wilcoxon test two-sided with Benjamini-Yekutieli correction, P_val:1.000e+00 U_stat=3.000e+00\n",
      "Cortical subplate_tph2 vglut3 (n=2) vs. Cortical subplate_tph2 gad2 (n=3): Mann-Whitney-Wilcoxon test two-sided with Benjamini-Yekutieli correction, P_val:8.000e-01 U_stat=2.000e+00\n",
      "Hypothalamus_tph2 vglut3 (n=2) vs. Hypothalamus_tph2 gad2 (n=3): Mann-Whitney-Wilcoxon test two-sided with Benjamini-Yekutieli correction, P_val:1.000e+00 U_stat=3.000e+00\n",
      "Thalamus_tph2 vglut3 (n=2) vs. Thalamus_tph2 gad2 (n=3): Mann-Whitney-Wilcoxon test two-sided with Benjamini-Yekutieli correction, P_val:8.000e-01 U_stat=2.000e+00\n",
      "Olfactory areas_tph2 gad2 (n=3) vs. Olfactory areas_gad2/vgat (n=5): Mann-Whitney-Wilcoxon test two-sided with Benjamini-Yekutieli correction, P_val:1.000e+00 U_stat=8.000e+00\n",
      "Hippocampal formation_tph2 gad2 (n=3) vs. Hippocampal formation_gad2/vgat (n=5): Mann-Whitney-Wilcoxon test two-sided with Benjamini-Yekutieli correction, P_val:2.039e-01 U_stat=1.200e+01\n",
      "Claustrum_tph2 gad2 (n=3) vs. Claustrum_gad2/vgat (n=5): Mann-Whitney-Wilcoxon test two-sided with Benjamini-Yekutieli correction, P_val:1.680e-02 (ns) U_stat=1.500e+01\n",
      "Striatum_tph2 gad2 (n=3) vs. Striatum_gad2/vgat (n=5): Mann-Whitney-Wilcoxon test two-sided with Benjamini-Yekutieli correction, P_val:3.247e-02 (ns) U_stat=1.500e+01\n",
      "Pallidum_tph2 gad2 (n=3) vs. Pallidum_gad2/vgat (n=5): Mann-Whitney-Wilcoxon test two-sided with Benjamini-Yekutieli correction, P_val:3.571e-02 (ns) U_stat=1.500e+01\n",
      "Cortical subplate_tph2 gad2 (n=3) vs. Cortical subplate_gad2/vgat (n=5): Mann-Whitney-Wilcoxon test two-sided with Benjamini-Yekutieli correction, P_val:2.618e-02 (ns) U_stat=1.500e+01\n",
      "Hypothalamus_tph2 gad2 (n=3) vs. Hypothalamus_gad2/vgat (n=5): Mann-Whitney-Wilcoxon test two-sided with Benjamini-Yekutieli correction, P_val:3.571e-02 (ns) U_stat=1.500e+01\n",
      "Cerebral cortex_tph2 vglut3 (n=2) vs. Cerebral cortex_tph2 gad2 (n=3): Mann-Whitney-Wilcoxon test two-sided with Benjamini-Yekutieli correction, P_val:8.000e-01 U_stat=4.000e+00\n",
      "Olfactory areas_tph2 vglut3 (n=2) vs. Olfactory areas_tph2 gad2 (n=3): Mann-Whitney-Wilcoxon test two-sided with Benjamini-Yekutieli correction, P_val:4.000e-01 U_stat=5.000e+00\n",
      "Cerebral cortex_tph2 gad2 (n=3) vs. Cerebral cortex_gad2/vgat (n=5): Mann-Whitney-Wilcoxon test two-sided with Benjamini-Yekutieli correction, P_val:1.429e-01 U_stat=1.300e+01\n",
      "Midbrain_tph2 vglut3 (n=2) vs. Midbrain_tph2 gad2 (n=3): Mann-Whitney-Wilcoxon test two-sided with Benjamini-Yekutieli correction, P_val:8.000e-01 U_stat=2.000e+00\n",
      "Hindbrain_tph2 vglut3 (n=2) vs. Hindbrain_tph2 gad2 (n=3): Mann-Whitney-Wilcoxon test two-sided with Benjamini-Yekutieli correction, P_val:8.000e-01 U_stat=2.000e+00\n",
      "Thalamus_tph2 gad2 (n=3) vs. Thalamus_gad2/vgat (n=5): Mann-Whitney-Wilcoxon test two-sided with Benjamini-Yekutieli correction, P_val:3.247e-02 (ns) U_stat=1.500e+01\n",
      "Midbrain_tph2 gad2 (n=3) vs. Midbrain_gad2/vgat (n=5): Mann-Whitney-Wilcoxon test two-sided with Benjamini-Yekutieli correction, P_val:7.857e-01 U_stat=6.000e+00\n",
      "Hindbrain_tph2 gad2 (n=3) vs. Hindbrain_gad2/vgat (n=5): Mann-Whitney-Wilcoxon test two-sided with Benjamini-Yekutieli correction, P_val:5.714e-01 U_stat=1.000e+01\n",
      "Hippocampal formation_tph2 vglut3 (n=2) vs. Hippocampal formation_gad2/vgat (n=5): Mann-Whitney-Wilcoxon test two-sided with Benjamini-Yekutieli correction, P_val:8.091e-01 U_stat=6.000e+00\n",
      "Claustrum_tph2 vglut3 (n=2) vs. Claustrum_gad2/vgat (n=5): Mann-Whitney-Wilcoxon test two-sided with Benjamini-Yekutieli correction, P_val:2.059e-01 U_stat=7.500e+00\n",
      "Striatum_tph2 vglut3 (n=2) vs. Striatum_gad2/vgat (n=5): Mann-Whitney-Wilcoxon test two-sided with Benjamini-Yekutieli correction, P_val:7.051e-02 U_stat=1.000e+01\n",
      "Pallidum_tph2 vglut3 (n=2) vs. Pallidum_gad2/vgat (n=5): Mann-Whitney-Wilcoxon test two-sided with Benjamini-Yekutieli correction, P_val:9.524e-02 U_stat=1.000e+01\n",
      "Cortical subplate_tph2 vglut3 (n=2) vs. Cortical subplate_gad2/vgat (n=5): Mann-Whitney-Wilcoxon test two-sided with Benjamini-Yekutieli correction, P_val:5.448e-02 U_stat=1.000e+01\n",
      "Hypothalamus_tph2 vglut3 (n=2) vs. Hypothalamus_gad2/vgat (n=5): Mann-Whitney-Wilcoxon test two-sided with Benjamini-Yekutieli correction, P_val:9.524e-02 U_stat=1.000e+01\n",
      "Olfactory areas_tph2 vglut3 (n=2) vs. Olfactory areas_gad2/vgat (n=5): Mann-Whitney-Wilcoxon test two-sided with Benjamini-Yekutieli correction, P_val:5.577e-01 U_stat=7.000e+00\n",
      "Cerebral cortex_tph2 vglut3 (n=2) vs. Cerebral cortex_gad2/vgat (n=5): Mann-Whitney-Wilcoxon test two-sided with Benjamini-Yekutieli correction, P_val:9.524e-02 U_stat=1.000e+01\n",
      "Thalamus_tph2 vglut3 (n=2) vs. Thalamus_gad2/vgat (n=5): Mann-Whitney-Wilcoxon test two-sided with Benjamini-Yekutieli correction, P_val:7.051e-02 U_stat=1.000e+01\n",
      "Midbrain_tph2 vglut3 (n=2) vs. Midbrain_gad2/vgat (n=5): Mann-Whitney-Wilcoxon test two-sided with Benjamini-Yekutieli correction, P_val:5.714e-01 U_stat=3.000e+00\n",
      "Hindbrain_tph2 vglut3 (n=2) vs. Hindbrain_gad2/vgat (n=5): Mann-Whitney-Wilcoxon test two-sided with Benjamini-Yekutieli correction, P_val:8.571e-01 U_stat=6.000e+00\n"
     ]
    },
    {
     "data": {
      "image/png": "[encoded data removed]",
      "text/plain": [
       "<Figure size 2160x1440 with 2 Axes>"
      ]
     },
     "metadata": {
      "needs_background": "light"
     },
     "output_type": "display_data"
    }
   ],
   "source": [
    "test = \"Mann-Whitney\" \n",
    "#test = \"t-test_ind\"\n",
    "correction = \"fdr_by\"\n",
    "\n",
    "fig, axes = plt.subplots(1, 2, figsize=(30, 20))\n",
    "sns.set(font_scale=1.75)\n",
    "\n",
    "# soma counts\n",
    "fig_args = {\n",
    "    \"y\": \"Somas (#)\",\n",
    "    \"x\": \"Subregion\",\n",
    "    \"hue\": \"Gene\",\n",
    "    \"data\": df,\n",
    "}\n",
    "\n",
    "pairs = []\n",
    "unq_subregions = []\n",
    "for subregion in subregion_name:\n",
    "    if subregion not in unq_subregions:\n",
    "        unq_subregions.append(subregion)\n",
    "\n",
    "\n",
    "genes = df[\"Gene\"].unique()\n",
    "gene_pairs = [(a,b) for idx, a in enumerate(genes) for b in genes[idx+1:]]\n",
    "for gene_pair in gene_pairs:\n",
    "    for subregion in unq_subregions:\n",
    "        pairs.append(\n",
    "            (\n",
    "                (subregion, gene_pair[0]),\n",
    "                (subregion, gene_pair[1]),\n",
    "            )\n",
    "        )\n",
    "\n",
    "\n",
    "annotator = Annotator(axes[0], pairs, **fig_args)\n",
    "fig_args = {\n",
    "    \"x\": \"Somas (#)\",\n",
    "    \"y\": \"Subregion\",\n",
    "    \"hue\": \"Gene\",\n",
    "    \"data\": df,\n",
    "}\n",
    "\n",
    "bplot = sns.barplot(ax=axes[0], orient=\"h\", **fig_args)\n",
    "bplot.set_xscale(\"log\")\n",
    "\n",
    "annotator.configure(test=test, text_format=\"star\", loc=\"outside\", comparisons_correction=correction)\n",
    "annotator.new_plot(bplot, orient=\"h\", plot=\"barplot\", **fig_args)\n",
    "annotator.apply_and_annotate()\n",
    "\n",
    "# distribution\n",
    "fig_args = {\n",
    "    \"y\": \"Percent of Total Somas (%)\",\n",
    "    \"x\": \"Subregion\",\n",
    "    \"hue\": \"Gene\",\n",
    "    \"data\": df,\n",
    "}\n",
    "\n",
    "pairs = []\n",
    "unq_subregions = []\n",
    "for subregion in subregion_name:\n",
    "    if subregion not in unq_subregions:\n",
    "        unq_subregions.append(subregion)\n",
    "\n",
    "for gene_pair in gene_pairs:\n",
    "    for subregion in unq_subregions:\n",
    "        pairs.append(\n",
    "            (\n",
    "                (subregion, gene_pair[0]),\n",
    "                (subregion, gene_pair[1]),\n",
    "            )\n",
    "        )\n",
    "\n",
    "\n",
    "annotator = Annotator(axes[1], pairs, **fig_args)\n",
    "fig_args = {\n",
    "    \"x\": \"Percent of Total Somas (%)\",\n",
    "    \"y\": \"Subregion\",\n",
    "    \"hue\": \"Gene\",\n",
    "    \"data\": df,\n",
    "}\n",
    "\n",
    "bplot = sns.barplot(ax=axes[1], orient=\"h\", **fig_args)\n",
    "bplot.set_xscale(\"log\")\n",
    "\n",
    "annotator.configure(test=test, text_format=\"star\", loc=\"outside\", comparisons_correction=correction)\n",
    "annotator.new_plot(bplot, orient=\"h\", plot=\"barplot\", **fig_args)\n",
    "annotator.apply_and_annotate()\n",
    "\n",
    "fig.tight_layout()"
   ]
  },
  {
   "cell_type": "code",
   "execution_count": 9,
   "metadata": {},
   "outputs": [
    {
     "data": {
      "image/png": "[encoded data removed]",
      "text/plain": [
       "<Figure size 2160x1440 with 2 Axes>"
      ]
     },
     "metadata": {},
     "output_type": "display_data"
    }
   ],
   "source": [
    "fig, axes = plt.subplots(1, 2, figsize=(30, 20))\n",
    "fig.suptitle(\"Detected Input Somas\")\n",
    "sns.set(font_scale=2)\n",
    "\n",
    "sns.stripplot(ax=axes[0], x=\"Somas (#)\", y=\"Subregion\", hue=\"Gene\", data=df)\n",
    "axes[0].set_title(\"Total\")\n",
    "axes[0].set_xscale(\"log\")\n",
    "\n",
    "sns.stripplot(\n",
    "    ax=axes[1], x=\"Percent of Total Somas (%)\", y=\"Subregion\", hue=\"Gene\", data=df\n",
    ")\n",
    "axes[1].set_title(\"Percent\")\n",
    "axes[1].set_xscale(\"log\")\n",
    "\n",
    "fig.tight_layout()"
   ]
  },
  {
   "cell_type": "markdown",
   "metadata": {},
   "source": [
    "### Difference"
   ]
  },
  {
   "cell_type": "code",
   "execution_count": null,
   "metadata": {},
   "outputs": [],
   "source": [
    "totals = {}\n",
    "\n",
    "for brain in quantification_dicts.keys():\n",
    "    total = 0\n",
    "    for node in G.nodes:\n",
    "        total += G.nodes[node][brain]\n",
    "    totals[brain] = total\n",
    "\n",
    "somas_diff = []\n",
    "somas_diff_sd = []\n",
    "somas_pct_diff = []\n",
    "somas_pct_diff_sd = []\n",
    "gene = []\n",
    "subregion_name = []\n",
    "region_name = []\n",
    "for region in regions:\n",
    "    print(f\"Populating: \" + G.nodes[region][\"name\"])\n",
    "    children = list(G.successors(region))\n",
    "    for child in children:\n",
    "        vglut = []\n",
    "        gad = []\n",
    "        vglut_pct = []\n",
    "        gad_pct = []\n",
    "        for brain in quantification_dicts.keys():\n",
    "            if brain in [\"8557\", \"8555\"]:\n",
    "                vglut.append(G.nodes[child][brain])\n",
    "                vglut_pct.append(G.nodes[child][brain] / totals[brain] * 100)\n",
    "            else:\n",
    "                gad.append(G.nodes[child][brain])\n",
    "                gad_pct.append(G.nodes[child][brain] / totals[brain] * 100)\n",
    "\n",
    "        somas_diff.append(np.mean(gad) - np.mean(vglut))\n",
    "        somas_diff_sd.append(np.sqrt(np.var(vglut) + np.var(gad)))\n",
    "        somas_pct_diff.append(np.mean(gad_pct) - np.mean(vglut_pct))\n",
    "        somas_pct_diff_sd.append(np.sqrt(np.var(vglut_pct) + np.var(gad_pct)))\n",
    "\n",
    "        subregion_name.append(G.nodes[child][\"name\"])\n",
    "        region_name.append(G.nodes[region][\"name\"])\n",
    "\n",
    "d = {\n",
    "    \"Somas Difference (#)\": somas_diff,\n",
    "    \"soma sd\": somas_diff_sd,\n",
    "    \"Percent of Total Somas Difference (%)\": somas_pct_diff,\n",
    "    \"pct sd\": somas_pct_diff_sd,\n",
    "    \"Subregion\": subregion_name,\n",
    "    \"Region\": region_name,\n",
    "}\n",
    "df = pd.DataFrame(data=d)"
   ]
  },
  {
   "cell_type": "code",
   "execution_count": null,
   "metadata": {},
   "outputs": [],
   "source": [
    "fig, axes = plt.subplots(1, 2, figsize=(20, 10))\n",
    "fig.suptitle(\"VGlut: 2 samples, Gad: 1 sample\")\n",
    "\n",
    "sns.set(font_scale=1.3)\n",
    "\n",
    "p = sns.barplot(\n",
    "    ax=axes[0],\n",
    "    x=\"Somas Difference (#)\",\n",
    "    y=\"Subregion\",\n",
    "    data=df,\n",
    "    hue=\"Region\",\n",
    "    dodge=False,\n",
    ")\n",
    "axes[0].errorbar(\n",
    "    x=df[\"Somas Difference (#)\"],\n",
    "    y=np.arange(df.shape[0]),\n",
    "    xerr=df[\"soma sd\"],\n",
    "    fmt=\"None\",\n",
    ")\n",
    "axes[0].set_title(\"Difference in Totals (Gad - VGlut)\")\n",
    "\n",
    "p = sns.barplot(\n",
    "    ax=axes[1],\n",
    "    x=\"Percent of Total Somas Difference (%)\",\n",
    "    y=\"Subregion\",\n",
    "    data=df,\n",
    "    hue=\"Region\",\n",
    "    dodge=False,\n",
    ")\n",
    "axes[1].errorbar(\n",
    "    x=df[\"Percent of Total Somas Difference (%)\"],\n",
    "    y=np.arange(df.shape[0]),\n",
    "    xerr=df[\"pct sd\"],\n",
    "    fmt=\"None\",\n",
    ")\n",
    "axes[1].set_title(\"Difference in Percent Total (Gad - VGlut)\")\n",
    "\n",
    "axes[0].legend(loc=\"center right\")\n",
    "axes[1].legend(loc=\"center right\")\n",
    "\n",
    "fig.tight_layout()"
   ]
  },
  {
   "cell_type": "markdown",
   "metadata": {},
   "source": [
    "### Relative difference (coefficient of variation)"
   ]
  },
  {
   "cell_type": "code",
   "execution_count": null,
   "metadata": {},
   "outputs": [],
   "source": [
    "import itertools\n",
    "\n",
    "totals = {}\n",
    "\n",
    "for brain in quantification_dicts.keys():\n",
    "    total = 0\n",
    "    for node in G.nodes:\n",
    "        total += G.nodes[node][brain]\n",
    "    totals[brain] = total\n",
    "\n",
    "somas_reldiff = []\n",
    "somas_reldiff_sd = []\n",
    "somas_pct_reldiff = []\n",
    "somas_pct_reldiff_sd = []\n",
    "gene = []\n",
    "subregion_name = []\n",
    "region_name = []\n",
    "for region in regions:\n",
    "    print(f\"Populating: \" + G.nodes[region][\"name\"])\n",
    "    children = list(G.successors(region))\n",
    "    for child in children:\n",
    "        vglut = []\n",
    "        gad = []\n",
    "        vglut_pct = []\n",
    "        gad_pct = []\n",
    "        for brain in quantification_dicts.keys():\n",
    "            if brain in [\"8557\", \"8555\"]:\n",
    "                vglut.append(G.nodes[child][brain])\n",
    "                vglut_pct.append(G.nodes[child][brain] / totals[brain] * 100)\n",
    "            else:\n",
    "                gad.append(G.nodes[child][brain])\n",
    "                gad_pct.append(G.nodes[child][brain] / totals[brain] * 100)\n",
    "\n",
    "        if np.mean(vglut) == 0:\n",
    "            reldiff = 0\n",
    "        else:\n",
    "            reldiff = (np.mean(gad) - np.mean(vglut)) / np.mean(vglut)\n",
    "\n",
    "        combos = list(itertools.product(gad, vglut))\n",
    "\n",
    "        sum = 0\n",
    "        for combo in combos:\n",
    "            if combo[1] == 0:\n",
    "                sum = 0\n",
    "                break\n",
    "            else:\n",
    "                sum += (combo[0] / combo[1] - 1) ** 2\n",
    "\n",
    "        sum = sum / len(combos)\n",
    "\n",
    "        somas_reldiff.append(reldiff)\n",
    "        somas_reldiff_sd.append(sum)\n",
    "        # pct\n",
    "        if np.mean(vglut_pct) == 0:\n",
    "            reldiff = 0\n",
    "        else:\n",
    "            reldiff = (np.mean(gad_pct) - np.mean(vglut_pct)) / np.mean(vglut_pct)\n",
    "\n",
    "        combos = list(itertools.product(gad_pct, vglut_pct))\n",
    "\n",
    "        sum = 0\n",
    "        for combo in combos:\n",
    "            if combo[1] == 0:\n",
    "                sum = 0\n",
    "                break\n",
    "            else:\n",
    "                sum += (combo[0] / combo[1] - 1) ** 2\n",
    "\n",
    "        sum = sum / len(combos)\n",
    "\n",
    "        somas_pct_reldiff.append(reldiff)\n",
    "        somas_pct_reldiff_sd.append(sum)\n",
    "\n",
    "        subregion_name.append(G.nodes[child][\"name\"])\n",
    "        region_name.append(G.nodes[region][\"name\"])\n",
    "\n",
    "d = {\n",
    "    \"Somas Relative Difference\": somas_reldiff,\n",
    "    \"soma sd\": somas_reldiff_sd,\n",
    "    \"Percent of Total Somas Relative Difference\": somas_pct_reldiff,\n",
    "    \"pct sd\": somas_pct_reldiff_sd,\n",
    "    \"Subregion\": subregion_name,\n",
    "    \"Region\": region_name,\n",
    "}\n",
    "df = pd.DataFrame(data=d)"
   ]
  },
  {
   "cell_type": "code",
   "execution_count": null,
   "metadata": {},
   "outputs": [],
   "source": [
    "fig, axes = plt.subplots(1, 2, figsize=(20, 10))\n",
    "fig.suptitle(\"VGlut: 2 samples, Gad: 1 sample\")\n",
    "\n",
    "p = sns.barplot(\n",
    "    ax=axes[0],\n",
    "    x=\"Somas Relative Difference\",\n",
    "    y=\"Subregion\",\n",
    "    data=df,\n",
    "    hue=\"Region\",\n",
    "    dodge=False,\n",
    ")\n",
    "# axes.errorbar(x = df[\"Somas Relative Difference\"], y = np.arange(df.shape[0]),  xerr=df[\"soma sd\"], fmt='None')\n",
    "axes[0].set_title(\"Relative Difference in Totals (Gad - VGlut)/VGlut\")\n",
    "\n",
    "p = sns.barplot(\n",
    "    ax=axes[1],\n",
    "    x=\"Percent of Total Somas Relative Difference\",\n",
    "    y=\"Subregion\",\n",
    "    data=df,\n",
    "    hue=\"Region\",\n",
    "    dodge=False,\n",
    ")\n",
    "# axes[1].errorbar(x = df[\"Percent of Total Somas Difference (%)\"], y = np.arange(df.shape[0]),  xerr=df[\"pct sd\"], fmt='None')\n",
    "axes[1].set_title(\"Percent of Total Somas Relative Difference (Gad - VGlut)/VGlut\")\n",
    "\n",
    "\n",
    "fig.tight_layout()"
   ]
  },
  {
   "cell_type": "markdown",
   "metadata": {},
   "source": [
    "## Make bar charts"
   ]
  },
  {
   "cell_type": "code",
   "execution_count": null,
   "metadata": {},
   "outputs": [],
   "source": [
    "def get_bar_info(G, color_num=0):\n",
    "    total = 0\n",
    "    for node in G.nodes:\n",
    "        total += G.nodes[node][\"somas\"]\n",
    "\n",
    "    cmap = mpl.cm.get_cmap(\"tab20\")\n",
    "\n",
    "    y_pos = [0]\n",
    "    width = []\n",
    "    labels = []\n",
    "    colors = []\n",
    "    for r, region in enumerate(regions):\n",
    "\n",
    "        print(f\"Populating: \" + G.nodes[region][\"name\"])\n",
    "        names = []\n",
    "        somas = []\n",
    "        children = list(G.successors(region))\n",
    "        n_entries = np.amax([len(children), 1])\n",
    "        y_pos += list(np.arange(y_pos[-1] + 2, y_pos[-1] + n_entries + 2))\n",
    "        if len(children) > 0:\n",
    "            for child in children:\n",
    "                labels.append(G.nodes[child][\"name\"])\n",
    "                width.append(G.nodes[child][\"somas\"] / total * 100)\n",
    "                colors.append(cmap(2 * r + color_num))\n",
    "        else:\n",
    "            labels.append(G.nodes[region][\"name\"])\n",
    "            width.append(G.nodes[region][\"somas\"] / total * 100)\n",
    "            colors.append(cmap(2 * r + color_num))\n",
    "\n",
    "    y_pos = [-1 * y for y in y_pos]\n",
    "    y_pos = np.array(y_pos[1:])\n",
    "    return y_pos, width, labels, colors"
   ]
  },
  {
   "cell_type": "code",
   "execution_count": null,
   "metadata": {},
   "outputs": [],
   "source": [
    "height = 0.4\n",
    "\n",
    "fig, ax = plt.subplots(figsize=(10, 10))\n",
    "\n",
    "y_pos, width, labels, colors = get_bar_info(G, 0)\n",
    "ax.barh(\n",
    "    y=y_pos, width=width, height=height, tick_label=labels, color=colors, label=\"8557\"\n",
    ")\n",
    "y_pos, width, labels, colors = get_bar_info(G3, 1)\n",
    "ax.barh(\n",
    "    y=y_pos + height,\n",
    "    width=width,\n",
    "    height=height,\n",
    "    tick_label=labels,\n",
    "    color=colors,\n",
    "    label=\"8607\",\n",
    ")\n",
    "\n",
    "ax.legend()\n",
    "ax.set_xlabel(\"Percent of total inputs (%)\")"
   ]
  },
  {
   "cell_type": "markdown",
   "metadata": {},
   "source": [
    "# Plot somas on atlas"
   ]
  },
  {
   "cell_type": "code",
   "execution_count": 17,
   "metadata": {},
   "outputs": [
    {
     "name": "stderr",
     "output_type": "stream",
     "text": [
      "Going through samples: 100%|██████████| 11/11 [00:06<00:00,  1.70it/s]\n"
     ]
    }
   ],
   "source": [
    "from soma_rabies_somadetector_data import brain2paths\n",
    "from cloudreg.scripts.transform_points import NGLink\n",
    "from cloudvolume import CloudVolume\n",
    "import numpy as np \n",
    "from tqdm import tqdm\n",
    "import matplotlib.pyplot as plt \n",
    "from skimage import io, measure\n",
    "import napari\n",
    "import scipy.ndimage as ndi\n",
    "\n",
    "parcellation = CloudVolume(\"precomputed://https://open-neurodata.s3.amazonaws.com/ara_2016/sagittal_10um/annotation_10um_2017\")\n",
    "\n",
    "colors = {\"tph2 vglut3\": \"blue\", \"tph2 gad2\": \"red\", \"gad2 vgat\": \"green\"}\n",
    "\n",
    "symbols = [\"o\", \"+\", \"^\", \"vbar\"]\n",
    "\n",
    "atlas_points = {}\n",
    "\n",
    "for key in tqdm(brain2paths.keys(), desc=\"Going through samples\"):\n",
    "    if \"atlas_viz\" in brain2paths[key].keys():\n",
    "        viz_link = brain2paths[key][\"atlas_viz\"]\n",
    "        viz_link = NGLink(viz_link.split(\"json_url=\")[-1])\n",
    "        ngl_json = viz_link._json\n",
    "        for layer in ngl_json['layers']:\n",
    "            if layer['type'] == 'annotation':\n",
    "                points = []\n",
    "                for annot in layer['annotations']:\n",
    "                    points.append(annot['point'])\n",
    "                \n",
    "                atlas_points[key] = np.array(points)\n",
    "\n",
    "\n"
   ]
  },
  {
   "cell_type": "code",
   "execution_count": 18,
   "metadata": {},
   "outputs": [],
   "source": [
    "atlas = io.imread(\n",
    "    \"/Users/thomasathey/Documents/mimlab/mouselight/ailey/ara/ara_10um.tif\"\n",
    ")"
   ]
  },
  {
   "cell_type": "code",
   "execution_count": 19,
   "metadata": {},
   "outputs": [
    {
     "name": "stdout",
     "output_type": "stream",
     "text": [
      "313: Midbrain\n",
      "528: Cerebellar cortex\n",
      "519: Cerebellar nuclei\n",
      "703: Cortical subplate\n",
      "477: Striatum\n",
      "803: Pallidum\n",
      "549: Thalamus\n",
      "1097: Hypothalamus\n",
      "771: Pons\n",
      "354: Medulla\n",
      "315: Isocortex\n",
      "698: Olfactory areas\n",
      "1089: Hippocampal formation\n"
     ]
    }
   ],
   "source": [
    "atlas_level = 5\n",
    "\n",
    "atlas_level_nodes = []\n",
    "\n",
    "for node in G.nodes:\n",
    "    if G.nodes[node][\"st_level\"] == atlas_level:\n",
    "        atlas_level_nodes.append(node)\n",
    "        print(f\"{node}: {G.nodes[node]['name']}\")"
   ]
  },
  {
   "cell_type": "code",
   "execution_count": 22,
   "metadata": {},
   "outputs": [
    {
     "name": "stderr",
     "output_type": "stream",
     "text": [
      "Relabeling in z=100: 100%|██████████| 4/4 [00:00<00:00, 367.65it/s]\n"
     ]
    },
    {
     "name": "stdout",
     "output_type": "stream",
     "text": [
      "{0: '??', 698: 'Olfactory areas', 967: 'cranial nerves'}\n"
     ]
    },
    {
     "name": "stderr",
     "output_type": "stream",
     "text": [
      "Processing labels in z=100: 100%|██████████| 13/13 [00:00<00:00, 82.10it/s]\n",
      "Processing brains in z=100: 100%|██████████| 9/9 [00:00<00:00, 14.49it/s]\n",
      "Relabeling in z=200: 100%|██████████| 21/21 [00:00<00:00, 341.04it/s]\n"
     ]
    },
    {
     "name": "stdout",
     "output_type": "stream",
     "text": [
      "{0: '??', 698: 'Olfactory areas', 967: 'cranial nerves', 315: 'Isocortex'}\n"
     ]
    },
    {
     "name": "stderr",
     "output_type": "stream",
     "text": [
      "Processing labels in z=200: 100%|██████████| 15/15 [00:00<00:00, 87.84it/s]\n",
      "Processing brains in z=200: 100%|██████████| 9/9 [00:00<00:00, 14.25it/s]\n",
      "Relabeling in z=300: 100%|██████████| 46/46 [00:00<00:00, 269.98it/s]\n"
     ]
    },
    {
     "name": "stdout",
     "output_type": "stream",
     "text": [
      "{0: '??', 698: 'Olfactory areas', 967: 'cranial nerves', 315: 'Isocortex', 526157184: '??'}\n"
     ]
    },
    {
     "name": "stderr",
     "output_type": "stream",
     "text": [
      "Processing labels in z=300: 100%|██████████| 9/9 [00:00<00:00, 74.73it/s]\n",
      "Processing brains in z=300: 100%|██████████| 9/9 [00:00<00:00, 14.59it/s]\n",
      "Relabeling in z=400: 100%|██████████| 67/67 [00:00<00:00, 346.39it/s]\n"
     ]
    },
    {
     "name": "stdout",
     "output_type": "stream",
     "text": [
      "{0: '??', 698: 'Olfactory areas', 967: 'cranial nerves', 315: 'Isocortex', 526157184: '??', 477: 'Striatum', 73: 'ventricular systems', 803: 'Pallidum', 983: 'lateral forebrain bundle system', 703: 'Cortical subplate', 991: 'medial forebrain bundle system', 997: 'root', 1089: 'Hippocampal formation'}\n"
     ]
    },
    {
     "name": "stderr",
     "output_type": "stream",
     "text": [
      "Processing labels in z=400: 100%|██████████| 33/33 [00:00<00:00, 83.78it/s]\n",
      "Processing brains in z=400: 100%|██████████| 9/9 [00:00<00:00, 14.50it/s]\n",
      "Relabeling in z=500: 100%|██████████| 104/104 [00:00<00:00, 354.41it/s]\n"
     ]
    },
    {
     "name": "stdout",
     "output_type": "stream",
     "text": [
      "{0: '??', 698: 'Olfactory areas', 967: 'cranial nerves', 315: 'Isocortex', 526157184: '??', 477: 'Striatum', 73: 'ventricular systems', 803: 'Pallidum', 983: 'lateral forebrain bundle system', 703: 'Cortical subplate', 991: 'medial forebrain bundle system', 997: 'root', 1089: 'Hippocampal formation', 1097: 'Hypothalamus', 1009: 'fiber tracts', 182305696: '??', 182305712: '??'}\n"
     ]
    },
    {
     "name": "stderr",
     "output_type": "stream",
     "text": [
      "Processing labels in z=500: 100%|██████████| 61/61 [00:00<00:00, 88.46it/s]\n",
      "Processing brains in z=500: 100%|██████████| 9/9 [00:00<00:00, 13.09it/s]\n",
      "Relabeling in z=600: 100%|██████████| 135/135 [00:00<00:00, 338.61it/s]\n"
     ]
    },
    {
     "name": "stdout",
     "output_type": "stream",
     "text": [
      "{0: '??', 698: 'Olfactory areas', 967: 'cranial nerves', 315: 'Isocortex', 526157184: '??', 477: 'Striatum', 73: 'ventricular systems', 803: 'Pallidum', 983: 'lateral forebrain bundle system', 703: 'Cortical subplate', 991: 'medial forebrain bundle system', 997: 'root', 1089: 'Hippocampal formation', 1097: 'Hypothalamus', 1009: 'fiber tracts', 182305696: '??', 182305712: '??', 549: 'Thalamus', 1000: 'extrapyramidal fiber systems', 560581568: '??'}\n"
     ]
    },
    {
     "name": "stderr",
     "output_type": "stream",
     "text": [
      "Processing labels in z=600: 100%|██████████| 89/89 [00:00<00:00, 91.37it/s]\n",
      "Processing brains in z=600: 100%|██████████| 9/9 [00:00<00:00, 14.69it/s]\n",
      "Relabeling in z=700: 100%|██████████| 159/159 [00:00<00:00, 333.92it/s]\n"
     ]
    },
    {
     "name": "stdout",
     "output_type": "stream",
     "text": [
      "{0: '??', 698: 'Olfactory areas', 967: 'cranial nerves', 315: 'Isocortex', 526157184: '??', 477: 'Striatum', 73: 'ventricular systems', 803: 'Pallidum', 983: 'lateral forebrain bundle system', 703: 'Cortical subplate', 991: 'medial forebrain bundle system', 997: 'root', 1089: 'Hippocampal formation', 1097: 'Hypothalamus', 1009: 'fiber tracts', 182305696: '??', 182305712: '??', 549: 'Thalamus', 1000: 'extrapyramidal fiber systems', 560581568: '??', 312782560: '??'}\n"
     ]
    },
    {
     "name": "stderr",
     "output_type": "stream",
     "text": [
      "Processing labels in z=700: 100%|██████████| 194/194 [00:02<00:00, 91.20it/s]\n",
      "Processing brains in z=700: 100%|██████████| 9/9 [00:00<00:00, 14.68it/s]\n",
      "Relabeling in z=800: 100%|██████████| 163/163 [00:00<00:00, 355.33it/s]\n"
     ]
    },
    {
     "name": "stdout",
     "output_type": "stream",
     "text": [
      "{0: '??', 698: 'Olfactory areas', 967: 'cranial nerves', 315: 'Isocortex', 526157184: '??', 477: 'Striatum', 73: 'ventricular systems', 803: 'Pallidum', 983: 'lateral forebrain bundle system', 703: 'Cortical subplate', 991: 'medial forebrain bundle system', 997: 'root', 1089: 'Hippocampal formation', 1097: 'Hypothalamus', 1009: 'fiber tracts', 182305696: '??', 182305712: '??', 549: 'Thalamus', 1000: 'extrapyramidal fiber systems', 560581568: '??', 312782560: '??', 313: 'Midbrain', 312782592: '??', 484682464: '??', 549009216: '??', 563807424: '??', 589508416: '??', 599626944: '??', 606826624: '??', 606826688: '??'}\n"
     ]
    },
    {
     "name": "stderr",
     "output_type": "stream",
     "text": [
      "Processing labels in z=800: 100%|██████████| 141/141 [00:01<00:00, 97.21it/s] \n",
      "Processing brains in z=800: 100%|██████████| 9/9 [00:00<00:00, 16.45it/s]\n",
      "Relabeling in z=900: 100%|██████████| 124/124 [00:00<00:00, 381.08it/s]\n"
     ]
    },
    {
     "name": "stdout",
     "output_type": "stream",
     "text": [
      "{0: '??', 698: 'Olfactory areas', 967: 'cranial nerves', 315: 'Isocortex', 526157184: '??', 477: 'Striatum', 73: 'ventricular systems', 803: 'Pallidum', 983: 'lateral forebrain bundle system', 703: 'Cortical subplate', 991: 'medial forebrain bundle system', 997: 'root', 1089: 'Hippocampal formation', 1097: 'Hypothalamus', 1009: 'fiber tracts', 182305696: '??', 182305712: '??', 549: 'Thalamus', 1000: 'extrapyramidal fiber systems', 560581568: '??', 312782560: '??', 313: 'Midbrain', 312782592: '??', 484682464: '??', 549009216: '??', 563807424: '??', 589508416: '??', 599626944: '??', 606826624: '??', 606826688: '??', 960: 'cerebellum related fiber tracts', 771: 'Pons', 512: 'Cerebellum', 312782656: '??', 607344832: '??'}\n"
     ]
    },
    {
     "name": "stderr",
     "output_type": "stream",
     "text": [
      "Processing labels in z=900: 100%|██████████| 105/105 [00:01<00:00, 92.59it/s]\n",
      "Processing brains in z=900: 100%|██████████| 9/9 [00:01<00:00,  6.87it/s]\n",
      "Relabeling in z=1000: 100%|██████████| 80/80 [00:00<00:00, 330.19it/s]\n"
     ]
    },
    {
     "name": "stdout",
     "output_type": "stream",
     "text": [
      "{0: '??', 698: 'Olfactory areas', 967: 'cranial nerves', 315: 'Isocortex', 526157184: '??', 477: 'Striatum', 73: 'ventricular systems', 803: 'Pallidum', 983: 'lateral forebrain bundle system', 703: 'Cortical subplate', 991: 'medial forebrain bundle system', 997: 'root', 1089: 'Hippocampal formation', 1097: 'Hypothalamus', 1009: 'fiber tracts', 182305696: '??', 182305712: '??', 549: 'Thalamus', 1000: 'extrapyramidal fiber systems', 560581568: '??', 312782560: '??', 313: 'Midbrain', 312782592: '??', 484682464: '??', 549009216: '??', 563807424: '??', 589508416: '??', 599626944: '??', 606826624: '??', 606826688: '??', 960: 'cerebellum related fiber tracts', 771: 'Pons', 512: 'Cerebellum', 312782656: '??', 607344832: '??', 354: 'Medulla', 528: 'Cerebellar cortex'}\n"
     ]
    },
    {
     "name": "stderr",
     "output_type": "stream",
     "text": [
      "Processing labels in z=1000: 100%|██████████| 92/92 [00:00<00:00, 92.72it/s]\n",
      "Processing brains in z=1000: 100%|██████████| 9/9 [00:00<00:00, 14.40it/s]\n",
      "Relabeling in z=1100: 100%|██████████| 56/56 [00:00<00:00, 308.07it/s]\n"
     ]
    },
    {
     "name": "stdout",
     "output_type": "stream",
     "text": [
      "{0: '??', 698: 'Olfactory areas', 967: 'cranial nerves', 315: 'Isocortex', 526157184: '??', 477: 'Striatum', 73: 'ventricular systems', 803: 'Pallidum', 983: 'lateral forebrain bundle system', 703: 'Cortical subplate', 991: 'medial forebrain bundle system', 997: 'root', 1089: 'Hippocampal formation', 1097: 'Hypothalamus', 1009: 'fiber tracts', 182305696: '??', 182305712: '??', 549: 'Thalamus', 1000: 'extrapyramidal fiber systems', 560581568: '??', 312782560: '??', 313: 'Midbrain', 312782592: '??', 484682464: '??', 549009216: '??', 563807424: '??', 589508416: '??', 599626944: '??', 606826624: '??', 606826688: '??', 960: 'cerebellum related fiber tracts', 771: 'Pons', 512: 'Cerebellum', 312782656: '??', 607344832: '??', 354: 'Medulla', 528: 'Cerebellar cortex', 519: 'Cerebellar nuclei'}\n"
     ]
    },
    {
     "name": "stderr",
     "output_type": "stream",
     "text": [
      "Processing labels in z=1100: 100%|██████████| 72/72 [00:00<00:00, 89.57it/s]\n",
      "Processing brains in z=1100: 100%|██████████| 9/9 [00:00<00:00, 15.84it/s]\n",
      "Relabeling in z=1200: 100%|██████████| 49/49 [00:00<00:00, 342.10it/s]\n"
     ]
    },
    {
     "name": "stdout",
     "output_type": "stream",
     "text": [
      "{0: '??', 698: 'Olfactory areas', 967: 'cranial nerves', 315: 'Isocortex', 526157184: '??', 477: 'Striatum', 73: 'ventricular systems', 803: 'Pallidum', 983: 'lateral forebrain bundle system', 703: 'Cortical subplate', 991: 'medial forebrain bundle system', 997: 'root', 1089: 'Hippocampal formation', 1097: 'Hypothalamus', 1009: 'fiber tracts', 182305696: '??', 182305712: '??', 549: 'Thalamus', 1000: 'extrapyramidal fiber systems', 560581568: '??', 312782560: '??', 313: 'Midbrain', 312782592: '??', 484682464: '??', 549009216: '??', 563807424: '??', 589508416: '??', 599626944: '??', 606826624: '??', 606826688: '??', 960: 'cerebellum related fiber tracts', 771: 'Pons', 512: 'Cerebellum', 312782656: '??', 607344832: '??', 354: 'Medulla', 528: 'Cerebellar cortex', 519: 'Cerebellar nuclei'}\n"
     ]
    },
    {
     "name": "stderr",
     "output_type": "stream",
     "text": [
      "Processing labels in z=1200: 100%|██████████| 50/50 [00:00<00:00, 93.56it/s]\n",
      "Processing brains in z=1200: 100%|██████████| 9/9 [00:00<00:00, 15.92it/s]\n"
     ]
    }
   ],
   "source": [
    "from numpy import half\n",
    "\n",
    "\n",
    "def find_atlas_level_label(label, atlas_level_nodes, atlas_level, G):\n",
    "    if label == 0 or label not in G.nodes or G.nodes[label][\"st_level\"] <= atlas_level:\n",
    "        return label\n",
    "    else:\n",
    "        counter = 0\n",
    "        # find which region of atlas_level is parent\n",
    "        for atlas_level_node in atlas_level_nodes:\n",
    "            if label in nx.algorithms.dag.descendants(G, source=atlas_level_node):\n",
    "                counter += 1\n",
    "                atlas_level_label = atlas_level_node\n",
    "        if counter == 0:\n",
    "            preds = list(G.predecessors(label))\n",
    "            if len(preds) != 1:\n",
    "                raise ValueError(f\"{len(preds)} predecessors of node {label}\")\n",
    "            atlas_level_label = find_atlas_level_label(preds[0], atlas_level_nodes, atlas_level, G)\n",
    "            counter += 1\n",
    "        if counter != 1:\n",
    "            raise ValueError(f\"{counter} atlas level predecessors of {label}\")\n",
    "        return atlas_level_label\n",
    "        \n",
    "\n",
    "\n",
    "new_labels = {}\n",
    "for z in np.arange(100, 1300, 100):\n",
    "    slice = atlas[z, :, :]\n",
    "    newslice = np.copy(slice)\n",
    "    for label in tqdm(np.unique(slice), desc=f\"Relabeling in z={z}\"):\n",
    "        atlas_level_label = find_atlas_level_label(label, atlas_level_nodes, atlas_level, G)\n",
    "        newslice[slice == label] = atlas_level_label\n",
    "        if atlas_level_label not in new_labels.keys():\n",
    "            if atlas_level_label in G.nodes:\n",
    "                name = G.nodes[atlas_level_label][\"name\"]\n",
    "            else:\n",
    "                name = \"??\"\n",
    "            new_labels[atlas_level_label] = name\n",
    "\n",
    "    print(new_labels)\n",
    "\n",
    "    labels = measure.label(newslice)\n",
    "    borders = 0 * labels\n",
    "    for label in tqdm(np.unique(labels), desc=f\"Processing labels in z={z}\"):\n",
    "        if label != 0:\n",
    "            mask = np.array(labels == label, dtype=\"int\")\n",
    "            erode = np.array(ndi.binary_erosion(mask))\n",
    "            outline = mask - erode\n",
    "            borders += outline\n",
    "\n",
    "    half_width = np.round(borders.shape[1]/2).astype(int)\n",
    "    borders_hemi = borders[:,:half_width]\n",
    "    newslice_hemi = newslice[:,:half_width]\n",
    "\n",
    "    v = napari.Viewer()\n",
    "    v.add_labels(newslice_hemi, scale = [10,10])\n",
    "    v.add_image(borders_hemi, scale = [10,10], name=f\"z={z}\")\n",
    "    \n",
    "\n",
    "    gtype_counts = {\"tph2 vglut3\": 0, \"tph2 gad2\": 0, \"gad2 vgat\": 0}\n",
    "    for key in tqdm(atlas_points.keys(), desc=f\"Processing brains in z={z}\"):\n",
    "        ra = atlas_points[key]\n",
    "        gtype = brain2paths[key][\"genotype\"]\n",
    "\n",
    "        ra = atlas_points[key]\n",
    "        points = ra[(ra[:,0] < z+10) & (ra[:,0] > z-10)]\n",
    "\n",
    "        #only select points that fall on an ROI\n",
    "        fg_points = []\n",
    "        for point in points:\n",
    "            im_coord = [int(point[1]), int(point[2])]\n",
    "\n",
    "            if im_coord[0] in range(0, newslice.shape[0]) and im_coord[1] in range(0, newslice.shape[1]) and newslice[im_coord[0], im_coord[1]] != 0:\n",
    "                if im_coord[1] >= half_width:\n",
    "                    im_coord[1] = 2* half_width - im_coord[1]\n",
    "\n",
    "                fg_points.append([im_coord[0], im_coord[1]])\n",
    "\n",
    "        v.add_points(fg_points, symbol = symbols[gtype_counts[gtype]], face_color=colors[gtype], size=10, name=f\"{key}: {gtype}\", scale = [10,10]) \n",
    "        gtype_counts[gtype] = gtype_counts[gtype] + 1\n",
    "\n",
    "    v.scale_bar.unit = \"um\"\n",
    "    v.scale_bar.visible = True"
   ]
  },
  {
   "cell_type": "markdown",
   "metadata": {},
   "source": [
    "## Create data json"
   ]
  },
  {
   "cell_type": "code",
   "execution_count": null,
   "metadata": {},
   "outputs": [],
   "source": [
    "def get_entry(node):\n",
    "    entry = {\"name\": G.nodes[node][\"name\"]}\n",
    "    successor_nodes = list(G.successors(node))\n",
    "    somas = G.nodes[node][\"somas\"]\n",
    "\n",
    "    if len(successor_nodes) > 0:\n",
    "        children_somas = 0\n",
    "        children = []\n",
    "        for child in successor_nodes:\n",
    "            children_somas += G.nodes[child][\"somas\"]\n",
    "            child_entry = get_entry(child)\n",
    "            if child_entry is not None:\n",
    "                children.append(child_entry)\n",
    "        if children_somas < somas:\n",
    "            children.append({\"name\": \"other\", \"value\": somas - children_somas})\n",
    "        entry[\"children\"] = children\n",
    "        return entry\n",
    "    elif somas > 0:\n",
    "        entry[\"value\"] = somas\n",
    "        return entry\n",
    "    else:\n",
    "        return"
   ]
  },
  {
   "cell_type": "code",
   "execution_count": null,
   "metadata": {},
   "outputs": [],
   "source": [
    "import json\n",
    "\n",
    "for node in G.nodes:\n",
    "    if G.nodes[node][\"level\"] == 0:\n",
    "        print(node)"
   ]
  },
  {
   "cell_type": "code",
   "execution_count": null,
   "metadata": {},
   "outputs": [],
   "source": [
    "json_string = json.dumps(get_entry(997))\n",
    "print(json_string)\n",
    "with open(\n",
    "    \"/Users/thomasathey/Documents/mimlab/mouselight/brainlit_parent/brainlit/experiments/deisseroth/d3js/somas.json\",\n",
    "    \"w\",\n",
    "    encoding=\"utf-8\",\n",
    ") as outfile:\n",
    "    json.dump(get_entry(997), outfile, ensure_ascii=False, indent=4)"
   ]
  },
  {
   "cell_type": "markdown",
   "metadata": {},
   "source": [
    "## create nested chart"
   ]
  },
  {
   "cell_type": "code",
   "execution_count": null,
   "metadata": {},
   "outputs": [],
   "source": [
    "def sort_pairs(tosort, other):\n",
    "    zipped_lists = zip(tosort, other)\n",
    "    sorted_pairs = sorted(zipped_lists)\n",
    "\n",
    "    tuples = zip(*sorted_pairs)\n",
    "    list1, list2 = [list(tuple) for tuple in tuples]\n",
    "    return list1, list2"
   ]
  },
  {
   "cell_type": "code",
   "execution_count": null,
   "metadata": {},
   "outputs": [],
   "source": [
    "acros_4 = []\n",
    "acros_5 = []\n",
    "acros_6 = []\n",
    "somas_4 = []\n",
    "somas_5 = []\n",
    "somas_6 = []\n",
    "none = []\n",
    "\n",
    "for node in G.nodes:\n",
    "    if G.nodes[node][\"st_level\"] == 3:\n",
    "        if G.nodes[node][\"somas\"] > 0:\n",
    "            acros_4.append(G.nodes[node][\"name\"])\n",
    "            somas_4.append(G.nodes[node][\"somas\"])\n",
    "\n",
    "            children = G.successors(node)\n",
    "            child_somas_counter = 0\n",
    "            child_somas = []\n",
    "            child_names = []\n",
    "\n",
    "            for child in children:\n",
    "                if G.nodes[child][\"somas\"] > 5:\n",
    "                    child_names.append(G.nodes[child][\"name\"])\n",
    "                    child_somas.append(G.nodes[child][\"somas\"])\n",
    "                    child_somas_counter += G.nodes[child][\"somas\"]\n",
    "\n",
    "                    grandchildren = G.successors(child)\n",
    "                    grandchild_somas_counter = 0\n",
    "                    grandchild_somas = []\n",
    "                    grandchild_names = []\n",
    "                    for grandchild in grandchildren:\n",
    "                        if G.nodes[grandchild][\"somas\"] > 5:\n",
    "                            grandchild_names.append(G.nodes[grandchild][\"name\"])\n",
    "                            grandchild_somas.append(G.nodes[grandchild][\"somas\"])\n",
    "                            grandchild_somas_counter += G.nodes[grandchild][\"somas\"]\n",
    "\n",
    "                    if grandchild_somas_counter > G.nodes[child][\"somas\"]:\n",
    "                        raise ValueError()\n",
    "                    elif grandchild_somas_counter < G.nodes[child][\"somas\"]:\n",
    "                        diff = G.nodes[child][\"somas\"] - grandchild_somas_counter\n",
    "                        grandchild_names.append(\"other\")\n",
    "                        grandchild_somas.append(diff)\n",
    "\n",
    "                    grandchild_somas, grandchild_names = sort_pairs(\n",
    "                        grandchild_somas, grandchild_names\n",
    "                    )\n",
    "                    somas_6.extend(grandchild_somas)\n",
    "                    acros_6.extend(grandchild_names)\n",
    "\n",
    "            if child_somas_counter > G.nodes[node][\"somas\"]:\n",
    "                raise ValueError()\n",
    "            elif child_somas_counter < G.nodes[node][\"somas\"]:\n",
    "                diff = G.nodes[node][\"somas\"] - child_somas_counter\n",
    "                child_names.append(\"other\")\n",
    "                child_somas.append(diff)\n",
    "\n",
    "            # child_somas, child_names = sort_pairs(child_somas, child_names)\n",
    "            somas_5.extend(child_somas)\n",
    "            acros_5.extend(child_names)\n",
    "\n",
    "        else:\n",
    "            none.append(G.nodes[node][\"name\"])\n",
    "\n",
    "\n",
    "fig, ax = plt.subplots()\n",
    "\n",
    "width = 1\n",
    "ax.pie(\n",
    "    somas_4,\n",
    "    radius=1,\n",
    "    labels=acros_4,\n",
    "    labeldistance=0.3,\n",
    "    wedgeprops=dict(width=width, edgecolor=\"w\"),\n",
    ")\n",
    "\n",
    "ax.pie(\n",
    "    somas_5,\n",
    "    radius=2,\n",
    "    labels=acros_5,\n",
    "    labeldistance=0.6,\n",
    "    wedgeprops=dict(width=width, edgecolor=\"w\"),\n",
    ")\n",
    "\n",
    "ax.pie(somas_6, radius=3, labels=acros_6, wedgeprops=dict(width=width, edgecolor=\"w\"))\n",
    "\n",
    "plt.title(\n",
    "    f\"Brain R1 - {np.sum(somas_4)} Total Somas \\n Inner Ring = ARA Level 3\",\n",
    "    pad=220,\n",
    "    fontdict={\"fontsize\": 20},\n",
    ")"
   ]
  },
  {
   "cell_type": "code",
   "execution_count": null,
   "metadata": {},
   "outputs": [],
   "source": [
    "acros_4 = []\n",
    "acros_5 = []\n",
    "somas_4 = []\n",
    "somas_5 = []\n",
    "none = []\n",
    "\n",
    "for node in G.nodes:\n",
    "    if G.nodes[node][\"st_level\"] == 5:\n",
    "        if G.nodes[node][\"somas\"] > 0:\n",
    "            acros_4.append(G.nodes[node][\"name\"])\n",
    "            somas_4.append(G.nodes[node][\"somas\"])\n",
    "\n",
    "            children = G.successors(node)\n",
    "            child_somas_counter = 0\n",
    "            child_somas = []\n",
    "            child_names = []\n",
    "\n",
    "            for child in children:\n",
    "                if G.nodes[child][\"somas\"] > 5:\n",
    "                    child_names.append(G.nodes[child][\"name\"])\n",
    "                    child_somas.append(G.nodes[child][\"somas\"])\n",
    "                    child_somas_counter += G.nodes[child][\"somas\"]\n",
    "\n",
    "            if child_somas_counter > G.nodes[node][\"somas\"]:\n",
    "                raise ValueError()\n",
    "            elif child_somas_counter < G.nodes[node][\"somas\"]:\n",
    "                diff = G.nodes[node][\"somas\"] - child_somas_counter\n",
    "                child_names.append(\"other\")\n",
    "                child_somas.append(diff)\n",
    "\n",
    "            child_somas, child_names = sort_pairs(child_somas, child_names)\n",
    "            somas_5.extend(child_somas)\n",
    "            acros_5.extend(child_names)\n",
    "\n",
    "        else:\n",
    "            none.append(G.nodes[node][\"name\"])\n",
    "\n",
    "\n",
    "fig, ax = plt.subplots()\n",
    "\n",
    "width = 2\n",
    "ax.pie(\n",
    "    somas_4,\n",
    "    radius=width,\n",
    "    labels=acros_4,\n",
    "    labeldistance=0.5,\n",
    "    wedgeprops=dict(width=width, edgecolor=\"w\"),\n",
    ")\n",
    "\n",
    "ax.pie(\n",
    "    somas_5,\n",
    "    radius=2 * width,\n",
    "    labels=acros_5,\n",
    "    wedgeprops=dict(width=width, edgecolor=\"w\"),\n",
    ")\n",
    "\n",
    "\n",
    "plt.title(\n",
    "    f\"Brain R1 - {np.sum(somas_4)} Total Somas \\n Inner Ring = ARA Level 5\",\n",
    "    pad=320,\n",
    "    fontdict={\"fontsize\": 20},\n",
    ")"
   ]
  },
  {
   "cell_type": "code",
   "execution_count": null,
   "metadata": {},
   "outputs": [],
   "source": [
    "acros = []\n",
    "somas = []\n",
    "none = []\n",
    "lvl = 6\n",
    "\n",
    "for node in G.nodes:\n",
    "    if G.nodes[node][\"st_level\"] == lvl:\n",
    "        if G.nodes[node][\"somas\"] > 0:\n",
    "            acros.append(G.nodes[node][\"name\"])\n",
    "            somas.append(G.nodes[node][\"somas\"])\n",
    "        else:\n",
    "            none.append(G.nodes[node][\"name\"])\n",
    "\n",
    "volumes = np.multiply(somas, 6.7 / (1000**3))\n",
    "plt.bar(acros, somas)\n",
    "plt.ylabel(\"Soma Count\", fontsize=20)\n",
    "plt.xlabel(\"ARA region\")\n",
    "plt.title(f\"Level {lvl}\", fontsize=20)\n",
    "plt.xticks(rotation=75, fontsize=20)\n",
    "plt.yticks(fontsize=20)\n",
    "\n",
    "fig = plt.gcf()\n",
    "fig.set_size_inches(26, 5)\n",
    "plt.show()\n",
    "\n",
    "print(f\"Areas with none detected: {none}\")"
   ]
  },
  {
   "cell_type": "code",
   "execution_count": null,
   "metadata": {},
   "outputs": [],
   "source": [
    "nodes = []\n",
    "for n in G.nodes:\n",
    "    if G.nodes[n][\"st_level\"] <= 5:\n",
    "        nodes.append(n)\n",
    "len(nodes)\n",
    "G2 = G.subgraph(nodes)"
   ]
  },
  {
   "cell_type": "code",
   "execution_count": null,
   "metadata": {},
   "outputs": [],
   "source": [
    "pos_dict = {}\n",
    "label_dict = {}\n",
    "for level in np.arange(12):\n",
    "    counter = 0\n",
    "    for n in G2.nodes:\n",
    "        if G2.nodes[n][\"st_level\"] == level:\n",
    "            pos_dict[n] = (100 * counter, 11 - level)\n",
    "            counter += 1\n",
    "            label_dict[n] = G2.nodes[n][\"acronym\"]"
   ]
  },
  {
   "cell_type": "code",
   "execution_count": null,
   "metadata": {},
   "outputs": [],
   "source": [
    "nx.draw_networkx(G2, pos_dict, labels=label_dict, node_size=1000)"
   ]
  },
  {
   "cell_type": "code",
   "execution_count": null,
   "metadata": {},
   "outputs": [],
   "source": [
    "net = Network(notebook=True)\n",
    "net.from_nx(G2)\n",
    "net.show(\"example.html\")  # only works on jupyter nb"
   ]
  },
  {
   "cell_type": "markdown",
   "metadata": {},
   "source": [
    "## View transformed coords"
   ]
  },
  {
   "cell_type": "code",
   "execution_count": null,
   "metadata": {},
   "outputs": [],
   "source": [
    "import json\n",
    "from cloudvolume import CloudVolume\n",
    "from skimage import io\n",
    "import numpy as np\n",
    "from tqdm import tqdm\n",
    "import napari\n",
    "from skimage import measure\n",
    "import scipy.ndimage as ndi\n",
    "from napari_animation import AnimationWidget"
   ]
  },
  {
   "cell_type": "code",
   "execution_count": null,
   "metadata": {},
   "outputs": [],
   "source": [
    "vol = CloudVolume(\n",
    "    \"precomputed://https://open-neurodata.s3.amazonaws.com/ara_2016/sagittal_10um/annotation_10um_2017\",\n",
    "    mip=0,\n",
    "    parallel=1,\n",
    "    progress=False,\n",
    ")\n",
    "new_res = vol.resolution\n",
    "og_res = [3.72, 3.72, 4]\n",
    "res_factor = [i / j * 1000 for i, j in zip(og_res, new_res)]\n",
    "print(f\"ARA Resolution: {new_res}nm\")\n",
    "\n",
    "with open(\n",
    "    \"/Users/thomasathey/Documents/mimlab/mouselight/ailey/soma_detection/misc_results/transformed_points_r1.json\"\n",
    ") as f:\n",
    "    data = json.load(f)\n",
    "\n",
    "points = []\n",
    "for entry in data:\n",
    "    point = [int(i * j) for i, j in zip(res_factor, entry[\"point\"])]\n",
    "    points.append(point)\n",
    "points_r1 = np.array(points)\n",
    "\n",
    "with open(\n",
    "    \"/Users/thomasathey/Documents/mimlab/mouselight/ailey/soma_detection/misc_results/transformed_points_r2.json\"\n",
    ") as f:\n",
    "    data = json.load(f)\n",
    "\n",
    "points = []\n",
    "for entry in data:\n",
    "    point = [int(i * j) for i, j in zip(res_factor, entry[\"point\"])]\n",
    "    points.append(point)\n",
    "points_r2 = np.array(points)\n",
    "\n",
    "with open(\n",
    "    \"/Users/thomasathey/Documents/mimlab/mouselight/ailey/soma_detection/misc_results/transformed_points_r3.json\"\n",
    ") as f:\n",
    "    data = json.load(f)\n",
    "\n",
    "points = []\n",
    "for entry in data:\n",
    "    point = [int(i * j) for i, j in zip(res_factor, entry[\"point\"])]\n",
    "    points.append(point)\n",
    "points_r3 = np.array(points)\n",
    "\n",
    "\n",
    "# atlas = np.zeros(vol.shape, dtype=vol.dtype)"
   ]
  },
  {
   "cell_type": "code",
   "execution_count": null,
   "metadata": {},
   "outputs": [],
   "source": [
    "atlas = io.imread(\n",
    "    \"/Users/thomasathey/Documents/mimlab/mouselight/ailey/ara/ara_10um.tif\"\n",
    ")"
   ]
  },
  {
   "cell_type": "code",
   "execution_count": null,
   "metadata": {},
   "outputs": [],
   "source": [
    "v = napari.Viewer()\n",
    "# v.add_labels(atlas)\n",
    "v.add_points(points_r1, face_color=\"red\", size=5)\n",
    "v.add_points(points_r2, face_color=\"orange\", size=5)\n",
    "v.add_points(points_r3, face_color=\"blue\", size=5)\n",
    "animation_widget = AnimationWidget(v)\n",
    "v.window.add_dock_widget(animation_widget, area=\"right\")"
   ]
  },
  {
   "cell_type": "code",
   "execution_count": null,
   "metadata": {},
   "outputs": [],
   "source": [
    "for z in [380, 680, 980]:\n",
    "    slice = atlas[z, :, :]\n",
    "    labels = measure.label(slice)\n",
    "    borders = 0 * labels\n",
    "    for label in np.unique(labels):\n",
    "        if label != 0:\n",
    "            mask = np.array(labels == label, dtype=\"int\")\n",
    "            erode = np.array(ndi.binary_erosion(mask))\n",
    "            outline = mask - erode\n",
    "            borders += outline\n",
    "\n",
    "    points_r12d = []\n",
    "    for point in points_r1:\n",
    "        if point[0] > z - 10 and point[0] < z + 10:\n",
    "            points_r12d.append([point[1], point[2]])\n",
    "    points_r22d = []\n",
    "    for point in points_r2:\n",
    "        if point[0] > z - 10 and point[0] < z + 10:\n",
    "            points_r22d.append([point[1], point[2]])\n",
    "    points_r32d = []\n",
    "    for point in points_r3:\n",
    "        if point[0] > z - 10 and point[0] < z + 10:\n",
    "            points_r32d.append([point[1], point[2]])\n",
    "\n",
    "    v = napari.Viewer()\n",
    "    v.add_image(borders)\n",
    "    v.add_points(points_r12d, face_color=\"red\", size=10)\n",
    "    v.add_points(points_r22d, face_color=\"orange\", size=10)\n",
    "    v.add_points(points_r32d, face_color=\"blue\", size=10)"
   ]
  },
  {
   "cell_type": "code",
   "execution_count": null,
   "metadata": {},
   "outputs": [],
   "source": [
    "v = napari.Viewer()\n",
    "v.add_image(borders)\n",
    "v.add_points(points_r12d, face_color=\"red\", size=10)\n",
    "v.add_points(points_r22d, face_color=\"orange\", size=10)\n",
    "v.add_points(points_r32d, face_color=\"blue\", size=10)\n",
    "animation_widget = AnimationWidget(v)\n",
    "v.window.add_dock_widget(animation_widget, area=\"right\")"
   ]
  },
  {
   "cell_type": "markdown",
   "metadata": {},
   "source": [
    "### download atlas as chunks"
   ]
  },
  {
   "cell_type": "code",
   "execution_count": null,
   "metadata": {},
   "outputs": [],
   "source": [
    "for i in tqdm(range(0, atlas.shape[2], 10)):\n",
    "    atlas[:, :, i : i + 10, :] = vol[:, :, i : i + 10, :]"
   ]
  },
  {
   "cell_type": "code",
   "execution_count": null,
   "metadata": {},
   "outputs": [],
   "source": [
    "# io.imsave(\"/Users/thomasathey/Documents/mimlab/mouselight/ailey/ara/ara_10um.tif\", atlas)"
   ]
  },
  {
   "cell_type": "markdown",
   "metadata": {},
   "source": [
    "## Make plots"
   ]
  },
  {
   "cell_type": "code",
   "execution_count": null,
   "metadata": {},
   "outputs": [],
   "source": [
    "atlas.shape"
   ]
  },
  {
   "cell_type": "code",
   "execution_count": null,
   "metadata": {},
   "outputs": [],
   "source": [
    "np.amax(points_r1, axis=0)"
   ]
  },
  {
   "cell_type": "code",
   "execution_count": null,
   "metadata": {},
   "outputs": [],
   "source": [
    "for z in [180, 430, 680, 1030, 1280]:\n",
    "    slice = atlas[z, :, :]\n",
    "    labels = measure.label(slice)\n",
    "    borders = 0 * labels\n",
    "    for label in np.unique(labels):\n",
    "        if label != 0:\n",
    "            mask = np.array(labels == label, dtype=\"int\")\n",
    "            erode = np.array(ndi.binary_erosion(mask))\n",
    "            outline = mask - erode\n",
    "            borders += outline\n",
    "\n",
    "    plt.imshow(borders, cmap=\"gray\")\n",
    "    indices = np.logical_and((points_r1[:, 0] < z + 3), (points_r1[:, 0] > z - 3))\n",
    "    plt.scatter(points_r1[indices, 2], points_r1[indices, 1], c=\"b\", s=5)\n",
    "    indices = np.logical_and((points_r3[:, 0] < z + 3), (points_r3[:, 0] > z - 3))\n",
    "    plt.scatter(points_r3[indices, 2], points_r3[indices, 1], c=\"r\", s=5)\n",
    "\n",
    "    fig = plt.gcf()\n",
    "    fig.set_size_inches(18.5, 10.5)\n",
    "    fig.savefig(\"/Users/thomasathey/Desktop/\" + str(z) + \".png\", dpi=100)"
   ]
  },
  {
   "cell_type": "code",
   "execution_count": null,
   "metadata": {},
   "outputs": [],
   "source": [
    "a = np.zeros((10, 10, 10))\n",
    "b = [[1.1, 1.1, 1.1], [2.1, 2.1, 2.1]]\n",
    "v = napari.Viewer()\n",
    "v.add_image(a)\n",
    "v.add_points(b)"
   ]
  },
  {
   "cell_type": "code",
   "execution_count": null,
   "metadata": {},
   "outputs": [],
   "source": []
  }
 ],
 "metadata": {
  "kernelspec": {
   "display_name": "Python 3.8.10 ('docs_env': venv)",
   "language": "python",
   "name": "python3"
  },
  "language_info": {
   "codemirror_mode": {
    "name": "ipython",
    "version": 3
   },
   "file_extension": ".py",
   "mimetype": "text/x-python",
   "name": "python",
   "nbconvert_exporter": "python",
   "pygments_lexer": "ipython3",
   "version": "3.8.10"
  },
  "vscode": {
   "interpreter": {
    "hash": "5dc00d68ff54f8375e99934614da4863299fb9e10af4294c095b7f517546ff26"
   }
  }
 },
 "nbformat": 4,
 "nbformat_minor": 2
}
