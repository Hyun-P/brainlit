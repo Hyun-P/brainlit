{
 "cells": [
  {
   "cell_type": "code",
   "execution_count": null,
   "metadata": {},
   "outputs": [],
   "source": [
    "quantification_dict = {0: 158, 1033: 29, 728: 60, 846: 8, 91: 19, 7: 3, 773: 2, 951: 1, 711: 1, 989: 11, 372: 1, 202: 72, 512: 37, 209: 2, 616: 45, 984: 67, 867: 148, 534: 7, 658: 11, 612: 2, 313: 205, 1047: 1, 1070: 2, 957: 1, 136: 11, 970: 5, 1048: 23, 976: 158, 866: 7, 850: 12, 147: 2, 145: 34, 771: 60, 898: 61, 1093: 19, 820: 78, 811: 46, 795: 438, 280: 4, 326: 31, 1052: 67, 128: 238, 661: 1, 828: 14, 17: 129, 26: 76, 246: 14, 10: 18, 924: 9, 381: 22, 997: 7, 32767: 33, 797: 75, 178: 3, 81: 8, 108: 9, 1009: 6, 477: 42, 301: 3, 551: 10, 559: 10, 187: 3, 651: 2, 169: 11, 354: 6, 912: 1, 62: 6, 1043: 8, 162: 25, 318: 2, 604: 1, 42: 19, 140: 123, 146: 35, 214: 4, 863: 7, 374: 5, 215: 7, 544: 15, 672: 46, 638: 2, 852: 10, 880: 8, 872: 12, 679: 6, 812: 1, 842: 1, 67: 1, 697: 6, 210: 3, 194: 45, 685: 14, 364: 7, 262: 1, 625: 2, 998: 6, 217: 3, 1091: 7, 350: 2, 798: 1, 460: 2, 681: 1, 231: 2, 35: 1, 336: 1, 12: 2, 634: 1, 50: 2, 186: 41, 595: 3, 690: 1, 1097: 50, 1004: 7, 980: 11, 946: 5, 830: 3, 610: 4, 648: 15, 478: 1, 6: 13, 803: 17, 351: 25, 226: 29, 56: 42, 844: 2, 767: 69, 656: 2, 962: 30, 1007: 3, 445: 2, 749: 4, 158: 2, 118: 2, 129: 2, 443: 1, 362: 20, 802: 1, 575: 7, 64: 2, 549: 6, 88: 7, 943: 11, 523: 28, 258: 2, 342: 39, 1101: 15, 630: 31, 482: 2, 271: 2, 834: 2, 851: 1, 804: 6, 1: 9, 436: 2, 434: 1, 449: 1, 38: 1, 515: 19, 181: 2, 30: 1, 133: 1, 1109: 8, 1015: 7, 1021: 8, 488: 3, 412: 15, 448: 8, 328: 4, 1064: 3, 1029: 2, 580: 1, 422: 1, 102: 2, 614: 2, 356: 1, 965: 2, 906: 1, 774: 3, 914: 1, 263: 1, 72: 1, 266: 1, 272: 1, 363: 21, 304: 5, 707: 7, 171: 7, 211: 2, 827: 5, 556: 5, 620: 4, 698: 14, 608: 1, 1125: 6, 288: 27, 969: 16, 159: 1, 1079: 1, 1031: 1, 670: 1, 1128: 3, 403: 5, 298: 12, 908: 1, 596: 1, 814: 1, 935: 1, 484: 1, 131: 2, 303: 5, 1022: 2, 23: 5, 268: 1, 1108: 1, 956: 9, 1054: 2, 1081: 1, 582: 1, 1090: 2, 1035: 1, 754: 1, 440: 4, 961: 1, 188: 1, 806: 3, 873: 1, 289: 1, 450: 1, 320: 1, 783: 1, 800: 6, 667: 2, 68: 1, 344: 2, 1058: 1, 163: 2, 120: 1}"
   ]
  },
  {
   "cell_type": "markdown",
   "metadata": {},
   "source": [
    "## setup atlas"
   ]
  },
  {
   "cell_type": "code",
   "execution_count": null,
   "metadata": {},
   "outputs": [],
   "source": [
    "import json\n",
    "from parse_ara import *\n",
    "import networkx as nx \n",
    "import numpy as np \n",
    "import matplotlib as mpl\n",
    "import matplotlib.pyplot as plt\n",
    "from pyvis.network import Network"
   ]
  },
  {
   "cell_type": "markdown",
   "metadata": {},
   "source": [
    "## Create vikram's object"
   ]
  },
  {
   "cell_type": "code",
   "execution_count": null,
   "metadata": {},
   "outputs": [],
   "source": [
    "\n",
    "f = json.load(open('/Users/thomasathey/Documents/mimlab/mouselight/brainlit_parent/brainlit/experiments/deisseroth/ara_structure_ontology.json','r'))\n",
    "\n",
    "tree = build_tree(f)\n",
    "stack = [tree]\n",
    "dfs_node_list = [] #node ids ordered by dfs\n",
    "reg_to_name = {} #map from id to name\n",
    "\n",
    "while len(stack) > 0:\n",
    "    node = stack.pop()\n",
    "\n",
    "    if node.id in quantification_dict.keys():\n",
    "        reg_to_name[node.id] = node.name\n",
    "        dfs_node_list.append(node.id)\n",
    "    \n",
    "    if len(node.children) > 0:\n",
    "        stack[0:0] = node.children\n",
    "\n",
    "quantification_dict_ordered = {}\n",
    "for id in dfs_node_list:\n",
    "    if id not in quantification_dict.keys():\n",
    "        continue\n",
    "    try:\n",
    "        roi_name = reg_to_name[id]\n",
    "    except:\n",
    "        roi_name = \"Missing Name #\" + str(id)\n",
    "    quantification_dict_ordered[roi_name] = quantification_dict[id]\n",
    "\n",
    "for vol_key in quantification_dict.keys():\n",
    "    if vol_key not in reg_to_name.keys():\n",
    "        roi_name = \"Unknown Name #\" + str(vol_key)\n",
    "        quantification_dict_ordered[roi_name] = quantification_dict[id]"
   ]
  },
  {
   "cell_type": "markdown",
   "metadata": {},
   "source": [
    "## create nx graph"
   ]
  },
  {
   "cell_type": "code",
   "execution_count": null,
   "metadata": {},
   "outputs": [],
   "source": [
    "queue = [tree]\n",
    "cur_level = -1\n",
    "counter = 0\n",
    "G = nx.DiGraph()\n",
    "max_level = 0\n",
    "\n",
    "while len(queue) > 0:\n",
    "    node = queue.pop(0)\n",
    "    if node.level > max_level:\n",
    "        max_level = node.level\n",
    "    G.add_node(node.id, level = node.level, st_level = node.st_level, name = node.name, acronym = node.acronym, somas = 0, label = str(node.st_level) + \") \" +node.name)\n",
    "    if node.parent_id is not None:\n",
    "        G.add_edge(node.parent_id, node.id)\n",
    "\n",
    "    queue += node.children\n",
    "\n",
    "print(f\"Max level: {max_level}\")\n",
    "print(G.nodes[997]['somas'])\n",
    "for key in quantification_dict.keys():\n",
    "    if key in G.nodes:\n",
    "        G.nodes[key]['somas'] = G.nodes[key]['somas'] + quantification_dict[key]\n",
    "print(G.nodes[997]['somas'])\n",
    "\n",
    "for lvl in range(max_level, 0, -1):\n",
    "    for node in G.nodes:\n",
    "        if G.nodes[node]['level'] == lvl:\n",
    "            parent = list(G.in_edges(node))[0][0]\n",
    "            G.nodes[parent]['somas'] = G.nodes[parent]['somas'] + G.nodes[node]['somas']\n",
    "print(G.nodes[997]['somas'])"
   ]
  },
  {
   "cell_type": "markdown",
   "metadata": {},
   "source": [
    "## Create data json"
   ]
  },
  {
   "cell_type": "code",
   "execution_count": null,
   "metadata": {},
   "outputs": [],
   "source": [
    "def get_entry(node):\n",
    "    entry = {\"name\": G.nodes[node][\"name\"]}\n",
    "    successor_nodes = list(G.successors(node))\n",
    "    somas = G.nodes[node][\"somas\"]\n",
    "    \n",
    "    if len(successor_nodes) > 0:\n",
    "        children_somas = 0\n",
    "        children = []\n",
    "        for child in successor_nodes:\n",
    "            children_somas += G.nodes[child][\"somas\"]\n",
    "            child_entry = get_entry(child)\n",
    "            if child_entry is not None:\n",
    "                children.append(child_entry)\n",
    "        if children_somas < somas:\n",
    "            children.append({\"name\": \"other\", \"value\": somas-children_somas})\n",
    "        entry[\"children\"] = children\n",
    "        return entry\n",
    "    elif  somas > 0:\n",
    "        entry[\"value\"] = somas\n",
    "        return entry\n",
    "    else:\n",
    "        return"
   ]
  },
  {
   "cell_type": "code",
   "execution_count": null,
   "metadata": {},
   "outputs": [],
   "source": [
    "import json\n",
    "for node in G.nodes:\n",
    "    if G.nodes[node]['level'] == 0:\n",
    "        print(node)\n"
   ]
  },
  {
   "cell_type": "code",
   "execution_count": null,
   "metadata": {},
   "outputs": [],
   "source": [
    "json_string = json.dumps(get_entry(997))\n",
    "print(json_string)\n",
    "with open('/Users/thomasathey/Documents/mimlab/mouselight/brainlit_parent/brainlit/experiments/deisseroth/d3js/somas.json', 'w', encoding='utf-8') as outfile:\n",
    "    json.dump(get_entry(997), outfile, ensure_ascii=False, indent=4)"
   ]
  },
  {
   "cell_type": "markdown",
   "metadata": {},
   "source": [
    "## create nested chart"
   ]
  },
  {
   "cell_type": "code",
   "execution_count": null,
   "metadata": {},
   "outputs": [],
   "source": [
    "def sort_pairs(tosort, other):\n",
    "    zipped_lists = zip(tosort, other)\n",
    "    sorted_pairs = sorted(zipped_lists)\n",
    "\n",
    "    tuples = zip(*sorted_pairs)\n",
    "    list1, list2 = [ list(tuple) for tuple in  tuples]\n",
    "    return list1, list2\n"
   ]
  },
  {
   "cell_type": "code",
   "execution_count": null,
   "metadata": {},
   "outputs": [],
   "source": []
  },
  {
   "cell_type": "code",
   "execution_count": null,
   "metadata": {},
   "outputs": [],
   "source": [
    "acros_4 = []\n",
    "acros_5 = []\n",
    "acros_6 = []\n",
    "somas_4 = []\n",
    "somas_5 = []\n",
    "somas_6 = []\n",
    "none = []\n",
    "\n",
    "for node in G.nodes:\n",
    "    if G.nodes[node]['st_level'] == 3:\n",
    "        if G.nodes[node]['somas']>0:\n",
    "            acros_4.append(G.nodes[node]['name'])\n",
    "            somas_4.append(G.nodes[node]['somas'])\n",
    "\n",
    "            children = G.successors(node)\n",
    "            child_somas_counter = 0\n",
    "            child_somas = []\n",
    "            child_names = []\n",
    "\n",
    "            for child in children:\n",
    "                if G.nodes[child]['somas']>5:\n",
    "                    child_names.append(G.nodes[child]['name'])\n",
    "                    child_somas.append(G.nodes[child]['somas'])\n",
    "                    child_somas_counter += G.nodes[child]['somas']\n",
    "\n",
    "\n",
    "                    grandchildren = G.successors(child)\n",
    "                    grandchild_somas_counter = 0\n",
    "                    grandchild_somas = []\n",
    "                    grandchild_names= []\n",
    "                    for grandchild in grandchildren:\n",
    "                        if G.nodes[grandchild]['somas']>5:\n",
    "                            grandchild_names.append(G.nodes[grandchild]['name'])\n",
    "                            grandchild_somas.append(G.nodes[grandchild]['somas'])\n",
    "                            grandchild_somas_counter += G.nodes[grandchild]['somas']\n",
    "\n",
    "                    if grandchild_somas_counter > G.nodes[child]['somas']:\n",
    "                        raise ValueError()\n",
    "                    elif grandchild_somas_counter < G.nodes[child]['somas']:\n",
    "                        diff = G.nodes[child]['somas'] - grandchild_somas_counter\n",
    "                        grandchild_names.append(\"other\")\n",
    "                        grandchild_somas.append(diff)\n",
    "\n",
    "                    grandchild_somas, grandchild_names = sort_pairs(grandchild_somas, grandchild_names)\n",
    "                    somas_6.extend(grandchild_somas)\n",
    "                    acros_6.extend(grandchild_names)\n",
    "\n",
    "            if child_somas_counter > G.nodes[node]['somas']:\n",
    "                raise ValueError()\n",
    "            elif child_somas_counter < G.nodes[node]['somas']:\n",
    "                diff = G.nodes[node]['somas'] - child_somas_counter\n",
    "                child_names.append(\"other\")\n",
    "                child_somas.append(diff)\n",
    "\n",
    "            #child_somas, child_names = sort_pairs(child_somas, child_names)\n",
    "            somas_5.extend(child_somas)\n",
    "            acros_5.extend(child_names)\n",
    "\n",
    "\n",
    "\n",
    "        else:\n",
    "            none.append(G.nodes[node]['name'])\n",
    "\n",
    "\n",
    "\n",
    "fig, ax = plt.subplots()\n",
    "\n",
    "width = 1\n",
    "ax.pie(somas_4, radius=1, labels = acros_4, labeldistance = 0.3,\n",
    "        wedgeprops=dict(width=width, edgecolor='w'))\n",
    "\n",
    "ax.pie(somas_5, radius=2, labels = acros_5, labeldistance = 0.6,\n",
    "        wedgeprops=dict(width=width, edgecolor='w'))\n",
    "\n",
    "ax.pie(somas_6, radius=3, labels = acros_6,\n",
    "        wedgeprops=dict(width=width, edgecolor='w'))\n",
    "\n",
    "plt.title(f\"Brain R1 - {np.sum(somas_4)} Total Somas \\n Inner Ring = ARA Level 3\", pad=220, fontdict={'fontsize': 20})"
   ]
  },
  {
   "cell_type": "code",
   "execution_count": null,
   "metadata": {},
   "outputs": [],
   "source": [
    "acros_4 = []\n",
    "acros_5 = []\n",
    "somas_4 = []\n",
    "somas_5 = []\n",
    "none = []\n",
    "\n",
    "for node in G.nodes:\n",
    "    if G.nodes[node]['st_level'] == 5:\n",
    "        if G.nodes[node]['somas']>0:\n",
    "            acros_4.append(G.nodes[node]['name'])\n",
    "            somas_4.append(G.nodes[node]['somas'])\n",
    "\n",
    "            children = G.successors(node)\n",
    "            child_somas_counter = 0\n",
    "            child_somas = []\n",
    "            child_names = []\n",
    "\n",
    "            for child in children:\n",
    "                if G.nodes[child]['somas']>5:\n",
    "                    child_names.append(G.nodes[child]['name'])\n",
    "                    child_somas.append(G.nodes[child]['somas'])\n",
    "                    child_somas_counter += G.nodes[child]['somas']\n",
    "\n",
    "            if child_somas_counter > G.nodes[node]['somas']:\n",
    "                raise ValueError()\n",
    "            elif child_somas_counter < G.nodes[node]['somas']:\n",
    "                diff = G.nodes[node]['somas'] - child_somas_counter\n",
    "                child_names.append(\"other\")\n",
    "                child_somas.append(diff)\n",
    "\n",
    "            child_somas, child_names = sort_pairs(child_somas, child_names)\n",
    "            somas_5.extend(child_somas)\n",
    "            acros_5.extend(child_names)\n",
    "\n",
    "\n",
    "\n",
    "        else:\n",
    "            none.append(G.nodes[node]['name'])\n",
    "\n",
    "\n",
    "\n",
    "fig, ax = plt.subplots()\n",
    "\n",
    "width = 2\n",
    "ax.pie(somas_4, radius=width, labels = acros_4, labeldistance = 0.5,\n",
    "        wedgeprops=dict(width=width, edgecolor='w'))\n",
    "\n",
    "ax.pie(somas_5, radius=2*width, labels = acros_5, \n",
    "        wedgeprops=dict(width=width, edgecolor='w'))\n",
    "\n",
    "\n",
    "plt.title(f\"Brain R1 - {np.sum(somas_4)} Total Somas \\n Inner Ring = ARA Level 5\", pad=320, fontdict={'fontsize': 20})"
   ]
  },
  {
   "cell_type": "code",
   "execution_count": null,
   "metadata": {},
   "outputs": [],
   "source": [
    "cmap"
   ]
  },
  {
   "cell_type": "code",
   "execution_count": null,
   "metadata": {},
   "outputs": [],
   "source": [
    "acros = []\n",
    "somas = []\n",
    "none = []\n",
    "lvl = 6\n",
    "\n",
    "for node in G.nodes:\n",
    "    if G.nodes[node]['st_level'] == lvl:\n",
    "        if G.nodes[node]['somas']>0:\n",
    "            acros.append(G.nodes[node]['name'])\n",
    "            somas.append(G.nodes[node]['somas'])\n",
    "        else:\n",
    "            none.append(G.nodes[node]['name'])\n",
    "\n",
    "volumes = np.multiply(somas, 6.7/(1000**3))\n",
    "plt.bar(acros,somas)\n",
    "plt.ylabel(\"Soma Count\", fontsize=20)\n",
    "plt.xlabel(\"ARA region\")\n",
    "plt.title(f\"Level {lvl}\", fontsize=20)\n",
    "plt.xticks(rotation=75, fontsize=20)\n",
    "plt.yticks(fontsize=20)\n",
    "\n",
    "fig = plt.gcf()\n",
    "fig.set_size_inches(26, 5)\n",
    "plt.show()\n",
    "\n",
    "print(f\"Areas with none detected: {none}\")"
   ]
  },
  {
   "cell_type": "code",
   "execution_count": null,
   "metadata": {},
   "outputs": [],
   "source": [
    "nodes = []\n",
    "for n in G.nodes:\n",
    "    if G.nodes[n][\"st_level\"] <= 5:\n",
    "        nodes.append(n)\n",
    "len(nodes)\n",
    "G2 = G.subgraph(nodes)"
   ]
  },
  {
   "cell_type": "code",
   "execution_count": null,
   "metadata": {},
   "outputs": [],
   "source": [
    "pos_dict = {}\n",
    "label_dict = {}\n",
    "for level in np.arange(12):\n",
    "    counter = 0\n",
    "    for n in G2.nodes:\n",
    "        if G2.nodes[n][\"st_level\"] == level:\n",
    "            pos_dict[n] = (100*counter, 11-level)\n",
    "            counter += 1\n",
    "            label_dict[n] = G2.nodes[n][\"acronym\"]"
   ]
  },
  {
   "cell_type": "code",
   "execution_count": null,
   "metadata": {},
   "outputs": [],
   "source": [
    "nx.draw_networkx(G2, pos_dict, labels = label_dict, node_size=1000)\n"
   ]
  },
  {
   "cell_type": "code",
   "execution_count": null,
   "metadata": {},
   "outputs": [],
   "source": [
    "net = Network(notebook=True)\n",
    "net.from_nx(G2)\n",
    "net.show(\"example.html\") #only works on jupyter nb"
   ]
  },
  {
   "cell_type": "code",
   "execution_count": null,
   "metadata": {},
   "outputs": [],
   "source": []
  }
 ],
 "metadata": {
  "interpreter": {
   "hash": "5dc00d68ff54f8375e99934614da4863299fb9e10af4294c095b7f517546ff26"
  },
  "kernelspec": {
   "display_name": "Python 3 (ipykernel)",
   "language": "python",
   "name": "python3"
  },
  "language_info": {
   "codemirror_mode": {
    "name": "ipython",
    "version": 3
   },
   "file_extension": ".py",
   "mimetype": "text/x-python",
   "name": "python",
   "nbconvert_exporter": "python",
   "pygments_lexer": "ipython3",
   "version": "3.8.10"
  }
 },
 "nbformat": 4,
 "nbformat_minor": 2
}
