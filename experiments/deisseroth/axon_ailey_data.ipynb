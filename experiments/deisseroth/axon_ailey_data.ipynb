{
 "cells": [
  {
   "cell_type": "code",
   "execution_count": null,
   "metadata": {},
   "outputs": [],
   "source": [
    "from cloudvolume import CloudVolume\n",
    "from skimage.transform import downscale_local_mean\n",
    "import napari\n",
    "from skimage import io\n",
    "import random\n",
    "import h5py\n",
    "from skimage import measure\n",
    "from brainlit.preprocessing import removeSmallCCs\n",
    "import numpy as np \n",
    "import matplotlib.pyplot as plt \n",
    "import subprocess\n",
    "import tables\n",
    "from napari_animation import AnimationWidget\n",
    "from tqdm import tqdm\n",
    "import pickle\n",
    "from parse_ara import *\n",
    "import networkx as nx\n",
    "import seaborn as sns\n",
    "import pandas as pd\n",
    "import brainrender\n",
    "import scipy.ndimage as ndi\n",
    "from skimage.morphology import skeletonize\n",
    "from axon_data import brain2paths, brain2centers\n",
    "import os\n",
    "from util import json_to_points\n",
    "%gui qt5"
   ]
  },
  {
   "cell_type": "markdown",
   "metadata": {},
   "source": [
    "# Download benchmark data"
   ]
  },
  {
   "cell_type": "code",
   "execution_count": 11,
   "metadata": {},
   "outputs": [
    {
     "name": "stdout",
     "output_type": "stream",
     "text": [
      "10 training samples, 10 val samples\n",
      "(5602, 8800, 3600, 1)\n"
     ]
    }
   ],
   "source": [
    "brain = \"4\"\n",
    "\n",
    "base_dir = \"/Users/thomasathey/Documents/mimlab/mouselight/ailey/benchmark_formal/brain\" + brain + \"/\"\n",
    "\n",
    "centers_train = brain2centers[brain][0]\n",
    "centers_val = brain2centers[brain][0] #annotate z slice 25, 50 and 75\n",
    "print(f\"{len(centers_train)} training samples, {len(centers_val)} val samples\")\n",
    "\n",
    "dir = brain2paths[brain][\"ab\"]\n",
    "vol_fg = CloudVolume(dir, parallel=1, mip=0, fill_missing=False)\n",
    "dir = brain2paths[brain][\"bg\"]\n",
    "vol_bg = CloudVolume(dir, parallel=1, mip=0, fill_missing=False)\n",
    "dir = brain2paths[brain][\"endo\"]\n",
    "vol_endo = CloudVolume(dir, parallel=1, mip=0, fill_missing=False)\n",
    "dir = brain2paths[brain][\"mask\"]\n",
    "vol_mask = CloudVolume(dir, parallel=1, mip=0, fill_missing=True)\n",
    "\n",
    "print(vol_bg.shape)\n",
    "\n"
   ]
  },
  {
   "cell_type": "markdown",
   "metadata": {},
   "source": [
    "### download training data"
   ]
  },
  {
   "cell_type": "code",
   "execution_count": null,
   "metadata": {},
   "outputs": [],
   "source": [
    "dataset_to_save = \"val\"\n",
    "\n",
    "if dataset_to_save == \"train\":\n",
    "    centers = centers_train\n",
    "elif dataset_to_save == \"val\":\n",
    "    centers = centers_val\n",
    "else:\n",
    "    raise ValueError(\"invalid dataset\")\n",
    "\n",
    "for i, center in enumerate(centers_train):\n",
    "    if i < 7:\n",
    "        continue\n",
    "    image_fg = vol_fg[center[0]-49:center[0]+50,center[1]-49:center[1]+50, center[2]-49:center[2]+50]\n",
    "    image_fg = image_fg[:,:,:,0]\n",
    "\n",
    "    image_bg = vol_bg[center[0]-49:center[0]+50,center[1]-49:center[1]+50, center[2]-49:center[2]+50]\n",
    "    image_bg = image_bg[:,:,:,0]\n",
    "\n",
    "    image_endo = vol_endo[center[0]-49:center[0]+50,center[1]-49:center[1]+50, center[2]-49:center[2]+50]\n",
    "    image_endo = image_endo[:,:,:,0]\n",
    "\n",
    "\n",
    "    image_2channel = np.stack([image_bg, image_fg, image_endo], axis=0)\n",
    "    \n",
    "    fname =base_dir + dataset_to_save + \"_\" + str(i) + \".h5\"\n",
    "    with h5py.File(fname, \"w\") as f:\n",
    "        dset = f.create_dataset(\"image_2channel\", data=image_2channel)    "
   ]
  },
  {
   "cell_type": "markdown",
   "metadata": {},
   "source": [
    "## View data"
   ]
  },
  {
   "cell_type": "code",
   "execution_count": null,
   "metadata": {},
   "outputs": [],
   "source": [
    "center = centers_train[2]\n",
    "\n",
    "image_fg = vol_fg[center[0]-49:center[0]+50,center[1]-49:center[1]+50, center[2]-49:center[2]+50]\n",
    "image_fg = image_fg[:,:,:,0]\n",
    "\n",
    "image_bg = vol_bg[center[0]-49:center[0]+50,center[1]-49:center[1]+50, center[2]-49:center[2]+50]\n",
    "image_bg = image_bg[:,:,:,0]\n",
    "\n",
    "image_endo = vol_endo[center[0]-49:center[0]+50,center[1]-49:center[1]+50, center[2]-49:center[2]+50]\n",
    "image_endo = image_endo[:,:,:,0]\n",
    "\n",
    "viewer = napari.Viewer(ndisplay=3)\n",
    "viewer.add_image(image_fg)\n",
    "viewer.add_image(image_bg)\n",
    "viewer.add_image(image_endo)"
   ]
  },
  {
   "cell_type": "markdown",
   "metadata": {},
   "source": [
    "## Check training results"
   ]
  },
  {
   "cell_type": "code",
   "execution_count": null,
   "metadata": {},
   "outputs": [],
   "source": [
    "true_pos_total = 0\n",
    "false_pos_total = 0\n",
    "true_labels_total = 0\n",
    "\n",
    "files = os.listdir(base_dir)\n",
    "files = [base_dir+f for f in files if \"train\" in f]\n",
    "#need to filter for labels/probs fiiles\n",
    "\n",
    "for fname in files:\n",
    "    f = h5py.File(fname, 'r')\n",
    "    im = f.get('image_2channel')\n",
    "    im_bg = im[0,:,:,:]\n",
    "    im_fg = im[1,:,:,:]\n",
    "    im_endo = im[2,:,:,:]\n",
    "\n",
    "    fname = base_dir + \"train_\" + str(i) + \"-image_2channel_Labels.h5\"\n",
    "    f = h5py.File(fname, 'r')\n",
    "    gt = f.get('exported_data')\n",
    "    gt = gt[0,:,:,:]\n",
    "    pos_labels = gt == 2\n",
    "    num_pos_labels = np.sum(pos_labels)\n",
    "\n",
    "    fname = base_dir + \"train_\" + str(i) + \"-image_2channel_Probabilities.h5\"\n",
    "    f = h5py.File(fname, 'r')\n",
    "    seg = f.get('exported_data')\n",
    "    seg = seg[1,:,:,:]\n",
    "    mask = seg > 0.5\n",
    "\n",
    "    true_pos = np.sum(np.logical_and(mask, pos_labels))\n",
    "    true_pos_total += true_pos\n",
    "    false_pos = np.sum(np.logical_and(mask, gt == 1))\n",
    "    false_pos_total += false_pos\n",
    "    true_labels = np.sum(pos_labels)\n",
    "    true_labels_total += true_labels\n",
    "    \n",
    "    if num_pos_labels > 0:\n",
    "        precision = true_pos/(true_pos + false_pos)\n",
    "        recall = true_pos/true_labels\n",
    "        print(f\"Example {i}: precision: {precision}, recall: {recall}\")\n",
    "    else:\n",
    "        print(f\"Example {i}: 0 positive labels, false positive rate is: {false_pos/np.sum(gt == 1)}\")\n",
    "\n",
    "    '''\n",
    "    viewer = napari.Viewer(ndisplay=3)\n",
    "    viewer.add_image(im_bg)\n",
    "    viewer.add_image(im_fg)\n",
    "    viewer.add_labels(gt)\n",
    "    viewer.add_labels(mask)\n",
    "    '''\n",
    "print(f\"Total precision: {true_pos_total/(true_pos_total + false_pos_total)} total recall: {true_pos_total/true_labels_total} with {true_labels_total} total positive voxels\")"
   ]
  },
  {
   "cell_type": "markdown",
   "metadata": {},
   "source": [
    "## Check Val results"
   ]
  },
  {
   "cell_type": "code",
   "execution_count": 12,
   "metadata": {},
   "outputs": [
    {
     "name": "stdout",
     "output_type": "stream",
     "text": [
      "10 total validation subvolumes\n",
      "Thresh: 0.02 --- Total prec.: 0.283 total rec.: 0.997 w/2225 total pos voxels. F-score: 0.4403\n",
      "Thresh: 0.04 --- Total prec.: 0.306 total rec.: 0.996 w/4450 total pos voxels. F-score: 0.4682\n",
      "Thresh: 0.06 --- Total prec.: 0.328 total rec.: 0.995 w/6675 total pos voxels. F-score: 0.4928\n",
      "Thresh: 0.08 --- Total prec.: 0.349 total rec.: 0.994 w/8900 total pos voxels. F-score: 0.5167\n",
      "Thresh: 0.10 --- Total prec.: 0.370 total rec.: 0.993 w/11125 total pos voxels. F-score: 0.5388\n",
      "Thresh: 0.12 --- Total prec.: 0.389 total rec.: 0.992 w/13350 total pos voxels. F-score: 0.5586\n",
      "Thresh: 0.14 --- Total prec.: 0.406 total rec.: 0.991 w/15575 total pos voxels. F-score: 0.5764\n",
      "Thresh: 0.16 --- Total prec.: 0.423 total rec.: 0.990 w/17800 total pos voxels. F-score: 0.5929\n",
      "Thresh: 0.18 --- Total prec.: 0.439 total rec.: 0.990 w/20025 total pos voxels. F-score: 0.6081\n",
      "Thresh: 0.20 --- Total prec.: 0.454 total rec.: 0.990 w/22250 total pos voxels. F-score: 0.6221\n",
      "Thresh: 0.22 --- Total prec.: 0.468 total rec.: 0.989 w/24475 total pos voxels. F-score: 0.6352\n",
      "Thresh: 0.24 --- Total prec.: 0.481 total rec.: 0.989 w/26700 total pos voxels. F-score: 0.6473\n",
      "Thresh: 0.26 --- Total prec.: 0.494 total rec.: 0.988 w/28925 total pos voxels. F-score: 0.6586\n",
      "Thresh: 0.28 --- Total prec.: 0.506 total rec.: 0.988 w/31150 total pos voxels. F-score: 0.6692\n",
      "Thresh: 0.30 --- Total prec.: 0.518 total rec.: 0.987 w/33375 total pos voxels. F-score: 0.6792\n",
      "Thresh: 0.32 --- Total prec.: 0.529 total rec.: 0.987 w/35600 total pos voxels. F-score: 0.6886\n",
      "Thresh: 0.34 --- Total prec.: 0.540 total rec.: 0.986 w/37825 total pos voxels. F-score: 0.6975\n",
      "Thresh: 0.36 --- Total prec.: 0.550 total rec.: 0.986 w/40050 total pos voxels. F-score: 0.7060\n",
      "Thresh: 0.38 --- Total prec.: 0.560 total rec.: 0.985 w/42275 total pos voxels. F-score: 0.7140\n",
      "Thresh: 0.40 --- Total prec.: 0.569 total rec.: 0.985 w/44500 total pos voxels. F-score: 0.7215\n",
      "Thresh: 0.42 --- Total prec.: 0.578 total rec.: 0.984 w/46725 total pos voxels. F-score: 0.7286\n",
      "Thresh: 0.44 --- Total prec.: 0.587 total rec.: 0.983 w/48950 total pos voxels. F-score: 0.7352\n",
      "Thresh: 0.46 --- Total prec.: 0.596 total rec.: 0.982 w/51175 total pos voxels. F-score: 0.7415\n",
      "Thresh: 0.48 --- Total prec.: 0.604 total rec.: 0.981 w/53400 total pos voxels. F-score: 0.7474\n",
      "Thresh: 0.50 --- Total prec.: 0.611 total rec.: 0.980 w/55625 total pos voxels. F-score: 0.7530\n",
      "Thresh: 0.52 --- Total prec.: 0.619 total rec.: 0.979 w/57850 total pos voxels. F-score: 0.7582\n",
      "Thresh: 0.54 --- Total prec.: 0.626 total rec.: 0.978 w/60075 total pos voxels. F-score: 0.7631\n",
      "Thresh: 0.56 --- Total prec.: 0.632 total rec.: 0.976 w/62300 total pos voxels. F-score: 0.7677\n",
      "Thresh: 0.58 --- Total prec.: 0.639 total rec.: 0.975 w/64525 total pos voxels. F-score: 0.7721\n",
      "Thresh: 0.60 --- Total prec.: 0.645 total rec.: 0.973 w/66750 total pos voxels. F-score: 0.7762\n",
      "Thresh: 0.62 --- Total prec.: 0.652 total rec.: 0.972 w/68975 total pos voxels. F-score: 0.7800\n",
      "Thresh: 0.64 --- Total prec.: 0.657 total rec.: 0.970 w/71200 total pos voxels. F-score: 0.7836\n",
      "Thresh: 0.66 --- Total prec.: 0.663 total rec.: 0.968 w/73425 total pos voxels. F-score: 0.7870\n",
      "Thresh: 0.68 --- Total prec.: 0.669 total rec.: 0.965 w/75650 total pos voxels. F-score: 0.7900\n",
      "Thresh: 0.70 --- Total prec.: 0.674 total rec.: 0.963 w/77875 total pos voxels. F-score: 0.7928\n",
      "Thresh: 0.72 --- Total prec.: 0.679 total rec.: 0.960 w/80100 total pos voxels. F-score: 0.7953\n",
      "Thresh: 0.74 --- Total prec.: 0.684 total rec.: 0.956 w/82325 total pos voxels. F-score: 0.7976\n",
      "Thresh: 0.76 --- Total prec.: 0.689 total rec.: 0.953 w/84550 total pos voxels. F-score: 0.7997\n",
      "Thresh: 0.78 --- Total prec.: 0.693 total rec.: 0.949 w/86775 total pos voxels. F-score: 0.8013\n",
      "Thresh: 0.80 --- Total prec.: 0.698 total rec.: 0.945 w/89000 total pos voxels. F-score: 0.8027\n",
      "Thresh: 0.82 --- Total prec.: 0.702 total rec.: 0.940 w/91225 total pos voxels. F-score: 0.8037\n",
      "Thresh: 0.84 --- Total prec.: 0.705 total rec.: 0.935 w/93450 total pos voxels. F-score: 0.8043\n",
      "Thresh: 0.86 --- Total prec.: 0.709 total rec.: 0.930 w/95675 total pos voxels. F-score: 0.8046\n",
      "Thresh: 0.88 --- Total prec.: 0.712 total rec.: 0.924 w/97900 total pos voxels. F-score: 0.8044\n",
      "Thresh: 0.90 --- Total prec.: 0.715 total rec.: 0.917 w/100125 total pos voxels. F-score: 0.8037\n",
      "Thresh: 0.92 --- Total prec.: 0.718 total rec.: 0.909 w/102350 total pos voxels. F-score: 0.8023\n",
      "Thresh: 0.94 --- Total prec.: 0.720 total rec.: 0.900 w/104575 total pos voxels. F-score: 0.8002\n",
      "Thresh: 0.96 --- Total prec.: 0.722 total rec.: 0.888 w/106800 total pos voxels. F-score: 0.7967\n",
      "Thresh: 0.98 --- Total prec.: 0.723 total rec.: 0.874 w/109025 total pos voxels. F-score: 0.7912\n"
     ]
    },
    {
     "data": {
      "text/html": [
       "<pre style=\"white-space:pre;overflow-x:auto;line-height:normal;font-family:Menlo,'DejaVu Sans Mono',consolas,'Courier New',monospace\"><span style=\"font-weight: bold\">&lt;</span><span style=\"color: #ff00ff; text-decoration-color: #ff00ff; font-weight: bold\">matplotlib.legend.Legend</span><span style=\"color: #000000; text-decoration-color: #000000\"> object at </span><span style=\"color: #008080; text-decoration-color: #008080; font-weight: bold\">0x171622ca0</span><span style=\"font-weight: bold\">&gt;</span>\n",
       "</pre>\n"
      ],
      "text/plain": [
       "\u001b[1m<\u001b[0m\u001b[1;95mmatplotlib.legend.Legend\u001b[0m\u001b[39m object at \u001b[0m\u001b[1;36m0x171622ca0\u001b[0m\u001b[1m>\u001b[0m\n"
      ]
     },
     "metadata": {},
     "output_type": "display_data"
    },
    {
     "data": {
      "image/png": "[encoded data removed]"
     },
     "metadata": {
      "needs_background": "light"
     },
     "output_type": "display_data"
    }
   ],
   "source": [
    "true_pos_total = 0\n",
    "false_pos_total = 0\n",
    "true_labels_total = 0\n",
    "spacing =  0.02\n",
    "thresholds = np.arange(spacing, 1.0, spacing)\n",
    "precisions = []\n",
    "recalls = []\n",
    "best_fscore = 0\n",
    "\n",
    "files = os.listdir(base_dir)\n",
    "files = [base_dir+f for f in files if \"val\" in f]\n",
    "files = [f for f in files if \"_Probabilities.h5\" in f]\n",
    "\n",
    "print(f\"{len(files)} total validation subvolumes\")\n",
    "\n",
    "for threshold in thresholds:\n",
    "    for fname_prob in files:\n",
    "\n",
    "        fname_im = fname_prob[:-17] + \".h5\"\n",
    "        f = h5py.File(fname_im, 'r')\n",
    "        im = f.get('image_2channel')\n",
    "        im_bg = im[0,:,:,:]\n",
    "        im_fg = im[1,:,:,:]\n",
    "\n",
    "        fname_lab = fname_prob[:-17] + \"-image_2channel_Labels.h5\"\n",
    "        f = h5py.File(fname_lab, 'r')\n",
    "        gt = f.get('exported_data')\n",
    "        gt = gt[0,:,:,:]\n",
    "        pos_labels = gt == 2\n",
    "        num_pos_labels = np.sum(pos_labels)\n",
    "\n",
    "        f = h5py.File(fname_prob, 'r')\n",
    "        seg = f.get('exported_data')\n",
    "        seg = seg[1,:,:,:]\n",
    "        mask = seg > threshold\n",
    "\n",
    "        true_pos = np.sum(np.logical_and(mask, pos_labels))\n",
    "        true_pos_total += true_pos\n",
    "        false_pos = np.sum(np.logical_and(mask, gt == 1))\n",
    "        false_pos_total += false_pos\n",
    "        true_labels = np.sum(pos_labels)\n",
    "        true_labels_total += true_labels\n",
    "        \n",
    "    precision_total = true_pos_total/(true_pos_total + false_pos_total)\n",
    "    recall_total = true_pos_total/true_labels_total\n",
    "    fscore = 2/(1/precision_total+1/recall_total)\n",
    "    print(f\"Thresh: {threshold:.2f} --- Total prec.: {precision_total:.3f} total rec.: {recall_total:.3f} w/{true_labels_total} total pos voxels. F-score: {fscore:.4f}\")\n",
    "    if fscore > best_fscore:\n",
    "        best_fscore = fscore\n",
    "        best_prec = precision_total\n",
    "        best_recall = recall_total\n",
    "        best_threshold = threshold\n",
    "    precisions.append(precision_total) \n",
    "    recalls.append(recall_total)\n",
    "plt.plot(recalls, precisions, label='Prec-Rec Curve')\n",
    "plt.scatter([best_recall], [best_prec], c='red', label=f\"Best F-score: {best_fscore:.4f}\")\n",
    "plt.ylabel('Precision')\n",
    "plt.xlabel('Recall')\n",
    "plt.title('Validation Performance Brain' + brain)\n",
    "plt.legend()"
   ]
  },
  {
   "cell_type": "code",
   "execution_count": null,
   "metadata": {},
   "outputs": [],
   "source": [
    "json_to_points(\"https://viz.neurodata.io/?json_url=https://json.neurodata.io/v1?NGStateID=Tizkn7VMAv6B6Q\", round=True)"
   ]
  },
  {
   "cell_type": "markdown",
   "metadata": {},
   "source": [
    "### Examine best threshold"
   ]
  },
  {
   "cell_type": "code",
   "execution_count": null,
   "metadata": {},
   "outputs": [],
   "source": [
    "for fname_prob in files:\n",
    "    fname_im = fname_prob[:-17] + \".h5\"\n",
    "    f = h5py.File(fname_im, 'r')\n",
    "    im = f.get('image_2channel')\n",
    "    im_bg = im[0,:,:,:]\n",
    "    im_fg = im[1,:,:,:]\n",
    "    im_endo = im[2,:,:,:]\n",
    "\n",
    "    fname_lab = fname_prob[:-17] + \"-image_2channel_Labels.h5\"\n",
    "    f = h5py.File(fname_lab, 'r')\n",
    "    gt = f.get('exported_data')\n",
    "    gt = gt[0,:,:,:]\n",
    "    pos_labels = gt == 2\n",
    "    num_pos_labels = np.sum(pos_labels)\n",
    "\n",
    "    f = h5py.File(fname_prob, 'r')\n",
    "    seg = f.get('exported_data')\n",
    "    seg = seg[1,:,:,:]\n",
    "    mask = seg > best_threshold\n",
    "\n",
    "    true_pos = np.sum(np.logical_and(mask, pos_labels))\n",
    "    true_pos_total += true_pos\n",
    "    false_pos = np.sum(np.logical_and(mask, gt == 1))\n",
    "    false_pos_total += false_pos\n",
    "    true_labels = np.sum(pos_labels)\n",
    "    true_labels_total += true_labels\n",
    "    \n",
    "\n",
    "    precision = true_pos/(true_pos + false_pos)\n",
    "    recall = true_pos/true_labels\n",
    "    fscore = 2/(1/precision+1/recall)\n",
    "    if fscore < 0.75:\n",
    "        print(fname_prob)\n",
    "        name = fname_prob.split(\"/\")[-1]\n",
    "        viewer = napari.Viewer(ndisplay=3)\n",
    "        viewer.add_image(im_bg, name=name[:-17])\n",
    "        viewer.add_image(im_fg)\n",
    "        viewer.add_image(im_endo)\n",
    "        viewer.add_labels(gt)\n",
    "        viewer.add_labels(mask, name=f\"p:{precision:.2f} r{recall:.2f}\")\n",
    "        \n",
    "        "
   ]
  },
  {
   "cell_type": "code",
   "execution_count": null,
   "metadata": {},
   "outputs": [],
   "source": [
    "json_to_points(\"https://viz.neurodata.io/?json_url=https://json.neurodata.io/v1?NGStateID=V1ZmxgI5NeFOaw\", round=True)"
   ]
  },
  {
   "cell_type": "markdown",
   "metadata": {},
   "source": [
    "# Make annotation layer"
   ]
  },
  {
   "cell_type": "code",
   "execution_count": null,
   "metadata": {},
   "outputs": [],
   "source": [
    "\n",
    "dir = \"s3://smartspim-precomputed-volumes/2022_01_14/8613/axon_mask\"\n",
    "\n",
    "info = CloudVolume.create_new_info(\n",
    "    num_channels    = 1,\n",
    "    layer_type      = 'segmentation',\n",
    "    data_type       = 'uint64', # Channel images might be 'uint8'\n",
    "    encoding        = 'raw', # raw, jpeg, compressed_segmentation, fpzip, kempressed\n",
    "    resolution      = vol_bg.resolution, # Voxel scaling, units are in nanometers\n",
    "    voxel_offset    = vol_bg.voxel_offset, # x,y,z offset in voxels from the origin\n",
    "    # mesh            = 'mesh',\n",
    "    # Pick a convenient size for your underlying chunk representation\n",
    "    # Powers of two are recommended, doesn't need to cover image exactly\n",
    "    chunk_size      = [ 128, 128, 2 ], # units are voxels\n",
    "    volume_size     = vol_bg.volume_size, # e.g. a cubic millimeter dataset\n",
    ")\n",
    "vol_mask = CloudVolume(dir, info=info)\n",
    "vol_mask.commit_info()"
   ]
  },
  {
   "cell_type": "markdown",
   "metadata": {},
   "source": [
    "cannot write to https link, can write to s3 link"
   ]
  },
  {
   "cell_type": "markdown",
   "metadata": {},
   "source": [
    "## Check whole brain results"
   ]
  },
  {
   "cell_type": "code",
   "execution_count": null,
   "metadata": {},
   "outputs": [],
   "source": [
    "#download from cloud\n",
    "centers = [[2304, 3840, 2100], [2560, 3840, 1800]]\n",
    "\n",
    "for i,center in enumerate(centers):\n",
    "    image_fg = vol_fg[center[0]:center[0]+256,center[1]:center[1]+256, center[2]:center[2]+300]\n",
    "    image_fg = image_fg[:,:,:,0]\n",
    "\n",
    "    image_bg = vol_bg[center[0]:center[0]+256,center[1]:center[1]+256, center[2]:center[2]+300]\n",
    "    image_bg = image_bg[:,:,:,0]\n",
    "\n",
    "    mask_s3 = vol_mask[center[0]:center[0]+256,center[1]:center[1]+256, center[2]:center[2]+300]\n",
    "    mask_s3 = mask_s3[:,:,:,0]\n",
    "\n",
    "    image_2channel = np.stack([image_bg, image_fg], axis=0)\n",
    "    fname = \"/Users/thomasathey/Documents/mimlab/mouselight/ailey/benchmark_formal/test_\" + str(i) + \".h5\"\n",
    "    with h5py.File(fname, \"w\") as f:\n",
    "        dset = f.create_dataset(\"image_2channel\", data=image_2channel)\n",
    "\n",
    "    "
   ]
  },
  {
   "cell_type": "code",
   "execution_count": null,
   "metadata": {},
   "outputs": [],
   "source": [
    "fname = \"/Users/thomasathey/Documents/mimlab/mouselight/ailey/image_0.h5\"\n",
    "\n",
    "subprocess.run([\"/Applications/ilastik-1.3.3post3-OSX.app/Contents/ilastik-release/run_ilastik.sh\",  \"--headless\", \"--project=/Users/thomasathey/Documents/mimlab/mouselight/ailey/benchmark_formal/matt_benchmark_formal.ilp\", fname], stdout=subprocess.PIPE, stderr=subprocess.PIPE)"
   ]
  },
  {
   "cell_type": "markdown",
   "metadata": {},
   "source": [
    "## Downsample"
   ]
  },
  {
   "cell_type": "code",
   "execution_count": null,
   "metadata": {},
   "outputs": [],
   "source": [
    "#downsample axon mask layer with igneous (this is only partial code, see igneous github for other code snippets)\n",
    "\n",
    "layer_path = \"s3://smartspim-precomputed-volumes/2021_07_15_Sert_Cre_R/axon_mask\"\n",
    "\n",
    "tasks = tc.create_downsampling_tasks(\n",
    "    layer_path, # e.g. 'gs://bucket/dataset/layer'\n",
    "    mip=0, # Start downsampling from this mip level (writes to next level up)\n",
    "    fill_missing=True, # Ignore missing chunks and fill them with black\n",
    "    axis='z', \n",
    "    num_mips=5, # number of downsamples to produce. Downloaded shape is chunk_size * 2^num_mip\n",
    "    chunk_size=None, # manually set chunk size of next scales, overrides preserve_chunk_size\n",
    "    preserve_chunk_size=True, # use existing chunk size, don't halve to get more downsamples\n",
    "    sparse=False, # for sparse segmentation, allow inflation of pixels against background\n",
    "    bounds=None, # mip 0 bounding box to downsample \n",
    "    encoding=None, # e.g. 'raw', 'compressed_segmentation', etc\n",
    "    delete_black_uploads=False, # issue a delete instead of uploading files containing all background\n",
    "    background_color=0, # Designates the background color\n",
    "    compress='gzip', # None, 'gzip', and 'br' (brotli) are options\n",
    "    factor=(2,2,2), # common options are (2,2,1) and (2,2,2)\n",
    "  )\n"
   ]
  },
  {
   "cell_type": "code",
   "execution_count": null,
   "metadata": {},
   "outputs": [],
   "source": [
    "#download higher mip\n",
    "\n",
    "dir = \"precomputed://https://dlab-colm.neurodata.io/2021_07_15_Sert_Cre_R/axon_mask\"\n",
    "vol_mask_ds = CloudVolume(dir, parallel=1, mip=1, fill_missing=False)\n",
    "print(vol_mask_ds.shape)\n",
    "\n",
    "data = vol_mask_ds[:,:,0,0]\n",
    "data = data.astype('int8')\n",
    "print(data.nbytes)\n",
    "# print(np.unique(data))\n",
    "data = data[:,:,:,0]\n",
    "data = np.swapaxes(data, 0,2) #must do this\n",
    "print(data.shape)\n",
    "\n",
    "io.imsave(\"/Users/thomasathey/Documents/mimlab/mouselight/ailey/wholebrain_results/brain4/register/axon_mask_.tif\", data)\n"
   ]
  },
  {
   "cell_type": "markdown",
   "metadata": {},
   "source": [
    "## Registration"
   ]
  },
  {
   "cell_type": "code",
   "execution_count": null,
   "metadata": {},
   "outputs": [],
   "source": [
    "#downsample\n",
    "im_path = \"/Users/thomasathey/Documents/mimlab/mouselight/ailey/wholebrain_results/brain4/register/registered_2.img\"\n",
    "im = io.imread(im_path)\n",
    "print(im.shape)\n",
    "print(np.unique(im))\n",
    "\n",
    "im = im.astype('float')\n",
    "\n",
    "im_ds = ndi.zoom(im, (0.4,0.4,0.4))\n",
    "print(im_ds.shape)\n",
    "print(np.unique(im_ds))\n",
    "\n",
    "np.save(\"/Users/thomasathey/Documents/mimlab/mouselight/ailey/wholebrain_results/brain4/register/registered_3_ds.npy\", im_ds)"
   ]
  },
  {
   "cell_type": "code",
   "execution_count": null,
   "metadata": {},
   "outputs": [],
   "source": [
    "im_path = \"/Users/thomasathey/Documents/mimlab/mouselight/ailey/wholebrain_results/brain4/register/axon_mask_1_0.tif\"\n",
    "im = io.imread(im_path)\n",
    "print(im.shape)\n",
    "print(np.sum(im))"
   ]
  },
  {
   "cell_type": "code",
   "execution_count": null,
   "metadata": {},
   "outputs": [],
   "source": [
    "brain = \"brain3\"\n",
    "\n",
    "# im_path = \"/Users/thomasathey/Documents/mimlab/mouselight/ailey/wholebrain_results/brain3/register/registered_3_ds.npy\"\n",
    "# im = np.load(im_path)\n",
    "# print(im.shape)\n",
    "\n",
    "# im_path = \"/Users/thomasathey/Documents/mimlab/mouselight/ailey/wholebrain_results/brain3/register/axon_mask_3.tif\"\n",
    "# im_unreg = io.imread(im_path)\n",
    "# print(im_unreg.shape)\n",
    "\n",
    "\n",
    "im_path = \"/Users/thomasathey/Documents/mimlab/mouselight/ailey/wholebrain_results/\" + brain + \"/register/registered_1.img\"\n",
    "im_reg2 = io.imread(im_path)\n",
    "print(im_reg2.shape)\n",
    "\n",
    "# im_path = \"/Users/thomasathey/Documents/mimlab/mouselight/ailey/wholebrain_results/\" + brain + \"/register/registered_3.img\"\n",
    "# im_reg3 = io.imread(im_path)\n",
    "# print(im_reg3.shape)\n",
    "\n",
    "# vol = CloudVolume(\n",
    "#     \"s3://open-neurodata/ara_2016/sagittal_10um/annotation_10um_2017\", mip=0, use_https=True\n",
    "# )\n",
    "# print(vol.shape)\n",
    "# atlas = vol[:,:,:,:]\n",
    "# atlas = np.squeeze(atlas).T\n",
    "# print(atlas.shape)\n",
    "# len(np.unique(atlas))\n",
    "\n",
    "im_path = \"/Users/thomasathey/Documents/mimlab/mouselight/ailey/wholebrain_results/ara_10um.tif\"\n",
    "atlas = io.imread(im_path)\n",
    "print(atlas.shape)"
   ]
  },
  {
   "cell_type": "code",
   "execution_count": null,
   "metadata": {},
   "outputs": [],
   "source": [
    "smooth = ndi.gaussian_filter(im_reg2.astype('float'), sigma=3)\n",
    "#smooth = ndi.zoom(smooth, (0.4,0.4,0.4))"
   ]
  },
  {
   "cell_type": "code",
   "execution_count": null,
   "metadata": {},
   "outputs": [],
   "source": [
    "viewer = napari.Viewer(ndisplay=3)\n",
    "animation_widget = AnimationWidget(viewer)\n",
    "viewer.window.add_dock_widget(animation_widget, area='right')\n",
    "#viewer.add_image(im)\n",
    "viewer.add_image(smooth)\n",
    "#viewer.add_image(im_reg2)\n",
    "#viewer.add_image(im_reg3)\n",
    "viewer.add_labels(atlas)\n",
    "napari.run() "
   ]
  },
  {
   "cell_type": "code",
   "execution_count": null,
   "metadata": {},
   "outputs": [],
   "source": [
    "for z in [180, 430, 680, 1030, 1280]:\n",
    "\n",
    "    slice = atlas[:,:,z]\n",
    "    slice_data = smooth[:,:,z]#np.sum(im_reg[:,:,z], axis=2)\n",
    "    mn = np.amin(slice_data)\n",
    "    print(np.unique(slice_data))\n",
    "    slice_data[slice == 0] = mn\n",
    "    labels = measure.label(slice)\n",
    "    #plt.imshow(labels)\n",
    "\n",
    "    borders = 0*labels\n",
    "    for label in np.unique(labels):\n",
    "        if label != 0:\n",
    "            mask = np.array(labels == label, dtype='int')\n",
    "            erode = np.array(ndi.binary_erosion(mask))\n",
    "            outline = mask - erode\n",
    "            borders += outline\n",
    "\n",
    "    print(np.unique(borders))\n",
    "    borders = borders.astype('float')\n",
    "    borders_layer = np.zeros((borders.shape[0],borders.shape[1],4))\n",
    "    for rgba in range(borders_layer.shape[2]):\n",
    "        borders_layer[:,:,rgba] = borders\n",
    "\n",
    "\n",
    "    slice_data = ndi.rotate(slice_data, 270)\n",
    "    plt.imshow(slice_data, cmap='inferno')\n",
    "    borders_layer = ndi.rotate(borders_layer, 270)\n",
    "    plt.imshow(borders_layer, cmap='gray')\n",
    "\n",
    "    fig = plt.gcf()\n",
    "    fig.set_size_inches(18.5, 10.5)\n",
    "    fig.savefig('/Users/thomasathey/Desktop/' + str(z) + '.png', dpi=100)"
   ]
  },
  {
   "cell_type": "markdown",
   "metadata": {},
   "source": [
    "## Atlas readout"
   ]
  },
  {
   "cell_type": "code",
   "execution_count": null,
   "metadata": {},
   "outputs": [],
   "source": [
    "volumes = {}\n",
    "for x in tqdm(np.arange(0, vol_mask.shape[0], 128)):\n",
    "    x2 = np.amin([x+128, vol_mask.shape[0]])\n",
    "    for y in tqdm(np.arange(0, vol_mask.shape[1], 128), leave=False):\n",
    "        y2 = np.amin([x+128, vol_mask.shape[1]])\n",
    "        for z in tqdm(np.arange(0, vol_mask.shape[2], 128), leave=False):\n",
    "            z2 = np.amin([x+128, vol_mask.shape[2]])\n",
    "            labels = vol_reg[x:x2,y:y2,z:z2]\n",
    "            labels_unique = np.unique(labels)\n",
    "            mask = vol_mask[x:x2,y:y2,z:z2]\n",
    "\n",
    "            for unq in labels_unique:\n",
    "                if unq in volumes.keys():\n",
    "                    cur_vol = volumes[unq][1]\n",
    "                    cur_total = volumes[unq][0]\n",
    "                else:\n",
    "                    cur_vol = 0\n",
    "                    cur_total = 0\n",
    "                cur_vol += np.sum(mask[labels == unq])\n",
    "                cur_total += np.sum(labels == unq)\n",
    "                volumes[unq] = [cur_total, cur_vol]"
   ]
  },
  {
   "cell_type": "markdown",
   "metadata": {},
   "source": [
    "## Read quantification dictionary"
   ]
  },
  {
   "cell_type": "code",
   "execution_count": null,
   "metadata": {},
   "outputs": [],
   "source": [
    "path = \"/Users/thomasathey/Documents/mimlab/mouselight/ailey/benchmark_formal/brain3/quantification.pkl\"\n",
    "with open(path, \"rb\") as f:\n",
    "   quantification_dict_3 = pickle.load(f)\n",
    "\n",
    "\n",
    "path = \"/Users/thomasathey/Documents/mimlab/mouselight/ailey/benchmark_formal/brain4/vol_density.pkl\"\n",
    "with open(path, \"rb\") as f:\n",
    "   quantification_dict_4 = pickle.load(f)\n",
    "\n",
    "for key in quantification_dict_4.keys():\n",
    "   val = quantification_dict_4[key]\n",
    "   val = [float(v) for v in val]\n",
    "   val.reverse()\n",
    "   quantification_dict_4[key] = val"
   ]
  },
  {
   "cell_type": "code",
   "execution_count": null,
   "metadata": {},
   "outputs": [],
   "source": [
    "regions = [688, 698, 1089, 583, 477, 803, 703, 1097, 549, 313, 1065]\n",
    "allen_regions = [315, 698, 1089, 703, 477, 803, 549, 1097, 313, 771, 354, 512] #https://connectivity.brain-map.org/projection/experiment/480074702?imageId=480075280&initImage=TWO_PHOTON&x=17028&y=11704&z=3"
   ]
  },
  {
   "cell_type": "code",
   "execution_count": null,
   "metadata": {},
   "outputs": [],
   "source": [
    "quantification_dicts = {\"3\": quantification_dict_3, \"4\": quantification_dict_4}"
   ]
  },
  {
   "cell_type": "code",
   "execution_count": null,
   "metadata": {},
   "outputs": [],
   "source": [
    "f = json.load(open('/Users/thomasathey/Documents/mimlab/mouselight/brainlit_parent/brainlit/experiments/deisseroth/ara_structure_ontology.json','r'))\n",
    "\n",
    "tree = build_tree(f)\n",
    "stack = [tree]"
   ]
  },
  {
   "cell_type": "code",
   "execution_count": null,
   "metadata": {},
   "outputs": [],
   "source": [
    "queue = [tree]\n",
    "cur_level = -1\n",
    "counter = 0\n",
    "G = nx.DiGraph()\n",
    "max_level = 0\n",
    "\n",
    "\n",
    "while len(queue) > 0:\n",
    "    node = queue.pop(0)\n",
    "    if node.level > max_level:\n",
    "        max_level = node.level\n",
    "    G.add_node(node.id, level = node.level, st_level = node.st_level, name = node.name, acronym = node.acronym, label = str(node.st_level) + \") \" +node.name)\n",
    "    for brain in quantification_dicts.keys():\n",
    "        G.nodes[node.id][brain + \" axon\"] = 0\n",
    "        G.nodes[node.id][brain + \" total\"] = 0\n",
    "    if node.parent_id is not None:\n",
    "        G.add_edge(node.parent_id, node.id)\n",
    "\n",
    "    queue += node.children\n",
    "\n",
    "i_test = 0\n",
    "print(f\"Max level: {max_level}\")\n",
    "print(G.nodes[997][list(quantification_dicts.keys())[i_test] + \" axon\"])\n",
    "print(G.nodes[997][list(quantification_dicts.keys())[i_test] + \" total\"])\n",
    "for brain,quantification_dict in quantification_dicts.items():\n",
    "    for key in quantification_dict.keys():\n",
    "        if key in G.nodes:\n",
    "            G.nodes[key][brain + \" axon\"] = G.nodes[key][brain + \" axon\"] + quantification_dict[key][0]\n",
    "            G.nodes[key][brain + \" total\"] = G.nodes[key][brain + \" total\"] + quantification_dict[key][1]\n",
    "print(G.nodes[997][list(quantification_dicts.keys())[i_test] + \" axon\"])\n",
    "print(G.nodes[997][list(quantification_dicts.keys())[i_test] + \" total\"])\n",
    "\n",
    "for brain in quantification_dicts.keys():\n",
    "    for lvl in range(max_level, 0, -1):\n",
    "        for node in G.nodes:\n",
    "            if G.nodes[node]['level'] == lvl:\n",
    "                parent = list(G.in_edges(node))[0][0]\n",
    "                G.nodes[parent][brain + \" axon\"] = G.nodes[parent][brain + \" axon\"] + G.nodes[node][brain + \" axon\"]\n",
    "                G.nodes[parent][brain + \" total\"] = G.nodes[parent][brain + \" total\"] + G.nodes[node][brain + \" total\"]\n",
    "print(G.nodes[997][list(quantification_dicts.keys())[i_test] + \" axon\"])\n",
    "print(G.nodes[997][list(quantification_dicts.keys())[i_test] + \" total\"])"
   ]
  },
  {
   "cell_type": "markdown",
   "metadata": {},
   "source": [
    "## pandas + seaborn"
   ]
  },
  {
   "cell_type": "code",
   "execution_count": null,
   "metadata": {},
   "outputs": [],
   "source": [
    "import pandas as pd \n",
    "import seaborn as sns \n",
    "import matplotlib.pyplot as plt \n",
    "import xml.etree.ElementTree as ET"
   ]
  },
  {
   "cell_type": "code",
   "execution_count": null,
   "metadata": {},
   "outputs": [],
   "source": [
    "totals = {}\n",
    "\n",
    "for brain in quantification_dicts.keys():\n",
    "    total = 0\n",
    "    for node in G.nodes:\n",
    "        total += G.nodes[node][brain + \" axon\"]\n",
    "    totals[brain] = total\n",
    "\n",
    "axon_vols = []\n",
    "axon_denss = []\n",
    "gene = []\n",
    "subregion_name = []\n",
    "region_name = []\n",
    "for region in regions:\n",
    "    print(f\"Populating: \" + G.nodes[region][\"name\"])\n",
    "    children = list(G.successors(region))\n",
    "    for child in children:\n",
    "        for brain in quantification_dicts.keys():\n",
    "            axon_vols.append(G.nodes[child][brain + \" axon\"]/totals[brain]*100)\n",
    "            if G.nodes[child][brain + \" total\"] == 0 and G.nodes[child][brain + \" axon\"] == 0:\n",
    "                axon_denss.append(0)\n",
    "            elif G.nodes[child][brain + \" total\"] == 0:\n",
    "                raise ValueError(\"positive axon volume in zero volume region?\")\n",
    "            else:\n",
    "                axon_denss.append(G.nodes[child][brain + \" axon\"]/G.nodes[child][brain + \" total\"]*100)\n",
    "\n",
    "            if brain in [\"3\" or \"4\"]:\n",
    "                gene.append(\"sert cre\")\n",
    "            subregion_name.append(G.nodes[child][\"name\"])\n",
    "            region_name.append(G.nodes[region][\"name\"])\n",
    "\n",
    "d = {\"Percent Axon Volume (%)\": axon_vols, \"Axon Density (%)\": axon_denss, \"Gene\": gene, \"Subregion\": subregion_name, \"Region\": region_name}\n",
    "df = pd.DataFrame(data = d)\n"
   ]
  },
  {
   "cell_type": "code",
   "execution_count": null,
   "metadata": {},
   "outputs": [],
   "source": [
    "fig, axes = plt.subplots(1, 2, figsize=(20, 10))\n",
    "fig.suptitle('Detected Output Axons')\n",
    "\n",
    "sns.barplot(ax = axes[0], x = \"Percent Axon Volume (%)\", y = \"Subregion\",  hue= \"Gene\", data=df)\n",
    "axes[0].set_title(\"Distribution of Volume\")\n",
    "\n",
    "sns.barplot(ax = axes[1], x = \"Axon Density (%)\", y = \"Subregion\",  hue= \"Gene\", data=df)\n",
    "axes[1].set_title(\"Density\")\n",
    "\n",
    "fig.tight_layout()"
   ]
  },
  {
   "cell_type": "markdown",
   "metadata": {},
   "source": [
    "## Compare to Allen"
   ]
  },
  {
   "cell_type": "markdown",
   "metadata": {},
   "source": [
    "### Region"
   ]
  },
  {
   "cell_type": "code",
   "execution_count": null,
   "metadata": {},
   "outputs": [],
   "source": [
    "totals = {}\n",
    "\n",
    "for brain in quantification_dicts.keys():\n",
    "    total = 0\n",
    "    for node in G.nodes:\n",
    "        total += G.nodes[node][brain + \" axon\"]\n",
    "    totals[brain] = total\n",
    "\n",
    "axon_denss = []\n",
    "gene = []\n",
    "subregion_name = []\n",
    "region_name = []\n",
    "subregions_list = []\n",
    "for region in allen_regions:\n",
    "    print(f\"Populating: \" + G.nodes[region][\"name\"])\n",
    "    children = list(G.successors(region))\n",
    "    for child in children:\n",
    "        if child not in subregions_list:\n",
    "            subregions_list.append(child)\n",
    "\n",
    "\n",
    "        for brain in quantification_dicts.keys():\n",
    "            if G.nodes[child][brain + \" total\"] == 0 and G.nodes[child][brain + \" axon\"] == 0:\n",
    "                axon_denss.append(0)\n",
    "            elif G.nodes[child][brain + \" total\"] == 0:\n",
    "                raise ValueError(\"positive axon volume in zero volume region?\")\n",
    "            else:\n",
    "                axon_denss.append(G.nodes[child][brain + \" axon\"]/G.nodes[child][brain + \" total\"])\n",
    "\n",
    "            if brain in [\"3\", \"4\"]:\n",
    "                gene.append(brain)\n",
    "            subregion_name.append(G.nodes[child][\"name\"])\n",
    "\n",
    "        \n",
    "    region_name.append(G.nodes[region][\"name\"])\n",
    "\n",
    "tree = ET.parse('/Users/thomasathey/Documents/mimlab/mouselight/brainlit_parent/brainlit/experiments/deisseroth/sert_exp.xml')\n",
    "root = tree.getroot()\n",
    "root.tag\n",
    "for child in root:\n",
    "    for i, entry in enumerate(child):\n",
    "        for item in entry:\n",
    "            if item.tag == \"structure-id\":\n",
    "                region = int(item.text)\n",
    "            elif item.tag == \"hemisphere-id\":\n",
    "                hemi = int(item.text)\n",
    "            elif item.tag == \"is-injection\":\n",
    "                inject = item.text\n",
    "            elif item.tag == \"projection-density\":\n",
    "                density = float(item.text)\n",
    "        if region in subregions_list and hemi == 3 and inject == \"false\":\n",
    "            name = G.nodes[region][\"name\"]\n",
    "            print(f\"id: {region} hemi: {hemi}, density: {density}, name: {name}\")\n",
    "            subregion_name.append(name)\n",
    "            gene.append(\"Allen\")\n",
    "            axon_denss.append(density)\n",
    "\n",
    "\n",
    "\n",
    "d = {\"Axon Density\": axon_denss, \"Gene\": gene, \"Subregion\": subregion_name}\n",
    "df = pd.DataFrame(data = d)\n"
   ]
  },
  {
   "cell_type": "code",
   "execution_count": null,
   "metadata": {},
   "outputs": [],
   "source": [
    "fig, axes = plt.subplots(1, 1, figsize=(20, 10))\n",
    "fig.suptitle('Detected Output Axons')\n",
    "\n",
    "sns.barplot(x = \"Axon Density\", y = \"Subregion\",  hue= \"Gene\", data=df)\n",
    "axes.set_title(\"Density\")\n",
    "\n",
    "fig.tight_layout()"
   ]
  },
  {
   "cell_type": "markdown",
   "metadata": {},
   "source": [
    "### Region"
   ]
  },
  {
   "cell_type": "code",
   "execution_count": null,
   "metadata": {},
   "outputs": [],
   "source": [
    "totals = {}\n",
    "\n",
    "for brain in quantification_dicts.keys():\n",
    "    total = 0\n",
    "    for node in G.nodes:\n",
    "        total += G.nodes[node][brain + \" axon\"]\n",
    "    totals[brain] = total\n",
    "\n",
    "axon_denss = []\n",
    "gene = []\n",
    "region_name = []\n",
    "for region in allen_regions:\n",
    "    print(f\"Populating: \" + G.nodes[region][\"name\"])\n",
    "    for brain in quantification_dicts.keys():\n",
    "        if G.nodes[region][brain + \" total\"] == 0 and G.nodes[region][brain + \" axon\"] == 0:\n",
    "            axon_denss.append(0)\n",
    "        elif G.nodes[region][brain + \" total\"] == 0:\n",
    "            raise ValueError(\"positive axon volume in zero volume region?\")\n",
    "        else:\n",
    "            axon_denss.append(G.nodes[region][brain + \" axon\"]/G.nodes[region][brain + \" total\"])\n",
    "\n",
    "\n",
    "        if brain in [\"3\", \"4\"]:\n",
    "            gene.append(brain)\n",
    "        \n",
    "        region_name.append(G.nodes[region][\"name\"])\n",
    "\n",
    "tree = ET.parse('/Users/thomasathey/Documents/mimlab/mouselight/brainlit_parent/brainlit/experiments/deisseroth/sert_exp.xml')\n",
    "root = tree.getroot()\n",
    "root.tag\n",
    "for child in root:\n",
    "    for i, entry in enumerate(child):\n",
    "        for item in entry:\n",
    "            if item.tag == \"structure-id\":\n",
    "                region = int(item.text)\n",
    "            elif item.tag == \"hemisphere-id\":\n",
    "                hemi = int(item.text)\n",
    "            elif item.tag == \"is-injection\":\n",
    "                inject = item.text\n",
    "            elif item.tag == \"projection-density\":\n",
    "                density = float(item.text)\n",
    "        if region in allen_regions and hemi == 3 and inject == \"false\":\n",
    "            name = G.nodes[region][\"name\"]\n",
    "            print(f\"id: {region} hemi: {hemi}, density: {density}, name: {name}\")\n",
    "            region_name.append(name)\n",
    "            gene.append(\"Allen\")\n",
    "            axon_denss.append(density)\n",
    "\n",
    "\n",
    "\n",
    "d = {\"Axon Density\": axon_denss, \"Gene\": gene, \"Region\": region_name}\n",
    "df = pd.DataFrame(data = d)\n"
   ]
  },
  {
   "cell_type": "code",
   "execution_count": null,
   "metadata": {},
   "outputs": [],
   "source": [
    "fig, axes = plt.subplots(1, 1, figsize=(20, 10))\n",
    "fig.suptitle('Detected Output Axons')\n",
    "\n",
    "sns.barplot(x = \"Axon Density\", y = \"Region\",  hue= \"Gene\", order = list(df[df[\"Gene\"] == \"Allen\"].sort_values('Axon Density', ascending=False).loc[:,'Region']), data=df)\n",
    "axes.set_title(\"Density\")\n",
    "\n",
    "fig.tight_layout()"
   ]
  }
 ],
 "metadata": {
  "interpreter": {
   "hash": "5dc00d68ff54f8375e99934614da4863299fb9e10af4294c095b7f517546ff26"
  },
  "kernelspec": {
   "display_name": "Python 3.8.10 64-bit ('docs_env': venv)",
   "name": "python3"
  },
  "language_info": {
   "codemirror_mode": {
    "name": "ipython",
    "version": 3
   },
   "file_extension": ".py",
   "mimetype": "text/x-python",
   "name": "python",
   "nbconvert_exporter": "python",
   "pygments_lexer": "ipython3",
   "version": "3.8.10"
  },
  "metadata": {
   "interpreter": {
    "hash": "31f2aee4e71d21fbe5cf8b01ff0e069b9275f58929596ceb00d14d90e3e16cd6"
   }
  }
 },
 "nbformat": 4,
 "nbformat_minor": 2
}
