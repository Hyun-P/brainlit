{
 "cells": [
  {
   "cell_type": "code",
   "execution_count": 1,
   "metadata": {},
   "outputs": [
    {
     "name": "stderr",
     "output_type": "stream",
     "text": [
      "/Users/thomasathey/Documents/mimlab/mouselight/docs_env/lib/python3.8/site-packages/nilearn/datasets/__init__.py:86: FutureWarning: Fetchers from the nilearn.datasets module will be updated in version 0.9 to return python strings instead of bytes and Pandas dataframes instead of Numpy arrays.\n",
      "  warn(\"Fetchers from the nilearn.datasets module will be \"\n"
     ]
    },
    {
     "name": "stdout",
     "output_type": "stream",
     "text": [
      "embedWindow(verbose=True): could not load ipyvtk_simple try:\n",
      "> pip install -U git+https://github.com/Kitware/ipyvtk-simple.git\n"
     ]
    }
   ],
   "source": [
    "from cloudvolume import CloudVolume\n",
    "from skimage.transform import downscale_local_mean\n",
    "import napari\n",
    "from skimage import io\n",
    "import random\n",
    "import h5py\n",
    "from skimage import measure\n",
    "from brainlit.preprocessing import removeSmallCCs\n",
    "import numpy as np\n",
    "import matplotlib.pyplot as plt\n",
    "import subprocess\n",
    "import tables\n",
    "from napari_animation import AnimationWidget\n",
    "from tqdm import tqdm\n",
    "import pickle\n",
    "from parse_ara import *\n",
    "import networkx as nx\n",
    "import seaborn as sns\n",
    "import pandas as pd\n",
    "import brainrender\n",
    "import scipy.ndimage as ndi\n",
    "from skimage.morphology import skeletonize\n",
    "from os import listdir\n",
    "from os.path import isfile, join\n",
    "from soma_rabies_somadetector_data import brain2paths, brain2centers\n",
    "from util import json_to_points\n",
    "\n",
    "%gui qt5"
   ]
  },
  {
   "cell_type": "code",
   "execution_count": 2,
   "metadata": {},
   "outputs": [
    {
     "name": "stdout",
     "output_type": "stream",
     "text": [
      "(5621, 7366, 3900, 1)\n",
      "(5621, 7366, 3900, 1)\n",
      "(5621, 7366, 3900, 1)\n",
      "13 points in soma_val layer\n",
      "15 points in nonsoma_val layer\n",
      "13 soma centers\n",
      "15 nonsoma centers\n"
     ]
    }
   ],
   "source": [
    "brain = \"8529\"\n",
    "channel = \"3channel\"\n",
    "dir = brain2paths[brain][\"ab\"]\n",
    "vol_fg = CloudVolume(dir, parallel=1, mip=0, fill_missing=False)\n",
    "print(vol_fg.shape)\n",
    "dir = brain2paths[brain][\"bg\"]\n",
    "vol_bg = CloudVolume(dir, parallel=1, mip=0, fill_missing=False)\n",
    "print(vol_bg.shape)\n",
    "dir = brain2paths[brain][\"endo\"]\n",
    "vol_endo = CloudVolume(dir, parallel=1, mip=0, fill_missing=False)\n",
    "print(vol_endo.shape)\n",
    "\n",
    "if \"vizlink\" in brain2paths[brain]:\n",
    "    url = brain2paths[brain][\"vizlink\"]\n",
    "    dict = json_to_points(url)\n",
    "    soma_centers = dict[\"soma_val\"]\n",
    "    nonsoma_centers = dict[\"nonsoma_val\"]\n",
    "elif brain in brain2centers.keys():\n",
    "    soma_centers = brain2centers[brain][0][0]\n",
    "    nonsoma_centers = brain2centers[brain][1][0]\n",
    "else:\n",
    "    print(\"No training/validation points\")\n",
    "\n",
    "print(f\"{len(soma_centers)} soma centers\")\n",
    "print(f\"{len(nonsoma_centers)} nonsoma centers\")"
   ]
  },
  {
   "cell_type": "markdown",
   "metadata": {},
   "source": [
    "## Examine Image"
   ]
  },
  {
   "cell_type": "code",
   "execution_count": null,
   "metadata": {},
   "outputs": [],
   "source": [
    "viewer = napari.Viewer(ndisplay=3)\n",
    "viewer.add_image(new_array, scale=scale)\n",
    "viewer.scale_bar.visible = True\n",
    "viewer.scale_bar.unit = \"um\""
   ]
  },
  {
   "cell_type": "markdown",
   "metadata": {},
   "source": [
    "## Save images"
   ]
  },
  {
   "cell_type": "code",
   "execution_count": null,
   "metadata": {},
   "outputs": [],
   "source": [
    "dset_name = \"test\"\n",
    "\n",
    "type = \"pos\"\n",
    "for i, center in enumerate(soma_centers):\n",
    "    print(f\"Saving center: {center}\")\n",
    "    image_fg = vol_fg[\n",
    "        center[0] - 24 : center[0] + 25,\n",
    "        center[1] - 24 : center[1] + 25,\n",
    "        center[2] - 24 : center[2] + 25,\n",
    "    ]\n",
    "    image_fg = image_fg[:, :, :, 0]\n",
    "    image_bg = vol_bg[\n",
    "        center[0] - 24 : center[0] + 25,\n",
    "        center[1] - 24 : center[1] + 25,\n",
    "        center[2] - 24 : center[2] + 25,\n",
    "    ]\n",
    "    image_bg = image_bg[:, :, :, 0]\n",
    "    image_endo = vol_endo[\n",
    "        center[0] - 24 : center[0] + 25,\n",
    "        center[1] - 24 : center[1] + 25,\n",
    "        center[2] - 24 : center[2] + 25,\n",
    "    ]\n",
    "    image_endo = image_endo[:, :, :, 0]\n",
    "\n",
    "    image = np.squeeze(np.stack([image_fg, image_bg, image_endo], axis=0))\n",
    "\n",
    "    fname = f\"/Users/thomasathey/Documents/mimlab/mouselight/ailey/detection_soma/brain{brain}/{channel}/{dset_name}/{int(center[0])}_{int(center[1])}_{int(center[2])}_{type}.h5\"\n",
    "    with h5py.File(fname, \"w\") as f:\n",
    "        dset = f.create_dataset(\"image_3channel\", data=image)\n",
    "\n",
    "\n",
    "type = \"neg\"\n",
    "for i, center in enumerate(nonsoma_centers):\n",
    "    image_fg = vol_fg[\n",
    "        center[0] - 24 : center[0] + 25,\n",
    "        center[1] - 24 : center[1] + 25,\n",
    "        center[2] - 24 : center[2] + 25,\n",
    "    ]\n",
    "    image_fg = image_fg[:, :, :, 0]\n",
    "    image_bg = vol_bg[\n",
    "        center[0] - 24 : center[0] + 25,\n",
    "        center[1] - 24 : center[1] + 25,\n",
    "        center[2] - 24 : center[2] + 25,\n",
    "    ]\n",
    "    image_bg = image_bg[:, :, :, 0]\n",
    "    image_endo = vol_endo[\n",
    "        center[0] - 24 : center[0] + 25,\n",
    "        center[1] - 24 : center[1] + 25,\n",
    "        center[2] - 24 : center[2] + 25,\n",
    "    ]\n",
    "    image_endo = image_endo[:, :, :, 0]\n",
    "\n",
    "    image = np.squeeze(np.stack([image_fg, image_bg, image_endo], axis=0))\n",
    "\n",
    "    fname = f\"/Users/thomasathey/Documents/mimlab/mouselight/ailey/detection_soma/brain{brain}/{channel}/{dset_name}/{int(center[0])}_{int(center[1])}_{int(center[2])}_{type}.h5\"\n",
    "    with h5py.File(fname, \"w\") as f:\n",
    "        dset = f.create_dataset(\"image_3channel\", data=image)"
   ]
  },
  {
   "cell_type": "markdown",
   "metadata": {},
   "source": [
    "## Doubles"
   ]
  },
  {
   "cell_type": "code",
   "execution_count": 3,
   "metadata": {},
   "outputs": [],
   "source": [
    "doubles = [\"3972_1636_1575_pos_Probabilities.h5\", \"2867_4336_1296_pos_Probabilities.h5\", \"2607_1845_1309_pos_Probabilities.h5\"]"
   ]
  },
  {
   "cell_type": "markdown",
   "metadata": {},
   "source": [
    "## Evaluate performance"
   ]
  },
  {
   "cell_type": "code",
   "execution_count": 7,
   "metadata": {},
   "outputs": [
    {
     "name": "stdout",
     "output_type": "stream",
     "text": [
      "['4034_2921_1711_neg_Probabilities.h5', '2607_1845_1309_pos_Probabilities.h5', '2244_1696_1298_pos_Probabilities.h5', '2529_1909_1309_pos_Probabilities.h5', '1240_6105_1711_neg_Probabilities.h5', '3462_1078_983_neg_Probabilities.h5', '2095_1826_1322_neg_Probabilities.h5', '2148_1844_1321_neg_Probabilities.h5', '2247_2163_1314_neg_Probabilities.h5', '2688_2104_1315_neg_Probabilities.h5', '2097_1932_1322_neg_Probabilities.h5', '2317_1938_1330_pos_Probabilities.h5', '2138_1585_1315_pos_Probabilities.h5', '2511_1947_1338_pos_Probabilities.h5', '2157_1662_1321_neg_Probabilities.h5', '2293_3880_1013_neg_Probabilities.h5', '2606_2158_1317_neg_Probabilities.h5', '3432_1038_1264_neg_Probabilities.h5', '3665_3203_1013_neg_Probabilities.h5', '2802_1529_1813_pos_Probabilities.h5', '2571_1976_1347_pos_Probabilities.h5', '2020_2140_1271_neg_Probabilities.h5', '2317_1816_1405_pos_Probabilities.h5', '2658_2207_1300_neg_Probabilities.h5', '1988_2408_1929_pos_Probabilities.h5', '2773_1874_1309_neg_Probabilities.h5', '2465_1964_1339_pos_Probabilities.h5', '2239_1923_1397_pos_Probabilities.h5']\n",
      "threshold: 0.0: precision: 0.16049382716049382, recall: 1.0, f-score: 0.276595744680851 for 13 positive samples in 28 images\n",
      "threshold: 0.02: precision: 0.5, recall: 1.0, f-score: 0.6666666666666666 for 13 positive samples in 28 images\n",
      "threshold: 0.04: precision: 0.5909090909090909, recall: 1.0, f-score: 0.7428571428571429 for 13 positive samples in 28 images\n",
      "threshold: 0.06: precision: 0.65, recall: 1.0, f-score: 0.787878787878788 for 13 positive samples in 28 images\n",
      "threshold: 0.08: precision: 0.6190476190476191, recall: 1.0, f-score: 0.7647058823529412 for 13 positive samples in 28 images\n",
      "threshold: 0.1: precision: 0.65, recall: 1.0, f-score: 0.787878787878788 for 13 positive samples in 28 images\n",
      "threshold: 0.12: precision: 0.8125, recall: 1.0, f-score: 0.896551724137931 for 13 positive samples in 28 images\n",
      "threshold: 0.14: precision: 0.7647058823529411, recall: 1.0, f-score: 0.8666666666666666 for 13 positive samples in 28 images\n",
      "threshold: 0.16: precision: 0.7647058823529411, recall: 1.0, f-score: 0.8666666666666666 for 13 positive samples in 28 images\n",
      "threshold: 0.18: precision: 0.8, recall: 0.9230769230769231, f-score: 0.8571428571428571 for 13 positive samples in 28 images\n",
      "threshold: 0.2: precision: 0.8, recall: 0.9230769230769231, f-score: 0.8571428571428571 for 13 positive samples in 28 images\n",
      "threshold: 0.22: precision: 0.8461538461538461, recall: 0.8461538461538461, f-score: 0.8461538461538461 for 13 positive samples in 28 images\n",
      "threshold: 0.24: precision: 0.8461538461538461, recall: 0.8461538461538461, f-score: 0.8461538461538461 for 13 positive samples in 28 images\n",
      "threshold: 0.26: precision: 1.0, recall: 0.8461538461538461, f-score: 0.9166666666666666 for 13 positive samples in 28 images\n",
      "threshold: 0.28: precision: 1.0, recall: 0.8461538461538461, f-score: 0.9166666666666666 for 13 positive samples in 28 images\n",
      "threshold: 0.3: precision: 1.0, recall: 0.8461538461538461, f-score: 0.9166666666666666 for 13 positive samples in 28 images\n",
      "threshold: 0.32: precision: 1.0, recall: 0.7692307692307693, f-score: 0.8695652173913044 for 13 positive samples in 28 images\n",
      "threshold: 0.34: precision: 1.0, recall: 0.7692307692307693, f-score: 0.8695652173913044 for 13 positive samples in 28 images\n",
      "threshold: 0.36: precision: 1.0, recall: 0.7692307692307693, f-score: 0.8695652173913044 for 13 positive samples in 28 images\n",
      "threshold: 0.38: precision: 1.0, recall: 0.7692307692307693, f-score: 0.8695652173913044 for 13 positive samples in 28 images\n",
      "threshold: 0.4: precision: 1.0, recall: 0.6153846153846154, f-score: 0.761904761904762 for 13 positive samples in 28 images\n",
      "threshold: 0.42: precision: 1.0, recall: 0.5384615384615384, f-score: 0.7000000000000001 for 13 positive samples in 28 images\n",
      "threshold: 0.44: precision: 1.0, recall: 0.5384615384615384, f-score: 0.7000000000000001 for 13 positive samples in 28 images\n",
      "threshold: 0.46: precision: 1.0, recall: 0.5384615384615384, f-score: 0.7000000000000001 for 13 positive samples in 28 images\n",
      "threshold: 0.48: precision: 1.0, recall: 0.46153846153846156, f-score: 0.631578947368421 for 13 positive samples in 28 images\n",
      "threshold: 0.5: precision: 1.0, recall: 0.46153846153846156, f-score: 0.631578947368421 for 13 positive samples in 28 images\n",
      "threshold: 0.52: precision: 1.0, recall: 0.38461538461538464, f-score: 0.5555555555555556 for 13 positive samples in 28 images\n",
      "threshold: 0.54: precision: 1.0, recall: 0.3076923076923077, f-score: 0.47058823529411764 for 13 positive samples in 28 images\n",
      "threshold: 0.56: precision: 1.0, recall: 0.3076923076923077, f-score: 0.47058823529411764 for 13 positive samples in 28 images\n",
      "threshold: 0.58: precision: 1.0, recall: 0.3076923076923077, f-score: 0.47058823529411764 for 13 positive samples in 28 images\n",
      "threshold: 0.6: precision: 1.0, recall: 0.15384615384615385, f-score: 0.2666666666666667 for 13 positive samples in 28 images\n",
      "threshold: 0.62: precision: 1.0, recall: 0.15384615384615385, f-score: 0.2666666666666667 for 13 positive samples in 28 images\n",
      "threshold: 0.64: precision: 1.0, recall: 0.15384615384615385, f-score: 0.2666666666666667 for 13 positive samples in 28 images\n",
      "threshold: 0.66: precision: 1.0, recall: 0.15384615384615385, f-score: 0.2666666666666667 for 13 positive samples in 28 images\n",
      "threshold: 0.68: precision: 1.0, recall: 0.15384615384615385, f-score: 0.2666666666666667 for 13 positive samples in 28 images\n",
      "threshold: 0.7000000000000001: precision: 1.0, recall: 0.07692307692307693, f-score: 0.14285714285714288 for 13 positive samples in 28 images\n",
      "threshold: 0.72: precision: 1.0, recall: 0.07692307692307693, f-score: 0.14285714285714288 for 13 positive samples in 28 images\n",
      "threshold: 0.74: precision: 1.0, recall: 0.07692307692307693, f-score: 0.14285714285714288 for 13 positive samples in 28 images\n",
      "threshold: 0.76: precision: 1.0, recall: 0.07692307692307693, f-score: 0.14285714285714288 for 13 positive samples in 28 images\n",
      "threshold: 0.78: precision: 0, recall: 0.0, f-score: 0 for 13 positive samples in 28 images\n",
      "threshold: 0.8: precision: 0, recall: 0.0, f-score: 0 for 13 positive samples in 28 images\n",
      "threshold: 0.8200000000000001: precision: 0, recall: 0.0, f-score: 0 for 13 positive samples in 28 images\n",
      "threshold: 0.84: precision: 0, recall: 0.0, f-score: 0 for 13 positive samples in 28 images\n",
      "threshold: 0.86: precision: 0, recall: 0.0, f-score: 0 for 13 positive samples in 28 images\n",
      "threshold: 0.88: precision: 0, recall: 0.0, f-score: 0 for 13 positive samples in 28 images\n",
      "threshold: 0.9: precision: 0, recall: 0.0, f-score: 0 for 13 positive samples in 28 images\n",
      "threshold: 0.92: precision: 0, recall: 0.0, f-score: 0 for 13 positive samples in 28 images\n",
      "threshold: 0.9400000000000001: precision: 0, recall: 0.0, f-score: 0 for 13 positive samples in 28 images\n",
      "threshold: 0.96: precision: 0, recall: 0.0, f-score: 0 for 13 positive samples in 28 images\n",
      "threshold: 0.98: precision: 0, recall: 0.0, f-score: 0 for 13 positive samples in 28 images\n"
     ]
    },
    {
     "data": {
      "text/html": [
       "<pre style=\"white-space:pre;overflow-x:auto;line-height:normal;font-family:Menlo,'DejaVu Sans Mono',consolas,'Courier New',monospace\"><span style=\"font-weight: bold\">&lt;</span><span style=\"color: #ff00ff; text-decoration-color: #ff00ff; font-weight: bold\">matplotlib.legend.Legend</span><span style=\"color: #000000; text-decoration-color: #000000\"> object at </span><span style=\"color: #008080; text-decoration-color: #008080; font-weight: bold\">0x17d783130</span><span style=\"font-weight: bold\">&gt;</span>\n",
       "</pre>\n"
      ],
      "text/plain": [
       "\u001b[1m<\u001b[0m\u001b[1;95mmatplotlib.legend.Legend\u001b[0m\u001b[39m object at \u001b[0m\u001b[1;36m0x17d783130\u001b[0m\u001b[1m>\u001b[0m\n"
      ]
     },
     "metadata": {},
     "output_type": "display_data"
    },
    {
     "data": {
      "image/png": "[encoded data removed]"
     },
     "metadata": {},
     "output_type": "display_data"
    }
   ],
   "source": [
    "recalls = []\n",
    "precisions = []\n",
    "\n",
    "files_dir = f\"/Users/thomasathey/Documents/mimlab/mouselight/ailey/detection_soma/brain{brain}/{channel}/test/\"\n",
    "onlyfiles = [f for f in listdir(files_dir) if isfile(join(files_dir, f))]\n",
    "# test_files = [f for f in onlyfiles if f[:4] == \"test\"]\n",
    "test_files = [f for f in onlyfiles if \"Probabilities\" in f]  # \"probabilities\"\n",
    "print(test_files)\n",
    "\n",
    "size_thresh = 500\n",
    "\n",
    "thresholds = list(np.arange(0.0, 1.0, 0.02))\n",
    "\n",
    "for threshold in thresholds:\n",
    "    tot_pos = 0\n",
    "    true_pos = 0\n",
    "    false_pos = 0\n",
    "    for filename in tqdm(test_files, disable=True):\n",
    "        if filename in doubles:\n",
    "            newpos = 2\n",
    "        else:\n",
    "            newpos = 1\n",
    "\n",
    "        fname = files_dir + filename\n",
    "        f = h5py.File(fname, \"r\")\n",
    "        pred = f.get(\"exported_data\")\n",
    "        pred = pred[0, :, :, :]\n",
    "        mask = pred > threshold\n",
    "        labels = measure.label(mask)\n",
    "        props = measure.regionprops(labels)\n",
    "\n",
    "        if \"pos\" in filename:\n",
    "            num_detected = 0\n",
    "            tot_pos += newpos\n",
    "            for prop in props:\n",
    "                if prop[\"area\"] > size_thresh:\n",
    "                    if num_detected < newpos:\n",
    "                        true_pos += 1\n",
    "                        num_detected += 1\n",
    "                    else:\n",
    "                        false_pos += 1\n",
    "        elif \"neg\" in filename:\n",
    "            for prop in props:\n",
    "                if prop[\"area\"] > size_thresh:\n",
    "                    false_pos += 1\n",
    "\n",
    "    recall = true_pos / tot_pos\n",
    "    recalls.append(recall)\n",
    "    if true_pos + false_pos == 0:\n",
    "        precision = 0\n",
    "    else:\n",
    "        precision = true_pos / (true_pos + false_pos)\n",
    "    precisions.append(precision)\n",
    "    if precision == 0 and recall == 0:\n",
    "        fscore = 0\n",
    "    else:\n",
    "        fscore = 2 * precision * recall / (precision + recall)\n",
    "    print(\n",
    "        f\"threshold: {threshold}: precision: {precision}, recall: {recall}, f-score: {fscore} for {tot_pos} positive samples in {len(test_files)} images\"\n",
    "    )\n",
    "\n",
    "fscores = [\n",
    "    2 * precision * recall / (precision + recall)\n",
    "    if (precision != 0 and recall != 0)\n",
    "    else 0\n",
    "    for precision, recall in zip(precisions, recalls)\n",
    "]\n",
    "dict = {\n",
    "    \"Recall\": recalls,\n",
    "    \"Precision\": precisions,\n",
    "    \"F-score\": fscores,\n",
    "    \"Threshold\": thresholds,\n",
    "}\n",
    "df = pd.DataFrame(dict)\n",
    "max_fscore = df[\"F-score\"].max()\n",
    "best_threshold = float(df.loc[df[\"F-score\"] == max_fscore][\"Threshold\"].iloc[0])\n",
    "best_rec = float(df.loc[df[\"F-score\"] == max_fscore][\"Recall\"].iloc[0])\n",
    "best_prec = float(df.loc[df[\"F-score\"] == max_fscore][\"Precision\"].iloc[0])\n",
    "sns.set(font_scale=2)\n",
    "\n",
    "plt.figure(figsize=(8, 8))\n",
    "sns.lineplot(data=df, x=\"Recall\", y=\"Precision\", estimator=np.amax, ci=False)\n",
    "plt.scatter(\n",
    "    best_rec,\n",
    "    best_prec,\n",
    "    c=\"r\",\n",
    "    label=f\"Max f-score: {max_fscore:.2f} thresh:{best_threshold:.2f}\",\n",
    ")\n",
    "plt.xlim([0, 1.1])\n",
    "plt.ylim([0, 1.1])\n",
    "plt.title(f\"Brain {brain} Validation: {tot_pos}+ {len(nonsoma_centers)}-\")\n",
    "plt.legend()"
   ]
  },
  {
   "cell_type": "markdown",
   "metadata": {},
   "source": [
    "## All validation for paper"
   ]
  },
  {
   "cell_type": "code",
   "execution_count": 8,
   "metadata": {},
   "outputs": [
    {
     "name": "stdout",
     "output_type": "stream",
     "text": [
      "['2260_3006_1211_pos_Probabilities.h5', '3005_3506_1550_neg_Probabilities.h5', '1970_2762_1783_pos_Probabilities.h5', '2207_2611_1530_pos_Probabilities.h5', '1830_3484_708_pos_Probabilities.h5', '1854_3435_707_pos_Probabilities.h5', '1580_2845_1371_pos_Probabilities.h5', '757_5052_1364_neg_Probabilities.h5', '1956_2558_1524_pos_Probabilities.h5', '2091_2580_1613_pos_Probabilities.h5', '1680_2866_1531_pos_Probabilities.h5', '1758_2692_1914_pos_Probabilities.h5', '2433_2691_1217_pos_Probabilities.h5', '3086_4087_1875_neg_Probabilities.h5', '1102_1870_1854_neg_Probabilities.h5', '2150_5722_1364_neg_Probabilities.h5', '1972_2370_1661_pos_Probabilities.h5', '1847_3412_1539_pos_Probabilities.h5', '2897_3204_1300_neg_Probabilities.h5', '1359_782_2442_neg_Probabilities.h5', '2055_2577_1609_pos_Probabilities.h5', '1945_2710_1345_pos_Probabilities.h5', '1650_2605_1644_pos_Probabilities.h5', '3049_5896_1018_pos_Probabilities.h5', '1654_2980_1376_pos_Probabilities.h5', '1714_2647_1904_pos_Probabilities.h5', '1785_2738_1374_pos_Probabilities.h5', '2183_2695_1537_pos_Probabilities.h5', '3214_5058_1903_pos_Probabilities.h5', '1531_2859_1584_pos_Probabilities.h5', '1960_2679_1528_pos_Probabilities.h5', '1883_2400_1642_pos_Probabilities.h5', '2652_5673_786_pos_Probabilities.h5', '1820_4988_799_neg_Probabilities.h5', '2262_5039_1647_pos_Probabilities.h5', '1632_2872_1528_pos_Probabilities.h5', '1767_2664_1898_pos_Probabilities.h5', '785_2881_1418_pos_Probabilities.h5', '1894_2491_1619_pos_Probabilities.h5', '1907_2203_1768_pos_Probabilities.h5', '1854_2653_1530_pos_Probabilities.h5', '3545_5263_1387_neg_Probabilities.h5', '2274_2496_1660_pos_Probabilities.h5', '1647_2444_1926_pos_Probabilities.h5', '3918_5896_796_neg_Probabilities.h5', '1582_2859_1598_pos_Probabilities.h5', '2822_5940_870_pos_Probabilities.h5', '2036_2621_1764_pos_Probabilities.h5', '2535_2914_1531_pos_Probabilities.h5', '1855_2652_1537_pos_Probabilities.h5', '3243_4821_1903_pos_Probabilities.h5', '1659_2911_1526_pos_Probabilities.h5', '1411_4952_1653_pos_Probabilities.h5', '2568_4020_1544_pos_Probabilities.h5', '2303_2849_749_pos_Probabilities.h5', '3654_4952_1387_neg_Probabilities.h5', '1499_2925_1374_pos_Probabilities.h5', '3852_5670_1325_pos_Probabilities.h5', '1520_2948_1763_pos_Probabilities.h5', '1883_2400_1659_pos_Probabilities.h5', '1567_2865_1543_pos_Probabilities.h5', '1749_2913_1531_pos_Probabilities.h5', '2999_4204_1639_pos_Probabilities.h5', '3000_1582_1324_neg_Probabilities.h5', '1743_2824_1373_neg_Probabilities.h5', '2318_2721_1217_pos_Probabilities.h5', '2010_2836_1535_pos_Probabilities.h5', '3200_5456_1322_pos_Probabilities.h5', '2063_2899_1208_pos_Probabilities.h5', '1991_2661_1608_pos_Probabilities.h5', '2422_5315_1702_neg_Probabilities.h5', '2636_2863_956_pos_Probabilities.h5', '3482_4189_1496_neg_Probabilities.h5', '3077_4926_1903_pos_Probabilities.h5', '2075_2779_1755_pos_Probabilities.h5', '1780_2691_1536_pos_Probabilities.h5', '2617_3935_1544_pos_Probabilities.h5', '1981_2693_1608_pos_Probabilities.h5', '2288_2662_1218_pos_Probabilities.h5', '2039_2760_1369_pos_Probabilities.h5', '1440_2903_1373_pos_Probabilities.h5', '1936_2587_1909_pos_Probabilities.h5', '2158_2810_1759_pos_Probabilities.h5', '3124_3648_1415_pos_Probabilities.h5', '2655_2438_1521_neg_Probabilities.h5', '2051_2541_1522_pos_Probabilities.h5', '1897_2672_1529_pos_Probabilities.h5', '2066_2855_1214_pos_Probabilities.h5']\n",
      "['3237_5790_1859_pos_Probabilities.h5', '4116_4527_1725_neg_Probabilities.h5', '1991_2464_2106_pos_Probabilities.h5', '4277_5606_1757_neg_Probabilities.h5', '891_4202_1717_pos_Probabilities.h5', '3190_2247_2101_pos_Probabilities.h5', '2408_703_1708_neg_Probabilities.h5', '5517_3281_1731_neg_Probabilities.h5', '2956_1910_1891_pos_Probabilities.h5', '3208_6492_1802_neg_Probabilities.h5', '4256_5383_1950_pos_Probabilities.h5', '1791_4388_1717_neg_Probabilities.h5', '3121_6361_1692_pos_Probabilities.h5', '5121_3508_1731_neg_Probabilities.h5', '974_3781_1719_neg_Probabilities.h5', '2297_4473_1717_neg_Probabilities.h5', '2692_2204_1892_pos_Probabilities.h5', '2674_877_1708_neg_Probabilities.h5', '3252_2362_2100_pos_Probabilities.h5', '2142_2135_1907_pos_Probabilities.h5']\n",
      "['2224_2264_1454_neg_Probabilities.h5', '2662_1080_1523_pos_Probabilities.h5', '4048_3907_1446_neg_Probabilities.h5', '4029_1626_1579_pos_Probabilities.h5', '1006_1750_1516_neg_Probabilities.h5', '2930_2955_1446_neg_Probabilities.h5', '4195_1115_1501_neg_Probabilities.h5', '1510_3041_1469_pos_Probabilities.h5', '3912_1582_1573_pos_Probabilities.h5', '1351_2902_1471_pos_Probabilities.h5', '2537_1115_1469_pos_Probabilities.h5', '3093_5162_1470_neg_Probabilities.h5', '231_3921_1488_neg_Probabilities.h5', '856_2503_1516_neg_Probabilities.h5', '3815_1166_1501_neg_Probabilities.h5', '2720_1256_1566_pos_Probabilities.h5', '3923_1490_1574_pos_Probabilities.h5', '3485_1350_1576_pos_Probabilities.h5', '3615_1540_1508_neg_Probabilities.h5', '3972_1636_1575_pos_Probabilities.h5']\n",
      "['2737_3002_639_pos_Probabilities.h5', '6257_3174_1096_neg_Probabilities.h5', '2986_2876_1029_pos_Probabilities.h5', '2809_2242_2309_neg_Probabilities.h5', '2164_3570_1963_neg_Probabilities.h5', '2988_1247_1956_pos_Probabilities.h5', '2718_2965_2371_pos_Probabilities.h5', '4611_5815_1735_neg_Probabilities.h5', '4227_5588_2327_neg_Probabilities.h5', '6311_2980_1096_neg_Probabilities.h5', '3962_3051_1042_pos_Probabilities.h5', '3908_2735_1037_pos_Probabilities.h5', '4932_3748_1685_pos_Probabilities.h5', '4454_4850_1678_pos_Probabilities.h5', '3121_4273_1097_neg_Probabilities.h5', '5432_3714_1683_pos_Probabilities.h5', '1749_2626_1683_pos_Probabilities.h5', '2570_2304_2013_pos_Probabilities.h5', '5151_3884_1033_pos_Probabilities.h5', '4476_5957_2326_neg_Probabilities.h5', '2604_4598_2326_neg_Probabilities.h5', '5159_2738_1096_neg_Probabilities.h5', '3819_1290_1963_neg_Probabilities.h5', '1909_2070_1735_neg_Probabilities.h5', '4233_4208_2371_pos_Probabilities.h5', '5310_4433_2309_neg_Probabilities.h5', '1873_2341_2013_pos_Probabilities.h5', '4013_1894_1963_neg_Probabilities.h5', '2252_1806_1735_neg_Probabilities.h5', '5840_4342_1963_pos_Probabilities.h5', '3514_2406_1031_pos_Probabilities.h5', '6389_3160_1978_pos_Probabilities.h5', '4510_4818_1682_pos_Probabilities.h5', '3517_3900_2309_neg_Probabilities.h5', '1793_2164_1740_neg_Probabilities.h5', '2886_3178_1745_neg_Probabilities.h5', '1925_2269_2044_pos_Probabilities.h5', '5201_3563_1687_pos_Probabilities.h5', '5132_1961_2732_neg_Probabilities.h5', '2906_3000_1735_neg_Probabilities.h5']\n",
      "['3075_904_2058_neg_Probabilities.h5', '2959_2644_2128_neg_Probabilities.h5', '2932_2228_2120_neg_Probabilities.h5', '4044_829_468_neg_Probabilities.h5', '2417_2042_2219_pos_Probabilities.h5', '2389_2207_1917_pos_Probabilities.h5', '2839_2324_2173_pos_Probabilities.h5', '3936_4003_2058_neg_Probabilities.h5', '2371_576_1549_neg_Probabilities.h5', '2842_2281_2051_pos_Probabilities.h5', '2477_2063_2018_pos_Probabilities.h5', '4020_564_627_neg_Probabilities.h5', '2271_1903_2058_neg_Probabilities.h5', '2874_1415_2058_neg_Probabilities.h5', '3123_2189_2095_neg_Probabilities.h5', '4184_983_1549_neg_Probabilities.h5', '2678_512_1559_neg_Probabilities.h5', '4104_666_468_neg_Probabilities.h5', '2634_2341_1937_pos_Probabilities.h5', '2770_2278_2087_pos_Probabilities.h5', '2726_2175_1999_pos_Probabilities.h5', '2744_2390_2174_neg_Probabilities.h5', '2568_2182_2079_pos_Probabilities.h5', '4248_1189_1494_neg_Probabilities.h5', '2361_2074_2092_pos_Probabilities.h5', '4142_701_627_neg_Probabilities.h5', '2556_2351_2031_pos_Probabilities.h5', '4259_1383_1494_neg_Probabilities.h5', '2345_2147_1913_pos_Probabilities.h5', '4260_1285_1494_neg_Probabilities.h5', '2407_3854_600_neg_Probabilities.h5', '4561_2324_1501_neg_Probabilities.h5', '2240_2020_2058_neg_Probabilities.h5', '4056_543_468_neg_Probabilities.h5']\n",
      "['2242_794_1378_neg_Probabilities.h5', '2918_4470_1607_pos_Probabilities.h5', '3727_3994_1090_pos_Probabilities.h5', '2730_4357_1618_pos_Probabilities.h5', '2804_4210_1284_pos_Probabilities.h5', '2691_4382_1005_neg_Probabilities.h5', '3813_3924_1097_neg_Probabilities.h5', '2808_4412_1291_pos_Probabilities.h5', '3386_5239_1620_pos_Probabilities.h5', '3106_4036_1287_neg_Probabilities.h5', '3198_4237_1411_pos_Probabilities.h5', '3753_4058_1073_neg_Probabilities.h5', '2765_4288_1271_neg_Probabilities.h5', '2847_4377_1292_pos_Probabilities.h5', '2833_4478_1290_pos_Probabilities.h5', '2684_4303_1032_neg_Probabilities.h5', '2828_4149_1558_pos_Probabilities.h5', '2780_4155_1550_pos_Probabilities.h5', '3106_4182_1594_pos_Probabilities.h5', '2920_4299_1556_pos_Probabilities.h5', '3908_4583_915_neg_Probabilities.h5', '4041_5406_1282_neg_Probabilities.h5', '2867_4336_1296_pos_Probabilities.h5', '1360_3468_1298_neg_Probabilities.h5', '2936_4243_1590_pos_Probabilities.h5', '3801_4597_1004_neg_Probabilities.h5', '3690_2727_1282_neg_Probabilities.h5', '2994_4304_1012_neg_Probabilities.h5']\n",
      "['4054_3613_2690_neg_Probabilities.h5', '3954_2236_1250_pos_Probabilities.h5', '1525_4543_1447_neg_Probabilities.h5', '1004_4485_2164_pos_Probabilities.h5', '3381_965_1447_neg_Probabilities.h5', '4746_3584_1754_neg_Probabilities.h5', '3303_1118_2689_neg_Probabilities.h5', '2438_3430_2766_neg_Probabilities.h5', '1712_5225_2870_neg_Probabilities.h5', '2732_1544_1746_neg_Probabilities.h5', '3779_1885_1244_pos_Probabilities.h5', '1661_2147_1756_neg_Probabilities.h5', '2514_4520_2777_pos_Probabilities.h5', '4126_2404_2872_neg_Probabilities.h5', '1812_3848_2770_pos_Probabilities.h5', '4700_1112_2872_neg_Probabilities.h5', '3607_1835_2740_neg_Probabilities.h5', '3273_3323_2164_pos_Probabilities.h5', '4123_3128_1755_neg_Probabilities.h5', '3189_1891_1278_pos_Probabilities.h5', '4834_3643_1750_pos_Probabilities.h5', '2217_3967_2774_pos_Probabilities.h5', '4165_3075_1547_neg_Probabilities.h5', '1464_5082_2156_pos_Probabilities.h5', '4554_2914_2692_neg_Probabilities.h5', '4532_2989_2870_neg_Probabilities.h5', '2508_4137_2780_pos_Probabilities.h5']\n",
      "['4034_2921_1711_neg_Probabilities.h5', '2607_1845_1309_pos_Probabilities.h5', '2244_1696_1298_pos_Probabilities.h5', '2529_1909_1309_pos_Probabilities.h5', '1240_6105_1711_neg_Probabilities.h5', '3462_1078_983_neg_Probabilities.h5', '2095_1826_1322_neg_Probabilities.h5', '2148_1844_1321_neg_Probabilities.h5', '2247_2163_1314_neg_Probabilities.h5', '2688_2104_1315_neg_Probabilities.h5', '2097_1932_1322_neg_Probabilities.h5', '2317_1938_1330_pos_Probabilities.h5', '2138_1585_1315_pos_Probabilities.h5', '2511_1947_1338_pos_Probabilities.h5', '2157_1662_1321_neg_Probabilities.h5', '2293_3880_1013_neg_Probabilities.h5', '2606_2158_1317_neg_Probabilities.h5', '3432_1038_1264_neg_Probabilities.h5', '3665_3203_1013_neg_Probabilities.h5', '2802_1529_1813_pos_Probabilities.h5', '2571_1976_1347_pos_Probabilities.h5', '2020_2140_1271_neg_Probabilities.h5', '2317_1816_1405_pos_Probabilities.h5', '2658_2207_1300_neg_Probabilities.h5', '1988_2408_1929_pos_Probabilities.h5', '2773_1874_1309_neg_Probabilities.h5', '2465_1964_1339_pos_Probabilities.h5', '2239_1923_1397_pos_Probabilities.h5']\n"
     ]
    },
    {
     "data": {
      "text/html": [
       "<pre style=\"white-space:pre;overflow-x:auto;line-height:normal;font-family:Menlo,'DejaVu Sans Mono',consolas,'Courier New',monospace\"><span style=\"font-weight: bold\">&lt;</span><span style=\"color: #ff00ff; text-decoration-color: #ff00ff; font-weight: bold\">AxesSubplot:</span><span style=\"color: #808000; text-decoration-color: #808000; font-weight: bold\">xlabel</span><span style=\"color: #000000; text-decoration-color: #000000\">=</span><span style=\"color: #008000; text-decoration-color: #008000\">'Recall'</span><span style=\"color: #000000; text-decoration-color: #000000\">, </span><span style=\"color: #808000; text-decoration-color: #808000\">ylabel</span><span style=\"color: #000000; text-decoration-color: #000000\">=</span><span style=\"color: #008000; text-decoration-color: #008000\">'Precision'</span><span style=\"font-weight: bold\">&gt;</span>\n",
       "</pre>\n"
      ],
      "text/plain": [
       "\u001b[1m<\u001b[0m\u001b[1;95mAxesSubplot:\u001b[0m\u001b[1;33mxlabel\u001b[0m\u001b[39m=\u001b[0m\u001b[32m'Recall'\u001b[0m\u001b[39m, \u001b[0m\u001b[33mylabel\u001b[0m\u001b[39m=\u001b[0m\u001b[32m'Precision'\u001b[0m\u001b[1m>\u001b[0m\n"
      ]
     },
     "metadata": {},
     "output_type": "display_data"
    },
    {
     "data": {
      "image/png": "[encoded data removed]"
     },
     "metadata": {},
     "output_type": "display_data"
    }
   ],
   "source": [
    "channel = \"3channel\"\n",
    "brains = [\"r1\", \"r2\", \"8607\", \"8606\", \"8477\", \"8531\", \"8608\", \"8529\"]\n",
    "\n",
    "recalls = []\n",
    "precisions = []\n",
    "brain_ids = []\n",
    "\n",
    "best_precisions = []\n",
    "best_recalls = []\n",
    "best_fscores = {}\n",
    "\n",
    "for brain in brains:\n",
    "\n",
    "    files_dir = f\"/Users/thomasathey/Documents/mimlab/mouselight/ailey/detection_soma/brain{brain}/{channel}/test/\"\n",
    "    onlyfiles = [f for f in listdir(files_dir) if isfile(join(files_dir, f))]\n",
    "    # test_files = [f for f in onlyfiles if f[:4] == \"test\"]\n",
    "    test_files = [f for f in onlyfiles if \"Probabilities\" in f]  # \"probabilities\"\n",
    "    print(test_files)\n",
    "\n",
    "    best_fscore = 0\n",
    "\n",
    "    size_thresh = 500\n",
    "\n",
    "    thresholds = list(np.arange(0.0, 1.0, 0.02))\n",
    "\n",
    "    for threshold in thresholds:\n",
    "        tot_pos = 0\n",
    "        true_pos = 0\n",
    "        false_pos = 0\n",
    "        for filename in tqdm(test_files, disable=True):\n",
    "            if filename in doubles:\n",
    "                newpos = 2\n",
    "            else:\n",
    "                newpos = 1\n",
    "\n",
    "            fname = files_dir + filename\n",
    "            f = h5py.File(fname, \"r\")\n",
    "            pred = f.get(\"exported_data\")\n",
    "            pred = pred[0, :, :, :]\n",
    "            mask = pred > threshold\n",
    "            labels = measure.label(mask)\n",
    "            props = measure.regionprops(labels)\n",
    "\n",
    "            if \"pos\" in filename:\n",
    "                num_detected = 0\n",
    "                tot_pos += newpos\n",
    "                for prop in props:\n",
    "                    if prop[\"area\"] > size_thresh:\n",
    "                        if num_detected < newpos:\n",
    "                            true_pos += 1\n",
    "                            num_detected += 1\n",
    "                        else:\n",
    "                            false_pos += 1\n",
    "            elif \"neg\" in filename:\n",
    "                for prop in props:\n",
    "                    if prop[\"area\"] > size_thresh:\n",
    "                        false_pos += 1\n",
    "\n",
    "        recall = true_pos / tot_pos\n",
    "        recalls.append(recall)\n",
    "        if true_pos + false_pos == 0:\n",
    "            precision = 1\n",
    "        else:\n",
    "            precision = true_pos / (true_pos + false_pos)\n",
    "\n",
    "        precisions.append(precision)\n",
    "        if precision == 0 and recall == 0:\n",
    "            fscore = 0\n",
    "        else:\n",
    "            fscore = 2 * precision * recall / (precision + recall)\n",
    "\n",
    "        if fscore > best_fscore:\n",
    "            best_fscore = fscore\n",
    "            best_prec = precision\n",
    "            best_recall = recall\n",
    "\n",
    "        brain_ids.append(brain)\n",
    "    best_fscores[brain] = best_fscore\n",
    "    best_precisions.append(best_prec)\n",
    "    best_recalls.append(best_recall)\n",
    "\n",
    "\n",
    "for i, brain_id in enumerate(brain_ids):\n",
    "    brain_ids[i] = brain_id + f\" - Max F-score: {best_fscores[brain_id]:.2f}\"\n",
    "\n",
    "data = {\"Sample\": brain_ids, \"Recall\": recalls, \"Precision\": precisions}\n",
    "df = pd.DataFrame(data=data)\n",
    "\n",
    "sns.set(rc={\"figure.figsize\": (10, 7)})\n",
    "sns.set(font_scale=2)\n",
    "sns.lineplot(data=df, x=\"Recall\", y=\"Precision\", hue=\"Sample\", estimator=\"max\", ci=None)\n",
    "sns.scatterplot(x=best_recalls, y=best_precisions)"
   ]
  },
  {
   "cell_type": "markdown",
   "metadata": {},
   "source": [
    "## Examine best threshld"
   ]
  },
  {
   "cell_type": "code",
   "execution_count": 6,
   "metadata": {},
   "outputs": [
    {
     "name": "stdout",
     "output_type": "stream",
     "text": [
      "*************File: 4034_2921_1711_neg_Probabilities.h5*********\n",
      "*************File: 2607_1845_1309_pos_Probabilities.h5*********\n",
      "area of detected object: 838\n",
      "area of detected object: 685\n",
      "*************File: 2244_1696_1298_pos_Probabilities.h5*********\n",
      "area of detected object: 2466\n",
      "*************File: 2529_1909_1309_pos_Probabilities.h5*********\n",
      "area of detected object: 1053\n",
      "*************File: 1240_6105_1711_neg_Probabilities.h5*********\n",
      "*************File: 3462_1078_983_neg_Probabilities.h5*********\n",
      "*************File: 2095_1826_1322_neg_Probabilities.h5*********\n",
      "*************File: 2148_1844_1321_neg_Probabilities.h5*********\n",
      "*************File: 2247_2163_1314_neg_Probabilities.h5*********\n",
      "*************File: 2688_2104_1315_neg_Probabilities.h5*********\n",
      "*************File: 2097_1932_1322_neg_Probabilities.h5*********\n",
      "*************File: 2317_1938_1330_pos_Probabilities.h5*********\n",
      "area of detected object: 1206\n",
      "*************File: 2138_1585_1315_pos_Probabilities.h5*********\n",
      "Soma false negative\n",
      "*************File: 2511_1947_1338_pos_Probabilities.h5*********\n",
      "area of detected object: 4639\n",
      "*************File: 2157_1662_1321_neg_Probabilities.h5*********\n",
      "*************File: 2293_3880_1013_neg_Probabilities.h5*********\n",
      "*************File: 2606_2158_1317_neg_Probabilities.h5*********\n",
      "*************File: 3432_1038_1264_neg_Probabilities.h5*********\n",
      "*************File: 3665_3203_1013_neg_Probabilities.h5*********\n",
      "*************File: 2802_1529_1813_pos_Probabilities.h5*********\n",
      "area of detected object: 1303\n",
      "*************File: 2571_1976_1347_pos_Probabilities.h5*********\n",
      "area of detected object: 3405\n",
      "*************File: 2020_2140_1271_neg_Probabilities.h5*********\n",
      "*************File: 2317_1816_1405_pos_Probabilities.h5*********\n",
      "area of detected object: 3391\n",
      "*************File: 1988_2408_1929_pos_Probabilities.h5*********\n",
      "area of detected object: 1401\n",
      "*************File: 2773_1874_1309_neg_Probabilities.h5*********\n",
      "*************File: 2465_1964_1339_pos_Probabilities.h5*********\n",
      "area of detected object: 2710\n",
      "*************File: 2239_1923_1397_pos_Probabilities.h5*********\n",
      "Soma false negative\n",
      "*************File: 2658_2207_1300_pos_Probabilities.h5*********\n",
      "Soma false negative\n"
     ]
    }
   ],
   "source": [
    "for filename in tqdm(test_files, disable=True):\n",
    "    print(f\"*************File: {filename}*********\")\n",
    "    if filename in doubles:\n",
    "        newpos = 2\n",
    "    else:\n",
    "        newpos = 1\n",
    "\n",
    "    im_fname = files_dir + filename[:-17] + \".h5\"\n",
    "    fname = files_dir + filename\n",
    "    f = h5py.File(fname, \"r\")\n",
    "    pred = f.get(\"exported_data\")\n",
    "    pred = pred[0, :, :, :]\n",
    "    mask = pred > best_threshold\n",
    "    labels = measure.label(mask)\n",
    "    props = measure.regionprops(labels)\n",
    "\n",
    "    if \"pos\" in filename:\n",
    "        num_detected = 0\n",
    "        tot_pos += newpos\n",
    "        for prop in props:\n",
    "            area = prop[\"area\"]\n",
    "            if area > size_thresh:\n",
    "                print(f\"area of detected object: {area}\")\n",
    "                if num_detected < newpos:\n",
    "                    true_pos += 1\n",
    "                    num_detected += 1\n",
    "                else:\n",
    "                    print(f\"Soma false positive Area: {area}\")\n",
    "                    f = h5py.File(im_fname, \"r\")\n",
    "                    im = f.get(\"image_3channel\")\n",
    "                    viewer = napari.Viewer(ndisplay=3)\n",
    "                    viewer.add_image(im[0, :, :, :], name=filename)\n",
    "                    viewer.add_image(im[1, :, :, :])\n",
    "                    viewer.add_image(im[2, :, :, :])\n",
    "                    viewer.add_labels(mask)\n",
    "                    viewer.add_labels(\n",
    "                        labels == prop[\"label\"],\n",
    "                        name=f\"soma false positive area: {area}\",\n",
    "                    )\n",
    "                    false_pos += 1\n",
    "        if num_detected == 0:\n",
    "            print(f\"Soma false negative\")\n",
    "            f = h5py.File(im_fname, \"r\")\n",
    "            im = f.get(\"image_3channel\")\n",
    "            viewer = napari.Viewer(ndisplay=3)\n",
    "            viewer.add_image(im[0, :, :, :], name=filename)\n",
    "            viewer.add_image(im[1, :, :, :])\n",
    "            viewer.add_image(im[2, :, :, :])\n",
    "            viewer.add_labels(mask, name=\"Soma false negative\")\n",
    "    elif \"neg\" in filename:\n",
    "        for prop in props:\n",
    "            area = prop[\"area\"]\n",
    "            if area > size_thresh:\n",
    "                print(f\"Nonsoma false positive Area: {area}\")\n",
    "                f = h5py.File(im_fname, \"r\")\n",
    "                im = f.get(\"image_3channel\")\n",
    "                viewer = napari.Viewer(ndisplay=3)\n",
    "                viewer.add_image(im[0, :, :, :], name=filename)\n",
    "                viewer.add_image(im[1, :, :, :])\n",
    "                viewer.add_image(im[2, :, :, :])\n",
    "                viewer.add_labels(mask)\n",
    "                viewer.add_labels(\n",
    "                    labels == prop[\"label\"], name=f\"nonsoma false positive area: {area}\"\n",
    "                )\n",
    "                false_pos += 1"
   ]
  },
  {
   "cell_type": "markdown",
   "metadata": {},
   "source": [
    "## Examine image"
   ]
  },
  {
   "cell_type": "code",
   "execution_count": null,
   "metadata": {},
   "outputs": [],
   "source": [
    "filename = \"2867_4336_1296_pos_Probabilities.h5\"\n",
    "im_fname = files_dir + filename[:-17] + \".h5\"\n",
    "f = h5py.File(im_fname, \"r\")\n",
    "im = f.get(\"image_3channel\")\n",
    "viewer = napari.Viewer(ndisplay=3)\n",
    "viewer.add_image(im[0, :, :, :])\n",
    "viewer.add_image(im[1, :, :, :])\n",
    "viewer.add_image(im[2, :, :, :])"
   ]
  },
  {
   "cell_type": "code",
   "execution_count": null,
   "metadata": {},
   "outputs": [],
   "source": [
    "best_threshold"
   ]
  },
  {
   "cell_type": "markdown",
   "metadata": {},
   "source": [
    "## make point layer - ?????"
   ]
  },
  {
   "cell_type": "code",
   "execution_count": null,
   "metadata": {},
   "outputs": [],
   "source": [
    "point_path = \"precomputed://https://dlab-colm.neurodata.io/2021_10_06/8557/point_preds\"\n",
    "info = CloudVolume.create_new_info(\n",
    "    num_channels=1,\n",
    "    layer_type=\"segmentation\",\n",
    "    data_type=\"uint64\",  # Channel images might be 'uint8'\n",
    "    # raw, jpeg, compressed_segmentation, fpzip, kempressed, compresso\n",
    "    encoding=\"raw\",\n",
    "    resolution=[4, 4, 40],  # Voxel scaling, units are in nanometers\n",
    "    voxel_offset=[0, 0, 0],  # x,y,z offset in voxels from the origin\n",
    "    mesh=\"mesh\",\n",
    "    # Pick a convenient size for your underlying chunk representation\n",
    "    # Powers of two are recommended, doesn't need to cover image exactly\n",
    "    chunk_size=[512, 512, 16],  # units are voxels\n",
    "    volume_size=[250000, 250000, 25000],  # e.g. a cubic millimeter dataset\n",
    ")\n",
    "vol = CloudVolume(point_path, info=info)\n",
    "vol.commit_info()"
   ]
  },
  {
   "cell_type": "code",
   "execution_count": null,
   "metadata": {},
   "outputs": [],
   "source": [
    "new_somas = []\n",
    "for soma in somas:\n",
    "    if soma[2] <= 3000:\n",
    "        new_somas.append(soma)\n",
    "len(new_somas)"
   ]
  },
  {
   "cell_type": "code",
   "execution_count": null,
   "metadata": {},
   "outputs": [],
   "source": [
    "soma_ra = np.array(new_somas)\n",
    "plt.hist(soma_ra[:, 2])"
   ]
  },
  {
   "cell_type": "code",
   "execution_count": null,
   "metadata": {},
   "outputs": [],
   "source": [
    "import napari\n",
    "\n",
    "viewer = napari.Viewer(ndisplay=3)"
   ]
  },
  {
   "cell_type": "markdown",
   "metadata": {},
   "source": [
    "# Download slices"
   ]
  },
  {
   "cell_type": "code",
   "execution_count": null,
   "metadata": {},
   "outputs": [],
   "source": [
    "im_fg = vol_fg[3100:3500, 4500:4900, 1400:1800, 0]\n",
    "im_bg = vol_bg[3100:3500, 4500:4900, 1400:1800, 0]\n",
    "im_endo = vol_endo[3100:3500, 4500:4900, 1400:1800, 0]\n",
    "\n",
    "viewer = napari.Viewer(ndisplay=3)\n",
    "viewer.add_image(np.squeeze(im_fg))\n",
    "viewer.add_image(np.squeeze(im_bg))\n",
    "viewer.add_image(np.squeeze(im_endo))"
   ]
  },
  {
   "cell_type": "markdown",
   "metadata": {},
   "source": [
    "## Check ilastik"
   ]
  },
  {
   "cell_type": "code",
   "execution_count": null,
   "metadata": {},
   "outputs": [],
   "source": [
    "im_fg = vol_fg[3100:3500, 4500:4900, 1400:1800, 0]\n",
    "im_bg = vol_bg[3100:3500, 4500:4900, 1400:1800, 0]\n",
    "im_endo = vol_endo[3100:3500, 4500:4900, 1400:1800, 0]\n",
    "\n",
    "image = np.squeeze(np.stack([im_fg, im_bg, im_endo], axis=0))\n",
    "fname = \"/Users/thomasathey/Desktop/im.h5\"\n",
    "\n",
    "with h5py.File(fname, \"w\") as f:\n",
    "    dset = f.create_dataset(\"image_3channel\", data=image)\n",
    "\n",
    "subprocess.run(\n",
    "    [\n",
    "        \"/Applications/ilastik-1.3.3post3-OSX.app/Contents/ilastik-release/run_ilastik.sh\",\n",
    "        \"--headless\",\n",
    "        \"--project=/Users/thomasathey/Documents/mimlab/mouselight/ailey/soma_detection/matt_soma_rabies_pix_3ch.ilp\",\n",
    "        fname,\n",
    "    ],\n",
    "    stdout=subprocess.PIPE,\n",
    "    stderr=subprocess.PIPE,\n",
    ")"
   ]
  },
  {
   "cell_type": "code",
   "execution_count": null,
   "metadata": {},
   "outputs": [],
   "source": [
    "f = h5py.File(\"/Users/thomasathey/Desktop/im_Probabilities.h5\", \"r\")\n",
    "pred = f.get(\"exported_data\")\n",
    "\n",
    "pred = pred[0, :, :, :]\n",
    "\n",
    "mask = pred > 0.55\n",
    "labels = measure.label(mask)\n",
    "props = measure.regionprops(labels)\n",
    "\n",
    "results = []\n",
    "for prop in props:\n",
    "    if prop[\"area\"] > 500:\n",
    "        location = list(np.add((0, 0, 0), prop[\"centroid\"]))\n",
    "        print(location)\n",
    "\n",
    "viewer = napari.Viewer(ndisplay=3)\n",
    "viewer.add_image(np.squeeze(im_fg))\n",
    "viewer.add_labels(mask)"
   ]
  },
  {
   "cell_type": "code",
   "execution_count": null,
   "metadata": {},
   "outputs": [],
   "source": [
    "import math\n",
    "import numpy as np\n",
    "\n",
    "new_pts = []\n",
    "for point in a:\n",
    "    first = math.isclose(point[0], int(point[0]))\n",
    "    second = math.isclose(np.abs(point[1] - int(point[1])), 0.5)\n",
    "    third = math.isclose(np.abs(point[2] - int(point[2])), 0.5)\n",
    "    if first and second and third:\n",
    "        continue\n",
    "    else:\n",
    "        new_pts.append(point)"
   ]
  },
  {
   "cell_type": "code",
   "execution_count": null,
   "metadata": {},
   "outputs": [],
   "source": [
    "from cloudvolume import CloudVolume\n",
    "import numpy as np\n",
    "from skimage import io\n",
    "import napari\n",
    "\n",
    "subvol_number = -1  # change value here for different center point, valid values 0-9\n",
    "r = 400  # change for voxel radius\n",
    "\n",
    "vol = CloudVolume(\n",
    "    \"precomputed://https://dlab-colm.neurodata.io/2021_10_06/8557/Ch_647\",\n",
    "    parallel=1,\n",
    "    mip=0,\n",
    "    fill_missing=False,\n",
    ")\n",
    "print(f\"Total volume size: {vol.shape}\")\n",
    "\n",
    "\n",
    "centers = [\n",
    "    [1042.743408203125, 2647.38671875, 1224.5],\n",
    "    [2430.76171875, 3053.81494140625, 713.5],\n",
    "    [1780.8623046875, 2691.490234375, 1538.5001220703125],\n",
    "    [1642.8656005859375, 3693.246337890625, 1540.4998779296875],\n",
    "    [1924.112060546875, 2812.427978515625, 1539.5],\n",
    "    [2228.993896484375, 3124.892333984375, 710.4999389648438],\n",
    "    [976.0220336914062, 2615.152587890625, 1295.4998779296875],\n",
    "    [2973.654296875, 5300.09912109375, 900.5],\n",
    "    [3070.7158203125, 5557.70166015625, 1127.5000610351562],\n",
    "    [780.11474609375, 2957.698486328125, 1287.5],\n",
    "]\n",
    "\n",
    "center = centers[subvol_number]\n",
    "center = [int(c) for c in center]\n",
    "\n",
    "center = [536, 6588, 2800]\n",
    "\n",
    "lower = [c - r for c in center]\n",
    "upper = [c + r for c in center]\n",
    "print(f\"Downloading bbox: {lower} to {upper}\")\n",
    "\n",
    "\n",
    "im = vol[lower[0] : upper[0], lower[1] : upper[1], lower[2] : upper[2], 0]\n",
    "im = np.squeeze(im)\n",
    "\n",
    "\n",
    "viewer = napari.Viewer(ndisplay=3)\n",
    "viewer.add_image(im)"
   ]
  },
  {
   "cell_type": "code",
   "execution_count": null,
   "metadata": {},
   "outputs": [],
   "source": [
    "import napari\n",
    "\n",
    "viewer = napari.Viewer(ndisplay=3)\n",
    "viewer.add_image(im)"
   ]
  },
  {
   "cell_type": "code",
   "execution_count": null,
   "metadata": {},
   "outputs": [],
   "source": [
    "import matplotlib.pyplot as plt\n",
    "import numpy as np\n",
    "from scipy.stats import pearsonr\n",
    "\n",
    "heights = np.array(\n",
    "    [70, 67, 73, 70, 66, 67, 68, 68, 74, 69, 71, 67, 70, 67, 67, 70, 67, 72, 71, 71]\n",
    ")\n",
    "bouldering = np.arange(1, len(heights) + 1)\n",
    "lead = np.array([11, 14, 4, 15, 2, 6, 1, 7, 9, 16, 5, 17, 12, 3, 8, 10, 13, 20, 19, 18])\n",
    "speed = [3, 2, 18, 16, 6, 19, 12, 20, 11, 5, 10, 15, 8, 7, 14, 9, 4, 1, 17, 13]\n",
    "\n",
    "\n",
    "fig, axs = plt.subplots(1, 3)\n",
    "m, b = np.polyfit(heights, bouldering, 1)\n",
    "coef, p = pearsonr(heights, bouldering)\n",
    "axs[0].scatter(heights, bouldering)\n",
    "axs[0].plot(heights, m * heights + b, label=f\"m={m:.2f}, coef={coef:.2f}, p={p:.2f}\")\n",
    "axs[0].set_title(\"Bouldering\")\n",
    "axs[0].set_ylabel(\"Finish in Olympic Qualifying Round\")\n",
    "axs[0].set_xlabel(\"Height (in.)\")\n",
    "axs[0].legend()\n",
    "\n",
    "m, b = np.polyfit(heights, lead, 1)\n",
    "coef, p = pearsonr(heights, lead)\n",
    "axs[1].scatter(heights, lead)\n",
    "axs[1].plot(heights, m * heights + b, label=f\"m={m:.2f}, coef={coef:.2f}, p={p:.2f}\")\n",
    "axs[1].set_title(\"Lead Climbing\")\n",
    "axs[1].legend()\n",
    "\n",
    "m, b = np.polyfit(heights, speed, 1)\n",
    "coef, p = pearsonr(heights, speed)\n",
    "axs[2].scatter(heights, speed)\n",
    "axs[2].plot(heights, m * heights + b, label=f\"m={m:.2f}, coef={coef:.2f}, p={p:.2f}\")\n",
    "axs[2].set_title(\"Speed Climbing\")\n",
    "axs[2].legend()\n",
    "fig.set_figwidth(15)"
   ]
  },
  {
   "cell_type": "code",
   "execution_count": null,
   "metadata": {},
   "outputs": [],
   "source": [
    "np.cov(heights, lead)"
   ]
  },
  {
   "cell_type": "markdown",
   "metadata": {},
   "source": [
    "axon mapping"
   ]
  },
  {
   "cell_type": "code",
   "execution_count": null,
   "metadata": {},
   "outputs": [],
   "source": [
    "vol = CloudVolume(\n",
    "    \"precomputed://https://open-neurodata.s3.amazonaws.com/brainlit/brain1_segments\",\n",
    "    mip=0,\n",
    ")"
   ]
  },
  {
   "cell_type": "code",
   "execution_count": null,
   "metadata": {},
   "outputs": [],
   "source": [
    "np.divide(vol.skeleton.get(2).vertices, vol.resolution)"
   ]
  },
  {
   "cell_type": "code",
   "execution_count": null,
   "metadata": {},
   "outputs": [],
   "source": [
    "vol.skeleton.get(2).vertices"
   ]
  },
  {
   "cell_type": "code",
   "execution_count": null,
   "metadata": {},
   "outputs": [],
   "source": [
    "vol.resolution"
   ]
  },
  {
   "cell_type": "code",
   "execution_count": null,
   "metadata": {},
   "outputs": [],
   "source": [
    "vol.voxel_offset"
   ]
  },
  {
   "cell_type": "code",
   "execution_count": null,
   "metadata": {},
   "outputs": [],
   "source": [
    "vol.skeleton.get(2)"
   ]
  },
  {
   "cell_type": "code",
   "execution_count": null,
   "metadata": {},
   "outputs": [],
   "source": []
  }
 ],
 "metadata": {
  "interpreter": {
   "hash": "5dc00d68ff54f8375e99934614da4863299fb9e10af4294c095b7f517546ff26"
  },
  "kernelspec": {
   "display_name": "Python 3.8.10 64-bit ('docs_env': venv)",
   "name": "python3"
  },
  "language_info": {
   "codemirror_mode": {
    "name": "ipython",
    "version": 3
   },
   "file_extension": ".py",
   "mimetype": "text/x-python",
   "name": "python",
   "nbconvert_exporter": "python",
   "pygments_lexer": "ipython3",
   "version": "3.8.10"
  },
  "orig_nbformat": 4
 },
 "nbformat": 4,
 "nbformat_minor": 2
}
