{
 "cells": [
  {
   "cell_type": "code",
   "execution_count": 1,
   "metadata": {},
   "outputs": [
    {
     "name": "stderr",
     "output_type": "stream",
     "text": [
      "/Users/thomasathey/Documents/mimlab/mouselight/docs_env/lib/python3.8/site-packages/nilearn/datasets/__init__.py:86: FutureWarning: Fetchers from the nilearn.datasets module will be updated in version 0.9 to return python strings instead of bytes and Pandas dataframes instead of Numpy arrays.\n",
      "  warn(\"Fetchers from the nilearn.datasets module will be \"\n"
     ]
    },
    {
     "name": "stdout",
     "output_type": "stream",
     "text": [
      "embedWindow(verbose=True): could not load ipyvtk_simple try:\n",
      "> pip install -U git+https://github.com/Kitware/ipyvtk-simple.git\n"
     ]
    }
   ],
   "source": [
    "from cloudvolume import CloudVolume\n",
    "from skimage.transform import downscale_local_mean\n",
    "import napari\n",
    "from skimage import io\n",
    "import random\n",
    "import h5py\n",
    "from skimage import measure\n",
    "from brainlit.preprocessing import removeSmallCCs\n",
    "import numpy as np\n",
    "import matplotlib.pyplot as plt\n",
    "import subprocess\n",
    "import tables\n",
    "from napari_animation import AnimationWidget\n",
    "from tqdm import tqdm\n",
    "import pickle\n",
    "from parse_ara import *\n",
    "import networkx as nx\n",
    "import seaborn as sns\n",
    "import pandas as pd\n",
    "import brainrender\n",
    "import scipy.ndimage as ndi\n",
    "from skimage.morphology import skeletonize\n",
    "from os import listdir\n",
    "from os.path import isfile, join\n",
    "from soma_rabies_somadetector_data import brain2paths, brain2centers\n",
    "from util import json_to_points\n",
    "import os\n",
    "%gui qt5"
   ]
  },
  {
   "cell_type": "code",
   "execution_count": 2,
   "metadata": {},
   "outputs": [
    {
     "name": "stdout",
     "output_type": "stream",
     "text": [
      "(5627, 7422, 3000, 1)\n",
      "(5627, 7422, 3000, 1)\n",
      "(5627, 7422, 3000, 1)\n",
      "30 points in soma_val layer\n",
      "30 points in nonsoma_val layer\n",
      "30 soma centers\n",
      "30 nonsoma centers\n"
     ]
    }
   ],
   "source": [
    "brain = \"8446\"\n",
    "channel = \"3channel\"\n",
    "dir = brain2paths[brain][\"ab\"]\n",
    "vol_fg = CloudVolume(dir, parallel=1, mip=0, fill_missing=False)\n",
    "print(vol_fg.shape)\n",
    "dir = brain2paths[brain][\"bg\"]\n",
    "vol_bg = CloudVolume(dir, parallel=1, mip=0, fill_missing=False)\n",
    "print(vol_bg.shape)\n",
    "dir = brain2paths[brain][\"endo\"]\n",
    "vol_endo = CloudVolume(dir, parallel=1, mip=0, fill_missing=False)\n",
    "print(vol_endo.shape)\n",
    "\n",
    "if \"vizlink\" in brain2paths[brain]:\n",
    "    url = brain2paths[brain][\"vizlink\"]\n",
    "    dict = json_to_points(url)\n",
    "    soma_centers = dict[\"soma_val\"]\n",
    "    nonsoma_centers = dict[\"nonsoma_val\"]\n",
    "elif brain in brain2centers.keys():\n",
    "    soma_centers = brain2centers[brain][0][0]\n",
    "    nonsoma_centers = brain2centers[brain][1][0]\n",
    "else:\n",
    "    print(\"No training/validation points\")\n",
    "\n",
    "print(f\"{len(soma_centers)} soma centers\")\n",
    "print(f\"{len(nonsoma_centers)} nonsoma centers\")"
   ]
  },
  {
   "cell_type": "markdown",
   "metadata": {},
   "source": [
    "## Examine Image"
   ]
  },
  {
   "cell_type": "code",
   "execution_count": null,
   "metadata": {},
   "outputs": [],
   "source": [
    "viewer = napari.Viewer(ndisplay=3)\n",
    "viewer.add_image(new_array, scale=scale)\n",
    "viewer.scale_bar.visible = True\n",
    "viewer.scale_bar.unit = \"um\""
   ]
  },
  {
   "cell_type": "markdown",
   "metadata": {},
   "source": [
    "## Save images"
   ]
  },
  {
   "cell_type": "code",
   "execution_count": 3,
   "metadata": {},
   "outputs": [
    {
     "name": "stderr",
     "output_type": "stream",
     "text": [
      "Saving positive samples:   0%|          | 0/30 [00:00<?, ?it/s]"
     ]
    },
    {
     "name": "stdout",
     "output_type": "stream",
     "text": [
      "Saving center: [2431.366455078125, 3225.7197265625, 1735.5]\n"
     ]
    },
    {
     "name": "stderr",
     "output_type": "stream",
     "text": [
      "Downloading: 100%|██████████| 2/2 [00:01<00:00,  1.52it/s]\n",
      "Downloading: 100%|██████████| 2/2 [00:00<00:00,  2.93it/s]\n",
      "Downloading: 100%|██████████| 2/2 [00:00<00:00,  3.98it/s]\n",
      "Saving positive samples:   3%|▎         | 1/30 [00:02<01:13,  2.52s/it]"
     ]
    },
    {
     "name": "stdout",
     "output_type": "stream",
     "text": [
      "Saving center: [2228.004638671875, 3530.470947265625, 1735.4998779296875]\n"
     ]
    },
    {
     "name": "stderr",
     "output_type": "stream",
     "text": [
      "Downloading: 100%|██████████| 1/1 [00:00<00:00,  1.92it/s]\n",
      "Downloading: 100%|██████████| 1/1 [00:00<00:00,  2.19it/s]\n",
      "Downloading: 100%|██████████| 1/1 [00:00<00:00,  1.99it/s]\n",
      "Saving positive samples:   7%|▋         | 2/30 [00:04<00:53,  1.92s/it]"
     ]
    },
    {
     "name": "stdout",
     "output_type": "stream",
     "text": [
      "Saving center: [1944.1328125, 3331.29833984375, 1729.4998779296875]\n"
     ]
    },
    {
     "name": "stderr",
     "output_type": "stream",
     "text": [
      "Downloading: 100%|██████████| 2/2 [00:00<00:00,  4.64it/s]\n",
      "Downloading: 100%|██████████| 2/2 [00:00<00:00,  3.01it/s]\n",
      "Downloading: 100%|██████████| 2/2 [00:00<00:00,  3.11it/s]\n",
      "Saving positive samples:  10%|█         | 3/30 [00:05<00:49,  1.85s/it]"
     ]
    },
    {
     "name": "stdout",
     "output_type": "stream",
     "text": [
      "Saving center: [2113.431396484375, 3353.82470703125, 1727.4998779296875]\n"
     ]
    },
    {
     "name": "stderr",
     "output_type": "stream",
     "text": [
      "Downloading: 100%|██████████| 1/1 [00:00<00:00,  2.04it/s]\n",
      "Downloading: 100%|██████████| 1/1 [00:00<00:00,  1.58it/s]\n",
      "Downloading: 100%|██████████| 1/1 [00:00<00:00,  1.89it/s]\n",
      "Saving positive samples:  13%|█▎        | 4/30 [00:07<00:46,  1.78s/it]"
     ]
    },
    {
     "name": "stdout",
     "output_type": "stream",
     "text": [
      "Saving center: [2129.396728515625, 3144.823486328125, 1496.4998779296875]\n"
     ]
    },
    {
     "name": "stderr",
     "output_type": "stream",
     "text": [
      "Downloading: 100%|██████████| 1/1 [00:00<00:00,  1.56it/s]\n",
      "Downloading: 100%|██████████| 1/1 [00:00<00:00,  2.05it/s]\n",
      "Downloading: 100%|██████████| 1/1 [00:00<00:00,  1.81it/s]\n",
      "Saving positive samples:  17%|█▋        | 5/30 [00:09<00:43,  1.75s/it]"
     ]
    },
    {
     "name": "stdout",
     "output_type": "stream",
     "text": [
      "Saving center: [2101.76708984375, 3397.204833984375, 1747.5]\n"
     ]
    },
    {
     "name": "stderr",
     "output_type": "stream",
     "text": [
      "Downloading: 100%|██████████| 1/1 [00:00<00:00,  2.90it/s]\n",
      "Downloading: 100%|██████████| 1/1 [00:00<00:00,  1.92it/s]\n",
      "Downloading: 100%|██████████| 1/1 [00:00<00:00,  2.90it/s]\n",
      "Saving positive samples:  20%|██        | 6/30 [00:10<00:37,  1.57s/it]"
     ]
    },
    {
     "name": "stdout",
     "output_type": "stream",
     "text": [
      "Saving center: [1951.4996337890625, 2931.715576171875, 1314.5]\n"
     ]
    },
    {
     "name": "stderr",
     "output_type": "stream",
     "text": [
      "Downloading: 100%|██████████| 2/2 [00:00<00:00,  3.39it/s]\n",
      "Downloading: 100%|██████████| 2/2 [00:00<00:00,  3.14it/s]\n",
      "Downloading: 100%|██████████| 2/2 [00:00<00:00,  3.38it/s]\n",
      "Saving positive samples:  23%|██▎       | 7/30 [00:12<00:38,  1.66s/it]"
     ]
    },
    {
     "name": "stdout",
     "output_type": "stream",
     "text": [
      "Saving center: [1949.346923828125, 3101.428466796875, 1456.5]\n"
     ]
    },
    {
     "name": "stderr",
     "output_type": "stream",
     "text": [
      "Downloading: 100%|██████████| 1/1 [00:00<00:00,  2.29it/s]\n",
      "Downloading: 100%|██████████| 1/1 [00:00<00:00,  1.89it/s]\n",
      "Downloading: 100%|██████████| 1/1 [00:00<00:00,  2.78it/s]\n",
      "Saving positive samples:  27%|██▋       | 8/30 [00:13<00:34,  1.56s/it]"
     ]
    },
    {
     "name": "stdout",
     "output_type": "stream",
     "text": [
      "Saving center: [2011.44873046875, 3452.522705078125, 1911.5]\n"
     ]
    },
    {
     "name": "stderr",
     "output_type": "stream",
     "text": [
      "Downloading: 100%|██████████| 4/4 [00:05<00:00,  1.35s/it]\n",
      "Downloading: 100%|██████████| 4/4 [00:02<00:00,  1.41it/s]\n",
      "Downloading: 100%|██████████| 4/4 [00:02<00:00,  1.85it/s]\n",
      "Saving positive samples:  30%|███       | 9/30 [00:23<01:30,  4.33s/it]"
     ]
    },
    {
     "name": "stdout",
     "output_type": "stream",
     "text": [
      "Saving center: [2061.96533203125, 3278.638671875, 1747.5]\n"
     ]
    },
    {
     "name": "stderr",
     "output_type": "stream",
     "text": [
      "Downloading: 100%|██████████| 2/2 [00:00<00:00,  3.96it/s]\n",
      "Downloading: 100%|██████████| 2/2 [00:01<00:00,  1.36it/s]\n",
      "Downloading: 100%|██████████| 2/2 [00:00<00:00,  3.98it/s]\n",
      "Saving positive samples:  33%|███▎      | 10/30 [00:26<01:15,  3.77s/it]"
     ]
    },
    {
     "name": "stdout",
     "output_type": "stream",
     "text": [
      "Saving center: [1986.89013671875, 3626.181884765625, 1751.4998779296875]\n"
     ]
    },
    {
     "name": "stderr",
     "output_type": "stream",
     "text": [
      "Downloading: 100%|██████████| 1/1 [00:00<00:00,  1.25it/s]\n",
      "Downloading: 100%|██████████| 1/1 [00:01<00:00,  1.02s/it]\n",
      "Downloading: 100%|██████████| 1/1 [00:00<00:00,  2.17it/s]\n",
      "Saving positive samples:  37%|███▋      | 11/30 [00:28<01:03,  3.32s/it]"
     ]
    },
    {
     "name": "stdout",
     "output_type": "stream",
     "text": [
      "Saving center: [2182.292724609375, 3585.91162109375, 1751.4998779296875]\n"
     ]
    },
    {
     "name": "stderr",
     "output_type": "stream",
     "text": [
      "Downloading: 100%|██████████| 4/4 [00:00<00:00,  4.49it/s]\n",
      "Downloading: 100%|██████████| 4/4 [00:00<00:00,  4.90it/s]\n",
      "Downloading: 100%|██████████| 4/4 [00:00<00:00,  4.76it/s]\n",
      "Saving positive samples:  40%|████      | 12/30 [00:31<00:55,  3.09s/it]"
     ]
    },
    {
     "name": "stdout",
     "output_type": "stream",
     "text": [
      "Saving center: [2026.5006103515625, 3492.383544921875, 1753.5]\n"
     ]
    },
    {
     "name": "stderr",
     "output_type": "stream",
     "text": [
      "Downloading: 100%|██████████| 2/2 [00:00<00:00,  4.32it/s]\n",
      "Downloading: 100%|██████████| 2/2 [00:00<00:00,  2.81it/s]\n",
      "Downloading: 100%|██████████| 2/2 [00:00<00:00,  3.31it/s]\n",
      "Saving positive samples:  43%|████▎     | 13/30 [00:33<00:45,  2.70s/it]"
     ]
    },
    {
     "name": "stdout",
     "output_type": "stream",
     "text": [
      "Saving center: [1825.4476318359375, 3768.1171875, 1674.5]\n"
     ]
    },
    {
     "name": "stderr",
     "output_type": "stream",
     "text": [
      "Downloading: 100%|██████████| 2/2 [00:00<00:00,  2.34it/s]\n",
      "Downloading: 100%|██████████| 2/2 [00:00<00:00,  3.91it/s]\n",
      "Downloading: 100%|██████████| 2/2 [00:00<00:00,  2.28it/s]\n",
      "Saving positive samples:  47%|████▋     | 14/30 [00:35<00:41,  2.57s/it]"
     ]
    },
    {
     "name": "stdout",
     "output_type": "stream",
     "text": [
      "Saving center: [2340.367919921875, 3392.724853515625, 1751.4998779296875]\n"
     ]
    },
    {
     "name": "stderr",
     "output_type": "stream",
     "text": [
      "Downloading: 100%|██████████| 1/1 [00:00<00:00,  1.68it/s]\n",
      "Downloading: 100%|██████████| 1/1 [00:00<00:00,  2.36it/s]\n",
      "Downloading: 100%|██████████| 1/1 [00:00<00:00,  1.89it/s]\n",
      "Saving positive samples:  50%|█████     | 15/30 [00:36<00:34,  2.27s/it]"
     ]
    },
    {
     "name": "stdout",
     "output_type": "stream",
     "text": [
      "Saving center: [2064.260009765625, 3319.23974609375, 1756.5]\n"
     ]
    },
    {
     "name": "stderr",
     "output_type": "stream",
     "text": [
      "Downloading: 100%|██████████| 4/4 [00:00<00:00,  5.81it/s]\n",
      "Downloading: 100%|██████████| 4/4 [00:00<00:00,  5.72it/s]\n",
      "Downloading: 100%|██████████| 4/4 [00:00<00:00,  5.65it/s]\n",
      "Saving positive samples:  53%|█████▎    | 16/30 [00:39<00:31,  2.22s/it]"
     ]
    },
    {
     "name": "stdout",
     "output_type": "stream",
     "text": [
      "Saving center: [1970.7869873046875, 3325.788818359375, 1756.5]\n"
     ]
    },
    {
     "name": "stderr",
     "output_type": "stream",
     "text": [
      "Downloading: 100%|██████████| 2/2 [00:00<00:00,  5.96it/s]\n",
      "Downloading: 100%|██████████| 2/2 [00:00<00:00,  3.14it/s]\n",
      "Downloading: 100%|██████████| 2/2 [00:00<00:00,  5.42it/s]\n",
      "Saving positive samples:  57%|█████▋    | 17/30 [00:40<00:25,  1.96s/it]"
     ]
    },
    {
     "name": "stdout",
     "output_type": "stream",
     "text": [
      "Saving center: [2101.289794921875, 3422.595458984375, 1756.5]\n"
     ]
    },
    {
     "name": "stderr",
     "output_type": "stream",
     "text": [
      "Downloading: 100%|██████████| 1/1 [00:00<00:00,  3.06it/s]\n",
      "Downloading: 100%|██████████| 1/1 [00:00<00:00,  1.53it/s]\n",
      "Downloading: 100%|██████████| 1/1 [00:00<00:00,  3.32it/s]\n",
      "Saving positive samples:  60%|██████    | 18/30 [00:41<00:21,  1.76s/it]"
     ]
    },
    {
     "name": "stdout",
     "output_type": "stream",
     "text": [
      "Saving center: [2378.195556640625, 3382.554931640625, 1756.4998779296875]\n"
     ]
    },
    {
     "name": "stderr",
     "output_type": "stream",
     "text": [
      "Downloading: 100%|██████████| 1/1 [00:00<00:00,  2.65it/s]\n",
      "Downloading: 100%|██████████| 1/1 [00:00<00:00,  3.02it/s]\n",
      "Downloading: 100%|██████████| 1/1 [00:00<00:00,  1.47it/s]\n",
      "Saving positive samples:  63%|██████▎   | 19/30 [00:43<00:18,  1.66s/it]"
     ]
    },
    {
     "name": "stdout",
     "output_type": "stream",
     "text": [
      "Saving center: [2327.79150390625, 3165.557861328125, 1473.5001220703125]\n"
     ]
    },
    {
     "name": "stderr",
     "output_type": "stream",
     "text": [
      "Downloading: 100%|██████████| 2/2 [00:00<00:00,  3.73it/s]\n",
      "Downloading: 100%|██████████| 2/2 [00:00<00:00,  2.35it/s]\n",
      "Downloading: 100%|██████████| 2/2 [00:00<00:00,  3.89it/s]\n",
      "Saving positive samples:  67%|██████▋   | 20/30 [00:45<00:17,  1.74s/it]"
     ]
    },
    {
     "name": "stdout",
     "output_type": "stream",
     "text": [
      "Saving center: [2187.869384765625, 3740.064697265625, 1474.5001220703125]\n"
     ]
    },
    {
     "name": "stderr",
     "output_type": "stream",
     "text": [
      "Downloading: 100%|██████████| 2/2 [00:00<00:00,  2.63it/s]\n",
      "Downloading: 100%|██████████| 2/2 [00:00<00:00,  3.83it/s]\n",
      "Downloading: 100%|██████████| 2/2 [00:00<00:00,  2.62it/s]\n",
      "Saving positive samples:  70%|███████   | 21/30 [00:47<00:16,  1.84s/it]"
     ]
    },
    {
     "name": "stdout",
     "output_type": "stream",
     "text": [
      "Saving center: [2131.65234375, 3235.7958984375, 1474.4998779296875]\n"
     ]
    },
    {
     "name": "stderr",
     "output_type": "stream",
     "text": [
      "Downloading: 100%|██████████| 1/1 [00:00<00:00,  2.19it/s]\n",
      "Downloading: 100%|██████████| 1/1 [00:00<00:00,  1.87it/s]\n",
      "Downloading: 100%|██████████| 1/1 [00:00<00:00,  2.27it/s]\n",
      "Saving positive samples:  73%|███████▎  | 22/30 [00:48<00:13,  1.72s/it]"
     ]
    },
    {
     "name": "stdout",
     "output_type": "stream",
     "text": [
      "Saving center: [1888.686767578125, 3099.417236328125, 1463.4998779296875]\n"
     ]
    },
    {
     "name": "stderr",
     "output_type": "stream",
     "text": [
      "Downloading: 100%|██████████| 1/1 [00:00<00:00,  1.46it/s]\n",
      "Downloading: 100%|██████████| 1/1 [00:00<00:00,  1.61it/s]\n",
      "Downloading: 100%|██████████| 1/1 [00:00<00:00,  2.30it/s]\n",
      "Saving positive samples:  77%|███████▋  | 23/30 [00:50<00:12,  1.73s/it]"
     ]
    },
    {
     "name": "stdout",
     "output_type": "stream",
     "text": [
      "Saving center: [2423.411865234375, 3617.938720703125, 1355.5]\n"
     ]
    },
    {
     "name": "stderr",
     "output_type": "stream",
     "text": [
      "Downloading: 100%|██████████| 2/2 [00:00<00:00,  2.78it/s]\n",
      "Downloading: 100%|██████████| 2/2 [00:00<00:00,  3.03it/s]\n",
      "Downloading: 100%|██████████| 2/2 [00:01<00:00,  1.89it/s]\n",
      "Saving positive samples:  80%|████████  | 24/30 [00:52<00:11,  1.95s/it]"
     ]
    },
    {
     "name": "stdout",
     "output_type": "stream",
     "text": [
      "Saving center: [2118.227783203125, 3553.6064453125, 1768.5]\n"
     ]
    },
    {
     "name": "stderr",
     "output_type": "stream",
     "text": [
      "Downloading: 100%|██████████| 2/2 [00:00<00:00,  2.14it/s]\n",
      "Downloading: 100%|██████████| 2/2 [00:01<00:00,  1.23it/s]\n",
      "Downloading: 100%|██████████| 2/2 [00:00<00:00,  2.19it/s]\n",
      "Saving positive samples:  83%|████████▎ | 25/30 [00:56<00:12,  2.42s/it]"
     ]
    },
    {
     "name": "stdout",
     "output_type": "stream",
     "text": [
      "Saving center: [2248.248046875, 3582.653564453125, 1780.4998779296875]\n"
     ]
    },
    {
     "name": "stderr",
     "output_type": "stream",
     "text": [
      "Downloading: 100%|██████████| 4/4 [00:01<00:00,  2.34it/s]\n",
      "Downloading: 100%|██████████| 4/4 [00:01<00:00,  2.43it/s]\n",
      "Downloading: 100%|██████████| 4/4 [00:01<00:00,  2.52it/s]\n",
      "Saving positive samples:  87%|████████▋ | 26/30 [01:01<00:12,  3.18s/it]"
     ]
    },
    {
     "name": "stdout",
     "output_type": "stream",
     "text": [
      "Saving center: [2351.987548828125, 3595.102294921875, 1781.5]\n"
     ]
    },
    {
     "name": "stderr",
     "output_type": "stream",
     "text": [
      "Downloading: 100%|██████████| 4/4 [00:01<00:00,  2.89it/s]\n",
      "Downloading: 100%|██████████| 4/4 [00:01<00:00,  2.97it/s]\n",
      "Downloading: 100%|██████████| 4/4 [00:01<00:00,  3.17it/s]\n",
      "Saving positive samples:  90%|█████████ | 27/30 [01:05<00:10,  3.43s/it]"
     ]
    },
    {
     "name": "stdout",
     "output_type": "stream",
     "text": [
      "Saving center: [2337.2333984375, 3421.281005859375, 1784.4998779296875]\n"
     ]
    },
    {
     "name": "stderr",
     "output_type": "stream",
     "text": [
      "Downloading: 100%|██████████| 2/2 [00:00<00:00,  2.31it/s]\n",
      "Downloading: 100%|██████████| 2/2 [00:01<00:00,  1.77it/s]\n",
      "Downloading: 100%|██████████| 2/2 [00:00<00:00,  2.81it/s]\n",
      "Saving positive samples:  93%|█████████▎| 28/30 [01:08<00:06,  3.22s/it]"
     ]
    },
    {
     "name": "stdout",
     "output_type": "stream",
     "text": [
      "Saving center: [2228.88330078125, 3379.32421875, 1783.5001220703125]\n"
     ]
    },
    {
     "name": "stderr",
     "output_type": "stream",
     "text": [
      "Downloading: 100%|██████████| 2/2 [00:01<00:00,  1.82it/s]\n",
      "Downloading: 100%|██████████| 2/2 [00:00<00:00,  2.48it/s]\n",
      "Downloading: 100%|██████████| 2/2 [00:00<00:00,  2.10it/s]\n",
      "Saving positive samples:  97%|█████████▋| 29/30 [01:10<00:03,  3.12s/it]"
     ]
    },
    {
     "name": "stdout",
     "output_type": "stream",
     "text": [
      "Saving center: [1968.058837890625, 3472.0947265625, 1784.4998779296875]\n"
     ]
    },
    {
     "name": "stderr",
     "output_type": "stream",
     "text": [
      "Downloading: 100%|██████████| 4/4 [00:00<00:00,  4.98it/s]\n",
      "Downloading: 100%|██████████| 4/4 [00:00<00:00,  5.61it/s]\n",
      "Downloading: 100%|██████████| 4/4 [00:00<00:00,  4.44it/s]\n",
      "Saving positive samples: 100%|██████████| 30/30 [01:13<00:00,  2.45s/it]\n",
      "Downloading: 100%|██████████| 2/2 [00:00<00:00,  2.79it/s]it/s]\n",
      "Downloading: 100%|██████████| 2/2 [00:00<00:00,  2.37it/s]\n",
      "Downloading: 100%|██████████| 2/2 [00:00<00:00,  2.49it/s]\n",
      "Downloading: 100%|██████████| 1/1 [00:00<00:00,  1.43it/s]9,  2.38s/it]\n",
      "Downloading: 100%|██████████| 1/1 [00:00<00:00,  1.13it/s]\n",
      "Downloading: 100%|██████████| 1/1 [00:00<00:00,  1.21it/s]\n",
      "Downloading: 100%|██████████| 2/2 [00:00<00:00,  2.68it/s]7,  2.41s/it]\n",
      "Downloading: 100%|██████████| 2/2 [00:00<00:00,  2.14it/s]\n",
      "Downloading: 100%|██████████| 2/2 [00:00<00:00,  2.47it/s]\n",
      "Downloading: 100%|██████████| 2/2 [00:00<00:00,  2.05it/s]6,  2.46s/it]\n",
      "Downloading: 100%|██████████| 2/2 [00:00<00:00,  2.68it/s]\n",
      "Downloading: 100%|██████████| 2/2 [00:00<00:00,  2.31it/s]\n",
      "Downloading: 100%|██████████| 2/2 [00:01<00:00,  1.88it/s]5,  2.52s/it]\n",
      "Downloading: 100%|██████████| 2/2 [00:00<00:00,  2.41it/s]\n",
      "Downloading: 100%|██████████| 2/2 [00:00<00:00,  2.14it/s]\n",
      "Downloading: 100%|██████████| 4/4 [00:00<00:00,  5.22it/s]6,  2.64s/it]\n",
      "Downloading: 100%|██████████| 4/4 [00:00<00:00,  4.06it/s]\n",
      "Downloading: 100%|██████████| 4/4 [00:00<00:00,  4.79it/s]\n",
      "Downloading: 100%|██████████| 4/4 [00:00<00:00,  4.82it/s]3,  2.63s/it]\n",
      "Downloading: 100%|██████████| 4/4 [00:00<00:00,  4.94it/s]\n",
      "Downloading: 100%|██████████| 4/4 [00:00<00:00,  4.19it/s]\n",
      "Downloading: 100%|██████████| 4/4 [00:00<00:00,  4.33it/s]0,  2.62s/it]\n",
      "Downloading: 100%|██████████| 4/4 [00:00<00:00,  4.52it/s]\n",
      "Downloading: 100%|██████████| 4/4 [00:00<00:00,  4.09it/s]\n",
      "Downloading: 100%|██████████| 2/2 [00:00<00:00,  2.58it/s]9,  2.68s/it]\n",
      "Downloading: 100%|██████████| 2/2 [00:00<00:00,  2.39it/s]\n",
      "Downloading: 100%|██████████| 2/2 [00:00<00:00,  2.67it/s]\n",
      "Downloading: 100%|██████████| 4/4 [00:00<00:00,  4.72it/s]4,  2.59s/it]\n",
      "Downloading: 100%|██████████| 4/4 [00:00<00:00,  4.43it/s]\n",
      "Downloading: 100%|██████████| 4/4 [00:01<00:00,  3.32it/s]\n",
      "Downloading: 100%|██████████| 1/1 [00:00<00:00,  1.99it/s]54,  2.71s/it]\n",
      "Downloading: 100%|██████████| 1/1 [00:00<00:00,  1.39it/s]\n",
      "Downloading: 100%|██████████| 1/1 [00:00<00:00,  1.16it/s]\n",
      "Downloading: 100%|██████████| 8/8 [00:03<00:00,  2.40it/s]47,  2.52s/it]\n",
      "Downloading: 100%|██████████| 8/8 [00:02<00:00,  2.87it/s]\n",
      "Downloading: 100%|██████████| 8/8 [00:02<00:00,  3.37it/s]\n",
      "Downloading: 100%|██████████| 8/8 [00:02<00:00,  3.96it/s]18,  4.34s/it]\n",
      "Downloading: 100%|██████████| 8/8 [00:01<00:00,  4.55it/s]\n",
      "Downloading: 100%|██████████| 8/8 [00:02<00:00,  3.95it/s]\n",
      "Downloading: 100%|██████████| 2/2 [00:00<00:00,  3.79it/s]21,  4.79s/it]\n",
      "Downloading: 100%|██████████| 2/2 [00:00<00:00,  2.09it/s]\n",
      "Downloading: 100%|██████████| 2/2 [00:00<00:00,  2.11it/s]\n",
      "Downloading: 100%|██████████| 4/4 [00:01<00:00,  2.30it/s]05,  4.09s/it]\n",
      "Downloading: 100%|██████████| 4/4 [00:00<00:00,  4.74it/s]\n",
      "Downloading: 100%|██████████| 4/4 [00:01<00:00,  2.41it/s]\n",
      "Downloading: 100%|██████████| 4/4 [00:00<00:00,  4.48it/s]02,  4.14s/it]\n",
      "Downloading: 100%|██████████| 4/4 [00:01<00:00,  2.44it/s]\n",
      "Downloading: 100%|██████████| 4/4 [00:00<00:00,  4.47it/s]\n",
      "Downloading: 100%|██████████| 1/1 [00:00<00:00,  2.01it/s]55,  3.93s/it]\n",
      "Downloading: 100%|██████████| 1/1 [00:00<00:00,  1.85it/s]\n",
      "Downloading: 100%|██████████| 1/1 [00:00<00:00,  1.42it/s]\n",
      "Downloading: 100%|██████████| 2/2 [00:01<00:00,  1.29it/s]42,  3.28s/it]\n",
      "Downloading: 100%|██████████| 2/2 [00:00<00:00,  2.46it/s]\n",
      "Downloading: 100%|██████████| 2/2 [00:00<00:00,  2.43it/s]\n",
      "Downloading: 100%|██████████| 2/2 [00:00<00:00,  2.97it/s]39,  3.26s/it]\n",
      "Downloading: 100%|██████████| 2/2 [00:01<00:00,  1.18it/s]\n",
      "Downloading: 100%|██████████| 2/2 [00:00<00:00,  2.56it/s]\n",
      "Downloading: 100%|██████████| 4/4 [00:00<00:00,  4.97it/s]35,  3.23s/it]\n",
      "Downloading: 100%|██████████| 4/4 [00:01<00:00,  2.68it/s]\n",
      "Downloading: 100%|██████████| 4/4 [00:00<00:00,  4.87it/s]\n",
      "Downloading: 100%|██████████| 1/1 [00:00<00:00,  1.40it/s]32,  3.20s/it]\n",
      "Downloading: 100%|██████████| 1/1 [00:00<00:00,  1.33it/s]\n",
      "Downloading: 100%|██████████| 1/1 [00:00<00:00,  1.20it/s]\n",
      "Downloading: 100%|██████████| 4/4 [00:01<00:00,  2.80it/s]26,  2.94s/it]\n",
      "Downloading: 100%|██████████| 4/4 [00:00<00:00,  5.03it/s]\n",
      "Downloading: 100%|██████████| 4/4 [00:01<00:00,  2.66it/s]\n",
      "Downloading: 100%|██████████| 4/4 [00:00<00:00,  4.30it/s]25,  3.18s/it]\n",
      "Downloading: 100%|██████████| 4/4 [00:01<00:00,  2.77it/s]\n",
      "Downloading: 100%|██████████| 4/4 [00:00<00:00,  4.69it/s]\n",
      "Downloading: 100%|██████████| 8/8 [00:01<00:00,  5.54it/s]22,  3.20s/it]\n",
      "Downloading: 100%|██████████| 8/8 [00:01<00:00,  5.99it/s]\n",
      "Downloading: 100%|██████████| 8/8 [00:01<00:00,  6.27it/s]\n",
      "Downloading: 100%|██████████| 2/2 [00:00<00:00,  4.24it/s]20,  3.46s/it]\n",
      "Downloading: 100%|██████████| 2/2 [00:00<00:00,  2.78it/s]\n",
      "Downloading: 100%|██████████| 2/2 [00:00<00:00,  2.45it/s]\n",
      "Downloading: 100%|██████████| 4/4 [00:01<00:00,  3.57it/s]15,  3.04s/it]\n",
      "Downloading: 100%|██████████| 4/4 [00:00<00:00,  4.59it/s]\n",
      "Downloading: 100%|██████████| 4/4 [00:00<00:00,  4.07it/s]\n",
      "Downloading: 100%|██████████| 4/4 [00:00<00:00,  5.05it/s]12,  3.02s/it]\n",
      "Downloading: 100%|██████████| 4/4 [00:00<00:00,  4.12it/s]\n",
      "Downloading: 100%|██████████| 4/4 [00:00<00:00,  4.98it/s]\n",
      "Downloading: 100%|██████████| 2/2 [00:00<00:00,  4.12it/s]08,  2.89s/it]\n",
      "Downloading: 100%|██████████| 2/2 [00:00<00:00,  2.53it/s]\n",
      "Downloading: 100%|██████████| 2/2 [00:01<00:00,  1.55it/s]\n",
      "Downloading: 100%|██████████| 2/2 [00:00<00:00,  2.77it/s]05,  2.81s/it]\n",
      "Downloading: 100%|██████████| 2/2 [00:00<00:00,  3.90it/s]\n",
      "Downloading: 100%|██████████| 2/2 [00:00<00:00,  2.36it/s]\n",
      "Downloading: 100%|██████████| 2/2 [00:00<00:00,  2.57it/s]02,  2.60s/it]\n",
      "Downloading: 100%|██████████| 2/2 [00:00<00:00,  2.32it/s]\n",
      "Downloading: 100%|██████████| 2/2 [00:00<00:00,  2.37it/s]\n",
      "Saving negative samples: 100%|██████████| 30/30 [01:32<00:00,  3.08s/it]\n"
     ]
    }
   ],
   "source": [
    "dset_name = \"test\"\n",
    "\n",
    "path_prefix = f\"/Users/thomasathey/Documents/mimlab/mouselight/ailey/detection_soma/brain{brain}/{channel}/{dset_name}/\"\n",
    "isExist = os.path.exists(path_prefix)\n",
    "if not isExist:\n",
    "    print(f\"creating directory: {path_prefix}\")\n",
    "    os.makedirs(path_prefix)\n",
    "\n",
    "type = \"pos\"\n",
    "for i, center in enumerate(tqdm(soma_centers, desc=\"Saving positive samples\")):\n",
    "    print(f\"Saving center: {center}\")\n",
    "    image_fg = vol_fg[\n",
    "        center[0] - 24 : center[0] + 25,\n",
    "        center[1] - 24 : center[1] + 25,\n",
    "        center[2] - 24 : center[2] + 25,\n",
    "    ]\n",
    "    image_fg = image_fg[:, :, :, 0]\n",
    "    image_bg = vol_bg[\n",
    "        center[0] - 24 : center[0] + 25,\n",
    "        center[1] - 24 : center[1] + 25,\n",
    "        center[2] - 24 : center[2] + 25,\n",
    "    ]\n",
    "    image_bg = image_bg[:, :, :, 0]\n",
    "    image_endo = vol_endo[\n",
    "        center[0] - 24 : center[0] + 25,\n",
    "        center[1] - 24 : center[1] + 25,\n",
    "        center[2] - 24 : center[2] + 25,\n",
    "    ]\n",
    "    image_endo = image_endo[:, :, :, 0]\n",
    "\n",
    "    image = np.squeeze(np.stack([image_fg, image_bg, image_endo], axis=0))\n",
    "\n",
    "    fname = path_prefix + f\"{int(center[0])}_{int(center[1])}_{int(center[2])}_{type}.h5\"\n",
    "    with h5py.File(fname, \"w\") as f:\n",
    "        dset = f.create_dataset(\"image_3channel\", data=image)\n",
    "\n",
    "\n",
    "type = \"neg\"\n",
    "for i, center in enumerate(tqdm(nonsoma_centers, desc=\"Saving negative samples\")):\n",
    "    image_fg = vol_fg[\n",
    "        center[0] - 24 : center[0] + 25,\n",
    "        center[1] - 24 : center[1] + 25,\n",
    "        center[2] - 24 : center[2] + 25,\n",
    "    ]\n",
    "    image_fg = image_fg[:, :, :, 0]\n",
    "    image_bg = vol_bg[\n",
    "        center[0] - 24 : center[0] + 25,\n",
    "        center[1] - 24 : center[1] + 25,\n",
    "        center[2] - 24 : center[2] + 25,\n",
    "    ]\n",
    "    image_bg = image_bg[:, :, :, 0]\n",
    "    image_endo = vol_endo[\n",
    "        center[0] - 24 : center[0] + 25,\n",
    "        center[1] - 24 : center[1] + 25,\n",
    "        center[2] - 24 : center[2] + 25,\n",
    "    ]\n",
    "    image_endo = image_endo[:, :, :, 0]\n",
    "\n",
    "    image = np.squeeze(np.stack([image_fg, image_bg, image_endo], axis=0))\n",
    "\n",
    "    fname = path_prefix + f\"{int(center[0])}_{int(center[1])}_{int(center[2])}_{type}.h5\"\n",
    "    with h5py.File(fname, \"w\") as f:\n",
    "        dset = f.create_dataset(\"image_3channel\", data=image)"
   ]
  },
  {
   "cell_type": "markdown",
   "metadata": {},
   "source": [
    "## Doubles"
   ]
  },
  {
   "cell_type": "code",
   "execution_count": 7,
   "metadata": {},
   "outputs": [],
   "source": [
    "doubles = [\"3972_1636_1575_pos_Probabilities.h5\", \"2867_4336_1296_pos_Probabilities.h5\", \"2607_1845_1309_pos_Probabilities.h5\",\n",
    "\"2101_3397_1747_pos_Probabilities.h5\", \"2011_3452_1911_pos_Probabilities.h5\", \"2113_3353_1727_pos_Probabilities.h5\", \"1968_3472_1784_pos_Probabilities.h5\"] #8446"
   ]
  },
  {
   "cell_type": "markdown",
   "metadata": {},
   "source": [
    "## Evaluate performance"
   ]
  },
  {
   "cell_type": "code",
   "execution_count": 8,
   "metadata": {},
   "outputs": [
    {
     "name": "stdout",
     "output_type": "stream",
     "text": [
      "['524_2905_1616_neg_Probabilities.h5', '2788_2774_983_neg_Probabilities.h5', '2228_3530_1735_pos_Probabilities.h5', '2351_3595_1781_pos_Probabilities.h5', '3845_4368_1415_neg_Probabilities.h5', '2737_3167_1175_neg_Probabilities.h5', '1265_3534_1791_neg_Probabilities.h5', '2432_2561_845_neg_Probabilities.h5', '2129_3144_1496_pos_Probabilities.h5', '2327_3165_1473_pos_Probabilities.h5', '3075_4930_857_neg_Probabilities.h5', '3027_4231_2458_neg_Probabilities.h5', '1944_3331_1729_pos_Probabilities.h5', '2064_3319_1756_pos_Probabilities.h5', '3586_2556_1430_neg_Probabilities.h5', '3231_3489_847_neg_Probabilities.h5', '1294_2471_1299_neg_Probabilities.h5', '1986_3626_1751_pos_Probabilities.h5', '2431_3225_1735_pos_Probabilities.h5', '2330_3713_1895_neg_Probabilities.h5', '516_4490_1507_neg_Probabilities.h5', '2113_3353_1727_pos_Probabilities.h5', '2011_3452_1911_pos_Probabilities.h5', '3029_6676_1299_neg_Probabilities.h5', '2337_3421_1784_pos_Probabilities.h5', '2026_3492_1753_pos_Probabilities.h5', '2340_3392_1751_pos_Probabilities.h5', '1968_3472_1784_pos_Probabilities.h5', '2118_3553_1768_pos_Probabilities.h5', '2187_3740_1474_pos_Probabilities.h5', '1956_3691_1885_neg_Probabilities.h5', '3583_4751_1644_neg_Probabilities.h5', '1661_2150_1868_neg_Probabilities.h5', '2182_3585_1751_pos_Probabilities.h5', '2286_1411_669_neg_Probabilities.h5', '2131_3235_1474_pos_Probabilities.h5', '2332_2248_845_neg_Probabilities.h5', '1507_6801_891_neg_Probabilities.h5', '2670_4046_1510_neg_Probabilities.h5', '1888_3099_1463_pos_Probabilities.h5', '2061_3278_1747_pos_Probabilities.h5', '1949_3101_1456_pos_Probabilities.h5', '2378_3382_1756_pos_Probabilities.h5', '2625_2199_2193_neg_Probabilities.h5', '3429_2519_1299_neg_Probabilities.h5', '2248_3582_1780_pos_Probabilities.h5', '2228_3379_1783_pos_Probabilities.h5', '2101_3397_1747_pos_Probabilities.h5', '1970_3325_1756_pos_Probabilities.h5', '2423_3617_1355_pos_Probabilities.h5', '3826_4434_1299_neg_Probabilities.h5', '1951_2931_1314_pos_Probabilities.h5', '3195_2514_877_neg_Probabilities.h5', '3777_5104_1885_neg_Probabilities.h5', '1418_2637_1175_neg_Probabilities.h5', '2498_2365_658_neg_Probabilities.h5', '3875_4465_1510_neg_Probabilities.h5', '1825_3768_1674_pos_Probabilities.h5', '2101_3422_1756_pos_Probabilities.h5', '2079_3676_1885_neg_Probabilities.h5']\n",
      "threshold: 0.0: precision: 0.3950617283950617, recall: 0.9411764705882353, f-score: 0.5565217391304348 for 34 positive samples in 60 images\n",
      "threshold: 0.02: precision: 0.8205128205128205, recall: 0.9411764705882353, f-score: 0.8767123287671232 for 34 positive samples in 60 images\n",
      "threshold: 0.04: precision: 0.8888888888888888, recall: 0.7058823529411765, f-score: 0.7868852459016393 for 34 positive samples in 60 images\n",
      "threshold: 0.06: precision: 0.9166666666666666, recall: 0.6470588235294118, f-score: 0.7586206896551724 for 34 positive samples in 60 images\n",
      "threshold: 0.08: precision: 0.9090909090909091, recall: 0.5882352941176471, f-score: 0.7142857142857143 for 34 positive samples in 60 images\n",
      "threshold: 0.1: precision: 0.8823529411764706, recall: 0.4411764705882353, f-score: 0.5882352941176471 for 34 positive samples in 60 images\n",
      "threshold: 0.12: precision: 0.8461538461538461, recall: 0.3235294117647059, f-score: 0.46808510638297873 for 34 positive samples in 60 images\n",
      "threshold: 0.14: precision: 0.8461538461538461, recall: 0.3235294117647059, f-score: 0.46808510638297873 for 34 positive samples in 60 images\n",
      "threshold: 0.16: precision: 0.8461538461538461, recall: 0.3235294117647059, f-score: 0.46808510638297873 for 34 positive samples in 60 images\n",
      "threshold: 0.18: precision: 0.9166666666666666, recall: 0.3235294117647059, f-score: 0.4782608695652174 for 34 positive samples in 60 images\n",
      "threshold: 0.2: precision: 0.9166666666666666, recall: 0.3235294117647059, f-score: 0.4782608695652174 for 34 positive samples in 60 images\n",
      "threshold: 0.22: precision: 0.9166666666666666, recall: 0.3235294117647059, f-score: 0.4782608695652174 for 34 positive samples in 60 images\n",
      "threshold: 0.24: precision: 0.9090909090909091, recall: 0.29411764705882354, f-score: 0.4444444444444445 for 34 positive samples in 60 images\n",
      "threshold: 0.26: precision: 0.9, recall: 0.2647058823529412, f-score: 0.40909090909090906 for 34 positive samples in 60 images\n",
      "threshold: 0.28: precision: 0.9, recall: 0.2647058823529412, f-score: 0.40909090909090906 for 34 positive samples in 60 images\n",
      "threshold: 0.3: precision: 1.0, recall: 0.23529411764705882, f-score: 0.38095238095238093 for 34 positive samples in 60 images\n",
      "threshold: 0.32: precision: 1.0, recall: 0.17647058823529413, f-score: 0.3 for 34 positive samples in 60 images\n",
      "threshold: 0.34: precision: 1.0, recall: 0.11764705882352941, f-score: 0.21052631578947367 for 34 positive samples in 60 images\n",
      "threshold: 0.36: precision: 1.0, recall: 0.058823529411764705, f-score: 0.1111111111111111 for 34 positive samples in 60 images\n",
      "threshold: 0.38: precision: 1.0, recall: 0.058823529411764705, f-score: 0.1111111111111111 for 34 positive samples in 60 images\n",
      "threshold: 0.4: precision: 1.0, recall: 0.058823529411764705, f-score: 0.1111111111111111 for 34 positive samples in 60 images\n",
      "threshold: 0.42: precision: 1.0, recall: 0.058823529411764705, f-score: 0.1111111111111111 for 34 positive samples in 60 images\n",
      "threshold: 0.44: precision: 1.0, recall: 0.058823529411764705, f-score: 0.1111111111111111 for 34 positive samples in 60 images\n",
      "threshold: 0.46: precision: 1.0, recall: 0.058823529411764705, f-score: 0.1111111111111111 for 34 positive samples in 60 images\n",
      "threshold: 0.48: precision: 0, recall: 0.0, f-score: 0 for 34 positive samples in 60 images\n",
      "threshold: 0.5: precision: 0, recall: 0.0, f-score: 0 for 34 positive samples in 60 images\n",
      "threshold: 0.52: precision: 0, recall: 0.0, f-score: 0 for 34 positive samples in 60 images\n",
      "threshold: 0.54: precision: 0, recall: 0.0, f-score: 0 for 34 positive samples in 60 images\n",
      "threshold: 0.56: precision: 0, recall: 0.0, f-score: 0 for 34 positive samples in 60 images\n",
      "threshold: 0.58: precision: 0, recall: 0.0, f-score: 0 for 34 positive samples in 60 images\n",
      "threshold: 0.6: precision: 0, recall: 0.0, f-score: 0 for 34 positive samples in 60 images\n",
      "threshold: 0.62: precision: 0, recall: 0.0, f-score: 0 for 34 positive samples in 60 images\n",
      "threshold: 0.64: precision: 0, recall: 0.0, f-score: 0 for 34 positive samples in 60 images\n",
      "threshold: 0.66: precision: 0, recall: 0.0, f-score: 0 for 34 positive samples in 60 images\n",
      "threshold: 0.68: precision: 0, recall: 0.0, f-score: 0 for 34 positive samples in 60 images\n",
      "threshold: 0.7000000000000001: precision: 0, recall: 0.0, f-score: 0 for 34 positive samples in 60 images\n",
      "threshold: 0.72: precision: 0, recall: 0.0, f-score: 0 for 34 positive samples in 60 images\n",
      "threshold: 0.74: precision: 0, recall: 0.0, f-score: 0 for 34 positive samples in 60 images\n",
      "threshold: 0.76: precision: 0, recall: 0.0, f-score: 0 for 34 positive samples in 60 images\n",
      "threshold: 0.78: precision: 0, recall: 0.0, f-score: 0 for 34 positive samples in 60 images\n",
      "threshold: 0.8: precision: 0, recall: 0.0, f-score: 0 for 34 positive samples in 60 images\n",
      "threshold: 0.8200000000000001: precision: 0, recall: 0.0, f-score: 0 for 34 positive samples in 60 images\n",
      "threshold: 0.84: precision: 0, recall: 0.0, f-score: 0 for 34 positive samples in 60 images\n",
      "threshold: 0.86: precision: 0, recall: 0.0, f-score: 0 for 34 positive samples in 60 images\n",
      "threshold: 0.88: precision: 0, recall: 0.0, f-score: 0 for 34 positive samples in 60 images\n",
      "threshold: 0.9: precision: 0, recall: 0.0, f-score: 0 for 34 positive samples in 60 images\n",
      "threshold: 0.92: precision: 0, recall: 0.0, f-score: 0 for 34 positive samples in 60 images\n",
      "threshold: 0.9400000000000001: precision: 0, recall: 0.0, f-score: 0 for 34 positive samples in 60 images\n",
      "threshold: 0.96: precision: 0, recall: 0.0, f-score: 0 for 34 positive samples in 60 images\n",
      "threshold: 0.98: precision: 0, recall: 0.0, f-score: 0 for 34 positive samples in 60 images\n"
     ]
    },
    {
     "data": {
      "text/html": [
       "<pre style=\"white-space:pre;overflow-x:auto;line-height:normal;font-family:Menlo,'DejaVu Sans Mono',consolas,'Courier New',monospace\"><span style=\"font-weight: bold\">&lt;</span><span style=\"color: #ff00ff; text-decoration-color: #ff00ff; font-weight: bold\">matplotlib.legend.Legend</span><span style=\"color: #000000; text-decoration-color: #000000\"> object at </span><span style=\"color: #008080; text-decoration-color: #008080; font-weight: bold\">0x1a3e6ff70</span><span style=\"font-weight: bold\">&gt;</span>\n",
       "</pre>\n"
      ],
      "text/plain": [
       "\u001b[1m<\u001b[0m\u001b[1;95mmatplotlib.legend.Legend\u001b[0m\u001b[39m object at \u001b[0m\u001b[1;36m0x1a3e6ff70\u001b[0m\u001b[1m>\u001b[0m\n"
      ]
     },
     "metadata": {},
     "output_type": "display_data"
    },
    {
     "data": {
      "image/png": "[encoded data removed]"
     },
     "metadata": {},
     "output_type": "display_data"
    }
   ],
   "source": [
    "recalls = []\n",
    "precisions = []\n",
    "\n",
    "files_dir = f\"/Users/thomasathey/Documents/mimlab/mouselight/ailey/detection_soma/brain{brain}/{channel}/test/\"\n",
    "#files_dir = f\"/Users/thomasathey/Documents/mimlab/mouselight/ailey/detection_soma/brainr2/{channel}/test/\"\n",
    "onlyfiles = [f for f in listdir(files_dir) if isfile(join(files_dir, f))]\n",
    "# test_files = [f for f in onlyfiles if f[:4] == \"test\"]\n",
    "test_files = [f for f in onlyfiles if \"Probabilities\" in f]  # \"probabilities\"\n",
    "print(test_files)\n",
    "\n",
    "size_thresh = 500\n",
    "\n",
    "thresholds = list(np.arange(0.0, 1.0, 0.02))\n",
    "\n",
    "for threshold in thresholds:\n",
    "    tot_pos = 0\n",
    "    true_pos = 0\n",
    "    false_pos = 0\n",
    "    for filename in tqdm(test_files, disable=True):\n",
    "        if filename in doubles:\n",
    "            newpos = 2\n",
    "        else:\n",
    "            newpos = 1\n",
    "\n",
    "        fname = files_dir + filename\n",
    "        f = h5py.File(fname, \"r\")\n",
    "        pred = f.get(\"exported_data\")\n",
    "        pred = pred[0, :, :, :]\n",
    "        mask = pred > threshold\n",
    "        labels = measure.label(mask)\n",
    "        props = measure.regionprops(labels)\n",
    "\n",
    "        if \"pos\" in filename:\n",
    "            num_detected = 0\n",
    "            tot_pos += newpos\n",
    "            for prop in props:\n",
    "                if prop[\"area\"] > size_thresh:\n",
    "                    if num_detected < newpos:\n",
    "                        true_pos += 1\n",
    "                        num_detected += 1\n",
    "                    else:\n",
    "                        false_pos += 1\n",
    "        elif \"neg\" in filename:\n",
    "            for prop in props:\n",
    "                if prop[\"area\"] > size_thresh:\n",
    "                    false_pos += 1\n",
    "\n",
    "    recall = true_pos / tot_pos\n",
    "    recalls.append(recall)\n",
    "    if true_pos + false_pos == 0:\n",
    "        precision = 0\n",
    "    else:\n",
    "        precision = true_pos / (true_pos + false_pos)\n",
    "    precisions.append(precision)\n",
    "    if precision == 0 and recall == 0:\n",
    "        fscore = 0\n",
    "    else:\n",
    "        fscore = 2 * precision * recall / (precision + recall)\n",
    "    print(\n",
    "        f\"threshold: {threshold}: precision: {precision}, recall: {recall}, f-score: {fscore} for {tot_pos} positive samples in {len(test_files)} images\"\n",
    "    )\n",
    "\n",
    "fscores = [\n",
    "    2 * precision * recall / (precision + recall)\n",
    "    if (precision != 0 and recall != 0)\n",
    "    else 0\n",
    "    for precision, recall in zip(precisions, recalls)\n",
    "]\n",
    "dict = {\n",
    "    \"Recall\": recalls,\n",
    "    \"Precision\": precisions,\n",
    "    \"F-score\": fscores,\n",
    "    \"Threshold\": thresholds,\n",
    "}\n",
    "df = pd.DataFrame(dict)\n",
    "max_fscore = df[\"F-score\"].max()\n",
    "best_threshold = float(df.loc[df[\"F-score\"] == max_fscore][\"Threshold\"].iloc[0])\n",
    "best_rec = float(df.loc[df[\"F-score\"] == max_fscore][\"Recall\"].iloc[0])\n",
    "best_prec = float(df.loc[df[\"F-score\"] == max_fscore][\"Precision\"].iloc[0])\n",
    "sns.set(font_scale=2)\n",
    "\n",
    "plt.figure(figsize=(8, 8))\n",
    "sns.lineplot(data=df, x=\"Recall\", y=\"Precision\", estimator=np.amax, ci=False)\n",
    "plt.scatter(\n",
    "    best_rec,\n",
    "    best_prec,\n",
    "    c=\"r\",\n",
    "    label=f\"Max f-score: {max_fscore:.2f} thresh:{best_threshold:.2f}\",\n",
    ")\n",
    "plt.xlim([0, 1.1])\n",
    "plt.ylim([0, 1.1])\n",
    "plt.title(f\"Brain {brain} Validation: {tot_pos}+ {len(nonsoma_centers)}-\")\n",
    "plt.legend()"
   ]
  },
  {
   "cell_type": "markdown",
   "metadata": {},
   "source": [
    "## All validation for paper"
   ]
  },
  {
   "cell_type": "code",
   "execution_count": null,
   "metadata": {},
   "outputs": [],
   "source": [
    "channel = \"3channel\"\n",
    "brains = [\"r1\", \"r2\", \"8607\", \"8606\", \"8477\", \"8531\", \"8608\", \"8529\"]\n",
    "\n",
    "recalls = []\n",
    "precisions = []\n",
    "brain_ids = []\n",
    "\n",
    "best_precisions = []\n",
    "best_recalls = []\n",
    "best_fscores = {}\n",
    "\n",
    "for brain in brains:\n",
    "\n",
    "    files_dir = f\"/Users/thomasathey/Documents/mimlab/mouselight/ailey/detection_soma/brain{brain}/{channel}/test/\"\n",
    "    onlyfiles = [f for f in listdir(files_dir) if isfile(join(files_dir, f))]\n",
    "    # test_files = [f for f in onlyfiles if f[:4] == \"test\"]\n",
    "    test_files = [f for f in onlyfiles if \"Probabilities\" in f]  # \"probabilities\"\n",
    "    print(test_files)\n",
    "\n",
    "    best_fscore = 0\n",
    "\n",
    "    size_thresh = 500\n",
    "\n",
    "    thresholds = list(np.arange(0.0, 1.0, 0.02))\n",
    "\n",
    "    for threshold in thresholds:\n",
    "        tot_pos = 0\n",
    "        true_pos = 0\n",
    "        false_pos = 0\n",
    "        for filename in tqdm(test_files, disable=True):\n",
    "            if filename in doubles:\n",
    "                newpos = 2\n",
    "            else:\n",
    "                newpos = 1\n",
    "\n",
    "            fname = files_dir + filename\n",
    "            f = h5py.File(fname, \"r\")\n",
    "            pred = f.get(\"exported_data\")\n",
    "            pred = pred[0, :, :, :]\n",
    "            mask = pred > threshold\n",
    "            labels = measure.label(mask)\n",
    "            props = measure.regionprops(labels)\n",
    "\n",
    "            if \"pos\" in filename:\n",
    "                num_detected = 0\n",
    "                tot_pos += newpos\n",
    "                for prop in props:\n",
    "                    if prop[\"area\"] > size_thresh:\n",
    "                        if num_detected < newpos:\n",
    "                            true_pos += 1\n",
    "                            num_detected += 1\n",
    "                        else:\n",
    "                            false_pos += 1\n",
    "            elif \"neg\" in filename:\n",
    "                for prop in props:\n",
    "                    if prop[\"area\"] > size_thresh:\n",
    "                        false_pos += 1\n",
    "\n",
    "        recall = true_pos / tot_pos\n",
    "        recalls.append(recall)\n",
    "        if true_pos + false_pos == 0:\n",
    "            precision = 1\n",
    "        else:\n",
    "            precision = true_pos / (true_pos + false_pos)\n",
    "\n",
    "        precisions.append(precision)\n",
    "        if precision == 0 and recall == 0:\n",
    "            fscore = 0\n",
    "        else:\n",
    "            fscore = 2 * precision * recall / (precision + recall)\n",
    "\n",
    "        if fscore > best_fscore:\n",
    "            best_fscore = fscore\n",
    "            best_prec = precision\n",
    "            best_recall = recall\n",
    "\n",
    "        brain_ids.append(brain)\n",
    "    best_fscores[brain] = best_fscore\n",
    "    best_precisions.append(best_prec)\n",
    "    best_recalls.append(best_recall)\n",
    "\n",
    "\n",
    "for i, brain_id in enumerate(brain_ids):\n",
    "    brain_ids[i] = brain_id + f\" - Max F-score: {best_fscores[brain_id]:.2f}\"\n",
    "\n",
    "data = {\"Sample\": brain_ids, \"Recall\": recalls, \"Precision\": precisions}\n",
    "df = pd.DataFrame(data=data)\n",
    "\n",
    "sns.set(rc={\"figure.figsize\": (10, 7)})\n",
    "sns.set(font_scale=2)\n",
    "sns.lineplot(data=df, x=\"Recall\", y=\"Precision\", hue=\"Sample\", estimator=\"max\", ci=None)\n",
    "sns.scatterplot(x=best_recalls, y=best_precisions)"
   ]
  },
  {
   "cell_type": "markdown",
   "metadata": {},
   "source": [
    "## Examine best threshld"
   ]
  },
  {
   "cell_type": "code",
   "execution_count": 9,
   "metadata": {},
   "outputs": [
    {
     "name": "stdout",
     "output_type": "stream",
     "text": [
      "*************File: 524_2905_1616_neg_Probabilities.h5*********\n",
      "*************File: 2788_2774_983_neg_Probabilities.h5*********\n",
      "Nonsoma false positive Area: 1200\n",
      "*************File: 2228_3530_1735_pos_Probabilities.h5*********\n",
      "area of detected object: 2094\n",
      "*************File: 2351_3595_1781_pos_Probabilities.h5*********\n",
      "area of detected object: 589\n",
      "*************File: 3845_4368_1415_neg_Probabilities.h5*********\n",
      "Nonsoma false positive Area: 4088\n",
      "*************File: 2737_3167_1175_neg_Probabilities.h5*********\n",
      "*************File: 1265_3534_1791_neg_Probabilities.h5*********\n",
      "Nonsoma false positive Area: 3920\n",
      "*************File: 2432_2561_845_neg_Probabilities.h5*********\n",
      "*************File: 2129_3144_1496_pos_Probabilities.h5*********\n",
      "area of detected object: 1723\n",
      "*************File: 2327_3165_1473_pos_Probabilities.h5*********\n",
      "area of detected object: 1436\n",
      "*************File: 3075_4930_857_neg_Probabilities.h5*********\n",
      "*************File: 3027_4231_2458_neg_Probabilities.h5*********\n",
      "*************File: 1944_3331_1729_pos_Probabilities.h5*********\n",
      "area of detected object: 887\n",
      "*************File: 2064_3319_1756_pos_Probabilities.h5*********\n",
      "Soma false negative\n",
      "*************File: 3586_2556_1430_neg_Probabilities.h5*********\n",
      "*************File: 3231_3489_847_neg_Probabilities.h5*********\n",
      "Nonsoma false positive Area: 2064\n",
      "*************File: 1294_2471_1299_neg_Probabilities.h5*********\n",
      "*************File: 1986_3626_1751_pos_Probabilities.h5*********\n",
      "area of detected object: 1187\n",
      "*************File: 2431_3225_1735_pos_Probabilities.h5*********\n",
      "area of detected object: 1673\n",
      "*************File: 2330_3713_1895_neg_Probabilities.h5*********\n",
      "*************File: 516_4490_1507_neg_Probabilities.h5*********\n",
      "*************File: 2113_3353_1727_pos_Probabilities.h5*********\n",
      "area of detected object: 2340\n",
      "area of detected object: 905\n",
      "*************File: 2011_3452_1911_pos_Probabilities.h5*********\n",
      "area of detected object: 1795\n",
      "area of detected object: 857\n",
      "*************File: 3029_6676_1299_neg_Probabilities.h5*********\n",
      "*************File: 2337_3421_1784_pos_Probabilities.h5*********\n",
      "area of detected object: 1941\n",
      "*************File: 2026_3492_1753_pos_Probabilities.h5*********\n",
      "area of detected object: 835\n",
      "*************File: 2340_3392_1751_pos_Probabilities.h5*********\n",
      "area of detected object: 573\n",
      "*************File: 1968_3472_1784_pos_Probabilities.h5*********\n",
      "area of detected object: 507\n",
      "area of detected object: 555\n",
      "*************File: 2118_3553_1768_pos_Probabilities.h5*********\n",
      "area of detected object: 799\n",
      "*************File: 2187_3740_1474_pos_Probabilities.h5*********\n",
      "area of detected object: 2762\n",
      "*************File: 1956_3691_1885_neg_Probabilities.h5*********\n",
      "*************File: 3583_4751_1644_neg_Probabilities.h5*********\n",
      "*************File: 1661_2150_1868_neg_Probabilities.h5*********\n",
      "Nonsoma false positive Area: 3668\n",
      "*************File: 2182_3585_1751_pos_Probabilities.h5*********\n",
      "area of detected object: 1227\n",
      "*************File: 2286_1411_669_neg_Probabilities.h5*********\n",
      "*************File: 2131_3235_1474_pos_Probabilities.h5*********\n",
      "area of detected object: 1401\n",
      "*************File: 2332_2248_845_neg_Probabilities.h5*********\n",
      "*************File: 1507_6801_891_neg_Probabilities.h5*********\n",
      "*************File: 2670_4046_1510_neg_Probabilities.h5*********\n",
      "*************File: 1888_3099_1463_pos_Probabilities.h5*********\n",
      "Soma false negative\n",
      "*************File: 2061_3278_1747_pos_Probabilities.h5*********\n",
      "area of detected object: 1580\n",
      "*************File: 1949_3101_1456_pos_Probabilities.h5*********\n",
      "area of detected object: 1216\n",
      "*************File: 2378_3382_1756_pos_Probabilities.h5*********\n",
      "area of detected object: 557\n",
      "*************File: 2625_2199_2193_neg_Probabilities.h5*********\n",
      "Nonsoma false positive Area: 835\n",
      "*************File: 3429_2519_1299_neg_Probabilities.h5*********\n",
      "*************File: 2248_3582_1780_pos_Probabilities.h5*********\n",
      "area of detected object: 897\n",
      "*************File: 2228_3379_1783_pos_Probabilities.h5*********\n",
      "area of detected object: 1054\n",
      "*************File: 2101_3397_1747_pos_Probabilities.h5*********\n",
      "area of detected object: 1114\n",
      "area of detected object: 765\n",
      "*************File: 1970_3325_1756_pos_Probabilities.h5*********\n",
      "area of detected object: 626\n",
      "*************File: 2423_3617_1355_pos_Probabilities.h5*********\n",
      "area of detected object: 1017\n",
      "*************File: 3826_4434_1299_neg_Probabilities.h5*********\n",
      "*************File: 1951_2931_1314_pos_Probabilities.h5*********\n",
      "area of detected object: 4041\n",
      "*************File: 3195_2514_877_neg_Probabilities.h5*********\n",
      "*************File: 3777_5104_1885_neg_Probabilities.h5*********\n",
      "*************File: 1418_2637_1175_neg_Probabilities.h5*********\n",
      "*************File: 2498_2365_658_neg_Probabilities.h5*********\n",
      "Nonsoma false positive Area: 504\n",
      "*************File: 3875_4465_1510_neg_Probabilities.h5*********\n",
      "*************File: 1825_3768_1674_pos_Probabilities.h5*********\n",
      "area of detected object: 577\n",
      "*************File: 2101_3422_1756_pos_Probabilities.h5*********\n",
      "area of detected object: 927\n",
      "*************File: 2079_3676_1885_neg_Probabilities.h5*********\n"
     ]
    }
   ],
   "source": [
    "\n",
    "\n",
    "for filename in tqdm(test_files, disable=True):\n",
    "    print(f\"*************File: {filename}*********\")\n",
    "    if filename in doubles:\n",
    "        newpos = 2\n",
    "    else:\n",
    "        newpos = 1\n",
    "\n",
    "    im_fname = files_dir + filename[:-17] + \".h5\"\n",
    "    fname = files_dir + filename\n",
    "    f = h5py.File(fname, \"r\")\n",
    "    pred = f.get(\"exported_data\")\n",
    "    pred = pred[0, :, :, :]\n",
    "    mask = pred > best_threshold\n",
    "    labels = measure.label(mask)\n",
    "    props = measure.regionprops(labels)\n",
    "\n",
    "    if \"pos\" in filename:\n",
    "        num_detected = 0\n",
    "        tot_pos += newpos\n",
    "        for prop in props:\n",
    "            area = prop[\"area\"]\n",
    "            if area > size_thresh:\n",
    "                print(f\"area of detected object: {area}\")\n",
    "                if num_detected < newpos:\n",
    "                    true_pos += 1\n",
    "                    num_detected += 1\n",
    "                else:\n",
    "                    print(f\"Soma false positive Area: {area}\")\n",
    "                    f = h5py.File(im_fname, \"r\")\n",
    "                    im = f.get(\"image_3channel\")\n",
    "                    viewer = napari.Viewer(ndisplay=3)\n",
    "                    viewer.add_image(im[0, :, :, :], name=filename)\n",
    "                    viewer.add_image(im[1, :, :, :], name=\"bg\")\n",
    "                    viewer.add_image(im[2, :, :, :], name=\"endo\")\n",
    "                    viewer.add_labels(mask)\n",
    "                    viewer.add_labels(\n",
    "                        labels == prop[\"label\"],\n",
    "                        name=f\"soma false positive area: {area}\",\n",
    "                    )\n",
    "                    false_pos += 1\n",
    "        if num_detected == 0:\n",
    "            print(f\"Soma false negative\")\n",
    "            f = h5py.File(im_fname, \"r\")\n",
    "            im = f.get(\"image_3channel\")\n",
    "            viewer = napari.Viewer(ndisplay=3)\n",
    "            viewer.add_image(im[0, :, :, :], name=filename)\n",
    "            viewer.add_image(im[1, :, :, :], name=\"bg\")\n",
    "            viewer.add_image(im[2, :, :, :], name=\"endo\")\n",
    "            viewer.add_labels(mask, name=\"Soma false negative\")\n",
    "    elif \"neg\" in filename:\n",
    "        for prop in props:\n",
    "            area = prop[\"area\"]\n",
    "            if area > size_thresh:\n",
    "                print(f\"Nonsoma false positive Area: {area}\")\n",
    "                f = h5py.File(im_fname, \"r\")\n",
    "                im = f.get(\"image_3channel\")\n",
    "                viewer = napari.Viewer(ndisplay=3)\n",
    "                viewer.add_image(im[0, :, :, :], name=filename)\n",
    "                viewer.add_image(im[1, :, :, :], name=\"bg\")\n",
    "                viewer.add_image(im[2, :, :, :], name=\"endo\")\n",
    "                viewer.add_labels(mask)\n",
    "                viewer.add_labels(\n",
    "                    labels == prop[\"label\"], name=f\"nonsoma false positive area: {area}\"\n",
    "                )\n",
    "                false_pos += 1"
   ]
  },
  {
   "cell_type": "markdown",
   "metadata": {},
   "source": [
    "## Examine image"
   ]
  },
  {
   "cell_type": "code",
   "execution_count": null,
   "metadata": {},
   "outputs": [],
   "source": [
    "filename = \"2867_4336_1296_pos_Probabilities.h5\"\n",
    "im_fname = files_dir + filename[:-17] + \".h5\"\n",
    "f = h5py.File(im_fname, \"r\")\n",
    "im = f.get(\"image_3channel\")\n",
    "viewer = napari.Viewer(ndisplay=3)\n",
    "viewer.add_image(im[0, :, :, :])\n",
    "viewer.add_image(im[1, :, :, :])\n",
    "viewer.add_image(im[2, :, :, :])"
   ]
  },
  {
   "cell_type": "markdown",
   "metadata": {},
   "source": [
    "## make point layer - ?????"
   ]
  },
  {
   "cell_type": "code",
   "execution_count": null,
   "metadata": {},
   "outputs": [],
   "source": [
    "point_path = \"precomputed://https://dlab-colm.neurodata.io/2021_10_06/8557/point_preds\"\n",
    "info = CloudVolume.create_new_info(\n",
    "    num_channels=1,\n",
    "    layer_type=\"segmentation\",\n",
    "    data_type=\"uint64\",  # Channel images might be 'uint8'\n",
    "    # raw, jpeg, compressed_segmentation, fpzip, kempressed, compresso\n",
    "    encoding=\"raw\",\n",
    "    resolution=[4, 4, 40],  # Voxel scaling, units are in nanometers\n",
    "    voxel_offset=[0, 0, 0],  # x,y,z offset in voxels from the origin\n",
    "    mesh=\"mesh\",\n",
    "    # Pick a convenient size for your underlying chunk representation\n",
    "    # Powers of two are recommended, doesn't need to cover image exactly\n",
    "    chunk_size=[512, 512, 16],  # units are voxels\n",
    "    volume_size=[250000, 250000, 25000],  # e.g. a cubic millimeter dataset\n",
    ")\n",
    "vol = CloudVolume(point_path, info=info)\n",
    "vol.commit_info()"
   ]
  },
  {
   "cell_type": "code",
   "execution_count": null,
   "metadata": {},
   "outputs": [],
   "source": [
    "new_somas = []\n",
    "for soma in somas:\n",
    "    if soma[2] <= 3000:\n",
    "        new_somas.append(soma)\n",
    "len(new_somas)"
   ]
  },
  {
   "cell_type": "code",
   "execution_count": null,
   "metadata": {},
   "outputs": [],
   "source": [
    "soma_ra = np.array(new_somas)\n",
    "plt.hist(soma_ra[:, 2])"
   ]
  },
  {
   "cell_type": "code",
   "execution_count": null,
   "metadata": {},
   "outputs": [],
   "source": [
    "import napari\n",
    "\n",
    "viewer = napari.Viewer(ndisplay=3)"
   ]
  },
  {
   "cell_type": "markdown",
   "metadata": {},
   "source": [
    "# Download slices"
   ]
  },
  {
   "cell_type": "code",
   "execution_count": null,
   "metadata": {},
   "outputs": [],
   "source": [
    "im_fg = vol_fg[3100:3500, 4500:4900, 1400:1800, 0]\n",
    "im_bg = vol_bg[3100:3500, 4500:4900, 1400:1800, 0]\n",
    "im_endo = vol_endo[3100:3500, 4500:4900, 1400:1800, 0]\n",
    "\n",
    "viewer = napari.Viewer(ndisplay=3)\n",
    "viewer.add_image(np.squeeze(im_fg))\n",
    "viewer.add_image(np.squeeze(im_bg))\n",
    "viewer.add_image(np.squeeze(im_endo))"
   ]
  },
  {
   "cell_type": "markdown",
   "metadata": {},
   "source": [
    "## Check ilastik"
   ]
  },
  {
   "cell_type": "code",
   "execution_count": null,
   "metadata": {},
   "outputs": [],
   "source": [
    "im_fg = vol_fg[3100:3500, 4500:4900, 1400:1800, 0]\n",
    "im_bg = vol_bg[3100:3500, 4500:4900, 1400:1800, 0]\n",
    "im_endo = vol_endo[3100:3500, 4500:4900, 1400:1800, 0]\n",
    "\n",
    "image = np.squeeze(np.stack([im_fg, im_bg, im_endo], axis=0))\n",
    "fname = \"/Users/thomasathey/Desktop/im.h5\"\n",
    "\n",
    "with h5py.File(fname, \"w\") as f:\n",
    "    dset = f.create_dataset(\"image_3channel\", data=image)\n",
    "\n",
    "subprocess.run(\n",
    "    [\n",
    "        \"/Applications/ilastik-1.3.3post3-OSX.app/Contents/ilastik-release/run_ilastik.sh\",\n",
    "        \"--headless\",\n",
    "        \"--project=/Users/thomasathey/Documents/mimlab/mouselight/ailey/soma_detection/matt_soma_rabies_pix_3ch.ilp\",\n",
    "        fname,\n",
    "    ],\n",
    "    stdout=subprocess.PIPE,\n",
    "    stderr=subprocess.PIPE,\n",
    ")"
   ]
  },
  {
   "cell_type": "code",
   "execution_count": null,
   "metadata": {},
   "outputs": [],
   "source": [
    "f = h5py.File(\"/Users/thomasathey/Desktop/im_Probabilities.h5\", \"r\")\n",
    "pred = f.get(\"exported_data\")\n",
    "\n",
    "pred = pred[0, :, :, :]\n",
    "\n",
    "mask = pred > 0.55\n",
    "labels = measure.label(mask)\n",
    "props = measure.regionprops(labels)\n",
    "\n",
    "results = []\n",
    "for prop in props:\n",
    "    if prop[\"area\"] > 500:\n",
    "        location = list(np.add((0, 0, 0), prop[\"centroid\"]))\n",
    "        print(location)\n",
    "\n",
    "viewer = napari.Viewer(ndisplay=3)\n",
    "viewer.add_image(np.squeeze(im_fg))\n",
    "viewer.add_labels(mask)"
   ]
  },
  {
   "cell_type": "code",
   "execution_count": null,
   "metadata": {},
   "outputs": [],
   "source": [
    "import math\n",
    "import numpy as np\n",
    "\n",
    "new_pts = []\n",
    "for point in a:\n",
    "    first = math.isclose(point[0], int(point[0]))\n",
    "    second = math.isclose(np.abs(point[1] - int(point[1])), 0.5)\n",
    "    third = math.isclose(np.abs(point[2] - int(point[2])), 0.5)\n",
    "    if first and second and third:\n",
    "        continue\n",
    "    else:\n",
    "        new_pts.append(point)"
   ]
  },
  {
   "cell_type": "code",
   "execution_count": null,
   "metadata": {},
   "outputs": [],
   "source": [
    "from cloudvolume import CloudVolume\n",
    "import numpy as np\n",
    "from skimage import io\n",
    "import napari\n",
    "\n",
    "subvol_number = -1  # change value here for different center point, valid values 0-9\n",
    "r = 400  # change for voxel radius\n",
    "\n",
    "vol = CloudVolume(\n",
    "    \"precomputed://https://dlab-colm.neurodata.io/2021_10_06/8557/Ch_647\",\n",
    "    parallel=1,\n",
    "    mip=0,\n",
    "    fill_missing=False,\n",
    ")\n",
    "print(f\"Total volume size: {vol.shape}\")\n",
    "\n",
    "\n",
    "centers = [\n",
    "    [1042.743408203125, 2647.38671875, 1224.5],\n",
    "    [2430.76171875, 3053.81494140625, 713.5],\n",
    "    [1780.8623046875, 2691.490234375, 1538.5001220703125],\n",
    "    [1642.8656005859375, 3693.246337890625, 1540.4998779296875],\n",
    "    [1924.112060546875, 2812.427978515625, 1539.5],\n",
    "    [2228.993896484375, 3124.892333984375, 710.4999389648438],\n",
    "    [976.0220336914062, 2615.152587890625, 1295.4998779296875],\n",
    "    [2973.654296875, 5300.09912109375, 900.5],\n",
    "    [3070.7158203125, 5557.70166015625, 1127.5000610351562],\n",
    "    [780.11474609375, 2957.698486328125, 1287.5],\n",
    "]\n",
    "\n",
    "center = centers[subvol_number]\n",
    "center = [int(c) for c in center]\n",
    "\n",
    "center = [536, 6588, 2800]\n",
    "\n",
    "lower = [c - r for c in center]\n",
    "upper = [c + r for c in center]\n",
    "print(f\"Downloading bbox: {lower} to {upper}\")\n",
    "\n",
    "\n",
    "im = vol[lower[0] : upper[0], lower[1] : upper[1], lower[2] : upper[2], 0]\n",
    "im = np.squeeze(im)\n",
    "\n",
    "\n",
    "viewer = napari.Viewer(ndisplay=3)\n",
    "viewer.add_image(im)"
   ]
  },
  {
   "cell_type": "code",
   "execution_count": null,
   "metadata": {},
   "outputs": [],
   "source": [
    "import napari\n",
    "\n",
    "viewer = napari.Viewer(ndisplay=3)\n",
    "viewer.add_image(im)"
   ]
  },
  {
   "cell_type": "code",
   "execution_count": null,
   "metadata": {},
   "outputs": [],
   "source": [
    "import matplotlib.pyplot as plt\n",
    "import numpy as np\n",
    "from scipy.stats import pearsonr\n",
    "\n",
    "heights = np.array(\n",
    "    [70, 67, 73, 70, 66, 67, 68, 68, 74, 69, 71, 67, 70, 67, 67, 70, 67, 72, 71, 71]\n",
    ")\n",
    "bouldering = np.arange(1, len(heights) + 1)\n",
    "lead = np.array([11, 14, 4, 15, 2, 6, 1, 7, 9, 16, 5, 17, 12, 3, 8, 10, 13, 20, 19, 18])\n",
    "speed = [3, 2, 18, 16, 6, 19, 12, 20, 11, 5, 10, 15, 8, 7, 14, 9, 4, 1, 17, 13]\n",
    "\n",
    "\n",
    "fig, axs = plt.subplots(1, 3)\n",
    "m, b = np.polyfit(heights, bouldering, 1)\n",
    "coef, p = pearsonr(heights, bouldering)\n",
    "axs[0].scatter(heights, bouldering)\n",
    "axs[0].plot(heights, m * heights + b, label=f\"m={m:.2f}, coef={coef:.2f}, p={p:.2f}\")\n",
    "axs[0].set_title(\"Bouldering\")\n",
    "axs[0].set_ylabel(\"Finish in Olympic Qualifying Round\")\n",
    "axs[0].set_xlabel(\"Height (in.)\")\n",
    "axs[0].legend()\n",
    "\n",
    "m, b = np.polyfit(heights, lead, 1)\n",
    "coef, p = pearsonr(heights, lead)\n",
    "axs[1].scatter(heights, lead)\n",
    "axs[1].plot(heights, m * heights + b, label=f\"m={m:.2f}, coef={coef:.2f}, p={p:.2f}\")\n",
    "axs[1].set_title(\"Lead Climbing\")\n",
    "axs[1].legend()\n",
    "\n",
    "m, b = np.polyfit(heights, speed, 1)\n",
    "coef, p = pearsonr(heights, speed)\n",
    "axs[2].scatter(heights, speed)\n",
    "axs[2].plot(heights, m * heights + b, label=f\"m={m:.2f}, coef={coef:.2f}, p={p:.2f}\")\n",
    "axs[2].set_title(\"Speed Climbing\")\n",
    "axs[2].legend()\n",
    "fig.set_figwidth(15)"
   ]
  },
  {
   "cell_type": "code",
   "execution_count": null,
   "metadata": {},
   "outputs": [],
   "source": [
    "np.cov(heights, lead)"
   ]
  },
  {
   "cell_type": "markdown",
   "metadata": {},
   "source": [
    "axon mapping"
   ]
  },
  {
   "cell_type": "code",
   "execution_count": null,
   "metadata": {},
   "outputs": [],
   "source": [
    "vol = CloudVolume(\n",
    "    \"precomputed://https://open-neurodata.s3.amazonaws.com/brainlit/brain1_segments\",\n",
    "    mip=0,\n",
    ")"
   ]
  },
  {
   "cell_type": "code",
   "execution_count": null,
   "metadata": {},
   "outputs": [],
   "source": [
    "np.divide(vol.skeleton.get(2).vertices, vol.resolution)"
   ]
  },
  {
   "cell_type": "code",
   "execution_count": null,
   "metadata": {},
   "outputs": [],
   "source": [
    "vol.skeleton.get(2).vertices"
   ]
  },
  {
   "cell_type": "code",
   "execution_count": null,
   "metadata": {},
   "outputs": [],
   "source": [
    "vol.resolution"
   ]
  },
  {
   "cell_type": "code",
   "execution_count": null,
   "metadata": {},
   "outputs": [],
   "source": [
    "vol.voxel_offset"
   ]
  },
  {
   "cell_type": "code",
   "execution_count": null,
   "metadata": {},
   "outputs": [],
   "source": [
    "vol.skeleton.get(2)"
   ]
  }
 ],
 "metadata": {
  "interpreter": {
   "hash": "5dc00d68ff54f8375e99934614da4863299fb9e10af4294c095b7f517546ff26"
  },
  "kernelspec": {
   "display_name": "Python 3.8.10 64-bit ('docs_env': venv)",
   "name": "python3"
  },
  "language_info": {
   "codemirror_mode": {
    "name": "ipython",
    "version": 3
   },
   "file_extension": ".py",
   "mimetype": "text/x-python",
   "name": "python",
   "nbconvert_exporter": "python",
   "pygments_lexer": "ipython3",
   "version": "3.8.10"
  },
  "orig_nbformat": 4
 },
 "nbformat": 4,
 "nbformat_minor": 2
}
