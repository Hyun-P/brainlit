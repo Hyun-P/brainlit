{
 "cells": [
  {
   "cell_type": "code",
   "execution_count": 1,
   "id": "cd35537c",
   "metadata": {},
   "outputs": [
    {
     "name": "stderr",
     "output_type": "stream",
     "text": [
      "/Users/shrey2/opt/anaconda3/envs/nd/lib/python3.9/site-packages/nilearn/datasets/__init__.py:93: FutureWarning: Fetchers from the nilearn.datasets module will be updated in version 0.9 to return python strings instead of bytes and Pandas dataframes instead of Numpy arrays.\n",
      "  warn(\"Fetchers from the nilearn.datasets module will be \"\n"
     ]
    }
   ],
   "source": [
    "from brainlit.utils.cnn_segmentation import *\n",
    "from brainlit.utils import make_masks\n",
    "\n",
    "import warnings\n",
    "\n",
    "warnings.filterwarnings(\"ignore\")"
   ]
  },
  {
   "cell_type": "markdown",
   "id": "892b6c02",
   "metadata": {},
   "source": [
    "### Downloading Benchmarking Data"
   ]
  },
  {
   "cell_type": "code",
   "execution_count": 2,
   "id": "f089bd1a",
   "metadata": {},
   "outputs": [],
   "source": [
    "import boto3\n",
    "from botocore import UNSIGNED\n",
    "from botocore.client import Config\n",
    "import os\n",
    "from pathlib import Path\n",
    "import numpy as np\n",
    "from skimage import io\n",
    "from tqdm import tqdm"
   ]
  },
  {
   "cell_type": "code",
   "execution_count": 3,
   "id": "ec1b7beb",
   "metadata": {},
   "outputs": [
    {
     "name": "stdout",
     "output_type": "stream",
     "text": [
      "Downloading segments to /Users/shrey2/Documents/NDD/brainlit/experiments/pytorch_model/data\n"
     ]
    }
   ],
   "source": [
    "cwd = Path(os.path.abspath(\"\"))\n",
    "data_dir = os.path.join(cwd, \"data\")\n",
    "print(f\"Downloading segments to {data_dir}\")\n",
    "if not os.path.exists(data_dir):\n",
    "    os.makedirs(data_dir)\n",
    "\n",
    "im_dir = Path(os.path.join(data_dir, \"sample-tif-location\"))\n",
    "if not os.path.exists(im_dir):\n",
    "    os.makedirs(im_dir)\n",
    "\n",
    "swc_dir = Path(os.path.join(data_dir, \"sample-swc-location\"))\n",
    "if not os.path.exists(swc_dir):\n",
    "    os.makedirs(swc_dir)"
   ]
  },
  {
   "cell_type": "code",
   "execution_count": 4,
   "id": "bb987499",
   "metadata": {},
   "outputs": [
    {
     "name": "stderr",
     "output_type": "stream",
     "text": [
      "52it [11:33, 13.34s/it]\n"
     ]
    }
   ],
   "source": [
    "s3 = boto3.resource(\"s3\", config=Config(signature_version=UNSIGNED))\n",
    "bucket = s3.Bucket(\"open-neurodata\")\n",
    "prefix = \"brainlit/benchmarking_data/tif-files\"  # use this for windows\n",
    "# prefix = os.path.join(\"brainlit\", \"benchmarking_data\", \"tif-files\") #use this for mac/linux\n",
    "im_count = 0\n",
    "for _ in bucket.objects.filter(Prefix=prefix):\n",
    "    im_count += 1\n",
    "for i, im_obj in enumerate(tqdm(bucket.objects.filter(Prefix=prefix))):\n",
    "    if im_obj.key[-4:] == \".tif\":\n",
    "        im_name = os.path.basename(im_obj.key)\n",
    "        im_path = os.path.join(im_dir, im_name)\n",
    "        bucket.download_file(im_obj.key, im_path)"
   ]
  },
  {
   "cell_type": "code",
   "execution_count": 5,
   "id": "1203860b",
   "metadata": {},
   "outputs": [
    {
     "name": "stderr",
     "output_type": "stream",
     "text": [
      "601it [00:53, 11.24it/s]\n"
     ]
    }
   ],
   "source": [
    "s3 = boto3.resource(\"s3\", config=Config(signature_version=UNSIGNED))\n",
    "bucket = s3.Bucket(\"open-neurodata\")\n",
    "prefix = \"brainlit/benchmarking_data/Manual-GT\"  # use this for windows\n",
    "# prefix = os.path.join(\"brainlit\", \"benchmarking_data\", \"Manual-GT\") #use this for mac/linux\n",
    "swc_count = 0\n",
    "for _ in bucket.objects.filter(Prefix=prefix):\n",
    "    swc_count += 1\n",
    "for i, swc_obj in enumerate(tqdm(bucket.objects.filter(Prefix=prefix))):\n",
    "    if swc_obj.key[-4:] == \".swc\":\n",
    "        idx = swc_obj.key.find(\"Manual-GT\")\n",
    "        swc_name = swc_obj.key[idx:]\n",
    "        swc_path = os.path.join(swc_dir, swc_name)\n",
    "        dir = os.path.dirname(swc_path)\n",
    "        if not os.path.exists(dir):\n",
    "            os.makedirs(dir)\n",
    "        bucket.download_file(swc_obj.key, swc_path)"
   ]
  },
  {
   "cell_type": "code",
   "execution_count": 6,
   "id": "374d960c",
   "metadata": {},
   "outputs": [],
   "source": [
    "# creating image masks\n",
    "make_masks(data_dir)"
   ]
  },
  {
   "cell_type": "markdown",
   "id": "dbd22cc6",
   "metadata": {},
   "source": [
    "### Preprocessing data (preprocess.py)"
   ]
  },
  {
   "cell_type": "code",
   "execution_count": 7,
   "id": "436c14f6",
   "metadata": {},
   "outputs": [
    {
     "data": {
      "application/vnd.jupyter.widget-view+json": {
       "model_id": "50cc88076eb74b669a933068d2eaf18a",
       "version_major": 2,
       "version_minor": 0
      },
      "text/plain": [
       "  0%|          | 0/50 [00:00<?, ?it/s]"
      ]
     },
     "metadata": {},
     "output_type": "display_data"
    }
   ],
   "source": [
    "# getting images and masks\n",
    "X_img, y_mask = get_img_and_mask(data_dir)"
   ]
  },
  {
   "cell_type": "code",
   "execution_count": 8,
   "id": "6b36feed",
   "metadata": {},
   "outputs": [],
   "source": [
    "# train/test split of specified test size\n",
    "X_train, y_train, X_test, y_test = train_test_split(X_img, y_mask, test_percent=0.25)"
   ]
  },
  {
   "cell_type": "code",
   "execution_count": 9,
   "id": "15ec1f3c",
   "metadata": {},
   "outputs": [],
   "source": [
    "# getting training subvolumes <- can skip if you do want to train on whole image\n",
    "X_train_subvolumes, y_train_subvolumes = get_subvolumes(\n",
    "    X_train, y_train, x_dim=66, y_dim=66, z_dim=20\n",
    ")"
   ]
  },
  {
   "cell_type": "code",
   "execution_count": 10,
   "id": "c746c8b2",
   "metadata": {},
   "outputs": [
    {
     "name": "stdout",
     "output_type": "stream",
     "text": [
      "Training features shape: torch.Size([1, 4250, 66, 66, 20])\n",
      "Testing features shape: torch.Size([1, 12, 330, 330, 100])\n",
      "Using cpu device\n"
     ]
    }
   ],
   "source": [
    "# getting torch objects\n",
    "train_dataloader, test_dataloader = getting_torch_objects(\n",
    "    X_train_subvolumes, y_train_subvolumes, X_test, y_test\n",
    ")"
   ]
  },
  {
   "cell_type": "markdown",
   "id": "619aa323",
   "metadata": {},
   "source": [
    "### Training model (performance.py)"
   ]
  },
  {
   "cell_type": "code",
   "execution_count": 11,
   "id": "bb693d60",
   "metadata": {},
   "outputs": [
    {
     "name": "stdout",
     "output_type": "stream",
     "text": [
      "NeuralNetwork(\n",
      "  (linear_relu_stack): Sequential(\n",
      "    (0): Conv3d(1, 1, kernel_size=(3, 3, 3), stride=(1, 1, 1), padding=(1, 1, 1))\n",
      "  )\n",
      ")\n"
     ]
    }
   ],
   "source": [
    "# Define your own neural network architecture here\n",
    "\n",
    "\n",
    "class NeuralNetwork(nn.Module):\n",
    "    def __init__(self):\n",
    "        super(NeuralNetwork, self).__init__()\n",
    "        self.linear_relu_stack = nn.Sequential(\n",
    "            nn.Conv3d(1, 1, kernel_size=3, stride=1, padding=1),\n",
    "        )\n",
    "\n",
    "    def forward(self, x):\n",
    "        logits = self.linear_relu_stack(x)\n",
    "        self.Sigmoid = nn.Sigmoid()\n",
    "        logits = self.Sigmoid(logits)\n",
    "        return logits\n",
    "\n",
    "\n",
    "device = \"cuda\" if torch.cuda.is_available() else \"cpu\"\n",
    "model = NeuralNetwork().to(device)\n",
    "print(model)"
   ]
  },
  {
   "cell_type": "code",
   "execution_count": 12,
   "id": "badb0e38",
   "metadata": {},
   "outputs": [
    {
     "name": "stderr",
     "output_type": "stream",
     "text": [
      "\r",
      "  0%|                                                     | 0/3 [00:00<?, ?it/s]"
     ]
    },
    {
     "name": "stdout",
     "output_type": "stream",
     "text": [
      "Epoch 1\n",
      "-------------------------------\n"
     ]
    },
    {
     "name": "stderr",
     "output_type": "stream",
     "text": [
      "\r",
      " 33%|███████████████                              | 1/3 [00:14<00:29, 14.51s/it]"
     ]
    },
    {
     "name": "stdout",
     "output_type": "stream",
     "text": [
      "Avg test loss: 0.9932302584250768\n",
      "Epoch 2\n",
      "-------------------------------\n"
     ]
    },
    {
     "name": "stderr",
     "output_type": "stream",
     "text": [
      "\r",
      " 67%|██████████████████████████████               | 2/3 [00:28<00:14, 14.47s/it]"
     ]
    },
    {
     "name": "stdout",
     "output_type": "stream",
     "text": [
      "Avg test loss: 0.9930826673905054\n",
      "Epoch 3\n",
      "-------------------------------\n"
     ]
    },
    {
     "name": "stderr",
     "output_type": "stream",
     "text": [
      "100%|█████████████████████████████████████████████| 3/3 [00:46<00:00, 15.59s/it]"
     ]
    },
    {
     "name": "stdout",
     "output_type": "stream",
     "text": [
      "Avg test loss: 0.9929339289665222\n",
      "Done!\n"
     ]
    },
    {
     "name": "stderr",
     "output_type": "stream",
     "text": [
      "\n"
     ]
    }
   ],
   "source": [
    "# loss_fn = nn.BCELoss()\n",
    "loss_fn = DiceLoss()\n",
    "learning_rate = 0.09\n",
    "optimizer = torch.optim.SGD(model.parameters(), lr=learning_rate)\n",
    "epochs = 3\n",
    "\n",
    "pred_list = []\n",
    "y_list = []\n",
    "loss_list = []\n",
    "\n",
    "for t in tqdm(range(epochs)):\n",
    "    print(f\"Epoch {t+1}\\n-------------------------------\")\n",
    "    train_loop(train_dataloader, model, loss_fn, optimizer)\n",
    "    x_list, y_pred, y, loss = test_loop(test_dataloader, model, loss_fn)\n",
    "\n",
    "    pred_list.append(y_pred)\n",
    "    y_list.append(y)\n",
    "    loss_list.append(loss)\n",
    "\n",
    "print(\"Done!\")"
   ]
  },
  {
   "cell_type": "code",
   "execution_count": 13,
   "id": "eb5bed4a",
   "metadata": {
    "scrolled": true
   },
   "outputs": [
    {
     "data": {
      "application/vnd.jupyter.widget-view+json": {
       "model_id": "b1b35fae71f74ec5b744808b1831acc5",
       "version_major": 2,
       "version_minor": 0
      },
      "text/plain": [
       "  0%|          | 0/3 [00:00<?, ?it/s]"
      ]
     },
     "metadata": {},
     "output_type": "display_data"
    },
    {
     "data": {
      "application/vnd.jupyter.widget-view+json": {
       "model_id": "239f3762a7164837b12c8688b7721f86",
       "version_major": 2,
       "version_minor": 0
      },
      "text/plain": [
       "  0%|          | 0/12 [00:00<?, ?it/s]"
      ]
     },
     "metadata": {},
     "output_type": "display_data"
    },
    {
     "data": {
      "application/vnd.jupyter.widget-view+json": {
       "model_id": "15c7f1d5c9e6490d9e6852c0d3205463",
       "version_major": 2,
       "version_minor": 0
      },
      "text/plain": [
       "  0%|          | 0/12 [00:00<?, ?it/s]"
      ]
     },
     "metadata": {},
     "output_type": "display_data"
    },
    {
     "data": {
      "application/vnd.jupyter.widget-view+json": {
       "model_id": "f573f2bfed254848a91ae709ef55e0c1",
       "version_major": 2,
       "version_minor": 0
      },
      "text/plain": [
       "  0%|          | 0/12 [00:00<?, ?it/s]"
      ]
     },
     "metadata": {},
     "output_type": "display_data"
    },
    {
     "name": "stdout",
     "output_type": "stream",
     "text": [
      "Accuracy at epoch 2 is 69.84087465564738\n",
      "Precision at epoch 2 is 8.873433632571595\n",
      "Recall at epoch 2 is 69.81770947917717\n",
      "Percent nonzero at epoch 2 is 30.34612182430364\n"
     ]
    },
    {
     "data": {
      "application/vnd.jupyter.widget-view+json": {
       "model_id": "6c38cf6e3d874e88a8f83faf138abf9d",
       "version_major": 2,
       "version_minor": 0
      },
      "text/plain": [
       "  0%|          | 0/12 [00:00<?, ?it/s]"
      ]
     },
     "metadata": {},
     "output_type": "display_data"
    },
    {
     "data": {
      "image/png": "[encoded data removed]",
      "text/plain": [
       "<Figure size 432x288 with 1 Axes>"
      ]
     },
     "metadata": {
      "needs_background": "light"
     },
     "output_type": "display_data"
    },
    {
     "data": {
      "image/png": "[encoded data removed]",
      "text/plain": [
       "<Figure size 432x288 with 1 Axes>"
      ]
     },
     "metadata": {
      "needs_background": "light"
     },
     "output_type": "display_data"
    },
    {
     "data": {
      "image/png": "[encoded data removed]",
      "text/plain": [
       "<Figure size 432x288 with 1 Axes>"
      ]
     },
     "metadata": {
      "needs_background": "light"
     },
     "output_type": "display_data"
    },
    {
     "data": {
      "image/png": "[encoded data removed]",
      "text/plain": [
       "<Figure size 432x288 with 1 Axes>"
      ]
     },
     "metadata": {
      "needs_background": "light"
     },
     "output_type": "display_data"
    },
    {
     "data": {
      "image/png": "[encoded data removed]",
      "text/plain": [
       "<Figure size 432x288 with 1 Axes>"
      ]
     },
     "metadata": {
      "needs_background": "light"
     },
     "output_type": "display_data"
    },
    {
     "data": {
      "image/png": "[encoded data removed]",
      "text/plain": [
       "<Figure size 432x288 with 1 Axes>"
      ]
     },
     "metadata": {
      "needs_background": "light"
     },
     "output_type": "display_data"
    },
    {
     "data": {
      "image/png": "[encoded data removed]",
      "text/plain": [
       "<Figure size 432x288 with 1 Axes>"
      ]
     },
     "metadata": {
      "needs_background": "light"
     },
     "output_type": "display_data"
    }
   ],
   "source": [
    "# getting performance metrics over all epochs\n",
    "acc_list, precision_list, recall_list, percent_nonzero = get_metrics(pred_list, y_list)\n",
    "\n",
    "# printing performance metrics from specific epoch\n",
    "quick_stats(\"all\", 2, acc_list, precision_list, recall_list, percent_nonzero)\n",
    "\n",
    "# plotting metrics\n",
    "plot_metrics_over_epoch(\n",
    "    loss_list, acc_list, precision_list, recall_list, percent_nonzero\n",
    ")\n",
    "\n",
    "# plotting precision/recall histograms\n",
    "plot_pr_histograms(pred_list, y_list)"
   ]
  },
  {
   "cell_type": "code",
   "execution_count": 14,
   "id": "1835b0b7",
   "metadata": {},
   "outputs": [],
   "source": [
    "# plotting with napari\n",
    "plot_with_napari(x_list, pred_list, y_list)"
   ]
  },
  {
   "cell_type": "code",
   "execution_count": null,
   "id": "08f8e790",
   "metadata": {},
   "outputs": [],
   "source": []
  }
 ],
 "metadata": {
  "kernelspec": {
   "display_name": "Python 3 (ipykernel)",
   "language": "python",
   "name": "python3"
  },
  "language_info": {
   "codemirror_mode": {
    "name": "ipython",
    "version": 3
   },
   "file_extension": ".py",
   "mimetype": "text/x-python",
   "name": "python",
   "nbconvert_exporter": "python",
   "pygments_lexer": "ipython3",
   "version": "3.9.7"
  }
 },
 "nbformat": 4,
 "nbformat_minor": 5
}
