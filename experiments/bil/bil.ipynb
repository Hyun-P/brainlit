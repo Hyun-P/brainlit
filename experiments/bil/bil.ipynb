{
 "cells": [
  {
   "cell_type": "code",
   "execution_count": null,
   "metadata": {},
   "outputs": [],
   "source": [
    "import napari\n",
    "import PIL.Image\n",
    "import numpy as np\n",
    "\n",
    "PIL.Image.MAX_IMAGE_PIXELS = 1056323868\n",
    "\n",
    "v = napari.Viewer()\n",
    "\n",
    "# lab = np.zeros((109, 2800, 1987), dtype='int')\n",
    "# lab[10:90,100:2700,100:1900] = 1\n",
    "# v.add_labels(lab, scale=(100,3.5,3.5))"
   ]
  },
  {
   "cell_type": "code",
   "execution_count": null,
   "metadata": {},
   "outputs": [],
   "source": [
    "import zarr\n",
    "from skimage import io\n",
    "from skimage import measure\n",
    "from tqdm import tqdm\n",
    "import h5py\n",
    "import numpy as np"
   ]
  },
  {
   "cell_type": "markdown",
   "metadata": {},
   "source": [
    "## convert ilastik output to labels in tif format"
   ]
  },
  {
   "cell_type": "code",
   "execution_count": null,
   "metadata": {},
   "outputs": [],
   "source": [
    "\n",
    "\n",
    "f = h5py.File(\n",
    "    \"/Users/thomasathey/Documents/mimlab/mouselight/BIL/labels/191815_05401_CH1_Simple Segmentation.h5\",\n",
    "    \"r\",\n",
    ")\n",
    "pred = f.get(\"exported_data\")\n",
    "pred = pred[:, :, 0]\n",
    "mask = pred == 1\n",
    "mask = mask.astype(\"int32\")\n",
    "labels = measure.label(mask)\n",
    "io.imsave(\"/Users/thomasathey/Documents/mimlab/mouselight/BIL/labels/54_comps.tif\", labels)"
   ]
  },
  {
   "cell_type": "markdown",
   "metadata": {},
   "source": [
    "## write zarr"
   ]
  },
  {
   "cell_type": "code",
   "execution_count": null,
   "metadata": {},
   "outputs": [],
   "source": [
    "zarr_labels = zarr.zeros((109, 28001, 19868), chunks=(1,1000,1000), dtype='i4')\n",
    "\n",
    "for z in tqdm(range(52, 57)):\n",
    "    labels = io.imread(\"/Users/thomasathey/Documents/mimlab/mouselight/BIL/labels/\" + str(z) + \"_comps.tif\")\n",
    "    zarr_labels[z,:,:] = labels\n",
    "\n",
    "zarr.save('/Users/thomasathey/Documents/mimlab/mouselight/BIL/labels/labels_zarr.zarr', zarr_labels)"
   ]
  },
  {
   "cell_type": "code",
   "execution_count": null,
   "metadata": {},
   "outputs": [],
   "source": [
    "zarr_image = zarr.zeros((109, 28001, 19868), chunks=(1,1000,1000), dtype='i4')\n",
    "\n",
    "for z in tqdm(range(52, 57)):\n",
    "    image = io.imread(\"/Users/thomasathey/Documents/mimlab/mouselight/BIL/labels/191815_0\" + str(z) + \"01_CH1.tif\")\n",
    "    zarr_image[z,:,:] = image\n",
    "\n",
    "#zarr.save('/Users/thomasathey/Documents/mimlab/mouselight/BIL/labels/image_zarr.zarr', zarr_image)"
   ]
  },
  {
   "cell_type": "code",
   "execution_count": null,
   "metadata": {},
   "outputs": [],
   "source": [
    "import zarr\n",
    "zarr_image = zarr.open(\"/Users/thomasathey/Documents/mimlab/mouselight/BIL/labels/labels_zarr.zarr\")\n",
    "zarr_image.shape\n"
   ]
  },
  {
   "cell_type": "code",
   "execution_count": null,
   "metadata": {},
   "outputs": [],
   "source": [
    "zarr_image.shape"
   ]
  },
  {
   "cell_type": "code",
   "execution_count": null,
   "metadata": {},
   "outputs": [],
   "source": [
    "for x1 in range(0, 20000,2000):\n",
    "    x2 = np.amin([x1+2000, zarr_image.shape[2]])\n",
    "    im = zarr_image[52:57,:,x1:x2]\n",
    "    fname = \"/Users/thomasathey/Documents/mimlab/mouselight/BIL/labels/ilastik/\" + str(x1) + \".tif\"\n",
    "    io.imsave(fname, im)"
   ]
  },
  {
   "cell_type": "code",
   "execution_count": null,
   "metadata": {},
   "outputs": [],
   "source": [
    "zarr_probs = zarr.zeros((109, 28001, 19868), chunks=(1,1000,1000), dtype='float')\n",
    "for x1 in range(0, 20000,2000):\n",
    "    x2 = np.amin([x1+2000, zarr_image.shape[2]])\n",
    "    f = h5py.File(\n",
    "        \"/Users/thomasathey/Documents/mimlab/mouselight/BIL/labels/ilastik/\" + str(x1) + \"_Probabilities.h5\",\n",
    "        \"r\",\n",
    "    )\n",
    "    pred = f.get(\"exported_data\")\n",
    "    probs = pred[:,:,:,0]\n",
    "    zarr_probs[52:57,:,x1:x2] = probs\n",
    "    break\n",
    "\n",
    "\n",
    "zarr.save('/Users/thomasathey/Documents/mimlab/mouselight/BIL/labels/probs_zarr.zarr', zarr_probs)"
   ]
  },
  {
   "cell_type": "markdown",
   "metadata": {},
   "source": [
    "# Viterbrain"
   ]
  },
  {
   "cell_type": "code",
   "execution_count": null,
   "metadata": {},
   "outputs": [],
   "source": [
    "from brainlit.algorithms.generate_fragments.state_generation import state_generation"
   ]
  },
  {
   "cell_type": "code",
   "execution_count": null,
   "metadata": {},
   "outputs": [],
   "source": [
    "sg = state_generation(\n",
    "    image_path=\"/Users/thomasathey/Documents/mimlab/mouselight/BIL/labels/image_zarr.zarr\",\n",
    "    ilastik_program_path=\"/Applications/ilastik-1.4.0b21-OSX.app/Contents/ilastik-release/run_ilastik.sh\",\n",
    "    ilastik_project_path=\"/Users/thomasathey/Documents/mimlab/mouselight/BIL/labels/ilastik/bil_slice.ilp\",\n",
    "    chunk_size=[5,1000,1000],\n",
    "    soma_coords=[],\n",
    "    parallel=8,\n",
    "    prob_path = \"/Users/thomasathey/Documents/mimlab/mouselight/BIL/labels/probs_zarr.zarr\",\n",
    ")"
   ]
  },
  {
   "cell_type": "code",
   "execution_count": null,
   "metadata": {},
   "outputs": [],
   "source": [
    "sg.compute_frags()"
   ]
  },
  {
   "cell_type": "markdown",
   "metadata": {},
   "source": [
    "## Check labels progress"
   ]
  },
  {
   "cell_type": "code",
   "execution_count": 1,
   "metadata": {},
   "outputs": [
    {
     "data": {
      "text/plain": [
       "<Labels layer 'Labels' at 0x152528ac0>"
      ]
     },
     "execution_count": 1,
     "metadata": {},
     "output_type": "execute_result"
    }
   ],
   "source": [
    "from skimage import io\n",
    "import napari\n",
    "import PIL.Image\n",
    "import numpy as np\n",
    "\n",
    "\n",
    "im = io.imread(\"/Users/thomasathey/Documents/mimlab/mouselight/BIL/test_synaptomes/slice.tif\")\n",
    "im_probs = io.imread(\"/Users/thomasathey/Documents/mimlab/mouselight/BIL/test_synaptomes/slice_probs.tif\")\n",
    "im_labels = io.imread(\"/Users/thomasathey/Documents/mimlab/mouselight/BIL/test_synaptomes/slice_labels.tif\")\n",
    "\n",
    "print(\"Displaying\")\n",
    "v = napari.Viewer()\n",
    "v.add_image(im[5000:10000,5000:10000])\n",
    "v.add_image(im_probs[5000:10000,5000:10000])\n",
    "v.add_labels(im_labels[5000:10000,5000:10000])"
   ]
  },
  {
   "cell_type": "code",
   "execution_count": null,
   "metadata": {},
   "outputs": [],
   "source": []
  }
 ],
 "metadata": {
  "interpreter": {
   "hash": "5dc00d68ff54f8375e99934614da4863299fb9e10af4294c095b7f517546ff26"
  },
  "kernelspec": {
   "display_name": "Python 3.8.10 64-bit ('docs_env': venv)",
   "language": "python",
   "name": "python3"
  },
  "language_info": {
   "codemirror_mode": {
    "name": "ipython",
    "version": 3
   },
   "file_extension": ".py",
   "mimetype": "text/x-python",
   "name": "python",
   "nbconvert_exporter": "python",
   "pygments_lexer": "ipython3",
   "version": "3.8.10"
  },
  "orig_nbformat": 4
 },
 "nbformat": 4,
 "nbformat_minor": 2
}
