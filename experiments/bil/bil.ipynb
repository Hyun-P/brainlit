{
 "cells": [
  {
   "cell_type": "code",
   "execution_count": 2,
   "metadata": {},
   "outputs": [],
   "source": [
    "import napari\n",
    "import PIL.Image\n",
    "import numpy as np\n",
    "\n",
    "PIL.Image.MAX_IMAGE_PIXELS = 1056323868\n",
    "\n",
    "v = napari.Viewer()\n",
    "\n",
    "# lab = np.zeros((109, 2800, 1987), dtype='int')\n",
    "# lab[10:90,100:2700,100:1900] = 1\n",
    "# v.add_labels(lab, scale=(100,3.5,3.5))"
   ]
  },
  {
   "cell_type": "code",
   "execution_count": null,
   "metadata": {},
   "outputs": [],
   "source": [
    "import zarr\n",
    "from skimage import io\n",
    "from skimage import measure\n",
    "from tqdm import tqdm\n",
    "import h5py\n",
    "import numpy as np"
   ]
  },
  {
   "cell_type": "markdown",
   "metadata": {},
   "source": [
    "## convert ilastik output to labels in tif format"
   ]
  },
  {
   "cell_type": "code",
   "execution_count": null,
   "metadata": {},
   "outputs": [],
   "source": [
    "\n",
    "\n",
    "f = h5py.File(\n",
    "    \"/Users/thomasathey/Documents/mimlab/mouselight/BIL/labels/191815_05401_CH1_Simple Segmentation.h5\",\n",
    "    \"r\",\n",
    ")\n",
    "pred = f.get(\"exported_data\")\n",
    "pred = pred[:, :, 0]\n",
    "mask = pred == 1\n",
    "mask = mask.astype(\"int32\")\n",
    "labels = measure.label(mask)\n",
    "io.imsave(\"/Users/thomasathey/Documents/mimlab/mouselight/BIL/labels/54_comps.tif\", labels)"
   ]
  },
  {
   "cell_type": "markdown",
   "metadata": {},
   "source": [
    "## write zarr"
   ]
  },
  {
   "cell_type": "code",
   "execution_count": null,
   "metadata": {},
   "outputs": [],
   "source": [
    "zarr_labels = zarr.zeros((109, 28001, 19868), chunks=(1,1000,1000), dtype='i4')\n",
    "\n",
    "for z in tqdm(range(52, 57)):\n",
    "    labels = io.imread(\"/Users/thomasathey/Documents/mimlab/mouselight/BIL/labels/\" + str(z) + \"_comps.tif\")\n",
    "    zarr_labels[z,:,:] = labels\n",
    "\n",
    "zarr.save('/Users/thomasathey/Documents/mimlab/mouselight/BIL/labels/labels_zarr.zarr', zarr_labels)"
   ]
  },
  {
   "cell_type": "code",
   "execution_count": null,
   "metadata": {},
   "outputs": [],
   "source": [
    "zarr_image = zarr.zeros((109, 28001, 19868), chunks=(1,1000,1000), dtype='i4')\n",
    "\n",
    "for z in tqdm(range(52, 57)):\n",
    "    image = io.imread(\"/Users/thomasathey/Documents/mimlab/mouselight/BIL/labels/191815_0\" + str(z) + \"01_CH1.tif\")\n",
    "    zarr_image[z,:,:] = image\n",
    "\n",
    "#zarr.save('/Users/thomasathey/Documents/mimlab/mouselight/BIL/labels/image_zarr.zarr', zarr_image)"
   ]
  },
  {
   "cell_type": "code",
   "execution_count": null,
   "metadata": {},
   "outputs": [],
   "source": [
    "import zarr\n",
    "zarr_image = zarr.open(\"/Users/thomasathey/Documents/mimlab/mouselight/BIL/labels/labels_zarr.zarr\")\n",
    "zarr_image.shape\n"
   ]
  },
  {
   "cell_type": "code",
   "execution_count": null,
   "metadata": {},
   "outputs": [],
   "source": [
    "zarr_image.shape"
   ]
  },
  {
   "cell_type": "code",
   "execution_count": null,
   "metadata": {},
   "outputs": [],
   "source": [
    "for x1 in range(0, 20000,2000):\n",
    "    x2 = np.amin([x1+2000, zarr_image.shape[2]])\n",
    "    im = zarr_image[52:57,:,x1:x2]\n",
    "    fname = \"/Users/thomasathey/Documents/mimlab/mouselight/BIL/labels/ilastik/\" + str(x1) + \".tif\"\n",
    "    io.imsave(fname, im)"
   ]
  },
  {
   "cell_type": "code",
   "execution_count": null,
   "metadata": {},
   "outputs": [],
   "source": [
    "zarr_probs = zarr.zeros((109, 28001, 19868), chunks=(1,1000,1000), dtype='float')\n",
    "for x1 in range(0, 20000,2000):\n",
    "    x2 = np.amin([x1+2000, zarr_image.shape[2]])\n",
    "    f = h5py.File(\n",
    "        \"/Users/thomasathey/Documents/mimlab/mouselight/BIL/labels/ilastik/\" + str(x1) + \"_Probabilities.h5\",\n",
    "        \"r\",\n",
    "    )\n",
    "    pred = f.get(\"exported_data\")\n",
    "    probs = pred[:,:,:,0]\n",
    "    zarr_probs[52:57,:,x1:x2] = probs\n",
    "    break\n",
    "\n",
    "\n",
    "zarr.save('/Users/thomasathey/Documents/mimlab/mouselight/BIL/labels/probs_zarr.zarr', zarr_probs)"
   ]
  },
  {
   "cell_type": "markdown",
   "metadata": {},
   "source": [
    "# Viterbrain"
   ]
  },
  {
   "cell_type": "code",
   "execution_count": null,
   "metadata": {},
   "outputs": [],
   "source": [
    "from brainlit.algorithms.generate_fragments.state_generation import state_generation"
   ]
  },
  {
   "cell_type": "code",
   "execution_count": null,
   "metadata": {},
   "outputs": [],
   "source": [
    "sg = state_generation(\n",
    "    image_path=\"/Users/thomasathey/Documents/mimlab/mouselight/BIL/labels/image_zarr.zarr\",\n",
    "    ilastik_program_path=\"/Applications/ilastik-1.4.0b21-OSX.app/Contents/ilastik-release/run_ilastik.sh\",\n",
    "    ilastik_project_path=\"/Users/thomasathey/Documents/mimlab/mouselight/BIL/labels/ilastik/bil_slice.ilp\",\n",
    "    chunk_size=[5,1000,1000],\n",
    "    soma_coords=[],\n",
    "    parallel=8,\n",
    "    prob_path = \"/Users/thomasathey/Documents/mimlab/mouselight/BIL/labels/probs_zarr.zarr\",\n",
    ")"
   ]
  },
  {
   "cell_type": "code",
   "execution_count": null,
   "metadata": {},
   "outputs": [],
   "source": [
    "sg.compute_frags()"
   ]
  },
  {
   "cell_type": "markdown",
   "metadata": {},
   "source": [
    "## Check labels progress"
   ]
  },
  {
   "cell_type": "code",
   "execution_count": 10,
   "metadata": {},
   "outputs": [
    {
     "name": "stdout",
     "output_type": "stream",
     "text": [
      "Displaying\n"
     ]
    },
    {
     "data": {
      "text/plain": [
       "<Image layer 'probs' at 0x158d9ed00>"
      ]
     },
     "execution_count": 10,
     "metadata": {},
     "output_type": "execute_result"
    }
   ],
   "source": [
    "from skimage import io\n",
    "import napari\n",
    "import PIL.Image\n",
    "import numpy as np\n",
    "\n",
    "\n",
    "im = io.imread(\"/Users/thomasathey/Documents/mimlab/mouselight/BIL/test_synaptomes/stuck.tif\")\n",
    "im_probs = io.imread(\"/Users/thomasathey/Documents/mimlab/mouselight/BIL/test_synaptomes/stuck_probs.tif\")\n",
    "#im_labels = io.imread(\"/Users/thomasathey/Documents/mimlab/mouselight/BIL/test_synaptomes/slice_labels.tif\")\n",
    "\n",
    "print(\"Displaying\")\n",
    "v = napari.Viewer()\n",
    "v.add_image(im, name=\"image\", contrast_limits=[0, 2**16])\n",
    "v.add_image(im_probs, name=\"probs\")\n",
    "# v.add_labels(im_labels)"
   ]
  },
  {
   "cell_type": "code",
   "execution_count": 11,
   "metadata": {},
   "outputs": [
    {
     "data": {
      "text/plain": [
       "array([0.        , 0.01      , 0.02      , 0.03      , 0.04      ,\n",
       "       0.05      , 0.06      , 0.07      , 0.08      , 0.09      ,\n",
       "       0.1       , 0.11      , 0.12      , 0.13      , 0.14      ,\n",
       "       0.15000001, 0.16      , 0.17      , 0.18000001, 0.19      ,\n",
       "       0.2       , 0.20999999, 0.22      , 0.23      , 0.23999999,\n",
       "       0.25      , 0.25999999, 0.27000001, 0.28      , 0.28999999,\n",
       "       0.30000001, 0.31      , 0.31999999, 0.33000001, 0.34      ,\n",
       "       0.34999999, 0.36000001, 0.37      , 0.38      , 0.38999999,\n",
       "       0.40000001, 0.41      , 0.41999999, 0.43000001, 0.44      ,\n",
       "       0.44999999, 0.46000001, 0.47      , 0.47999999, 0.49000001,\n",
       "       0.5       , 0.50999999, 0.51999998, 0.52999997, 0.54000002,\n",
       "       0.55000001, 0.56      , 0.56999999, 0.57999998, 0.58999997,\n",
       "       0.60000002, 0.61000001, 0.62      , 0.63      , 0.63999999,\n",
       "       0.64999998, 0.66000003, 0.67000002, 0.68000001, 0.69      ,\n",
       "       0.69999999, 0.70999998, 0.72000003, 0.73000002, 0.74000001,\n",
       "       0.75      , 0.75999999, 0.76999998, 0.77999997, 0.79000002,\n",
       "       0.80000001, 0.81      , 0.81999999, 0.82999998, 0.83999997,\n",
       "       0.85000002, 0.86000001, 0.87      , 0.88      , 0.88999999,\n",
       "       0.89999998, 0.91000003, 0.92000002, 0.93000001, 0.94      ,\n",
       "       0.94999999, 0.95999998])"
      ]
     },
     "execution_count": 11,
     "metadata": {},
     "output_type": "execute_result"
    }
   ],
   "source": [
    "np.unique(im_probs)"
   ]
  },
  {
   "cell_type": "markdown",
   "metadata": {},
   "source": [
    "## test parallel zarr write"
   ]
  },
  {
   "cell_type": "code",
   "execution_count": 5,
   "metadata": {},
   "outputs": [],
   "source": [
    "from joblib import Parallel, delayed\n",
    "import zarr\n",
    "\n",
    "\n",
    "def write(path, val):\n",
    "    z = zarr.open(path, 'w')\n",
    "    print(z)\n",
    "    return val\n",
    "\n",
    "path = \"/Users/thomasathey/Documents/mimlab/mouselight/BIL/test.zarr\"\n",
    "z = zarr.zeros((10), chunks=(1), dtype='i4')\n",
    "zarr.save(path, z)\n",
    "\n",
    "\n",
    "# results = Parallel(n_jobs=2)(\n",
    "#         delayed(write)(\n",
    "#             path, val\n",
    "#         )\n",
    "#         for val in range(10)\n",
    "#     )"
   ]
  },
  {
   "cell_type": "code",
   "execution_count": 6,
   "metadata": {},
   "outputs": [
    {
     "data": {
      "text/plain": [
       "<zarr.core.Array (10,) int32>"
      ]
     },
     "execution_count": 6,
     "metadata": {},
     "output_type": "execute_result"
    }
   ],
   "source": [
    "z"
   ]
  },
  {
   "cell_type": "code",
   "execution_count": null,
   "metadata": {},
   "outputs": [],
   "source": []
  }
 ],
 "metadata": {
  "interpreter": {
   "hash": "5dc00d68ff54f8375e99934614da4863299fb9e10af4294c095b7f517546ff26"
  },
  "kernelspec": {
   "display_name": "Python 3.8.10 64-bit ('docs_env': venv)",
   "language": "python",
   "name": "python3"
  },
  "language_info": {
   "codemirror_mode": {
    "name": "ipython",
    "version": 3
   },
   "file_extension": ".py",
   "mimetype": "text/x-python",
   "name": "python",
   "nbconvert_exporter": "python",
   "pygments_lexer": "ipython3",
   "version": "3.8.10"
  },
  "orig_nbformat": 4
 },
 "nbformat": 4,
 "nbformat_minor": 2
}
