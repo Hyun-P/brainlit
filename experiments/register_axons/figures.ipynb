{
 "cells": [
  {
   "cell_type": "code",
   "execution_count": null,
   "metadata": {},
   "outputs": [],
   "source": [
    "import numpy as np \n",
    "import matplotlib.pyplot as plt "
   ]
  },
  {
   "cell_type": "markdown",
   "metadata": {},
   "source": [
    "$c: [0,1] \\rightarrow \\mathbb{R}^2$"
   ]
  },
  {
   "cell_type": "code",
   "execution_count": null,
   "metadata": {},
   "outputs": [],
   "source": [
    "spacing1 = 1\n",
    "spacing2 = .1\n",
    "\n",
    "t1 = np.arange(0,1+spacing1,spacing1)\n",
    "t2 = np.arange(0,1+spacing2,spacing2)\n",
    "\n",
    "def c(t):\n",
    "    c1 =  0*t\n",
    "    c2 = 2*t - 1\n",
    "    c = np.stack([c1, c2], axis=1)\n",
    "    return c\n",
    "\n",
    "c1 = c(t1)\n",
    "c2 = c(t2)"
   ]
  },
  {
   "cell_type": "markdown",
   "metadata": {},
   "source": [
    "$V:\\mathbb{R}^2 \\rightarrow \\mathbb{R}^2$"
   ]
  },
  {
   "cell_type": "code",
   "execution_count": null,
   "metadata": {},
   "outputs": [],
   "source": [
    "def k(x):\n",
    "    k = np.exp(-(1/(2))*np.linalg.norm(x)**2)\n",
    "    return k\n",
    "\n",
    "x = np.array([[0,-1], [0,0], [0,1]])\n",
    "y = np.array([[0,-1], [1,0], [0,1]])\n",
    "\n",
    "\n",
    "v = y - x\n",
    "K = np.zeros([x.shape[0], x.shape[0]])\n",
    "\n",
    "for i in range(K.shape[1]):\n",
    "    for j in range(K.shape[1]):\n",
    "        K[i,j] = k(x[i,:] - x[j,:])\n",
    "\n",
    "P = np.dot(np.linalg.inv(K), v)\n",
    "\n",
    "def V(xi):\n",
    "    K = np.zeros((1, x.shape[0]))\n",
    "    for j in range(K.shape[1]):\n",
    "        K[:,j] = k(xi - x[j,:])\n",
    "\n",
    "    vi = np.dot(K, P)\n",
    "    return np.squeeze(vi)\n"
   ]
  },
  {
   "cell_type": "code",
   "execution_count": null,
   "metadata": {},
   "outputs": [],
   "source": [
    "xc,yc = np.meshgrid(np.linspace(-2,2,17),np.linspace(-1,1,9))\n",
    "\n",
    "u = 0*xc\n",
    "v = 0*xc\n",
    "for i in range(u.shape[0]):\n",
    "    for j in range(u.shape[1]):\n",
    "        vi = V(np.array([xc[i,j], yc[i,j]]))\n",
    "        u[i,j] = vi[0]\n",
    "        v[i,j] = vi[1]\n"
   ]
  },
  {
   "cell_type": "markdown",
   "metadata": {},
   "source": [
    "$V(c(t))$"
   ]
  },
  {
   "cell_type": "code",
   "execution_count": null,
   "metadata": {},
   "outputs": [],
   "source": [
    "Vc1 = 0*c1\n",
    "\n",
    "for i, ct in enumerate(c1):\n",
    "    Vc1[i,:] = ct + V(ct)\n",
    "\n",
    "Vc2 = 0*c2\n",
    "\n",
    "for i, ct in enumerate(c2):\n",
    "    Vc2[i,:] = ct + V(ct)"
   ]
  },
  {
   "cell_type": "code",
   "execution_count": null,
   "metadata": {},
   "outputs": [],
   "source": [
    "f, axs = plt.subplots(2,3, sharey=True)\n",
    "\n",
    "headwidth=5\n",
    "fontdict = {\"fontsize\": 16}\n",
    "\n",
    "ax = axs[0,0]\n",
    "ax.quiver(xc,yc,u,v, headwidth=headwidth)\n",
    "ax.axes.xaxis.set_ticklabels([])\n",
    "ax.axes.yaxis.set_ticklabels([])\n",
    "ax.set_title('a)', loc='left', fontdict = fontdict)\n",
    "\n",
    "\n",
    "ax = axs[0,1]\n",
    "ax.scatter(c1[:,0], c1[:,1])\n",
    "ax.plot(c1[:,0], c1[:,1])\n",
    "ax.axes.xaxis.set_ticklabels([])\n",
    "ax.axes.yaxis.set_ticklabels([])\n",
    "ax.set_xlim([-2,2])\n",
    "ax.set_title('b)', loc='left', fontdict = fontdict)\n",
    "\n",
    "\n",
    "ax = axs[0,2]\n",
    "ax.scatter(Vc1[:,0], Vc1[:,1])\n",
    "ax.plot(Vc1[:,0], Vc1[:,1])\n",
    "ax.axes.xaxis.set_ticklabels([])\n",
    "ax.axes.yaxis.set_ticklabels([])\n",
    "ax.set_xlim([-2,2])\n",
    "ax.set_title('c)', loc='left', fontdict = fontdict)\n",
    "\n",
    "ax = axs[1,0]\n",
    "ax.quiver(xc,yc,u,v, headwidth=headwidth)\n",
    "ax.axes.xaxis.set_ticklabels([])\n",
    "ax.axes.yaxis.set_ticklabels([])\n",
    "ax.set_title('d)', loc='left', fontdict = fontdict)\n",
    "\n",
    "\n",
    "ax = axs[1,1]\n",
    "ax.scatter(c2[:,0], c2[:,1])\n",
    "ax.plot(c2[:,0], c2[:,1])\n",
    "ax.axes.xaxis.set_ticklabels([])\n",
    "ax.axes.yaxis.set_ticklabels([])\n",
    "ax.set_xlim([-2,2])\n",
    "ax.set_title('e)', loc='left', fontdict = fontdict)\n",
    "\n",
    "\n",
    "ax = axs[1,2]\n",
    "ax.scatter(Vc2[:,0], Vc2[:,1])\n",
    "ax.plot(Vc2[:,0], Vc2[:,1])\n",
    "ax.axes.xaxis.set_ticklabels([])\n",
    "ax.axes.yaxis.set_ticklabels([])\n",
    "ax.set_xlim([-2,2])\n",
    "ax.set_title('f)', loc='left', fontdict = fontdict)\n",
    "\n",
    "f.set_figheight(10)\n",
    "f.set_figwidth(15)\n"
   ]
  },
  {
   "cell_type": "markdown",
   "metadata": {},
   "source": [
    "# Interpolation"
   ]
  },
  {
   "cell_type": "markdown",
   "metadata": {},
   "source": [
    "### Generate underlying curve"
   ]
  },
  {
   "cell_type": "code",
   "execution_count": null,
   "metadata": {},
   "outputs": [],
   "source": [
    "from bezier.curve import Curve\n",
    "import numpy as np\n",
    "import matplotlib.pyplot as plt\n",
    "import pandas as pd\n",
    "import seaborn as sns \n",
    "\n",
    "def curve(x):\n",
    "    return 1/(1+np.exp(-10*x))\n",
    "\n",
    "spacing = 0.01\n",
    "x = np.arange(-1,1+spacing, spacing, dtype=float)\n",
    "y = curve(x)\n",
    "\n",
    "plt.plot(x, y)\n",
    "plt.show()\n",
    "\n",
    "sp = np.fft.fft(y)\n",
    "freq = np.fft.fftfreq(n=x.shape[-1], d = spacing)\n",
    "sp = np.array([x for _, x in sorted(zip(freq, sp))])\n",
    "freq = [y for y, _ in sorted(zip(freq, sp))]\n",
    "plt.plot(freq, np.abs(sp))\n",
    "plt.ylabel(\"FT magnitude\")\n",
    "plt.xlabel(\"Frequency (rev/time)\")\n",
    "plt.xlim(-10,10)"
   ]
  },
  {
   "cell_type": "markdown",
   "metadata": {},
   "source": [
    "## Sinc interpolation"
   ]
  },
  {
   "cell_type": "code",
   "execution_count": null,
   "metadata": {},
   "outputs": [],
   "source": [
    "def sinc(x):\n",
    "    x_pi = np.multiply(x, np.pi)\n",
    "    y = np.divide(np.sin(x_pi), x_pi)\n",
    "    y[np.isnan(y)] = 1\n",
    "    return y\n",
    "\n",
    "def interpolation(interp_x, sample_n, sample_y):\n",
    "    interp_y = interp_x*0\n",
    "    for n, y in zip(sample_n,sample_y):\n",
    "        interp_y += y* sinc(2*W*interp_x - n)\n",
    "    return interp_y\n",
    "\n",
    "#vary badnwidth/rate of sampling\n",
    "plt.plot(x, y, label=\"true\")\n",
    "max = 1\n",
    "for W in range(1,10,2 ):\n",
    "    samples_n = np.arange(-max*2*W, max*2*W+1)\n",
    "    samples_x = samples_n/(2*W)\n",
    "    samples_y = curve(samples_x)\n",
    "    \n",
    "    plt.plot(x, interpolation(x, samples_n, samples_y), label=f\"W={W}, range=[{-max, max}]\")\n",
    "\n",
    "plt.legend()\n",
    "plt.title(\"Change Sampling Frequency\")\n",
    "plt.show()\n",
    "\n",
    "#vary range of sampling\n",
    "plt.plot(x, y, label=\"true\")\n",
    "W = 5\n",
    "for max in range(1,10, 2):\n",
    "    samples_n = np.arange(-max*2*W, max*2*W+1)\n",
    "    samples_x = samples_n/(2*W)\n",
    "    samples_y = curve(samples_x)\n",
    "    \n",
    "    plt.plot(x, interpolation(x, samples_n, samples_y), label=f\"W={W}, range=[{-max, max}]\")\n",
    "\n",
    "plt.legend()\n",
    "plt.title(\"Change Sampling Range\")\n",
    "plt.show()\n",
    "\n",
    "# Examin errors\n",
    "maxes = []\n",
    "Ws = []\n",
    "sqe = []\n",
    "for max in range(1,10, 2):\n",
    "    for W in range(1,10,2 ):\n",
    "        samples_n = np.arange(-max*2*W, max*2*W+1)\n",
    "        samples_x = samples_n/(2*W)\n",
    "        samples_y = curve(samples_x)\n",
    "        sq_error = np.linalg.norm(y - interpolation(x, samples_n, samples_y)) ** 2\n",
    "        sqe.append(sq_error)\n",
    "        Ws.append(W)\n",
    "        maxes.append(f\"[{-max},{max}]\")\n",
    "\n",
    "dict = {\"Sampling Range\": maxes, \"Bandwidth\": Ws, \"Squared Error\": sqe}\n",
    "df = pd.DataFrame(data=dict)\n",
    "\n",
    "result = df.pivot(index=\"Bandwidth\", columns=\"Sampling Range\", values=\"Squared Error\")\n",
    "\n",
    "sns.heatmap(result, annot=True, cmap='viridis')\n",
    "plt.title(\"Sinc Squared errors\")\n",
    "plt.show()\n"
   ]
  },
  {
   "cell_type": "markdown",
   "metadata": {},
   "source": [
    "## B-spline interpolation"
   ]
  },
  {
   "cell_type": "code",
   "execution_count": null,
   "metadata": {},
   "outputs": [],
   "source": [
    "from scipy.interpolate import splrep, splev\n",
    "\n",
    "\n",
    "#vary badnwidth/rate of sampling\n",
    "plt.plot(x, y, label=\"true\")\n",
    "max = 1\n",
    "for W in range(1,10, 2):\n",
    "    samples_n = np.arange(-max*2*W, max*2*W+1)\n",
    "    samples_x = samples_n/(2*W)\n",
    "    samples_y = curve(samples_x)\n",
    "    \n",
    "    tck = splrep(samples_x, samples_y)\n",
    "    plt.plot(x, splev(x, tck), label=f\"W={W}, range=[{-max, max}]\")\n",
    "\n",
    "plt.legend()\n",
    "plt.title(\"Change Sampling Frequency\")\n",
    "plt.show()\n",
    "\n",
    "#vary range of sampling\n",
    "plt.plot(x, y, label=\"true\")\n",
    "W = 5\n",
    "for max in range(1,10, 2):\n",
    "    samples_n = np.arange(-max*2*W, max*2*W+1)\n",
    "    samples_x = samples_n/(2*W)\n",
    "    samples_y = curve(samples_x)\n",
    "    \n",
    "    tck = splrep(samples_x, samples_y)\n",
    "    plt.plot(x, splev(x, tck), label=f\"W={W}, range=[{-max, max}]\")\n",
    "\n",
    "plt.legend()\n",
    "plt.title(\"Change Sampling Range\")\n",
    "plt.show()\n",
    "\n",
    "# Examin errors\n",
    "maxes = []\n",
    "Ws = []\n",
    "sqe = []\n",
    "for max in range(1,10, 2):\n",
    "    for W in range(1,10,2 ):\n",
    "        samples_n = np.arange(-max*2*W, max*2*W+1)\n",
    "        samples_x = samples_n/(2*W)\n",
    "        samples_y = curve(samples_x)\n",
    "        tck = splrep(samples_x, samples_y)\n",
    "        sq_error = np.linalg.norm(y - splev(x, tck)) ** 2\n",
    "        sqe.append(sq_error)\n",
    "        Ws.append(W)\n",
    "        maxes.append(f\"[{-max},{max}]\")\n",
    "\n",
    "dict = {\"Sampling Range\": maxes, \"Bandwidth\": Ws, \"Squared Error\": sqe}\n",
    "df = pd.DataFrame(data=dict)\n",
    "\n",
    "result = df.pivot(index=\"Bandwidth\", columns=\"Sampling Range\", values=\"Squared Error\")\n",
    "\n",
    "sns.heatmap(result, annot=True, cmap='viridis')\n",
    "plt.title(\"B-spline Squared errors\")\n",
    "plt.show()\n"
   ]
  },
  {
   "cell_type": "markdown",
   "metadata": {},
   "source": [
    "# Read cloudvolume skeletons"
   ]
  },
  {
   "cell_type": "code",
   "execution_count": 103,
   "metadata": {},
   "outputs": [],
   "source": [
    "from cloudvolume import CloudVolume\n",
    "import numpy as np\n",
    "import networkx as nx\n",
    "\n",
    "\n",
    "vol_skel = CloudVolume(\"precomputed://https://open-neurodata.s3.amazonaws.com/brainlit/brain2_segments\", mip=0)\n",
    "vol_im = CloudVolume(\"precomputed://https://open-neurodata.s3.amazonaws.com/brainlit/brain2\", mip=6)"
   ]
  },
  {
   "cell_type": "markdown",
   "metadata": {},
   "source": [
    "### Resolution is in microns, image coordinates/shape is in voxels"
   ]
  },
  {
   "cell_type": "code",
   "execution_count": 104,
   "metadata": {},
   "outputs": [
    {
     "name": "stdout",
     "output_type": "stream",
     "text": [
      "Dimensions of mouse braiin (mm):\n"
     ]
    },
    {
     "data": {
      "text/plain": [
       "Vec(10.479330996223998,7.995287998464001,10.21188199424, dtype=float64)"
      ]
     },
     "execution_count": 104,
     "metadata": {},
     "output_type": "execute_result"
    }
   ],
   "source": [
    "print(\"Dimensions of mouse braiin (mm):\")\n",
    "np.multiply(vol_im.resolution, vol_im.shape[:3])/1000000"
   ]
  },
  {
   "cell_type": "markdown",
   "metadata": {},
   "source": [
    "### Create nx object from skeleton"
   ]
  },
  {
   "cell_type": "code",
   "execution_count": 105,
   "metadata": {},
   "outputs": [],
   "source": [
    "nx_nodes = []\n",
    "for idx, coord in enumerate(vol_skel.skeleton.get(1).vertices):\n",
    "    nx_nodes.append((idx, {\"coord (nm)\": coord}))\n",
    "\n",
    "G = nx.DiGraph()\n",
    "G.add_nodes_from(nx_nodes)\n",
    "\n",
    "nx_edges = []\n",
    "for idx, edge in enumerate(vol_skel.skeleton.get(1).edges):\n",
    "    dist = np.linalg.norm(G.nodes[edge[0]][\"coord (nm)\"]-G.nodes[edge[1]][\"coord (nm)\"])\n",
    "    nx_edges.append((edge[1], edge[0], {\"dist\": dist}))\n",
    "G.add_edges_from(nx_edges)\n",
    "\n",
    "path = nx.dag_longest_path(G, weight=\"dist\")\n",
    "\n",
    "\n"
   ]
  },
  {
   "cell_type": "code",
   "execution_count": 111,
   "metadata": {},
   "outputs": [
    {
     "data": {
      "text/plain": [
       "<AxesSubplot:xlabel='Sample Spacing (microns)', ylabel='Count'>"
      ]
     },
     "execution_count": 111,
     "metadata": {},
     "output_type": "execute_result"
    },
    {
     "data": {
      "image/png": "[encoded data removed]",
      "text/plain": [
       "<Figure size 432x288 with 1 Axes>"
      ]
     },
     "metadata": {
      "needs_background": "light"
     },
     "output_type": "display_data"
    }
   ],
   "source": [
    "import seaborn as sns\n",
    "import pandas as pd \n",
    "\n",
    "dists = []\n",
    "for e in nx_edges:\n",
    "    dists.append(e[2]['dist']/1000)\n",
    "dict = {\"Sample Spacing (microns)\": dists}\n",
    "df = pd.DataFrame(dict)\n",
    "sns.histplot(df, x=\"Sample Spacing (microns)\")\n"
   ]
  },
  {
   "cell_type": "code",
   "execution_count": null,
   "metadata": {},
   "outputs": [],
   "source": [
    "coords = []\n",
    "for node in path:\n",
    "    coords.append(list(G.nodes[node][\"coord (nm)\"]))\n",
    "\n",
    "with open('/Users/thomasathey/Desktop/coords.txt', 'w') as f:\n",
    "    for c in coords:\n",
    "        coord = np.divide(c, vol_im.resolution)\n",
    "        f.write(f'[{coord[0]},{coord[1]},{coord[2]}]')\n",
    "        f.write(f'\\n')\n",
    "print(len(coords))\n",
    "\n",
    "def resample(pt1, pt2):\n",
    "    diff = pt2-pt1\n",
    "    dist = np.linalg.norm(diff)\n",
    "    if dist <= 5000:\n",
    "        return [pt1]\n",
    "    else:\n",
    "        ss = np.arange(0, dist, 5000)\n",
    "        return [pt1 + s*diff/dist for s in ss]\n",
    "\n",
    "path = nx.dag_longest_path(G, weight=\"dist\")\n",
    "coords_resampled = []\n",
    "for node1, node2 in zip(path[:-1],path[1:]):\n",
    "    pts = resample(G.nodes[node1][\"coord (nm)\"],G.nodes[node2][\"coord (nm)\"])\n",
    "    for pt in pts:\n",
    "        coords_resampled.append(list(pt))\n",
    "coords_resampled.append(list(G.nodes[node2][\"coord (nm)\"]))\n",
    "\n",
    "with open('/Users/thomasathey/Desktop/coords_resampled.txt', 'w') as f:\n",
    "    for c in coords_resampled:\n",
    "        coord = np.divide(c, vol_im.resolution)\n",
    "        f.write(f'[{coord[0]},{coord[1]},{coord[2]}]')\n",
    "        f.write(f'\\n')\n",
    "\n",
    "print(len(coords_resampled))"
   ]
  },
  {
   "cell_type": "code",
   "execution_count": null,
   "metadata": {},
   "outputs": [],
   "source": [
    "from cloudreg.scripts.transform_points import NGLiink\n",
    "from .visualization import create_viz_link_from_json\n",
    "\n",
    "viz_link_init = \n",
    "\n",
    "atlas_viz = NGLink(viz_link_init.split(\"json_url=\")[-1])\n",
    "ngl_json = atlas_viz._json\n",
    "ngl_json['layers'].append(\n",
    "    {\n",
    "        \"type\": \"annotation\",\n",
    "        \"annotations\": [[1000,1000,1000]],\n",
    "        \"name\": \"transformed_points\"\n",
    "    }   \n",
    ")\n",
    "viz_link = create_viz_link_from_json(ngl_json)"
   ]
  },
  {
   "cell_type": "markdown",
   "metadata": {},
   "source": [
    "python -m cloudreg.scripts.transform_points --target_viz_link --atlas_viz_link --affine_path --velocity_path --velocity_voxel_size --transformation_direction"
   ]
  },
  {
   "cell_type": "code",
   "execution_count": 92,
   "metadata": {},
   "outputs": [],
   "source": [
    "import json\n",
    "with open(\"/Users/thomasathey/Documents/mimlab/mouselight/axon_mapping/diff_sampling/transformed_points.json\") as f:\n",
    "    data = json.load(f)\n",
    "with open(\"/Users/thomasathey/Documents/mimlab/mouselight/axon_mapping/diff_sampling/transformed_points_resample.json\") as f:\n",
    "    data_resample = json.load(f)"
   ]
  },
  {
   "cell_type": "code",
   "execution_count": 97,
   "metadata": {},
   "outputs": [
    {
     "name": "stdout",
     "output_type": "stream",
     "text": [
      "Transformed paths have length 215 and 1701\n"
     ]
    }
   ],
   "source": [
    "transformed_path = []\n",
    "for pt in data:\n",
    "    transformed_path.append(np.multiply(pt[\"point\"], 10))\n",
    "\n",
    "transformed_path_resample = []\n",
    "for pt in data_resample:\n",
    "    transformed_path_resample.append(np.multiply(pt[\"point\"], 10))\n",
    "\n",
    "print(f\"Transformed paths have length {len(transformed_path)} and {len(transformed_path_resample)}\")"
   ]
  },
  {
   "cell_type": "code",
   "execution_count": 98,
   "metadata": {},
   "outputs": [
    {
     "name": "stdout",
     "output_type": "stream",
     "text": [
      "(215,)\n",
      "(1701,)\n"
     ]
    },
    {
     "data": {
      "image/png": "[encoded data removed]",
      "text/plain": [
       "<Figure size 720x720 with 1 Axes>"
      ]
     },
     "metadata": {
      "needs_background": "light"
     },
     "output_type": "display_data"
    }
   ],
   "source": [
    "%matplotlib inline\n",
    "import numpy as np\n",
    "import matplotlib.pyplot as plt\n",
    "\n",
    "plt.figure(figsize=(10, 10))\n",
    "ax = plt.axes(projection='3d')\n",
    "\n",
    "transformed_path_np = np.array(transformed_path)\n",
    "# Data for a three-dimensional line\n",
    "zline = transformed_path_np[:,0]\n",
    "xline = transformed_path_np[:,1]\n",
    "yline = transformed_path_np[:,2]\n",
    "ax.plot3D(xline, yline, zline, 'red')\n",
    "print(f\"{xline.shape}\")\n",
    "\n",
    "transformed_path_resample_np = np.array(transformed_path_resample)\n",
    "# Data for a three-dimensional line\n",
    "zline = transformed_path_resample_np[:,0]\n",
    "xline = transformed_path_resample_np[:,1]\n",
    "yline = transformed_path_resample_np[:,2]\n",
    "ax.plot3D(xline, yline, zline, 'green')\n",
    "print(f\"{xline.shape}\")\n",
    "plt.show()\n"
   ]
  },
  {
   "cell_type": "code",
   "execution_count": 100,
   "metadata": {},
   "outputs": [
    {
     "name": "stdout",
     "output_type": "stream",
     "text": [
      "Discrete frechet distance between lists of length 1895 and 3206\n"
     ]
    }
   ],
   "source": [
    "import similaritymeasures\n",
    "\n",
    "def resample(pt1, pt2, spacing=5):\n",
    "    diff = pt2-pt1\n",
    "    dist = np.linalg.norm(diff)\n",
    "    if dist <= spacing:\n",
    "        return [pt1]\n",
    "    else:\n",
    "        ss = np.arange(0, dist, spacing)\n",
    "        return [pt1 + s*diff/dist for s in ss]\n",
    "\n",
    "transformed_path_resampled = []\n",
    "for node1, node2 in zip(transformed_path[:-1],transformed_path[1:]):\n",
    "    pts = resample(node1,node2)\n",
    "    for pt in pts:\n",
    "        transformed_path_resampled.append(pt)\n",
    "transformed_path_resampled.append(node2)\n",
    "\n",
    "transformed_path_resample_resampled = []\n",
    "for node1, node2 in zip(transformed_path_resample[:-1],transformed_path_resample[1:]):\n",
    "    pts = resample(node1,node2)\n",
    "    for pt in pts:\n",
    "        transformed_path_resample_resampled.append(pt)\n",
    "transformed_path_resample_resampled.append(node2)\n",
    "\n",
    "print(f\"Discrete frechet distance between lists of length {len(transformed_path_resampled)} and {len(transformed_path_resample_resampled)}\")\n",
    "\n",
    "df = similaritymeasures.frechet_dist(transformed_path_resampled, transformed_path_resample_resampled)"
   ]
  },
  {
   "cell_type": "code",
   "execution_count": 102,
   "metadata": {},
   "outputs": [
    {
     "data": {
      "text/plain": [
       "2.4993766981671426"
      ]
     },
     "execution_count": 102,
     "metadata": {},
     "output_type": "execute_result"
    }
   ],
   "source": [
    "df"
   ]
  },
  {
   "cell_type": "code",
   "execution_count": null,
   "metadata": {},
   "outputs": [],
   "source": []
  }
 ],
 "metadata": {
  "interpreter": {
   "hash": "5dc00d68ff54f8375e99934614da4863299fb9e10af4294c095b7f517546ff26"
  },
  "kernelspec": {
   "display_name": "Python 3.8.10 ('docs_env': venv)",
   "language": "python",
   "name": "python3"
  },
  "language_info": {
   "codemirror_mode": {
    "name": "ipython",
    "version": 3
   },
   "file_extension": ".py",
   "mimetype": "text/x-python",
   "name": "python",
   "nbconvert_exporter": "python",
   "pygments_lexer": "ipython3",
   "version": "3.8.10"
  },
  "orig_nbformat": 4
 },
 "nbformat": 4,
 "nbformat_minor": 2
}
