{
 "cells": [
  {
   "cell_type": "code",
   "execution_count": null,
   "metadata": {},
   "outputs": [],
   "source": [
    "import numpy as np \n",
    "import matplotlib.pyplot as plt "
   ]
  },
  {
   "cell_type": "markdown",
   "metadata": {},
   "source": [
    "$c: [0,1] \\rightarrow \\mathbb{R}^2$"
   ]
  },
  {
   "cell_type": "code",
   "execution_count": null,
   "metadata": {},
   "outputs": [],
   "source": [
    "spacing1 = 1\n",
    "spacing2 = .1\n",
    "\n",
    "t1 = np.arange(0,1+spacing1,spacing1)\n",
    "t2 = np.arange(0,1+spacing2,spacing2)\n",
    "\n",
    "def c(t):\n",
    "    c1 =  0*t\n",
    "    c2 = 2*t - 1\n",
    "    c = np.stack([c1, c2], axis=1)\n",
    "    return c\n",
    "\n",
    "c1 = c(t1)\n",
    "c2 = c(t2)"
   ]
  },
  {
   "cell_type": "markdown",
   "metadata": {},
   "source": [
    "$V:\\mathbb{R}^2 \\rightarrow \\mathbb{R}^2$"
   ]
  },
  {
   "cell_type": "code",
   "execution_count": null,
   "metadata": {},
   "outputs": [],
   "source": [
    "def k(x):\n",
    "    k = np.exp(-(1/(2))*np.linalg.norm(x)**2)\n",
    "    return k\n",
    "\n",
    "x = np.array([[0,-1], [0,0], [0,1]])\n",
    "y = np.array([[0,-1], [1,0], [0,1]])\n",
    "\n",
    "\n",
    "v = y - x\n",
    "K = np.zeros([x.shape[0], x.shape[0]])\n",
    "\n",
    "for i in range(K.shape[1]):\n",
    "    for j in range(K.shape[1]):\n",
    "        K[i,j] = k(x[i,:] - x[j,:])\n",
    "\n",
    "P = np.dot(np.linalg.inv(K), v)\n",
    "\n",
    "def V(xi):\n",
    "    K = np.zeros((1, x.shape[0]))\n",
    "    for j in range(K.shape[1]):\n",
    "        K[:,j] = k(xi - x[j,:])\n",
    "\n",
    "    vi = np.dot(K, P)\n",
    "    return np.squeeze(vi)\n"
   ]
  },
  {
   "cell_type": "code",
   "execution_count": null,
   "metadata": {},
   "outputs": [],
   "source": [
    "xc,yc = np.meshgrid(np.linspace(-2,2,17),np.linspace(-1,1,9))\n",
    "\n",
    "u = 0*xc\n",
    "v = 0*xc\n",
    "for i in range(u.shape[0]):\n",
    "    for j in range(u.shape[1]):\n",
    "        vi = V(np.array([xc[i,j], yc[i,j]]))\n",
    "        u[i,j] = vi[0]\n",
    "        v[i,j] = vi[1]\n"
   ]
  },
  {
   "cell_type": "markdown",
   "metadata": {},
   "source": [
    "$V(c(t))$"
   ]
  },
  {
   "cell_type": "code",
   "execution_count": null,
   "metadata": {},
   "outputs": [],
   "source": [
    "Vc1 = 0*c1\n",
    "\n",
    "for i, ct in enumerate(c1):\n",
    "    Vc1[i,:] = ct + V(ct)\n",
    "\n",
    "Vc2 = 0*c2\n",
    "\n",
    "for i, ct in enumerate(c2):\n",
    "    Vc2[i,:] = ct + V(ct)"
   ]
  },
  {
   "cell_type": "code",
   "execution_count": null,
   "metadata": {},
   "outputs": [],
   "source": [
    "f, axs = plt.subplots(2,3, sharey=True)\n",
    "\n",
    "headwidth=5\n",
    "fontdict = {\"fontsize\": 16}\n",
    "\n",
    "ax = axs[0,0]\n",
    "ax.quiver(xc,yc,u,v, headwidth=headwidth)\n",
    "ax.axes.xaxis.set_ticklabels([])\n",
    "ax.axes.yaxis.set_ticklabels([])\n",
    "ax.set_title('a)', loc='left', fontdict = fontdict)\n",
    "\n",
    "\n",
    "ax = axs[0,1]\n",
    "ax.scatter(c1[:,0], c1[:,1])\n",
    "ax.plot(c1[:,0], c1[:,1])\n",
    "ax.axes.xaxis.set_ticklabels([])\n",
    "ax.axes.yaxis.set_ticklabels([])\n",
    "ax.set_xlim([-2,2])\n",
    "ax.set_title('b)', loc='left', fontdict = fontdict)\n",
    "\n",
    "\n",
    "ax = axs[0,2]\n",
    "ax.scatter(Vc1[:,0], Vc1[:,1])\n",
    "ax.plot(Vc1[:,0], Vc1[:,1])\n",
    "ax.axes.xaxis.set_ticklabels([])\n",
    "ax.axes.yaxis.set_ticklabels([])\n",
    "ax.set_xlim([-2,2])\n",
    "ax.set_title('c)', loc='left', fontdict = fontdict)\n",
    "\n",
    "ax = axs[1,0]\n",
    "ax.quiver(xc,yc,u,v, headwidth=headwidth)\n",
    "ax.axes.xaxis.set_ticklabels([])\n",
    "ax.axes.yaxis.set_ticklabels([])\n",
    "ax.set_title('d)', loc='left', fontdict = fontdict)\n",
    "\n",
    "\n",
    "ax = axs[1,1]\n",
    "ax.scatter(c2[:,0], c2[:,1])\n",
    "ax.plot(c2[:,0], c2[:,1])\n",
    "ax.axes.xaxis.set_ticklabels([])\n",
    "ax.axes.yaxis.set_ticklabels([])\n",
    "ax.set_xlim([-2,2])\n",
    "ax.set_title('e)', loc='left', fontdict = fontdict)\n",
    "\n",
    "\n",
    "ax = axs[1,2]\n",
    "ax.scatter(Vc2[:,0], Vc2[:,1])\n",
    "ax.plot(Vc2[:,0], Vc2[:,1])\n",
    "ax.axes.xaxis.set_ticklabels([])\n",
    "ax.axes.yaxis.set_ticklabels([])\n",
    "ax.set_xlim([-2,2])\n",
    "ax.set_title('f)', loc='left', fontdict = fontdict)\n",
    "\n",
    "f.set_figheight(10)\n",
    "f.set_figwidth(15)\n"
   ]
  },
  {
   "cell_type": "markdown",
   "metadata": {},
   "source": [
    "# Read cloudvolume skeletons"
   ]
  },
  {
   "cell_type": "code",
   "execution_count": null,
   "metadata": {},
   "outputs": [],
   "source": [
    "from cloudvolume import CloudVolume\n",
    "import numpy as np\n",
    "\n",
    "vol_skel = CloudVolume(\"precomputed://https://open-neurodata.s3.amazonaws.com/brainlit/brain1_segments\", mip=0)\n",
    "vol_im = CloudVolume(\"precomputed://https://open-neurodata.s3.amazonaws.com/brainlit/brain1\", mip=0)"
   ]
  },
  {
   "cell_type": "code",
   "execution_count": null,
   "metadata": {},
   "outputs": [],
   "source": [
    "vol_skel.resolution"
   ]
  },
  {
   "cell_type": "code",
   "execution_count": null,
   "metadata": {},
   "outputs": [],
   "source": [
    "vol_skel.skeleton.get(2).vertices"
   ]
  },
  {
   "cell_type": "code",
   "execution_count": null,
   "metadata": {},
   "outputs": [],
   "source": [
    "np.divide(vol_skel.skeleton.get(2).vertices, vol_skel.resolution)"
   ]
  },
  {
   "cell_type": "code",
   "execution_count": null,
   "metadata": {},
   "outputs": [],
   "source": [
    "from cloudreg.scripts.transform_points import NGLiink\n",
    "from .visualization import create_viz_link_from_json\n",
    "\n",
    "viz_link_init = \n",
    "\n",
    "atlas_viz = NGLink(viz_link_init.split(\"json_url=\")[-1])\n",
    "ngl_json = atlas_viz._json\n",
    "ngl_json['layers'].append(\n",
    "    {\n",
    "        \"type\": \"annotation\",\n",
    "        \"annotations\": [[1000,1000,1000]],\n",
    "        \"name\": \"transformed_points\"\n",
    "    }   \n",
    ")\n",
    "viz_link = create_viz_link_from_json(ngl_json)"
   ]
  },
  {
   "cell_type": "markdown",
   "metadata": {},
   "source": [
    "python -m cloudreg.scripts.transform_points --target_viz_link --atlas_viz_link --affine_path --velocity_path --velocity_voxel_size --transformation_direction"
   ]
  }
 ],
 "metadata": {
  "interpreter": {
   "hash": "5dc00d68ff54f8375e99934614da4863299fb9e10af4294c095b7f517546ff26"
  },
  "kernelspec": {
   "display_name": "Python 3.8.10 ('docs_env': venv)",
   "language": "python",
   "name": "python3"
  },
  "language_info": {
   "codemirror_mode": {
    "name": "ipython",
    "version": 3
   },
   "file_extension": ".py",
   "mimetype": "text/x-python",
   "name": "python",
   "nbconvert_exporter": "python",
   "pygments_lexer": "ipython3",
   "version": "3.8.10"
  },
  "orig_nbformat": 4
 },
 "nbformat": 4,
 "nbformat_minor": 2
}
