{
 "cells": [
  {
   "cell_type": "markdown",
   "metadata": {},
   "source": [
    "## Simulated Data"
   ]
  },
  {
   "cell_type": "markdown",
   "metadata": {},
   "source": [
    "### Plot data"
   ]
  },
  {
   "cell_type": "code",
   "execution_count": null,
   "metadata": {},
   "outputs": [],
   "source": [
    "import numpy as np\n",
    "import matplotlib.pyplot as plt\n",
    "\n",
    "t_spacing = 0.01\n",
    "\n",
    "t = np.arange(0,1+t_spacing,t_spacing)\n",
    "def true(x):\n",
    "    return np.sin(2*np.pi*x)\n",
    "f_t = true(t)\n",
    "t_samp = np.arange(0,1+t_spacing,0.1)\n",
    "f_samp = true(t_samp)\n",
    "\n",
    "plt.plot(t,f_t)\n",
    "plt.scatter(t_samp,f_samp)"
   ]
  },
  {
   "cell_type": "markdown",
   "metadata": {},
   "source": [
    "### Interpolate"
   ]
  },
  {
   "cell_type": "code",
   "execution_count": null,
   "metadata": {},
   "outputs": [],
   "source": [
    "from scipy.interpolate import CubicSpline, splrep, splev\n",
    "\n",
    "cspline = CubicSpline(t_samp, f_samp, bc_type='natural')\n",
    "f_cspline = cspline(t)\n",
    "\n",
    "bspline = splrep(t_samp, f_samp, k=3, task = 0, s = 0)\n",
    "f_bspline = splev(t, bspline)\n"
   ]
  },
  {
   "cell_type": "markdown",
   "metadata": {},
   "source": [
    "### Set up error functions"
   ]
  },
  {
   "cell_type": "code",
   "execution_count": null,
   "metadata": {},
   "outputs": [],
   "source": [
    "def sq_error(x, func1, func2 = true, bspline = False):\n",
    "    if bspline:\n",
    "        return (splev(x, func1) - func2(x)) ** 2\n",
    "    else:\n",
    "        return (func1(x) - func2(x)) ** 2\n"
   ]
  },
  {
   "cell_type": "code",
   "execution_count": null,
   "metadata": {},
   "outputs": [],
   "source": [
    "from scipy.integrate import quad\n",
    "\n",
    "cspline_error = quad(lambda x: sq_error(x, func1 = cspline, func2=true), 0, 1)\n",
    "bspline_error = quad(lambda x: sq_error(x, func1 = bspline, func2=true, bspline=True), 0, 1)\n",
    "\n",
    "\n",
    "plt.plot(t, f_t, label=\"true\")\n",
    "plt.plot(t,f_cspline, label=f\"cSpline: {cspline_error[0]: .2e}\")\n",
    "plt.plot(t,f_bspline, label=f\"bSpline: {bspline_error[0]: .2e}\")\n",
    "plt.legend()"
   ]
  },
  {
   "cell_type": "markdown",
   "metadata": {},
   "source": [
    "So, approximation from cubic b spline is diff than interpolating cubic spline (which minimizes l2 norm of 2nd derivative)"
   ]
  },
  {
   "cell_type": "markdown",
   "metadata": {},
   "source": [
    "### 3D"
   ]
  },
  {
   "cell_type": "code",
   "execution_count": null,
   "metadata": {},
   "outputs": [],
   "source": [
    "from mpl_toolkits import mplot3d\n",
    "import numpy as np\n",
    "import matplotlib.pyplot as plt\n",
    "\n",
    "fig = plt.figure()\n",
    "ax = plt.axes(projection='3d')\n",
    "\n",
    "\n",
    "t_spacing = 0.01\n",
    "t = np.arange(0,1+t_spacing,t_spacing)\n",
    "\n",
    "def true(t):\n",
    "    return np.array([np.cos(2*np.pi*t), np.sin(2*np.pi*t), t]).T\n",
    "\n",
    "f_t = true(t)\n",
    "t_samp = np.arange(0,1+t_spacing,0.1)\n",
    "f_samp = true(t_samp)\n",
    "\n",
    "ax.plot3D(f_t[:,0],f_t[:,1],f_t[:,2])\n",
    "ax.scatter3D(f_samp[:,0],f_samp[:,1],f_samp[:,2])\n"
   ]
  },
  {
   "cell_type": "markdown",
   "metadata": {},
   "source": [
    "### Interpolate"
   ]
  },
  {
   "cell_type": "code",
   "execution_count": null,
   "metadata": {},
   "outputs": [],
   "source": [
    "from scipy.interpolate import CubicSpline, splprep, splev\n",
    "\n",
    "tck, u_samp = splprep(x=[f_samp[:,0],f_samp[:,1],f_samp[:,2]], k=3, task = 0, s = 0, u=t_samp)\n",
    "print(f\"B-spline has {len(tck[0])} knots\")\n",
    "u_spacing = (u_samp[-1]-u_samp[0])/100\n",
    "u_spline = np.arange(u_samp[0], u_samp[-1]+u_spacing, u_spacing)\n",
    "\n",
    "def bsplines(t):\n",
    "    return np.array(splev(t, tck)).T\n",
    "f_bspline = bsplines(u_spline)\n",
    "\n",
    "cspline_fit = [CubicSpline(u_samp, f_samp_i, bc_type='natural') for f_samp_i in f_samp.T]\n",
    "def csplines(t):\n",
    "    return np.array([cspline(t) for cspline in cspline_fit]).T\n",
    "\n",
    "f_cspline = csplines(u_spline)\n"
   ]
  },
  {
   "cell_type": "markdown",
   "metadata": {},
   "source": [
    "### Setup error function"
   ]
  },
  {
   "cell_type": "code",
   "execution_count": null,
   "metadata": {},
   "outputs": [],
   "source": [
    "def sq_error(x, func1, func2 = true):\n",
    "    return np.linalg.norm(func1(x) - func2(x)) ** 2"
   ]
  },
  {
   "cell_type": "code",
   "execution_count": null,
   "metadata": {},
   "outputs": [],
   "source": [
    "from scipy.integrate import quad\n",
    "\n",
    "cspline_error = quad(lambda x: sq_error(x, func1 = csplines, func2=true), 0, 1)\n",
    "bspline_error = quad(lambda x: sq_error(x, func1 = bsplines, func2=true), 0, 1)\n",
    "\n",
    "fig = plt.figure()\n",
    "ax = plt.axes(projection='3d')\n",
    "\n",
    "ax.plot3D(f_t[:,0],f_t[:,1],f_t[:,2], label=\"true\")\n",
    "ax.plot3D(f_bspline[:,0],f_bspline[:,1],f_bspline[:,2], label=f\"bSpline: {bspline_error[0]: .2e}\")\n",
    "ax.plot3D(f_cspline[:,0],f_cspline[:,1],f_cspline[:,2], label=f\"cSpline: {cspline_error[0]: .2e}\")\n",
    "plt.legend()"
   ]
  },
  {
   "cell_type": "markdown",
   "metadata": {},
   "source": [
    "## Real Data"
   ]
  },
  {
   "cell_type": "code",
   "execution_count": null,
   "metadata": {},
   "outputs": [],
   "source": [
    "from pathlib import Path\n",
    "from skimage import io\n",
    "import numpy as np\n",
    "import napari\n",
    "from os.path import exists\n",
    "from brainlit.utils.session import NeuroglancerSession\n",
    "from cloudvolume.exceptions import SkeletonDecodeError\n",
    "from napari_animation import AnimationWidget\n",
    "from cloudvolume import CloudVolume\n",
    "\n",
    "dir = \"precomputed://s3://open-neurodata/brainlit/brain1\"\n",
    "dir_segments = \"precomputed://s3://open-neurodata/brainlit/brain1_segments\"\n",
    "ngl_sess = NeuroglancerSession(mip=0, url=dir, url_segments=dir_segments)\n",
    "\n",
    "mans = [2,3,4,7,9,10,12,17,22,31,33,34]\n",
    "idx = 5\n",
    "errors = np.zeros((2, len(mans)))\n",
    "\n",
    "num_goal = mans[idx] #2,3,4,7,9,10,12,17,22,31,33,34\n",
    "num = -1\n",
    "skel_id = 0\n",
    "\n",
    "while num < num_goal:\n",
    "    try:\n",
    "        ngl_sess.pull_vertex_list(skel_id, [0], 1)\n",
    "        print(f\"Skeleton # {skel_id} exists\")\n",
    "        num += 1\n",
    "    except SkeletonDecodeError:\n",
    "        print(f\"#{skel_id} invalid\")\n",
    "    skel_id += 1\n",
    "\n",
    "img, bbox, vox = ngl_sess.pull_vertex_list(\n",
    "    skel_id - 1, [0, 1, 2, 3, 4, 5, 6, 7, 8, 9], [50, 50, 15]\n",
    ")\n",
    "print(\n",
    "    f\"Image shape: {np.multiply(img.shape, [0.3, 0.3, 1])} microns, {np.product(np.multiply(img.shape, [0.3, 0.3, 1])):e} microns cubed\"\n",
    ")\n",
    "coords_list = vox\n",
    "soma_coords = [coords_list[0]]\n",
    "axon_coords = [coords_list[-1]]\n",
    "coords_list_og = coords_list\n",
    "\n",
    "\n",
    "manual_path = (\n",
    "    \"/Users/thomasathey/Documents/mimlab/mouselight/input/images/firstn_quantitative/manual/\"\n",
    "    + str(num)\n",
    "    + \".swc\"\n",
    ")\n",
    "\n",
    "coords_list = []\n",
    "with open(manual_path, \"r\") as file:\n",
    "    lines = file.readlines()\n",
    "    for line in lines:\n",
    "        if line[0] != \"#\":\n",
    "            parts = line.split()\n",
    "            coord = [float(parts[p]) for p in range(2, 5)]\n",
    "            coord = [int(c) for c in coord]\n",
    "            coord.reverse()\n",
    "            coords_list.append(coord)\n",
    "coords_list.reverse()\n",
    "coords_list = np.array(coords_list)\n",
    "soma_coords = [coords_list[0]]\n",
    "axon_coords = [coords_list[-1]]\n",
    "coords_list_manual = np.concatenate((coords_list_og[0:1,:],coords_list,coords_list_og[-1:,:]), axis=0)\n"
   ]
  },
  {
   "cell_type": "code",
   "execution_count": null,
   "metadata": {},
   "outputs": [],
   "source": [
    "viewer = napari.Viewer(ndisplay=3)\n",
    "viewer.add_image(img, scale=[0.3, 0.3, 1])\n",
    "viewer.add_shapes(\n",
    "    coords_list_manual,\n",
    "    shape_type=\"path\",\n",
    "    edge_width=2,\n",
    "    edge_color=\"green\",\n",
    "    name=\"truth\",\n",
    "    scale=[0.3, 0.3, 1],\n",
    ")\n",
    "viewer.add_shapes(\n",
    "    coords_list_og,\n",
    "    shape_type=\"path\",\n",
    "    edge_width=2,\n",
    "    edge_color=\"red\",\n",
    "    name=\"og\",\n",
    "    scale=[0.3, 0.3, 1],\n",
    ")\n",
    "\n",
    "viewer.add_points(soma_coords, face_color=\"orange\", size=8, scale=[0.3, 0.3, 1])\n",
    "viewer.add_points(axon_coords, face_color=\"red\", size=8, scale=[0.3, 0.3, 1])\n",
    "viewer.camera.angles = [0, -90, -90]\n",
    "napari.run()"
   ]
  },
  {
   "cell_type": "code",
   "execution_count": null,
   "metadata": {},
   "outputs": [],
   "source": [
    "import similaritymeasures\n",
    "\n",
    "og_ra = np.multiply(np.array(coords_list_og), [0.3, 0.3, 1])\n",
    "man_ra = np.multiply(np.array(coords_list_manual), [0.3, 0.3, 1])\n",
    "\n",
    "tck, u = splprep(list(og_ra.T), k=1, task=0, s=0)\n",
    "u_step = (u[-1]-u[0])/100\n",
    "us = np.arange(u[0], u[-1]+u_step, u_step)\n",
    "spline1 = np.array(splev(us, tck)).T\n",
    "f1 = similaritymeasures.frechet_dist(man_ra, spline1)\n",
    "\n",
    "tck3, u = splprep(list(og_ra.T), k=3, task=0, s=0)\n",
    "u_step = (u[-1]-u[0])/100\n",
    "us3 = np.arange(u[0], u[-1]+u_step, u_step)\n",
    "spline3 = np.array(splev(us3, tck3)).T\n",
    "f3 = similaritymeasures.frechet_dist(man_ra, spline3)\n",
    "\n",
    "\n",
    "similaritymeasures.frechet_dist(spline1, spline3)\n",
    "\n",
    "errors[0, idx] = f1\n",
    "errors[1, idx] = f3"
   ]
  },
  {
   "cell_type": "code",
   "execution_count": null,
   "metadata": {},
   "outputs": [],
   "source": [
    "ax = plt.axes(projection='3d')\n",
    "\n",
    "ax.scatter3D(og_ra[:,0],og_ra[:,1],og_ra[:,2], label=\"og\")\n",
    "ax.scatter3D(man_ra[:,0],man_ra[:,1],man_ra[:,2], label=\"manual\")\n",
    "ax.plot3D(spline1[:,0],spline1[:,1],spline1[:,2], label=f\"1d: {f1:.2e}\")\n",
    "ax.plot3D(spline3[:,0],spline3[:,1],spline3[:,2], label=f\"3d {f3:.2e}\")\n",
    "ax.legend()"
   ]
  },
  {
   "cell_type": "markdown",
   "metadata": {},
   "source": [
    "## Loop"
   ]
  },
  {
   "cell_type": "code",
   "execution_count": 195,
   "metadata": {},
   "outputs": [
    {
     "name": "stdout",
     "output_type": "stream",
     "text": [
      "******************0***************\n",
      "#0 invalid\n",
      "#1 invalid\n"
     ]
    },
    {
     "name": "stderr",
     "output_type": "stream",
     "text": [
      "Downloading: 100%|██████████| 1/1 [00:00<00:00,  4.00it/s]\n"
     ]
    },
    {
     "name": "stdout",
     "output_type": "stream",
     "text": [
      "#3 invalid\n",
      "#4 invalid\n",
      "#5 invalid\n",
      "#6 invalid\n"
     ]
    },
    {
     "name": "stderr",
     "output_type": "stream",
     "text": [
      "Downloading: 100%|██████████| 1/1 [00:00<00:00,  3.87it/s]\n"
     ]
    },
    {
     "name": "stdout",
     "output_type": "stream",
     "text": [
      "#8 invalid\n",
      "#9 invalid\n",
      "#10 invalid\n"
     ]
    },
    {
     "name": "stderr",
     "output_type": "stream",
     "text": [
      "Downloading: 100%|██████████| 1/1 [00:00<00:00,  3.70it/s]\n",
      "Downloading: 100%|██████████| 72/72 [00:05<00:00, 13.90it/s]\n"
     ]
    },
    {
     "name": "stdout",
     "output_type": "stream",
     "text": [
      "******************1***************\n",
      "#0 invalid\n",
      "#1 invalid\n"
     ]
    },
    {
     "name": "stderr",
     "output_type": "stream",
     "text": [
      "Downloading: 100%|██████████| 1/1 [00:00<00:00,  4.50it/s]\n"
     ]
    },
    {
     "name": "stdout",
     "output_type": "stream",
     "text": [
      "#3 invalid\n",
      "#4 invalid\n",
      "#5 invalid\n",
      "#6 invalid\n"
     ]
    },
    {
     "name": "stderr",
     "output_type": "stream",
     "text": [
      "Downloading: 100%|██████████| 1/1 [00:00<00:00,  3.47it/s]\n"
     ]
    },
    {
     "name": "stdout",
     "output_type": "stream",
     "text": [
      "#8 invalid\n",
      "#9 invalid\n",
      "#10 invalid\n"
     ]
    },
    {
     "name": "stderr",
     "output_type": "stream",
     "text": [
      "Downloading: 100%|██████████| 1/1 [00:00<00:00,  3.52it/s]\n",
      "Downloading: 100%|██████████| 1/1 [00:00<00:00,  2.53it/s]\n",
      "Downloading: 100%|██████████| 40/40 [00:02<00:00, 13.89it/s]\n"
     ]
    },
    {
     "name": "stdout",
     "output_type": "stream",
     "text": [
      "******************2***************\n",
      "#0 invalid\n",
      "#1 invalid\n"
     ]
    },
    {
     "name": "stderr",
     "output_type": "stream",
     "text": [
      "Downloading: 100%|██████████| 1/1 [00:00<00:00,  3.55it/s]\n"
     ]
    },
    {
     "name": "stdout",
     "output_type": "stream",
     "text": [
      "#3 invalid\n",
      "#4 invalid\n",
      "#5 invalid\n",
      "#6 invalid\n"
     ]
    },
    {
     "name": "stderr",
     "output_type": "stream",
     "text": [
      "Downloading: 100%|██████████| 1/1 [00:00<00:00,  4.05it/s]\n"
     ]
    },
    {
     "name": "stdout",
     "output_type": "stream",
     "text": [
      "#8 invalid\n",
      "#9 invalid\n",
      "#10 invalid\n"
     ]
    },
    {
     "name": "stderr",
     "output_type": "stream",
     "text": [
      "Downloading: 100%|██████████| 1/1 [00:00<00:00,  3.58it/s]\n",
      "Downloading: 100%|██████████| 1/1 [00:00<00:00,  3.29it/s]\n",
      "Downloading: 100%|██████████| 1/1 [00:00<00:00,  2.62it/s]\n",
      "Downloading: 100%|██████████| 42/42 [00:02<00:00, 14.29it/s]\n"
     ]
    },
    {
     "name": "stdout",
     "output_type": "stream",
     "text": [
      "******************3***************\n",
      "#0 invalid\n",
      "#1 invalid\n"
     ]
    },
    {
     "name": "stderr",
     "output_type": "stream",
     "text": [
      "Downloading: 100%|██████████| 1/1 [00:00<00:00,  3.75it/s]\n"
     ]
    },
    {
     "name": "stdout",
     "output_type": "stream",
     "text": [
      "#3 invalid\n",
      "#4 invalid\n",
      "#5 invalid\n",
      "#6 invalid\n"
     ]
    },
    {
     "name": "stderr",
     "output_type": "stream",
     "text": [
      "Downloading: 100%|██████████| 1/1 [00:00<00:00,  2.84it/s]\n"
     ]
    },
    {
     "name": "stdout",
     "output_type": "stream",
     "text": [
      "#8 invalid\n",
      "#9 invalid\n",
      "#10 invalid\n"
     ]
    },
    {
     "name": "stderr",
     "output_type": "stream",
     "text": [
      "Downloading: 100%|██████████| 1/1 [00:00<00:00,  2.31it/s]\n",
      "Downloading: 100%|██████████| 1/1 [00:00<00:00,  2.57it/s]\n",
      "Downloading: 100%|██████████| 1/1 [00:00<00:00,  1.87it/s]\n",
      "Downloading: 100%|██████████| 2/2 [00:00<00:00,  3.55it/s]\n"
     ]
    },
    {
     "name": "stdout",
     "output_type": "stream",
     "text": [
      "#15 invalid\n",
      "#16 invalid\n",
      "#17 invalid\n",
      "#18 invalid\n",
      "#19 invalid\n"
     ]
    },
    {
     "name": "stderr",
     "output_type": "stream",
     "text": [
      "Downloading: 100%|██████████| 1/1 [00:00<00:00,  1.92it/s]\n"
     ]
    },
    {
     "name": "stdout",
     "output_type": "stream",
     "text": [
      "#21 invalid\n",
      "#22 invalid\n",
      "#23 invalid\n"
     ]
    },
    {
     "name": "stderr",
     "output_type": "stream",
     "text": [
      "Downloading: 100%|██████████| 1/1 [00:00<00:00,  4.24it/s]\n",
      "Downloading: 100%|██████████| 392/392 [00:26<00:00, 14.66it/s]\n"
     ]
    },
    {
     "name": "stdout",
     "output_type": "stream",
     "text": [
      "******************4***************\n",
      "#0 invalid\n",
      "#1 invalid\n"
     ]
    },
    {
     "name": "stderr",
     "output_type": "stream",
     "text": [
      "Downloading: 100%|██████████| 1/1 [00:00<00:00,  3.60it/s]\n"
     ]
    },
    {
     "name": "stdout",
     "output_type": "stream",
     "text": [
      "#3 invalid\n",
      "#4 invalid\n",
      "#5 invalid\n",
      "#6 invalid\n"
     ]
    },
    {
     "name": "stderr",
     "output_type": "stream",
     "text": [
      "Downloading: 100%|██████████| 1/1 [00:00<00:00,  3.22it/s]\n"
     ]
    },
    {
     "name": "stdout",
     "output_type": "stream",
     "text": [
      "#8 invalid\n",
      "#9 invalid\n",
      "#10 invalid\n"
     ]
    },
    {
     "name": "stderr",
     "output_type": "stream",
     "text": [
      "Downloading: 100%|██████████| 1/1 [00:00<00:00,  3.14it/s]\n",
      "Downloading: 100%|██████████| 1/1 [00:00<00:00,  2.25it/s]\n",
      "Downloading: 100%|██████████| 1/1 [00:00<00:00,  2.41it/s]\n",
      "Downloading: 100%|██████████| 2/2 [00:00<00:00,  6.24it/s]\n"
     ]
    },
    {
     "name": "stdout",
     "output_type": "stream",
     "text": [
      "#15 invalid\n",
      "#16 invalid\n",
      "#17 invalid\n",
      "#18 invalid\n",
      "#19 invalid\n"
     ]
    },
    {
     "name": "stderr",
     "output_type": "stream",
     "text": [
      "Downloading: 100%|██████████| 1/1 [00:00<00:00,  4.50it/s]\n"
     ]
    },
    {
     "name": "stdout",
     "output_type": "stream",
     "text": [
      "#21 invalid\n",
      "#22 invalid\n",
      "#23 invalid\n"
     ]
    },
    {
     "name": "stderr",
     "output_type": "stream",
     "text": [
      "Downloading: 100%|██████████| 1/1 [00:00<00:00,  1.87it/s]\n"
     ]
    },
    {
     "name": "stdout",
     "output_type": "stream",
     "text": [
      "#25 invalid\n",
      "#26 invalid\n",
      "#27 invalid\n"
     ]
    },
    {
     "name": "stderr",
     "output_type": "stream",
     "text": [
      "Downloading: 100%|██████████| 1/1 [00:00<00:00,  2.56it/s]\n"
     ]
    },
    {
     "name": "stdout",
     "output_type": "stream",
     "text": [
      "#29 invalid\n",
      "#30 invalid\n",
      "#31 invalid\n",
      "#32 invalid\n",
      "#33 invalid\n",
      "#34 invalid\n"
     ]
    },
    {
     "name": "stderr",
     "output_type": "stream",
     "text": [
      "Downloading: 100%|██████████| 1/1 [00:00<00:00,  2.61it/s]\n",
      "Downloading: 100%|██████████| 20/20 [00:01<00:00, 12.50it/s]\n"
     ]
    },
    {
     "name": "stdout",
     "output_type": "stream",
     "text": [
      "******************5***************\n",
      "#0 invalid\n",
      "#1 invalid\n"
     ]
    },
    {
     "name": "stderr",
     "output_type": "stream",
     "text": [
      "Downloading: 100%|██████████| 1/1 [00:00<00:00,  3.42it/s]\n"
     ]
    },
    {
     "name": "stdout",
     "output_type": "stream",
     "text": [
      "#3 invalid\n",
      "#4 invalid\n",
      "#5 invalid\n",
      "#6 invalid\n"
     ]
    },
    {
     "name": "stderr",
     "output_type": "stream",
     "text": [
      "Downloading: 100%|██████████| 1/1 [00:00<00:00,  2.94it/s]\n"
     ]
    },
    {
     "name": "stdout",
     "output_type": "stream",
     "text": [
      "#8 invalid\n",
      "#9 invalid\n",
      "#10 invalid\n"
     ]
    },
    {
     "name": "stderr",
     "output_type": "stream",
     "text": [
      "Downloading: 100%|██████████| 1/1 [00:00<00:00,  2.68it/s]\n",
      "Downloading: 100%|██████████| 1/1 [00:00<00:00,  2.42it/s]\n",
      "Downloading: 100%|██████████| 1/1 [00:00<00:00,  2.79it/s]\n",
      "Downloading: 100%|██████████| 2/2 [00:00<00:00,  5.66it/s]\n"
     ]
    },
    {
     "name": "stdout",
     "output_type": "stream",
     "text": [
      "#15 invalid\n",
      "#16 invalid\n",
      "#17 invalid\n",
      "#18 invalid\n",
      "#19 invalid\n"
     ]
    },
    {
     "name": "stderr",
     "output_type": "stream",
     "text": [
      "Downloading: 100%|██████████| 1/1 [00:00<00:00,  1.61it/s]\n"
     ]
    },
    {
     "name": "stdout",
     "output_type": "stream",
     "text": [
      "#21 invalid\n",
      "#22 invalid\n",
      "#23 invalid\n"
     ]
    },
    {
     "name": "stderr",
     "output_type": "stream",
     "text": [
      "Downloading: 100%|██████████| 1/1 [00:00<00:00,  2.97it/s]\n"
     ]
    },
    {
     "name": "stdout",
     "output_type": "stream",
     "text": [
      "#25 invalid\n",
      "#26 invalid\n",
      "#27 invalid\n"
     ]
    },
    {
     "name": "stderr",
     "output_type": "stream",
     "text": [
      "Downloading: 100%|██████████| 1/1 [00:00<00:00,  3.38it/s]\n"
     ]
    },
    {
     "name": "stdout",
     "output_type": "stream",
     "text": [
      "#29 invalid\n",
      "#30 invalid\n",
      "#31 invalid\n",
      "#32 invalid\n",
      "#33 invalid\n",
      "#34 invalid\n"
     ]
    },
    {
     "name": "stderr",
     "output_type": "stream",
     "text": [
      "Downloading: 100%|██████████| 1/1 [00:00<00:00,  3.46it/s]\n"
     ]
    },
    {
     "name": "stdout",
     "output_type": "stream",
     "text": [
      "#36 invalid\n",
      "#37 invalid\n",
      "#38 invalid\n",
      "#39 invalid\n"
     ]
    },
    {
     "name": "stderr",
     "output_type": "stream",
     "text": [
      "Downloading: 100%|██████████| 1/1 [00:00<00:00,  3.06it/s]\n",
      "Downloading: 100%|██████████| 16/16 [00:01<00:00, 13.19it/s]\n"
     ]
    },
    {
     "name": "stdout",
     "output_type": "stream",
     "text": [
      "******************6***************\n",
      "#0 invalid\n",
      "#1 invalid\n"
     ]
    },
    {
     "name": "stderr",
     "output_type": "stream",
     "text": [
      "Downloading: 100%|██████████| 1/1 [00:00<00:00,  4.12it/s]\n"
     ]
    },
    {
     "name": "stdout",
     "output_type": "stream",
     "text": [
      "#3 invalid\n",
      "#4 invalid\n",
      "#5 invalid\n",
      "#6 invalid\n"
     ]
    },
    {
     "name": "stderr",
     "output_type": "stream",
     "text": [
      "Downloading: 100%|██████████| 1/1 [00:00<00:00,  3.25it/s]\n"
     ]
    },
    {
     "name": "stdout",
     "output_type": "stream",
     "text": [
      "#8 invalid\n",
      "#9 invalid\n",
      "#10 invalid\n"
     ]
    },
    {
     "name": "stderr",
     "output_type": "stream",
     "text": [
      "Downloading: 100%|██████████| 1/1 [00:00<00:00,  3.24it/s]\n",
      "Downloading: 100%|██████████| 1/1 [00:00<00:00,  2.68it/s]\n",
      "Downloading: 100%|██████████| 1/1 [00:00<00:00,  3.06it/s]\n",
      "Downloading: 100%|██████████| 2/2 [00:00<00:00,  5.29it/s]\n"
     ]
    },
    {
     "name": "stdout",
     "output_type": "stream",
     "text": [
      "#15 invalid\n",
      "#16 invalid\n",
      "#17 invalid\n",
      "#18 invalid\n",
      "#19 invalid\n"
     ]
    },
    {
     "name": "stderr",
     "output_type": "stream",
     "text": [
      "Downloading: 100%|██████████| 1/1 [00:00<00:00,  3.16it/s]\n"
     ]
    },
    {
     "name": "stdout",
     "output_type": "stream",
     "text": [
      "#21 invalid\n",
      "#22 invalid\n",
      "#23 invalid\n"
     ]
    },
    {
     "name": "stderr",
     "output_type": "stream",
     "text": [
      "Downloading: 100%|██████████| 1/1 [00:00<00:00,  3.20it/s]\n"
     ]
    },
    {
     "name": "stdout",
     "output_type": "stream",
     "text": [
      "#25 invalid\n",
      "#26 invalid\n",
      "#27 invalid\n"
     ]
    },
    {
     "name": "stderr",
     "output_type": "stream",
     "text": [
      "Downloading: 100%|██████████| 1/1 [00:00<00:00,  3.33it/s]\n"
     ]
    },
    {
     "name": "stdout",
     "output_type": "stream",
     "text": [
      "#29 invalid\n",
      "#30 invalid\n",
      "#31 invalid\n",
      "#32 invalid\n",
      "#33 invalid\n",
      "#34 invalid\n"
     ]
    },
    {
     "name": "stderr",
     "output_type": "stream",
     "text": [
      "Downloading: 100%|██████████| 1/1 [00:00<00:00,  4.03it/s]\n"
     ]
    },
    {
     "name": "stdout",
     "output_type": "stream",
     "text": [
      "#36 invalid\n",
      "#37 invalid\n",
      "#38 invalid\n",
      "#39 invalid\n"
     ]
    },
    {
     "name": "stderr",
     "output_type": "stream",
     "text": [
      "Downloading: 100%|██████████| 1/1 [00:00<00:00,  3.28it/s]\n"
     ]
    },
    {
     "name": "stdout",
     "output_type": "stream",
     "text": [
      "#41 invalid\n",
      "#42 invalid\n",
      "#43 invalid\n",
      "#44 invalid\n"
     ]
    },
    {
     "name": "stderr",
     "output_type": "stream",
     "text": [
      "Downloading: 100%|██████████| 1/1 [00:00<00:00,  3.61it/s]\n"
     ]
    },
    {
     "name": "stdout",
     "output_type": "stream",
     "text": [
      "#46 invalid\n",
      "#47 invalid\n"
     ]
    },
    {
     "name": "stderr",
     "output_type": "stream",
     "text": [
      "Downloading: 100%|██████████| 1/1 [00:00<00:00,  3.15it/s]\n",
      "Downloading: 100%|██████████| 27/27 [00:02<00:00, 13.18it/s]\n"
     ]
    },
    {
     "name": "stdout",
     "output_type": "stream",
     "text": [
      "******************7***************\n",
      "#0 invalid\n",
      "#1 invalid\n"
     ]
    },
    {
     "name": "stderr",
     "output_type": "stream",
     "text": [
      "Downloading: 100%|██████████| 1/1 [00:00<00:00,  3.51it/s]\n"
     ]
    },
    {
     "name": "stdout",
     "output_type": "stream",
     "text": [
      "#3 invalid\n",
      "#4 invalid\n",
      "#5 invalid\n",
      "#6 invalid\n"
     ]
    },
    {
     "name": "stderr",
     "output_type": "stream",
     "text": [
      "Downloading: 100%|██████████| 1/1 [00:00<00:00,  3.24it/s]\n"
     ]
    },
    {
     "name": "stdout",
     "output_type": "stream",
     "text": [
      "#8 invalid\n",
      "#9 invalid\n",
      "#10 invalid\n"
     ]
    },
    {
     "name": "stderr",
     "output_type": "stream",
     "text": [
      "Downloading: 100%|██████████| 1/1 [00:00<00:00,  4.57it/s]\n",
      "Downloading: 100%|██████████| 1/1 [00:00<00:00,  3.61it/s]\n",
      "Downloading: 100%|██████████| 1/1 [00:00<00:00,  3.02it/s]\n",
      "Downloading: 100%|██████████| 2/2 [00:00<00:00,  4.93it/s]\n"
     ]
    },
    {
     "name": "stdout",
     "output_type": "stream",
     "text": [
      "#15 invalid\n",
      "#16 invalid\n",
      "#17 invalid\n",
      "#18 invalid\n",
      "#19 invalid\n"
     ]
    },
    {
     "name": "stderr",
     "output_type": "stream",
     "text": [
      "Downloading: 100%|██████████| 1/1 [00:00<00:00,  2.69it/s]\n"
     ]
    },
    {
     "name": "stdout",
     "output_type": "stream",
     "text": [
      "#21 invalid\n",
      "#22 invalid\n",
      "#23 invalid\n"
     ]
    },
    {
     "name": "stderr",
     "output_type": "stream",
     "text": [
      "Downloading: 100%|██████████| 1/1 [00:00<00:00,  4.14it/s]\n"
     ]
    },
    {
     "name": "stdout",
     "output_type": "stream",
     "text": [
      "#25 invalid\n",
      "#26 invalid\n",
      "#27 invalid\n"
     ]
    },
    {
     "name": "stderr",
     "output_type": "stream",
     "text": [
      "Downloading: 100%|██████████| 1/1 [00:00<00:00,  3.97it/s]\n"
     ]
    },
    {
     "name": "stdout",
     "output_type": "stream",
     "text": [
      "#29 invalid\n",
      "#30 invalid\n",
      "#31 invalid\n",
      "#32 invalid\n",
      "#33 invalid\n",
      "#34 invalid\n"
     ]
    },
    {
     "name": "stderr",
     "output_type": "stream",
     "text": [
      "Downloading: 100%|██████████| 1/1 [00:00<00:00,  2.76it/s]\n"
     ]
    },
    {
     "name": "stdout",
     "output_type": "stream",
     "text": [
      "#36 invalid\n",
      "#37 invalid\n",
      "#38 invalid\n",
      "#39 invalid\n"
     ]
    },
    {
     "name": "stderr",
     "output_type": "stream",
     "text": [
      "Downloading: 100%|██████████| 1/1 [00:00<00:00,  4.94it/s]\n"
     ]
    },
    {
     "name": "stdout",
     "output_type": "stream",
     "text": [
      "#41 invalid\n",
      "#42 invalid\n",
      "#43 invalid\n",
      "#44 invalid\n"
     ]
    },
    {
     "name": "stderr",
     "output_type": "stream",
     "text": [
      "Downloading: 100%|██████████| 1/1 [00:00<00:00,  4.19it/s]\n"
     ]
    },
    {
     "name": "stdout",
     "output_type": "stream",
     "text": [
      "#46 invalid\n",
      "#47 invalid\n"
     ]
    },
    {
     "name": "stderr",
     "output_type": "stream",
     "text": [
      "Downloading: 100%|██████████| 1/1 [00:00<00:00,  2.64it/s]\n",
      "Downloading: 100%|██████████| 1/1 [00:00<00:00,  2.00it/s]\n"
     ]
    },
    {
     "name": "stdout",
     "output_type": "stream",
     "text": [
      "#50 invalid\n"
     ]
    },
    {
     "name": "stderr",
     "output_type": "stream",
     "text": [
      "Downloading: 100%|██████████| 1/1 [00:00<00:00,  2.58it/s]\n"
     ]
    },
    {
     "name": "stdout",
     "output_type": "stream",
     "text": [
      "#52 invalid\n"
     ]
    },
    {
     "name": "stderr",
     "output_type": "stream",
     "text": [
      "Downloading: 100%|██████████| 1/1 [00:00<00:00,  2.51it/s]\n"
     ]
    },
    {
     "name": "stdout",
     "output_type": "stream",
     "text": [
      "#54 invalid\n",
      "#55 invalid\n",
      "#56 invalid\n",
      "#57 invalid\n",
      "#58 invalid\n"
     ]
    },
    {
     "name": "stderr",
     "output_type": "stream",
     "text": [
      "Downloading: 100%|██████████| 1/1 [00:00<00:00,  4.13it/s]\n",
      "Downloading: 100%|██████████| 1/1 [00:00<00:00,  3.30it/s]\n",
      "Downloading: 100%|██████████| 54/54 [00:03<00:00, 14.29it/s]\n"
     ]
    },
    {
     "name": "stdout",
     "output_type": "stream",
     "text": [
      "******************8***************\n",
      "#0 invalid\n",
      "#1 invalid\n"
     ]
    },
    {
     "name": "stderr",
     "output_type": "stream",
     "text": [
      "Downloading: 100%|██████████| 1/1 [00:00<00:00,  2.30it/s]\n"
     ]
    },
    {
     "name": "stdout",
     "output_type": "stream",
     "text": [
      "#3 invalid\n",
      "#4 invalid\n",
      "#5 invalid\n",
      "#6 invalid\n"
     ]
    },
    {
     "name": "stderr",
     "output_type": "stream",
     "text": [
      "Downloading: 100%|██████████| 1/1 [00:00<00:00,  3.92it/s]\n"
     ]
    },
    {
     "name": "stdout",
     "output_type": "stream",
     "text": [
      "#8 invalid\n",
      "#9 invalid\n",
      "#10 invalid\n"
     ]
    },
    {
     "name": "stderr",
     "output_type": "stream",
     "text": [
      "Downloading: 100%|██████████| 1/1 [00:00<00:00,  3.49it/s]\n",
      "Downloading: 100%|██████████| 1/1 [00:00<00:00,  3.26it/s]\n",
      "Downloading: 100%|██████████| 1/1 [00:00<00:00,  2.64it/s]\n",
      "Downloading: 100%|██████████| 2/2 [00:00<00:00,  2.81it/s]\n"
     ]
    },
    {
     "name": "stdout",
     "output_type": "stream",
     "text": [
      "#15 invalid\n",
      "#16 invalid\n",
      "#17 invalid\n",
      "#18 invalid\n",
      "#19 invalid\n"
     ]
    },
    {
     "name": "stderr",
     "output_type": "stream",
     "text": [
      "Downloading: 100%|██████████| 1/1 [00:02<00:00,  2.27s/it]\n"
     ]
    },
    {
     "name": "stdout",
     "output_type": "stream",
     "text": [
      "#21 invalid\n",
      "#22 invalid\n",
      "#23 invalid\n"
     ]
    },
    {
     "name": "stderr",
     "output_type": "stream",
     "text": [
      "Downloading: 100%|██████████| 1/1 [00:00<00:00,  3.35it/s]\n"
     ]
    },
    {
     "name": "stdout",
     "output_type": "stream",
     "text": [
      "#25 invalid\n",
      "#26 invalid\n",
      "#27 invalid\n"
     ]
    },
    {
     "name": "stderr",
     "output_type": "stream",
     "text": [
      "Downloading: 100%|██████████| 1/1 [00:00<00:00,  2.91it/s]\n"
     ]
    },
    {
     "name": "stdout",
     "output_type": "stream",
     "text": [
      "#29 invalid\n",
      "#30 invalid\n",
      "#31 invalid\n",
      "#32 invalid\n",
      "#33 invalid\n",
      "#34 invalid\n"
     ]
    },
    {
     "name": "stderr",
     "output_type": "stream",
     "text": [
      "Downloading: 100%|██████████| 1/1 [00:00<00:00,  3.45it/s]\n"
     ]
    },
    {
     "name": "stdout",
     "output_type": "stream",
     "text": [
      "#36 invalid\n",
      "#37 invalid\n",
      "#38 invalid\n",
      "#39 invalid\n"
     ]
    },
    {
     "name": "stderr",
     "output_type": "stream",
     "text": [
      "Downloading: 100%|██████████| 1/1 [00:00<00:00,  2.89it/s]\n"
     ]
    },
    {
     "name": "stdout",
     "output_type": "stream",
     "text": [
      "#41 invalid\n",
      "#42 invalid\n",
      "#43 invalid\n",
      "#44 invalid\n"
     ]
    },
    {
     "name": "stderr",
     "output_type": "stream",
     "text": [
      "Downloading: 100%|██████████| 1/1 [00:00<00:00,  1.56it/s]\n"
     ]
    },
    {
     "name": "stdout",
     "output_type": "stream",
     "text": [
      "#46 invalid\n",
      "#47 invalid\n"
     ]
    },
    {
     "name": "stderr",
     "output_type": "stream",
     "text": [
      "Downloading: 100%|██████████| 1/1 [00:00<00:00,  2.19it/s]\n",
      "Downloading: 100%|██████████| 1/1 [00:00<00:00,  4.18it/s]\n"
     ]
    },
    {
     "name": "stdout",
     "output_type": "stream",
     "text": [
      "#50 invalid\n"
     ]
    },
    {
     "name": "stderr",
     "output_type": "stream",
     "text": [
      "Downloading: 100%|██████████| 1/1 [00:00<00:00,  3.53it/s]\n"
     ]
    },
    {
     "name": "stdout",
     "output_type": "stream",
     "text": [
      "#52 invalid\n"
     ]
    },
    {
     "name": "stderr",
     "output_type": "stream",
     "text": [
      "Downloading: 100%|██████████| 1/1 [00:00<00:00,  3.89it/s]\n"
     ]
    },
    {
     "name": "stdout",
     "output_type": "stream",
     "text": [
      "#54 invalid\n",
      "#55 invalid\n",
      "#56 invalid\n",
      "#57 invalid\n",
      "#58 invalid\n"
     ]
    },
    {
     "name": "stderr",
     "output_type": "stream",
     "text": [
      "Downloading: 100%|██████████| 1/1 [00:00<00:00,  2.24it/s]\n",
      "Downloading: 100%|██████████| 1/1 [00:00<00:00,  2.11it/s]\n"
     ]
    },
    {
     "name": "stdout",
     "output_type": "stream",
     "text": [
      "#61 invalid\n",
      "#62 invalid\n",
      "#63 invalid\n",
      "#64 invalid\n"
     ]
    },
    {
     "name": "stderr",
     "output_type": "stream",
     "text": [
      "Downloading: 100%|██████████| 1/1 [00:00<00:00,  3.96it/s]\n"
     ]
    },
    {
     "name": "stdout",
     "output_type": "stream",
     "text": [
      "#66 invalid\n"
     ]
    },
    {
     "name": "stderr",
     "output_type": "stream",
     "text": [
      "Downloading: 100%|██████████| 1/1 [00:00<00:00,  1.24it/s]\n"
     ]
    },
    {
     "name": "stdout",
     "output_type": "stream",
     "text": [
      "#68 invalid\n"
     ]
    },
    {
     "name": "stderr",
     "output_type": "stream",
     "text": [
      "Downloading: 100%|██████████| 1/1 [00:00<00:00,  1.67it/s]\n"
     ]
    },
    {
     "name": "stdout",
     "output_type": "stream",
     "text": [
      "#70 invalid\n"
     ]
    },
    {
     "name": "stderr",
     "output_type": "stream",
     "text": [
      "Downloading: 100%|██████████| 1/1 [00:00<00:00,  3.61it/s]\n",
      "Downloading: 100%|██████████| 1/1 [00:00<00:00,  3.97it/s]\n",
      "Downloading: 100%|██████████| 27/27 [00:02<00:00, 13.28it/s]\n"
     ]
    },
    {
     "name": "stdout",
     "output_type": "stream",
     "text": [
      "******************9***************\n",
      "#0 invalid\n",
      "#1 invalid\n"
     ]
    },
    {
     "name": "stderr",
     "output_type": "stream",
     "text": [
      "Downloading: 100%|██████████| 1/1 [00:00<00:00,  1.88it/s]\n"
     ]
    },
    {
     "name": "stdout",
     "output_type": "stream",
     "text": [
      "#3 invalid\n",
      "#4 invalid\n",
      "#5 invalid\n",
      "#6 invalid\n"
     ]
    },
    {
     "name": "stderr",
     "output_type": "stream",
     "text": [
      "Downloading: 100%|██████████| 1/1 [00:00<00:00,  4.88it/s]\n"
     ]
    },
    {
     "name": "stdout",
     "output_type": "stream",
     "text": [
      "#8 invalid\n",
      "#9 invalid\n",
      "#10 invalid\n"
     ]
    },
    {
     "name": "stderr",
     "output_type": "stream",
     "text": [
      "Downloading: 100%|██████████| 1/1 [00:00<00:00,  2.62it/s]\n",
      "Downloading: 100%|██████████| 1/1 [00:00<00:00,  2.53it/s]\n",
      "Downloading: 100%|██████████| 1/1 [00:00<00:00,  2.51it/s]\n",
      "Downloading: 100%|██████████| 2/2 [00:00<00:00,  5.35it/s]\n"
     ]
    },
    {
     "name": "stdout",
     "output_type": "stream",
     "text": [
      "#15 invalid\n",
      "#16 invalid\n",
      "#17 invalid\n",
      "#18 invalid\n",
      "#19 invalid\n"
     ]
    },
    {
     "name": "stderr",
     "output_type": "stream",
     "text": [
      "Downloading: 100%|██████████| 1/1 [00:00<00:00,  2.86it/s]\n"
     ]
    },
    {
     "name": "stdout",
     "output_type": "stream",
     "text": [
      "#21 invalid\n",
      "#22 invalid\n",
      "#23 invalid\n"
     ]
    },
    {
     "name": "stderr",
     "output_type": "stream",
     "text": [
      "Downloading: 100%|██████████| 1/1 [00:00<00:00,  2.95it/s]\n"
     ]
    },
    {
     "name": "stdout",
     "output_type": "stream",
     "text": [
      "#25 invalid\n",
      "#26 invalid\n",
      "#27 invalid\n"
     ]
    },
    {
     "name": "stderr",
     "output_type": "stream",
     "text": [
      "Downloading: 100%|██████████| 1/1 [00:00<00:00,  3.24it/s]\n"
     ]
    },
    {
     "name": "stdout",
     "output_type": "stream",
     "text": [
      "#29 invalid\n",
      "#30 invalid\n",
      "#31 invalid\n",
      "#32 invalid\n",
      "#33 invalid\n",
      "#34 invalid\n"
     ]
    },
    {
     "name": "stderr",
     "output_type": "stream",
     "text": [
      "Downloading: 100%|██████████| 1/1 [00:00<00:00,  2.44it/s]\n"
     ]
    },
    {
     "name": "stdout",
     "output_type": "stream",
     "text": [
      "#36 invalid\n",
      "#37 invalid\n",
      "#38 invalid\n",
      "#39 invalid\n"
     ]
    },
    {
     "name": "stderr",
     "output_type": "stream",
     "text": [
      "Downloading: 100%|██████████| 1/1 [00:00<00:00,  3.92it/s]\n"
     ]
    },
    {
     "name": "stdout",
     "output_type": "stream",
     "text": [
      "#41 invalid\n",
      "#42 invalid\n",
      "#43 invalid\n",
      "#44 invalid\n"
     ]
    },
    {
     "name": "stderr",
     "output_type": "stream",
     "text": [
      "Downloading: 100%|██████████| 1/1 [00:00<00:00,  3.42it/s]\n"
     ]
    },
    {
     "name": "stdout",
     "output_type": "stream",
     "text": [
      "#46 invalid\n",
      "#47 invalid\n"
     ]
    },
    {
     "name": "stderr",
     "output_type": "stream",
     "text": [
      "Downloading: 100%|██████████| 1/1 [00:00<00:00,  2.86it/s]\n",
      "Downloading: 100%|██████████| 1/1 [00:00<00:00,  3.42it/s]\n"
     ]
    },
    {
     "name": "stdout",
     "output_type": "stream",
     "text": [
      "#50 invalid\n"
     ]
    },
    {
     "name": "stderr",
     "output_type": "stream",
     "text": [
      "Downloading: 100%|██████████| 1/1 [00:00<00:00,  2.96it/s]\n"
     ]
    },
    {
     "name": "stdout",
     "output_type": "stream",
     "text": [
      "#52 invalid\n"
     ]
    },
    {
     "name": "stderr",
     "output_type": "stream",
     "text": [
      "Downloading: 100%|██████████| 1/1 [00:00<00:00,  4.52it/s]\n"
     ]
    },
    {
     "name": "stdout",
     "output_type": "stream",
     "text": [
      "#54 invalid\n",
      "#55 invalid\n",
      "#56 invalid\n",
      "#57 invalid\n",
      "#58 invalid\n"
     ]
    },
    {
     "name": "stderr",
     "output_type": "stream",
     "text": [
      "Downloading: 100%|██████████| 1/1 [00:00<00:00,  2.76it/s]\n",
      "Downloading: 100%|██████████| 1/1 [00:00<00:00,  2.43it/s]\n"
     ]
    },
    {
     "name": "stdout",
     "output_type": "stream",
     "text": [
      "#61 invalid\n",
      "#62 invalid\n",
      "#63 invalid\n",
      "#64 invalid\n"
     ]
    },
    {
     "name": "stderr",
     "output_type": "stream",
     "text": [
      "Downloading: 100%|██████████| 1/1 [00:00<00:00,  2.58it/s]\n"
     ]
    },
    {
     "name": "stdout",
     "output_type": "stream",
     "text": [
      "#66 invalid\n"
     ]
    },
    {
     "name": "stderr",
     "output_type": "stream",
     "text": [
      "Downloading: 100%|██████████| 1/1 [00:00<00:00,  3.38it/s]\n"
     ]
    },
    {
     "name": "stdout",
     "output_type": "stream",
     "text": [
      "#68 invalid\n"
     ]
    },
    {
     "name": "stderr",
     "output_type": "stream",
     "text": [
      "Downloading: 100%|██████████| 1/1 [00:00<00:00,  3.81it/s]\n"
     ]
    },
    {
     "name": "stdout",
     "output_type": "stream",
     "text": [
      "#70 invalid\n"
     ]
    },
    {
     "name": "stderr",
     "output_type": "stream",
     "text": [
      "Downloading: 100%|██████████| 1/1 [00:00<00:00,  3.30it/s]\n",
      "Downloading: 100%|██████████| 1/1 [00:00<00:00,  3.37it/s]\n",
      "Downloading: 100%|██████████| 1/1 [00:00<00:00,  3.76it/s]\n",
      "Downloading: 100%|██████████| 1/1 [00:00<00:00,  2.52it/s]\n",
      "Downloading: 100%|██████████| 1/1 [00:00<00:00,  3.15it/s]\n",
      "Downloading: 100%|██████████| 1/1 [00:00<00:00,  3.18it/s]\n",
      "Downloading: 100%|██████████| 1/1 [00:00<00:00,  2.71it/s]\n",
      "Downloading: 100%|██████████| 1/1 [00:00<00:00,  3.19it/s]\n",
      "Downloading: 100%|██████████| 1/1 [00:00<00:00,  4.00it/s]\n"
     ]
    },
    {
     "name": "stdout",
     "output_type": "stream",
     "text": [
      "#80 invalid\n"
     ]
    },
    {
     "name": "stderr",
     "output_type": "stream",
     "text": [
      "Downloading: 100%|██████████| 1/1 [00:00<00:00,  3.23it/s]\n",
      "Downloading: 100%|██████████| 1/1 [00:00<00:00,  3.98it/s]\n",
      "Downloading: 100%|██████████| 72/72 [00:05<00:00, 14.35it/s]\n"
     ]
    },
    {
     "name": "stdout",
     "output_type": "stream",
     "text": [
      "******************10***************\n",
      "#0 invalid\n",
      "#1 invalid\n"
     ]
    },
    {
     "name": "stderr",
     "output_type": "stream",
     "text": [
      "Downloading: 100%|██████████| 1/1 [00:00<00:00,  2.83it/s]\n"
     ]
    },
    {
     "name": "stdout",
     "output_type": "stream",
     "text": [
      "#3 invalid\n",
      "#4 invalid\n",
      "#5 invalid\n",
      "#6 invalid\n"
     ]
    },
    {
     "name": "stderr",
     "output_type": "stream",
     "text": [
      "Downloading: 100%|██████████| 1/1 [00:00<00:00,  2.41it/s]\n"
     ]
    },
    {
     "name": "stdout",
     "output_type": "stream",
     "text": [
      "#8 invalid\n",
      "#9 invalid\n",
      "#10 invalid\n"
     ]
    },
    {
     "name": "stderr",
     "output_type": "stream",
     "text": [
      "Downloading: 100%|██████████| 1/1 [00:00<00:00,  4.16it/s]\n",
      "Downloading: 100%|██████████| 1/1 [00:00<00:00,  3.39it/s]\n",
      "Downloading: 100%|██████████| 1/1 [00:00<00:00,  2.68it/s]\n",
      "Downloading: 100%|██████████| 2/2 [00:00<00:00,  6.38it/s]\n"
     ]
    },
    {
     "name": "stdout",
     "output_type": "stream",
     "text": [
      "#15 invalid\n",
      "#16 invalid\n",
      "#17 invalid\n",
      "#18 invalid\n",
      "#19 invalid\n"
     ]
    },
    {
     "name": "stderr",
     "output_type": "stream",
     "text": [
      "Downloading: 100%|██████████| 1/1 [00:00<00:00,  3.16it/s]\n"
     ]
    },
    {
     "name": "stdout",
     "output_type": "stream",
     "text": [
      "#21 invalid\n",
      "#22 invalid\n",
      "#23 invalid\n"
     ]
    },
    {
     "name": "stderr",
     "output_type": "stream",
     "text": [
      "Downloading: 100%|██████████| 1/1 [00:00<00:00,  3.24it/s]\n"
     ]
    },
    {
     "name": "stdout",
     "output_type": "stream",
     "text": [
      "#25 invalid\n",
      "#26 invalid\n",
      "#27 invalid\n"
     ]
    },
    {
     "name": "stderr",
     "output_type": "stream",
     "text": [
      "Downloading: 100%|██████████| 1/1 [00:00<00:00,  3.32it/s]\n"
     ]
    },
    {
     "name": "stdout",
     "output_type": "stream",
     "text": [
      "#29 invalid\n",
      "#30 invalid\n",
      "#31 invalid\n",
      "#32 invalid\n",
      "#33 invalid\n",
      "#34 invalid\n"
     ]
    },
    {
     "name": "stderr",
     "output_type": "stream",
     "text": [
      "Downloading: 100%|██████████| 1/1 [00:00<00:00,  2.78it/s]\n"
     ]
    },
    {
     "name": "stdout",
     "output_type": "stream",
     "text": [
      "#36 invalid\n",
      "#37 invalid\n",
      "#38 invalid\n",
      "#39 invalid\n"
     ]
    },
    {
     "name": "stderr",
     "output_type": "stream",
     "text": [
      "Downloading: 100%|██████████| 1/1 [00:00<00:00,  2.83it/s]\n"
     ]
    },
    {
     "name": "stdout",
     "output_type": "stream",
     "text": [
      "#41 invalid\n",
      "#42 invalid\n",
      "#43 invalid\n",
      "#44 invalid\n"
     ]
    },
    {
     "name": "stderr",
     "output_type": "stream",
     "text": [
      "Downloading: 100%|██████████| 1/1 [00:00<00:00,  3.85it/s]\n"
     ]
    },
    {
     "name": "stdout",
     "output_type": "stream",
     "text": [
      "#46 invalid\n",
      "#47 invalid\n"
     ]
    },
    {
     "name": "stderr",
     "output_type": "stream",
     "text": [
      "Downloading: 100%|██████████| 1/1 [00:00<00:00,  2.26it/s]\n",
      "Downloading: 100%|██████████| 1/1 [00:00<00:00,  4.81it/s]\n"
     ]
    },
    {
     "name": "stdout",
     "output_type": "stream",
     "text": [
      "#50 invalid\n"
     ]
    },
    {
     "name": "stderr",
     "output_type": "stream",
     "text": [
      "Downloading: 100%|██████████| 1/1 [00:00<00:00,  5.28it/s]\n"
     ]
    },
    {
     "name": "stdout",
     "output_type": "stream",
     "text": [
      "#52 invalid\n"
     ]
    },
    {
     "name": "stderr",
     "output_type": "stream",
     "text": [
      "Downloading: 100%|██████████| 1/1 [00:00<00:00,  3.56it/s]\n"
     ]
    },
    {
     "name": "stdout",
     "output_type": "stream",
     "text": [
      "#54 invalid\n",
      "#55 invalid\n",
      "#56 invalid\n",
      "#57 invalid\n",
      "#58 invalid\n"
     ]
    },
    {
     "name": "stderr",
     "output_type": "stream",
     "text": [
      "Downloading: 100%|██████████| 1/1 [00:00<00:00,  3.41it/s]\n",
      "Downloading: 100%|██████████| 1/1 [00:00<00:00,  1.81it/s]\n"
     ]
    },
    {
     "name": "stdout",
     "output_type": "stream",
     "text": [
      "#61 invalid\n",
      "#62 invalid\n",
      "#63 invalid\n",
      "#64 invalid\n"
     ]
    },
    {
     "name": "stderr",
     "output_type": "stream",
     "text": [
      "Downloading: 100%|██████████| 1/1 [00:00<00:00,  2.92it/s]\n"
     ]
    },
    {
     "name": "stdout",
     "output_type": "stream",
     "text": [
      "#66 invalid\n"
     ]
    },
    {
     "name": "stderr",
     "output_type": "stream",
     "text": [
      "Downloading: 100%|██████████| 1/1 [00:00<00:00,  3.47it/s]\n"
     ]
    },
    {
     "name": "stdout",
     "output_type": "stream",
     "text": [
      "#68 invalid\n"
     ]
    },
    {
     "name": "stderr",
     "output_type": "stream",
     "text": [
      "Downloading: 100%|██████████| 1/1 [00:00<00:00,  3.18it/s]\n"
     ]
    },
    {
     "name": "stdout",
     "output_type": "stream",
     "text": [
      "#70 invalid\n"
     ]
    },
    {
     "name": "stderr",
     "output_type": "stream",
     "text": [
      "Downloading: 100%|██████████| 1/1 [00:00<00:00,  3.80it/s]\n",
      "Downloading: 100%|██████████| 1/1 [00:00<00:00,  3.88it/s]\n",
      "Downloading: 100%|██████████| 1/1 [00:00<00:00,  2.63it/s]\n",
      "Downloading: 100%|██████████| 1/1 [00:00<00:00,  3.57it/s]\n",
      "Downloading: 100%|██████████| 1/1 [00:00<00:00,  2.79it/s]\n",
      "Downloading: 100%|██████████| 1/1 [00:00<00:00,  4.34it/s]\n",
      "Downloading: 100%|██████████| 1/1 [00:00<00:00,  3.19it/s]\n",
      "Downloading: 100%|██████████| 1/1 [00:00<00:00,  3.49it/s]\n",
      "Downloading: 100%|██████████| 1/1 [00:00<00:00,  3.89it/s]\n"
     ]
    },
    {
     "name": "stdout",
     "output_type": "stream",
     "text": [
      "#80 invalid\n"
     ]
    },
    {
     "name": "stderr",
     "output_type": "stream",
     "text": [
      "Downloading: 100%|██████████| 1/1 [00:00<00:00,  3.81it/s]\n",
      "Downloading: 100%|██████████| 1/1 [00:00<00:00,  3.88it/s]\n",
      "Downloading: 100%|██████████| 2/2 [00:00<00:00,  4.93it/s]\n"
     ]
    },
    {
     "name": "stdout",
     "output_type": "stream",
     "text": [
      "#84 invalid\n"
     ]
    },
    {
     "name": "stderr",
     "output_type": "stream",
     "text": [
      "Downloading: 100%|██████████| 1/1 [00:00<00:00,  3.42it/s]\n",
      "Downloading: 100%|██████████| 96/96 [00:06<00:00, 14.45it/s]\n"
     ]
    },
    {
     "name": "stdout",
     "output_type": "stream",
     "text": [
      "******************11***************\n",
      "#0 invalid\n",
      "#1 invalid\n"
     ]
    },
    {
     "name": "stderr",
     "output_type": "stream",
     "text": [
      "Downloading: 100%|██████████| 1/1 [00:00<00:00,  2.79it/s]\n"
     ]
    },
    {
     "name": "stdout",
     "output_type": "stream",
     "text": [
      "#3 invalid\n",
      "#4 invalid\n",
      "#5 invalid\n",
      "#6 invalid\n"
     ]
    },
    {
     "name": "stderr",
     "output_type": "stream",
     "text": [
      "Downloading: 100%|██████████| 1/1 [00:00<00:00,  4.17it/s]\n"
     ]
    },
    {
     "name": "stdout",
     "output_type": "stream",
     "text": [
      "#8 invalid\n",
      "#9 invalid\n",
      "#10 invalid\n"
     ]
    },
    {
     "name": "stderr",
     "output_type": "stream",
     "text": [
      "Downloading: 100%|██████████| 1/1 [00:00<00:00,  3.82it/s]\n",
      "Downloading: 100%|██████████| 1/1 [00:00<00:00,  3.38it/s]\n",
      "Downloading: 100%|██████████| 1/1 [00:00<00:00,  3.04it/s]\n",
      "Downloading: 100%|██████████| 2/2 [00:00<00:00,  7.23it/s]\n"
     ]
    },
    {
     "name": "stdout",
     "output_type": "stream",
     "text": [
      "#15 invalid\n",
      "#16 invalid\n",
      "#17 invalid\n",
      "#18 invalid\n",
      "#19 invalid\n"
     ]
    },
    {
     "name": "stderr",
     "output_type": "stream",
     "text": [
      "Downloading: 100%|██████████| 1/1 [00:00<00:00,  3.72it/s]\n"
     ]
    },
    {
     "name": "stdout",
     "output_type": "stream",
     "text": [
      "#21 invalid\n",
      "#22 invalid\n",
      "#23 invalid\n"
     ]
    },
    {
     "name": "stderr",
     "output_type": "stream",
     "text": [
      "Downloading: 100%|██████████| 1/1 [00:00<00:00,  3.02it/s]\n"
     ]
    },
    {
     "name": "stdout",
     "output_type": "stream",
     "text": [
      "#25 invalid\n",
      "#26 invalid\n",
      "#27 invalid\n"
     ]
    },
    {
     "name": "stderr",
     "output_type": "stream",
     "text": [
      "Downloading: 100%|██████████| 1/1 [00:00<00:00,  3.05it/s]\n"
     ]
    },
    {
     "name": "stdout",
     "output_type": "stream",
     "text": [
      "#29 invalid\n",
      "#30 invalid\n",
      "#31 invalid\n",
      "#32 invalid\n",
      "#33 invalid\n",
      "#34 invalid\n"
     ]
    },
    {
     "name": "stderr",
     "output_type": "stream",
     "text": [
      "Downloading: 100%|██████████| 1/1 [00:00<00:00,  2.01it/s]\n"
     ]
    },
    {
     "name": "stdout",
     "output_type": "stream",
     "text": [
      "#36 invalid\n",
      "#37 invalid\n",
      "#38 invalid\n",
      "#39 invalid\n"
     ]
    },
    {
     "name": "stderr",
     "output_type": "stream",
     "text": [
      "Downloading: 100%|██████████| 1/1 [00:00<00:00,  2.28it/s]\n"
     ]
    },
    {
     "name": "stdout",
     "output_type": "stream",
     "text": [
      "#41 invalid\n",
      "#42 invalid\n",
      "#43 invalid\n",
      "#44 invalid\n"
     ]
    },
    {
     "name": "stderr",
     "output_type": "stream",
     "text": [
      "Downloading: 100%|██████████| 1/1 [00:01<00:00,  1.03s/it]\n"
     ]
    },
    {
     "name": "stdout",
     "output_type": "stream",
     "text": [
      "#46 invalid\n",
      "#47 invalid\n"
     ]
    },
    {
     "name": "stderr",
     "output_type": "stream",
     "text": [
      "Downloading: 100%|██████████| 1/1 [00:00<00:00,  2.07it/s]\n",
      "Downloading: 100%|██████████| 1/1 [00:00<00:00,  2.91it/s]\n"
     ]
    },
    {
     "name": "stdout",
     "output_type": "stream",
     "text": [
      "#50 invalid\n"
     ]
    },
    {
     "name": "stderr",
     "output_type": "stream",
     "text": [
      "Downloading: 100%|██████████| 1/1 [00:00<00:00,  4.50it/s]\n"
     ]
    },
    {
     "name": "stdout",
     "output_type": "stream",
     "text": [
      "#52 invalid\n"
     ]
    },
    {
     "name": "stderr",
     "output_type": "stream",
     "text": [
      "Downloading: 100%|██████████| 1/1 [00:00<00:00,  3.68it/s]\n"
     ]
    },
    {
     "name": "stdout",
     "output_type": "stream",
     "text": [
      "#54 invalid\n",
      "#55 invalid\n",
      "#56 invalid\n",
      "#57 invalid\n",
      "#58 invalid\n"
     ]
    },
    {
     "name": "stderr",
     "output_type": "stream",
     "text": [
      "Downloading: 100%|██████████| 1/1 [00:00<00:00,  2.10it/s]\n",
      "Downloading: 100%|██████████| 1/1 [00:00<00:00,  2.32it/s]\n"
     ]
    },
    {
     "name": "stdout",
     "output_type": "stream",
     "text": [
      "#61 invalid\n",
      "#62 invalid\n",
      "#63 invalid\n",
      "#64 invalid\n"
     ]
    },
    {
     "name": "stderr",
     "output_type": "stream",
     "text": [
      "Downloading: 100%|██████████| 1/1 [00:00<00:00,  2.34it/s]\n"
     ]
    },
    {
     "name": "stdout",
     "output_type": "stream",
     "text": [
      "#66 invalid\n"
     ]
    },
    {
     "name": "stderr",
     "output_type": "stream",
     "text": [
      "Downloading: 100%|██████████| 1/1 [00:00<00:00,  4.28it/s]\n"
     ]
    },
    {
     "name": "stdout",
     "output_type": "stream",
     "text": [
      "#68 invalid\n"
     ]
    },
    {
     "name": "stderr",
     "output_type": "stream",
     "text": [
      "Downloading: 100%|██████████| 1/1 [00:00<00:00,  3.03it/s]\n"
     ]
    },
    {
     "name": "stdout",
     "output_type": "stream",
     "text": [
      "#70 invalid\n"
     ]
    },
    {
     "name": "stderr",
     "output_type": "stream",
     "text": [
      "Downloading: 100%|██████████| 1/1 [00:00<00:00,  4.41it/s]\n",
      "Downloading: 100%|██████████| 1/1 [00:00<00:00,  3.80it/s]\n",
      "Downloading: 100%|██████████| 1/1 [00:00<00:00,  1.54it/s]\n",
      "Downloading: 100%|██████████| 1/1 [00:00<00:00,  4.78it/s]\n",
      "Downloading: 100%|██████████| 1/1 [00:00<00:00,  2.84it/s]\n",
      "Downloading: 100%|██████████| 1/1 [00:00<00:00,  3.19it/s]\n",
      "Downloading: 100%|██████████| 1/1 [00:00<00:00,  2.19it/s]\n",
      "Downloading: 100%|██████████| 1/1 [00:00<00:00,  4.22it/s]\n",
      "Downloading: 100%|██████████| 1/1 [00:00<00:00,  4.15it/s]\n"
     ]
    },
    {
     "name": "stdout",
     "output_type": "stream",
     "text": [
      "#80 invalid\n"
     ]
    },
    {
     "name": "stderr",
     "output_type": "stream",
     "text": [
      "Downloading: 100%|██████████| 1/1 [00:00<00:00,  3.42it/s]\n",
      "Downloading: 100%|██████████| 1/1 [00:00<00:00,  2.87it/s]\n",
      "Downloading: 100%|██████████| 2/2 [00:00<00:00,  4.11it/s]\n"
     ]
    },
    {
     "name": "stdout",
     "output_type": "stream",
     "text": [
      "#84 invalid\n"
     ]
    },
    {
     "name": "stderr",
     "output_type": "stream",
     "text": [
      "Downloading: 100%|██████████| 1/1 [00:00<00:00,  4.27it/s]\n",
      "Downloading: 100%|██████████| 1/1 [00:00<00:00,  2.92it/s]\n",
      "Downloading: 100%|██████████| 160/160 [00:10<00:00, 14.81it/s]\n"
     ]
    }
   ],
   "source": [
    "from pathlib import Path\n",
    "from skimage import io\n",
    "import numpy as np\n",
    "import napari\n",
    "from os.path import exists\n",
    "from brainlit.utils.session import NeuroglancerSession\n",
    "from cloudvolume.exceptions import SkeletonDecodeError\n",
    "from napari_animation import AnimationWidget\n",
    "from cloudvolume import CloudVolume\n",
    "\n",
    "dir = \"precomputed://s3://open-neurodata/brainlit/brain1\"\n",
    "dir_segments = \"precomputed://s3://open-neurodata/brainlit/brain1_segments\"\n",
    "ngl_sess = NeuroglancerSession(mip=0, url=dir, url_segments=dir_segments)\n",
    "\n",
    "mans = [2,3,4,7,9,10,12,17,22,31,33,34]\n",
    "errors = np.zeros((2, len(mans)))\n",
    "\n",
    "for idx in range(0, len(mans)):\n",
    "    print(f\"******************{idx}***************\")\n",
    "\n",
    "    num_goal = mans[idx] #2,3,4,7,9,10,12,17,22,31,33,34\n",
    "    num = -1\n",
    "    skel_id = 0\n",
    "\n",
    "    while num < num_goal:\n",
    "        try:\n",
    "            ngl_sess.pull_vertex_list(skel_id, [0], 1)\n",
    "            num += 1\n",
    "        except SkeletonDecodeError:\n",
    "            print(f\"#{skel_id} invalid\")\n",
    "        skel_id += 1\n",
    "\n",
    "    img, bbox, vox = ngl_sess.pull_vertex_list(\n",
    "        skel_id - 1, [0, 1, 2, 3, 4, 5, 6, 7, 8, 9], [50, 50, 15]\n",
    "    )\n",
    "    coords_list = vox\n",
    "    soma_coords = [coords_list[0]]\n",
    "    axon_coords = [coords_list[-1]]\n",
    "    coords_list_og = coords_list\n",
    "\n",
    "\n",
    "    manual_path = (\n",
    "        \"/Users/thomasathey/Documents/mimlab/mouselight/input/images/firstn_quantitative/manual/\"\n",
    "        + str(num)\n",
    "        + \".swc\"\n",
    "    )\n",
    "\n",
    "    coords_list = []\n",
    "    with open(manual_path, \"r\") as file:\n",
    "        lines = file.readlines()\n",
    "        for line in lines:\n",
    "            if line[0] != \"#\":\n",
    "                parts = line.split()\n",
    "                coord = [float(parts[p]) for p in range(2, 5)]\n",
    "                coord = [int(c) for c in coord]\n",
    "                coord.reverse()\n",
    "                coords_list.append(coord)\n",
    "    coords_list.reverse()\n",
    "    coords_list = np.array(coords_list)\n",
    "    soma_coords = [coords_list[0]]\n",
    "    axon_coords = [coords_list[-1]]\n",
    "    coords_list_manual = np.concatenate((coords_list_og[0:1,:],coords_list,coords_list_og[-1:,:]), axis=0)\n",
    "\n",
    "\n",
    "    og_ra = np.multiply(np.array(coords_list_og), [0.3, 0.3, 1])\n",
    "    man_ra = np.multiply(np.array(coords_list_manual), [0.3, 0.3, 1])\n",
    "\n",
    "    tck, u = splprep(list(og_ra.T), k=1, task=0, s=0)\n",
    "    u_step = (u[-1]-u[0])/100\n",
    "    us = np.arange(u[0], u[-1]+u_step, u_step)\n",
    "    spline1 = np.array(splev(us, tck)).T\n",
    "    f1 = similaritymeasures.frechet_dist(man_ra, spline1)\n",
    "\n",
    "    tck3, u = splprep(list(og_ra.T), k=3, task=0, s=0)\n",
    "    u_step = (u[-1]-u[0])/100\n",
    "    us3 = np.arange(u[0], u[-1]+u_step, u_step)\n",
    "    spline3 = np.array(splev(us3, tck3)).T\n",
    "    f3 = similaritymeasures.frechet_dist(man_ra, spline3)\n",
    "\n",
    "\n",
    "    similaritymeasures.frechet_dist(spline1, spline3)\n",
    "\n",
    "    errors[0, idx] = f1\n",
    "    errors[1, idx] = f3"
   ]
  },
  {
   "cell_type": "code",
   "execution_count": 197,
   "metadata": {},
   "outputs": [
    {
     "data": {
      "text/plain": [
       "WilcoxonResult(statistic=23.0, pvalue=0.2333984375)"
      ]
     },
     "execution_count": 197,
     "metadata": {},
     "output_type": "execute_result"
    },
    {
     "data": {
      "image/png": "[encoded data removed]",
      "text/plain": [
       "<Figure size 360x360 with 1 Axes>"
      ]
     },
     "metadata": {
      "needs_background": "light"
     },
     "output_type": "display_data"
    }
   ],
   "source": [
    "import pandas as pd\n",
    "import seaborn as sns\n",
    "from scipy.stats import wilcoxon\n",
    "\n",
    "dict = {\"Order\": [\"1\" for i in range(len(mans))]+[\"3\" for i in range(len(mans))], \"Error\": list(errors[0,:])+list(errors[1,:])}\n",
    "df = pd.DataFrame(dict)\n",
    "\n",
    "sns.catplot(x=\"Order\", y=\"Error\", data=df)\n",
    "wilcoxon(x=errors[0,:], y=errors[1,:])"
   ]
  },
  {
   "cell_type": "code",
   "execution_count": 194,
   "metadata": {},
   "outputs": [
    {
     "data": {
      "text/plain": [
       "array([[0.        , 0.        , 0.        , 0.        , 0.        ,\n",
       "        0.        , 0.        , 0.        , 0.        , 0.        ,\n",
       "        0.        , 3.67453124],\n",
       "       [0.        , 0.        , 0.        , 0.        , 0.        ,\n",
       "        0.        , 0.        , 0.        , 0.        , 0.        ,\n",
       "        0.        , 4.31820828]])"
      ]
     },
     "execution_count": 194,
     "metadata": {},
     "output_type": "execute_result"
    }
   ],
   "source": [
    "errors"
   ]
  },
  {
   "cell_type": "code",
   "execution_count": null,
   "metadata": {},
   "outputs": [],
   "source": []
  }
 ],
 "metadata": {
  "interpreter": {
   "hash": "5dc00d68ff54f8375e99934614da4863299fb9e10af4294c095b7f517546ff26"
  },
  "kernelspec": {
   "display_name": "Python 3.8.10 ('docs_env': venv)",
   "language": "python",
   "name": "python3"
  },
  "language_info": {
   "codemirror_mode": {
    "name": "ipython",
    "version": 3
   },
   "file_extension": ".py",
   "mimetype": "text/x-python",
   "name": "python",
   "nbconvert_exporter": "python",
   "pygments_lexer": "ipython3",
   "version": "3.8.10"
  },
  "orig_nbformat": 4
 },
 "nbformat": 4,
 "nbformat_minor": 2
}
