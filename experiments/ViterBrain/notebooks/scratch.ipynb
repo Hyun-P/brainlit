{
 "cells": [
  {
   "cell_type": "code",
   "execution_count": 1,
   "metadata": {},
   "outputs": [
    {
     "name": "stdout",
     "output_type": "stream",
     "text": [
      "<OpenFile 'https://download.brainimagelibrary.org/df/75/df75626840c76c15/mouseID_362188-191815/CH1_0.35_100um//191815_00001_CH1.tif'>\n",
      "Reading <File-like object HTTPFileSystem, https://download.brainimagelibrary.org/df/75/df75626840c76c15/mouseID_362188-191815/CH1_0.35_100um//191815_00001_CH1.tif> \n",
      "\n",
      "Reading <File-like object HTTPFileSystem, https://download.brainimagelibrary.org/df/75/df75626840c76c15/mouseID_362188-191815/CH1_3.5_100um//191815_00001_CH1_resample.tif> \n",
      "\n",
      "Meta: {'name': 'mouseID_362188-191815', 'scale': (100, 0.35, 0.35), 'multiscale': True, 'contrast_limits': [0, 65535]}, data: (109, 28001, 19868)\n",
      "Meta: {'name': 'ilastik mask', 'scale': (100, 0.35, 0.35), 'multiscale': True}, data: (109, 28001, 19868)\n",
      "Reading <File-like object HTTPFileSystem, https://download.brainimagelibrary.org/df/75/df75626840c76c15/mouseID_362188-191815/CH1_3.5_100um//191815_00001_CH1_resample.tif> \n",
      "\n",
      "Reading <File-like object HTTPFileSystem, https://download.brainimagelibrary.org/df/75/df75626840c76c15/mouseID_362188-191815/CH1_0.35_100um//191815_00001_CH1.tif> \n",
      "\n",
      "Reading <File-like object HTTPFileSystem, https://download.brainimagelibrary.org/df/75/df75626840c76c15/mouseID_362188-191815/CH1_0.35_100um//191815_05401_CH1.tif> \n",
      "\n",
      "Reading <File-like object HTTPFileSystem, https://download.brainimagelibrary.org/df/75/df75626840c76c15/mouseID_362188-191815/CH1_3.5_100um//191815_05401_CH1_resample.tif> \n",
      "\n"
     ]
    }
   ],
   "source": [
    "import napari\n",
    "import PIL.Image\n",
    "import numpy as np\n",
    "from napari_animation import AnimationWidget\n",
    "\n",
    "PIL.Image.MAX_IMAGE_PIXELS = 1056323868\n",
    "\n",
    "viewer = napari.Viewer()\n",
    "animation_widget = AnimationWidget(viewer)\n",
    "viewer.window.add_dock_widget(animation_widget, area=\"right\")\n",
    "viewer.scale_bar.visible = True\n",
    "\n",
    "napari.run()"
   ]
  },
  {
   "cell_type": "code",
   "execution_count": null,
   "metadata": {},
   "outputs": [],
   "source": [
    "\n",
    "attr = \"int_cost\"\n",
    "for e in viterbi.nxGraph.edges():\n",
    "    if attr in viterbi.nxGraph.edges[e[0], e[1]].keys():\n",
    "        del viterbi.nxGraph.edges[e[0], e[1]][attr]"
   ]
  },
  {
   "cell_type": "code",
   "execution_count": null,
   "metadata": {},
   "outputs": [],
   "source": [
    "with open(\"/data/tathey1/bil/image_viterbrain_noattr.pickle\", \"wb\") as handle:\n",
    "    pickle.dump(viterbi, handle)"
   ]
  },
  {
   "cell_type": "code",
   "execution_count": null,
   "metadata": {},
   "outputs": [],
   "source": [
    "1545335 to 1545339"
   ]
  }
 ],
 "metadata": {
  "interpreter": {
   "hash": "5dc00d68ff54f8375e99934614da4863299fb9e10af4294c095b7f517546ff26"
  },
  "kernelspec": {
   "display_name": "Python 3.8.10 ('docs_env': venv)",
   "language": "python",
   "name": "python3"
  },
  "language_info": {
   "codemirror_mode": {
    "name": "ipython",
    "version": 3
   },
   "file_extension": ".py",
   "mimetype": "text/x-python",
   "name": "python",
   "nbconvert_exporter": "python",
   "pygments_lexer": "ipython3",
   "version": "3.8.10"
  },
  "orig_nbformat": 4
 },
 "nbformat": 4,
 "nbformat_minor": 2
}
