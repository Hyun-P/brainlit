{
 "cells": [
  {
   "cell_type": "code",
   "execution_count": null,
   "metadata": {},
   "outputs": [],
   "source": [
    "import napari\n",
    "import PIL.Image\n",
    "import numpy as np\n",
    "\n",
    "PIL.Image.MAX_IMAGE_PIXELS = 1056323868\n",
    "\n",
    "v = napari.Viewer()\n",
    "\n",
    "# lab = np.zeros((109, 2800, 1987), dtype='int')\n",
    "# lab[10:90,100:2700,100:1900] = 1\n",
    "# v.add_labels(lab, scale=(100,3.5,3.5))"
   ]
  },
  {
   "cell_type": "code",
   "execution_count": null,
   "metadata": {},
   "outputs": [],
   "source": [
    "import h5py\n",
    "import numpy as np\n",
    "\n",
    "f = h5py.File(\n",
    "    \"/Users/thomasathey/Documents/mimlab/mouselight/BIL/labels/54_slice_2_Probabilities.h5\",\n",
    "    \"r\",\n",
    ")\n",
    "pred = f.get(\"exported_data\")\n",
    "pred = pred[:, :, 0]\n",
    "mask = pred > 0.5\n",
    "mask = mask.astype(\"int\")\n",
    "print(np.sum(mask))\n",
    "mask.dtype"
   ]
  },
  {
   "cell_type": "code",
   "execution_count": null,
   "metadata": {},
   "outputs": [],
   "source": [
    "v = napari.Viewer()\n",
    "v.add_labels(mask)"
   ]
  },
  {
   "cell_type": "code",
   "execution_count": null,
   "metadata": {},
   "outputs": [],
   "source": []
  }
 ],
 "metadata": {
  "interpreter": {
   "hash": "5dc00d68ff54f8375e99934614da4863299fb9e10af4294c095b7f517546ff26"
  },
  "kernelspec": {
   "display_name": "Python 3.8.10 64-bit ('docs_env': venv)",
   "language": "python",
   "name": "python3"
  },
  "language_info": {
   "codemirror_mode": {
    "name": "ipython",
    "version": 3
   },
   "file_extension": ".py",
   "mimetype": "text/x-python",
   "name": "python",
   "nbconvert_exporter": "python",
   "pygments_lexer": "ipython3",
   "version": "3.8.10"
  },
  "orig_nbformat": 4
 },
 "nbformat": 4,
 "nbformat_minor": 2
}
