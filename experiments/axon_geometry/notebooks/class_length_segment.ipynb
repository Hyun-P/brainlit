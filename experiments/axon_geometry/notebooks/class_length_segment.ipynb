{
 "cells": [
  {
   "cell_type": "code",
   "execution_count": null,
   "metadata": {},
   "outputs": [],
   "source": [
    "from pathlib import Path\n",
    "import os\n",
    "import pandas as pd\n",
    "import seaborn as sns\n",
    "import matplotlib.pyplot as plt\n",
    "import numpy as np\n",
    "import scipy\n",
    "from tqdm import tqdm"
   ]
  },
  {
   "cell_type": "markdown",
   "metadata": {},
   "source": [
    "## Define brain, find trace data folder"
   ]
  },
  {
   "cell_type": "code",
   "execution_count": null,
   "metadata": {},
   "outputs": [],
   "source": [
    "# specify brain1 or brain2 below\n",
    "brain = \"brain1\"\n",
    "\n",
    "root_dir = Path(os.path.abspath(\"\")).parents[1]\n",
    "experiment_dir = os.path.join(root_dir, \"axon_geometry\")\n",
    "data_dir = os.path.join(experiment_dir, \"data\", brain)\n",
    "segments_swc_dir = os.path.join(data_dir, \"segments_swc\")\n",
    "trace_data_dir = os.path.join(data_dir, \"trace_data\", \"1\", \"no_dropout\")\n",
    "print(f\"Directory where swcs reside: {segments_swc_dir}\")"
   ]
  },
  {
   "cell_type": "markdown",
   "metadata": {},
   "source": [
    "## Read trace data"
   ]
  },
  {
   "cell_type": "code",
   "execution_count": null,
   "metadata": {},
   "outputs": [],
   "source": [
    "max_id = 300\n",
    "\n",
    "\n",
    "def classify_height(row):\n",
    "    height = row[\"height\"]\n",
    "    if height <= 2:\n",
    "        return height\n",
    "    else:\n",
    "        return 3\n",
    "\n",
    "\n",
    "def numerical_class(row):\n",
    "    _class = row[\"class\"]\n",
    "    if _class == \"primary\":\n",
    "        return 0\n",
    "    if _class == \"collateral\":\n",
    "        return 1\n",
    "    if _class == \"terminal\":\n",
    "        return 2\n",
    "\n",
    "\n",
    "df_path = os.path.join(trace_data_dir, \"df.csv\")\n",
    "if os.path.exists(df_path):\n",
    "    df = pd.read_csv(df_path)\n",
    "else:\n",
    "    df = pd.DataFrame(\n",
    "        columns=[\n",
    "            \"seg_id\",\n",
    "            \"class\",\n",
    "            \"height\",\n",
    "            \"log_seg_length\",\n",
    "            \"measure\",\n",
    "            \"value\",\n",
    "            \"log_value\",\n",
    "        ]\n",
    "    )\n",
    "    for i in tqdm(np.arange(0, max_id)):\n",
    "        i = int(i)\n",
    "        trace_data_path = os.path.join(trace_data_dir, \"{}.npy\".format(i))\n",
    "        if os.path.exists(trace_data_path) is True:\n",
    "            trace_data = np.load(trace_data_path, allow_pickle=True)\n",
    "\n",
    "            for node in trace_data:\n",
    "                seg_length = node[\"seg_length\"]\n",
    "                height = node[\"height\"]\n",
    "                _class = node[\"class\"]\n",
    "                mean_curvature = node[\"mean_curvature\"]\n",
    "                mean_torsion = node[\"mean_torsion\"]\n",
    "\n",
    "                log_seg_length = np.log10(seg_length)\n",
    "\n",
    "                log_mean_curvature = np.log10(mean_curvature)\n",
    "                df = df.append(\n",
    "                    {\n",
    "                        \"seg_id\": i,\n",
    "                        \"height\": height,\n",
    "                        \"class\": _class,\n",
    "                        \"log_seg_length\": log_seg_length,\n",
    "                        \"measure\": \"curvature\",\n",
    "                        \"value\": mean_curvature,\n",
    "                        \"log_value\": log_mean_curvature,\n",
    "                    },\n",
    "                    ignore_index=True,\n",
    "                )\n",
    "\n",
    "                log_mean_torsion = np.log10(mean_torsion)\n",
    "                df = df.append(\n",
    "                    {\n",
    "                        \"seg_id\": i,\n",
    "                        \"height\": height,\n",
    "                        \"class\": _class,\n",
    "                        \"log_seg_length\": log_seg_length,\n",
    "                        \"measure\": \"torsion\",\n",
    "                        \"value\": mean_torsion,\n",
    "                        \"log_value\": log_mean_torsion,\n",
    "                    },\n",
    "                    ignore_index=True,\n",
    "                )\n",
    "    df.to_csv(df_path)\n",
    "df[\"class\"] = df.apply(numerical_class, axis=1)\n",
    "df[\"height_class\"] = df.apply(classify_height, axis=1)"
   ]
  },
  {
   "cell_type": "markdown",
   "metadata": {},
   "source": [
    "# Density of curvature/torsion as a function of spline depth in the spline tree"
   ]
  },
  {
   "cell_type": "code",
   "execution_count": null,
   "metadata": {},
   "outputs": [],
   "source": [
    "sns.set_theme()\n",
    "sns.set_context(\"paper\")\n",
    "sns.set(font_scale=1.2)\n",
    "\n",
    "g = sns.FacetGrid(df, col=\"measure\", hue=\"height\", height=4)\n",
    "g.map(sns.kdeplot, \"value\")\n",
    "\n",
    "g.set_axis_labels(r\"value ($\\mu m^{-1}$)\", \"density\")\n",
    "\n",
    "g.add_legend(title=\"Segment depth\")\n",
    "\n",
    "g.set(xlim=[0, 0.2], xticks=[0, 0.1, 0.2])\n",
    "\n",
    "plt.subplots_adjust(top=0.85)\n",
    "g.fig.suptitle(\"Brain 1\" if brain == \"brain1\" else \"Brain 2\")\n",
    "\n",
    "axes = g.axes.flatten()\n",
    "axes[0].set_title(\"curvature\")\n",
    "axes[1].set_title(\"torsion\")\n",
    "\n",
    "g.savefig(\n",
    "    os.path.join(experiment_dir, \"figures\", f\"{brain}_mean_value_depth_density.eps\")\n",
    ")\n",
    "g.savefig(\n",
    "    os.path.join(experiment_dir, \"figures\", f\"{brain}_mean_value_depth_density.jpg\")\n",
    ")"
   ]
  },
  {
   "cell_type": "markdown",
   "metadata": {},
   "source": [
    "# Density of curvature/torsion as a function of spline class"
   ]
  },
  {
   "cell_type": "code",
   "execution_count": null,
   "metadata": {},
   "outputs": [],
   "source": [
    "g = sns.FacetGrid(df, col=\"measure\", hue=\"class\", height=4)\n",
    "g.map(sns.kdeplot, \"value\", bw_adjust=1.2)\n",
    "\n",
    "g.set_axis_labels(r\"value ($\\mu m^{-1}$)\", \"density\")\n",
    "\n",
    "g.add_legend(title=\"Segment class\")\n",
    "legend_labels = [\"primary\", \"collateral\", \"terminal\"]\n",
    "for t, l in zip(g._legend.texts, legend_labels):\n",
    "    t.set_text(l)\n",
    "\n",
    "g.set(xlim=[0, 0.2], xticks=[0, 0.1, 0.2])\n",
    "\n",
    "plt.subplots_adjust(top=0.85)\n",
    "g.fig.suptitle(\"Brain 1\" if brain == \"brain1\" else \"Brain 2\")\n",
    "\n",
    "axes = g.axes.flatten()\n",
    "axes[0].set_title(\"curvature\")\n",
    "axes[1].set_title(\"torsion\")\n",
    "\n",
    "g.savefig(\n",
    "    os.path.join(experiment_dir, \"figures\", f\"{brain}_mean_value_class_density.eps\")\n",
    ")\n",
    "g.savefig(\n",
    "    os.path.join(experiment_dir, \"figures\", f\"{brain}_mean_value_class_density.jpg\")\n",
    ")"
   ]
  },
  {
   "cell_type": "markdown",
   "metadata": {},
   "source": [
    "# Evaluate mean and variance of curvature/torsion distributions based on spline class"
   ]
  },
  {
   "cell_type": "code",
   "execution_count": null,
   "metadata": {},
   "outputs": [],
   "source": [
    "measures = [\"curvature\", \"torsion\"]\n",
    "class_dict = {0: \"primary\", 1: \"collateral\", 2: \"terminal\"}\n",
    "\n",
    "for measure in measures:\n",
    "    measure_df = df[df[\"measure\"] == measure]\n",
    "    for class_id in class_dict:\n",
    "        class_name = class_dict[class_id]\n",
    "        class_values = measure_df[measure_df[\"class\"] == class_id][\"value\"]\n",
    "        class_mean = class_values.mean()\n",
    "        class_var = class_values.var()\n",
    "        print(f\"{class_name} {measure}, mu = {class_mean}, var = {class_var}\")"
   ]
  },
  {
   "cell_type": "markdown",
   "metadata": {},
   "source": [
    "# Scatter plots of `log` curvature/torsion against `log` segment length as a function of spline class"
   ]
  },
  {
   "cell_type": "code",
   "execution_count": null,
   "metadata": {},
   "outputs": [],
   "source": [
    "g = sns.FacetGrid(df, row=\"measure\", col=\"class\", hue=\"class\", height=4)\n",
    "g.map(sns.scatterplot, \"log_seg_length\", \"log_value\", marker=\".\", s=50)\n",
    "g.set_axis_labels(r\"$\\log$ segment length\", r\"$\\log$ mean value\")\n",
    "g.set(ylim=[-4, 1])\n",
    "plt.subplots_adjust(top=0.9)\n",
    "g.fig.suptitle(\"Brain 1\" if brain == \"brain1\" else \"Brain 2\")\n",
    "\n",
    "axes = g.axes\n",
    "for i, measure in enumerate([\"curvature\", \"torsion\"]):\n",
    "    for j, _class in enumerate([\"primary\", \"collateral\", \"terminal\"]):\n",
    "        ax = axes[i, j]\n",
    "        ax.set_title(f\"{measure} | {_class}\")\n",
    "\n",
    "g.savefig(\n",
    "    os.path.join(experiment_dir, \"figures\", f\"{brain}_mean_value_class_scatter.eps\")\n",
    ")\n",
    "g.savefig(\n",
    "    os.path.join(experiment_dir, \"figures\", f\"{brain}_mean_value_class_scatter.jpg\")\n",
    ")"
   ]
  },
  {
   "cell_type": "code",
   "execution_count": null,
   "metadata": {},
   "outputs": [],
   "source": []
  }
 ],
 "metadata": {
  "kernelspec": {
   "name": "python3",
   "display_name": "Python 3.8.6  ('env': venv)"
  },
  "language_info": {
   "codemirror_mode": {
    "name": "ipython",
    "version": 3
   },
   "file_extension": ".py",
   "mimetype": "text/x-python",
   "name": "python",
   "nbconvert_exporter": "python",
   "pygments_lexer": "ipython3",
   "version": "3.8.10"
  },
  "interpreter": {
   "hash": "c48f87b51193a18c36f6ec1b39da40df380a4c3fb2fa54b3e413dc2378ec9052"
  }
 },
 "nbformat": 4,
 "nbformat_minor": 4
}