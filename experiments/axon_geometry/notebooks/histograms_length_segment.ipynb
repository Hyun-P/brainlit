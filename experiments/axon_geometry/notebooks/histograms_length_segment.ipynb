{
 "cells": [
  {
   "cell_type": "code",
   "execution_count": null,
   "metadata": {},
   "outputs": [],
   "source": [
    "from pathlib import Path\n",
    "import os\n",
    "import numpy as np\n",
    "import pandas as pd\n",
    "import seaborn as sns\n",
    "import matplotlib.pyplot as plt\n",
    "from tqdm import tqdm"
   ]
  },
  {
   "cell_type": "markdown",
   "metadata": {},
   "source": [
    "# Read trace data"
   ]
  },
  {
   "cell_type": "code",
   "execution_count": null,
   "metadata": {},
   "outputs": [],
   "source": [
    "root_dir = Path(os.path.abspath(\"\")).parents[1]\n",
    "experiment_dir = os.path.join(root_dir, \"axon_geometry\")\n",
    "\n",
    "brains = [\"brain1\", \"brain2\"]\n",
    "measures = [\"curvature\", \"torsion\"]\n",
    "max_id = 300\n",
    "\n",
    "d = []\n",
    "\n",
    "for brain in brains:\n",
    "    data_dir = os.path.join(experiment_dir, \"data\", brain)\n",
    "    segments_swc_dir = os.path.join(data_dir, \"segments_swc\")\n",
    "    trace_data_dir = os.path.join(data_dir, \"trace_data\", \"1\", \"no_dropout\")\n",
    "    print(f\"Directory where swcs reside: {segments_swc_dir}\")\n",
    "\n",
    "    for i in tqdm(np.arange(0, max_id)):\n",
    "        i = int(i)\n",
    "        trace_data_path = os.path.join(trace_data_dir, f\"{i}.npy\")\n",
    "        if os.path.exists(trace_data_path) is True:\n",
    "            trace_data = np.load(trace_data_path, allow_pickle=True)\n",
    "\n",
    "            for node in trace_data:\n",
    "                seg_length = node[\"seg_length\"]\n",
    "                log_seg_length = np.log10(seg_length)\n",
    "                for measure in measures:\n",
    "                    _measure = node[f\"mean_{measure}\"]\n",
    "                    magnitude = \"non-zero\" if _measure > 1e-16 else \"zero\"\n",
    "                    d.append(\n",
    "                        {\n",
    "                            \"brain\": brain,\n",
    "                            \"log_seg_length\": log_seg_length,\n",
    "                            \"measure\": measure,\n",
    "                            \"magnitude\": magnitude,\n",
    "                        }\n",
    "                    )\n",
    "df = pd.DataFrame(d)"
   ]
  },
  {
   "cell_type": "markdown",
   "metadata": {},
   "source": [
    "# Plot zero/non-zero magnitude densities as a function of `log` segment length"
   ]
  },
  {
   "cell_type": "code",
   "execution_count": null,
   "metadata": {},
   "outputs": [],
   "source": [
    "sns.set_theme()\n",
    "sns.set_context(\"paper\")\n",
    "sns.set(font_scale=1.2)\n",
    "\n",
    "g = sns.FacetGrid(df, col=\"measure\", row=\"brain\", hue=\"magnitude\", height=4)\n",
    "g.map(sns.kdeplot, \"log_seg_length\")\n",
    "g.set_axis_labels(\"log segment length\", \"density\")\n",
    "g.add_legend(title=\"Magnitude\")\n",
    "\n",
    "axes = g.axes\n",
    "\n",
    "for i, brain in enumerate(brains):\n",
    "    brain_df = df[df[\"brain\"] == brain]\n",
    "    for j, measure in enumerate(measures):\n",
    "        measure_df = brain_df[brain_df[\"measure\"] == measure]\n",
    "        zero_measure = measure_df[measure_df[\"magnitude\"] == \"zero\"]\n",
    "        alpha_measure = len(zero_measure) / len(measure_df)\n",
    "        print(f\"{brain}, {measure}, alpha = {alpha_measure}\")\n",
    "\n",
    "        ax = axes[i, j]\n",
    "        ax.set_title(r\"Brain %d %s ($\\alpha = %.2f$)\" % (i + 1, measure, alpha_measure))\n",
    "\n",
    "g.savefig(os.path.join(experiment_dir, \"figures\", \"histograms.eps\"))\n",
    "g.savefig(os.path.join(experiment_dir, \"figures\", \"histograms.jpg\"))"
   ]
  },
  {
   "cell_type": "code",
   "execution_count": null,
   "metadata": {},
   "outputs": [],
   "source": []
  }
 ],
 "metadata": {
  "kernelspec": {
   "name": "env",
   "display_name": "Python 3.8.6  ('env': venv)"
  },
  "language_info": {
   "codemirror_mode": {
    "name": "ipython",
    "version": 3
   },
   "file_extension": ".py",
   "mimetype": "text/x-python",
   "name": "python",
   "nbconvert_exporter": "python",
   "pygments_lexer": "ipython3",
   "version": "3.8.6"
  }
 },
 "nbformat": 4,
 "nbformat_minor": 4
}