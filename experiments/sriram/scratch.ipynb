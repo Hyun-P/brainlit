{
 "cells": [
  {
   "cell_type": "markdown",
   "metadata": {},
   "source": [
    "# scratch"
   ]
  },
  {
   "cell_type": "code",
   "execution_count": 2,
   "metadata": {},
   "outputs": [
    {
     "name": "stdout",
     "output_type": "stream",
     "text": [
      "[(2, 3407, 4224, 316), (2, 1703, 2112, 316)]\n",
      "[(3407, 4224, 1), (1703, 2112, 1)]\n"
     ]
    }
   ],
   "source": [
    "paths = [\"/cis/home/tathey/projects/mouselight/sriram/somez_hier.zarr/\" + str(i) for i in range(1,3)]\n",
    "zarrs = [zarr.open(path) for path in paths]\n",
    "slices = [z[0,:,:,:1] for z in zarrs]\n",
    "print([z.shape for z in zarrs])\n",
    "print([z.shape for z in slices])"
   ]
  },
  {
   "cell_type": "code",
   "execution_count": 47,
   "metadata": {},
   "outputs": [
    {
     "data": {
      "text/plain": [
       "Viewer(axes=Axes(visible=False, labels=True, colored=True, dashed=False, arrows=True), camera=Camera(center=(0.0, 1703.0, 2111.5), zoom=0.12408277076606984, angles=(0.0, 0.0, 90.0), perspective=0.0, interactive=True), cursor=Cursor(position=(1.0, 1.0, 0.0), scaled=True, size=1, style=<CursorStyle.STANDARD: 'standard'>), dims=Dims(ndim=3, ndisplay=2, last_used=0, range=((0.0, 3407.0, 1.0), (0.0, 4224.0, 1.0), (0.0, 1.0, 1.0)), current_step=(1703, 2112, 0), order=(2, 0, 1), axis_labels=('0', '1', '2')), grid=GridCanvas(stride=1, shape=(-1, -1), enabled=False), layers=[<Image layer 'slices' at 0x7f460d4ad820>], scale_bar=ScaleBar(visible=False, colored=False, ticks=True, position=<Position.BOTTOM_RIGHT: 'bottom_right'>, font_size=10, unit=None), text_overlay=TextOverlay(visible=False, color=(0.5, 0.5, 0.5, 1.0), font_size=10, position=<TextOverlayPosition.TOP_LEFT: 'top_left'>, text=''), overlays=Overlays(interaction_box=InteractionBox(points=None, show=False, show_handle=False, show_vertices=False, selection_box_drag=None, selection_box_final=None, transform_start=<napari.utils.transforms.transforms.Affine object at 0x7f4605c8af10>, transform_drag=<napari.utils.transforms.transforms.Affine object at 0x7f4605c8af70>, transform_final=<napari.utils.transforms.transforms.Affine object at 0x7f4605c8afd0>, transform=<napari.utils.transforms.transforms.Affine object at 0x7f4605c8e070>, allow_new_selection=True, selected_vertex=None)), help='', status='Ready', tooltip=Tooltip(visible=False, text=''), theme='dark', title='napari', mouse_move_callbacks=[<function InteractionBoxMouseBindings.initialize_mouse_events.<locals>.mouse_move at 0x7f460d47f040>], mouse_drag_callbacks=[<function InteractionBoxMouseBindings.initialize_mouse_events.<locals>.mouse_drag at 0x7f460d46ac10>], mouse_double_click_callbacks=[], mouse_wheel_callbacks=[<function dims_scroll at 0x7f469d19e820>], _persisted_mouse_event={}, _mouse_drag_gen={}, _mouse_wheel_gen={}, keymap={'Shift': <function InteractionBoxMouseBindings.initialize_key_events.<locals>.hold_to_lock_aspect_ratio at 0x7f460d46a550>, 'Control-Shift-R': <function InteractionBoxMouseBindings._reset_active_layer_affine at 0x7f460d46a9d0>, 'Control-Shift-A': <function InteractionBoxMouseBindings._transform_active_layer at 0x7f460d46a310>})"
      ]
     },
     "execution_count": 47,
     "metadata": {},
     "output_type": "execute_result"
    },
    {
     "name": "stderr",
     "output_type": "stream",
     "text": [
      "WARNING: Error drawing visual <Image at 0x7f460d4ad490>\n",
      "Traceback (most recent call last):\n",
      "  File \"/cis/home/tathey/projects/env_38/lib/python3.8/site-packages/vispy/app/backends/_qt.py\", line 903, in paintGL\n",
      "    self._vispy_canvas.events.draw(region=None)\n",
      "  File \"/cis/home/tathey/projects/env_38/lib/python3.8/site-packages/vispy/util/event.py\", line 453, in __call__\n",
      "    self._invoke_callback(cb, event)\n",
      "  File \"/cis/home/tathey/projects/env_38/lib/python3.8/site-packages/vispy/util/event.py\", line 471, in _invoke_callback\n",
      "    _handle_exception(self.ignore_callback_errors,\n",
      "  File \"/cis/home/tathey/projects/env_38/lib/python3.8/site-packages/vispy/util/event.py\", line 469, in _invoke_callback\n",
      "    cb(event)\n",
      "  File \"/cis/home/tathey/projects/env_38/lib/python3.8/site-packages/vispy/scene/canvas.py\", line 218, in on_draw\n",
      "    self._draw_scene()\n",
      "  File \"/cis/home/tathey/projects/env_38/lib/python3.8/site-packages/vispy/scene/canvas.py\", line 277, in _draw_scene\n",
      "    self.draw_visual(self.scene)\n",
      "  File \"/cis/home/tathey/projects/env_38/lib/python3.8/site-packages/vispy/scene/canvas.py\", line 315, in draw_visual\n",
      "    node.draw()\n",
      "  File \"/cis/home/tathey/projects/env_38/lib/python3.8/site-packages/vispy/scene/visuals.py\", line 103, in draw\n",
      "    self._visual_superclass.draw(self)\n",
      "  File \"/cis/home/tathey/projects/env_38/lib/python3.8/site-packages/vispy/visuals/visual.py\", line 451, in draw\n",
      "    self._program.draw(self._vshare.draw_mode,\n",
      "  File \"/cis/home/tathey/projects/env_38/lib/python3.8/site-packages/vispy/visuals/shaders/program.py\", line 102, in draw\n",
      "    Program.draw(self, *args, **kwargs)\n",
      "  File \"/cis/home/tathey/projects/env_38/lib/python3.8/site-packages/vispy/gloo/program.py\", line 526, in draw\n",
      "    canvas.context.flush_commands()\n",
      "  File \"/cis/home/tathey/projects/env_38/lib/python3.8/site-packages/vispy/gloo/context.py\", line 172, in flush_commands\n",
      "    self.glir.flush(self.shared.parser)\n",
      "  File \"/cis/home/tathey/projects/env_38/lib/python3.8/site-packages/vispy/gloo/glir.py\", line 582, in flush\n",
      "    self._shared.flush(parser)\n",
      "  File \"/cis/home/tathey/projects/env_38/lib/python3.8/site-packages/vispy/gloo/glir.py\", line 504, in flush\n",
      "    parser.parse(self._filter(self.clear(), parser))\n",
      "  File \"/cis/home/tathey/projects/env_38/lib/python3.8/site-packages/vispy/gloo/glir.py\", line 822, in parse\n",
      "    self._parse(command)\n",
      "  File \"/cis/home/tathey/projects/env_38/lib/python3.8/site-packages/vispy/gloo/glir.py\", line 784, in _parse\n",
      "    ob.draw(*args)\n",
      "  File \"/cis/home/tathey/projects/env_38/lib/python3.8/site-packages/vispy/gloo/glir.py\", line 1321, in draw\n",
      "    gl.check_error('Check before draw')\n",
      "  File \"/cis/home/tathey/projects/env_38/lib/python3.8/site-packages/vispy/gloo/gl/__init__.py\", line 204, in check_error\n",
      "    raise err\n",
      "RuntimeError: OpenGL got errors (Check before draw): GL_INVALID_VALUE\n"
     ]
    }
   ],
   "source": [
    "napari.view_image(slices, multiscale=True, order=(2,0,1))"
   ]
  },
  {
   "cell_type": "code",
   "execution_count": 56,
   "metadata": {},
   "outputs": [
    {
     "data": {
      "text/plain": [
       "Viewer(axes=Axes(visible=False, labels=True, colored=True, dashed=False, arrows=True), camera=Camera(center=(0.0, 49.5, 49.5), zoom=10.241, angles=(0.0, 0.0, 90.0), perspective=0.0, interactive=True), cursor=Cursor(position=(1.0, 1.0, 0.0), scaled=True, size=1, style=<CursorStyle.STANDARD: 'standard'>), dims=Dims(ndim=3, ndisplay=2, last_used=0, range=((0.0, 100.0, 1.0), (0.0, 100.0, 1.0), (0.0, 1.0, 1.0)), current_step=(50, 50, 0), order=(2, 0, 1), axis_labels=('0', '1', '2')), grid=GridCanvas(stride=1, shape=(-1, -1), enabled=False), layers=[<Image layer 'slices' at 0x7f45fe62af70>], scale_bar=ScaleBar(visible=False, colored=False, ticks=True, position=<Position.BOTTOM_RIGHT: 'bottom_right'>, font_size=10, unit=None), text_overlay=TextOverlay(visible=False, color=(0.5, 0.5, 0.5, 1.0), font_size=10, position=<TextOverlayPosition.TOP_LEFT: 'top_left'>, text=''), overlays=Overlays(interaction_box=InteractionBox(points=None, show=False, show_handle=False, show_vertices=False, selection_box_drag=None, selection_box_final=None, transform_start=<napari.utils.transforms.transforms.Affine object at 0x7f45fde78190>, transform_drag=<napari.utils.transforms.transforms.Affine object at 0x7f45fde78700>, transform_final=<napari.utils.transforms.transforms.Affine object at 0x7f45fde78490>, transform=<napari.utils.transforms.transforms.Affine object at 0x7f45fda17040>, allow_new_selection=True, selected_vertex=None)), help='', status='Ready', tooltip=Tooltip(visible=False, text=''), theme='dark', title='napari', mouse_move_callbacks=[<function InteractionBoxMouseBindings.initialize_mouse_events.<locals>.mouse_move at 0x7f45fe63a280>], mouse_drag_callbacks=[<function InteractionBoxMouseBindings.initialize_mouse_events.<locals>.mouse_drag at 0x7f45fe626700>], mouse_double_click_callbacks=[], mouse_wheel_callbacks=[<function dims_scroll at 0x7f469d19e820>], _persisted_mouse_event={}, _mouse_drag_gen={}, _mouse_wheel_gen={}, keymap={'Shift': <function InteractionBoxMouseBindings.initialize_key_events.<locals>.hold_to_lock_aspect_ratio at 0x7f45fe626310>, 'Control-Shift-R': <function InteractionBoxMouseBindings._reset_active_layer_affine at 0x7f45fe626e50>, 'Control-Shift-A': <function InteractionBoxMouseBindings._transform_active_layer at 0x7f45fe626c10>})"
      ]
     },
     "execution_count": 56,
     "metadata": {},
     "output_type": "execute_result"
    },
    {
     "name": "stderr",
     "output_type": "stream",
     "text": [
      "WARNING: Error drawing visual <Image at 0x7f45fe5edb80>\n",
      "Traceback (most recent call last):\n",
      "  File \"/cis/home/tathey/projects/env_38/lib/python3.8/site-packages/vispy/app/backends/_qt.py\", line 903, in paintGL\n",
      "    self._vispy_canvas.events.draw(region=None)\n",
      "  File \"/cis/home/tathey/projects/env_38/lib/python3.8/site-packages/vispy/util/event.py\", line 453, in __call__\n",
      "    self._invoke_callback(cb, event)\n",
      "  File \"/cis/home/tathey/projects/env_38/lib/python3.8/site-packages/vispy/util/event.py\", line 471, in _invoke_callback\n",
      "    _handle_exception(self.ignore_callback_errors,\n",
      "  File \"/cis/home/tathey/projects/env_38/lib/python3.8/site-packages/vispy/util/event.py\", line 469, in _invoke_callback\n",
      "    cb(event)\n",
      "  File \"/cis/home/tathey/projects/env_38/lib/python3.8/site-packages/vispy/scene/canvas.py\", line 218, in on_draw\n",
      "    self._draw_scene()\n",
      "  File \"/cis/home/tathey/projects/env_38/lib/python3.8/site-packages/vispy/scene/canvas.py\", line 277, in _draw_scene\n",
      "    self.draw_visual(self.scene)\n",
      "  File \"/cis/home/tathey/projects/env_38/lib/python3.8/site-packages/vispy/scene/canvas.py\", line 315, in draw_visual\n",
      "    node.draw()\n",
      "  File \"/cis/home/tathey/projects/env_38/lib/python3.8/site-packages/vispy/scene/visuals.py\", line 103, in draw\n",
      "    self._visual_superclass.draw(self)\n",
      "  File \"/cis/home/tathey/projects/env_38/lib/python3.8/site-packages/vispy/visuals/visual.py\", line 451, in draw\n",
      "    self._program.draw(self._vshare.draw_mode,\n",
      "  File \"/cis/home/tathey/projects/env_38/lib/python3.8/site-packages/vispy/visuals/shaders/program.py\", line 102, in draw\n",
      "    Program.draw(self, *args, **kwargs)\n",
      "  File \"/cis/home/tathey/projects/env_38/lib/python3.8/site-packages/vispy/gloo/program.py\", line 526, in draw\n",
      "    canvas.context.flush_commands()\n",
      "  File \"/cis/home/tathey/projects/env_38/lib/python3.8/site-packages/vispy/gloo/context.py\", line 172, in flush_commands\n",
      "    self.glir.flush(self.shared.parser)\n",
      "  File \"/cis/home/tathey/projects/env_38/lib/python3.8/site-packages/vispy/gloo/glir.py\", line 582, in flush\n",
      "    self._shared.flush(parser)\n",
      "  File \"/cis/home/tathey/projects/env_38/lib/python3.8/site-packages/vispy/gloo/glir.py\", line 504, in flush\n",
      "    parser.parse(self._filter(self.clear(), parser))\n",
      "  File \"/cis/home/tathey/projects/env_38/lib/python3.8/site-packages/vispy/gloo/glir.py\", line 822, in parse\n",
      "    self._parse(command)\n",
      "  File \"/cis/home/tathey/projects/env_38/lib/python3.8/site-packages/vispy/gloo/glir.py\", line 784, in _parse\n",
      "    ob.draw(*args)\n",
      "  File \"/cis/home/tathey/projects/env_38/lib/python3.8/site-packages/vispy/gloo/glir.py\", line 1321, in draw\n",
      "    gl.check_error('Check before draw')\n",
      "  File \"/cis/home/tathey/projects/env_38/lib/python3.8/site-packages/vispy/gloo/gl/__init__.py\", line 204, in check_error\n",
      "    raise err\n",
      "RuntimeError: OpenGL got errors (Check before draw): GL_INVALID_VALUE\n"
     ]
    }
   ],
   "source": [
    "slices = [np.ones((int(100/2**i),int(100/2**i), 1)) for i in range(2)]\n",
    "napari.view_image(slices, order=(2,0,1))"
   ]
  },
  {
   "cell_type": "code",
   "execution_count": 22,
   "metadata": {},
   "outputs": [
    {
     "name": "stdout",
     "output_type": "stream",
     "text": [
      "(2, 3407, 4224, 316)\n"
     ]
    }
   ],
   "source": [
    "zim = zarr.open(\"/cis/home/tathey/projects/mouselight/sriram/somez_hier.zarr/1/\")\n",
    "print(zim.shape)\n",
    "slice1 = zim[0,:,:,10]"
   ]
  },
  {
   "cell_type": "code",
   "execution_count": 28,
   "metadata": {},
   "outputs": [
    {
     "data": {
      "text/plain": [
       "Viewer(axes=Axes(visible=False, labels=True, colored=True, dashed=False, arrows=True), camera=Camera(center=(0.0, 3406.5, 4223.5), zoom=0.10972262987965953, angles=(0.0, 0.0, 90.0), perspective=0, interactive=True), cursor=Cursor(position=(1, 1), scaled=True, size=1, style=<CursorStyle.STANDARD: 'standard'>), dims=Dims(ndim=2, ndisplay=2, last_used=0, range=((0.0, 6814.0, 1.0), (0.0, 8448.0, 1.0)), current_step=(3407, 4224), order=(0, 1), axis_labels=('0', '1')), grid=GridCanvas(stride=1, shape=(-1, -1), enabled=False), layers=[<Image layer 'pyramid' at 0x7f4498996a00>], scale_bar=ScaleBar(visible=False, colored=False, ticks=True, position=<Position.BOTTOM_RIGHT: 'bottom_right'>, font_size=10, unit=None), text_overlay=TextOverlay(visible=False, color=(0.5, 0.5, 0.5, 1.0), font_size=10, position=<TextOverlayPosition.TOP_LEFT: 'top_left'>, text=''), overlays=Overlays(interaction_box=InteractionBox(points=None, show=False, show_handle=False, show_vertices=False, selection_box_drag=None, selection_box_final=None, transform_start=<napari.utils.transforms.transforms.Affine object at 0x7f44991ff790>, transform_drag=<napari.utils.transforms.transforms.Affine object at 0x7f44991ff7f0>, transform_final=<napari.utils.transforms.transforms.Affine object at 0x7f44991ff850>, transform=<napari.utils.transforms.transforms.Affine object at 0x7f44991ff8b0>, allow_new_selection=True, selected_vertex=None)), help='', status='Ready', tooltip=Tooltip(visible=False, text=''), theme='dark', title='napari', mouse_move_callbacks=[<function InteractionBoxMouseBindings.initialize_mouse_events.<locals>.mouse_move at 0x7f44988e3c10>], mouse_drag_callbacks=[<function InteractionBoxMouseBindings.initialize_mouse_events.<locals>.mouse_drag at 0x7f44988e3790>], mouse_double_click_callbacks=[], mouse_wheel_callbacks=[<function dims_scroll at 0x7f469d19e820>], _persisted_mouse_event={}, _mouse_drag_gen={}, _mouse_wheel_gen={}, keymap={'Shift': <function InteractionBoxMouseBindings.initialize_key_events.<locals>.hold_to_lock_aspect_ratio at 0x7f44988e3550>, 'Control-Shift-R': <function InteractionBoxMouseBindings._reset_active_layer_affine at 0x7f44988e3700>, 'Control-Shift-A': <function InteractionBoxMouseBindings._transform_active_layer at 0x7f44988e3670>})"
      ]
     },
     "execution_count": 28,
     "metadata": {},
     "output_type": "execute_result"
    }
   ],
   "source": [
    "import zarr\n",
    "import numpy as np\n",
    "from cloudvolume import CloudVolume"
   ]
  },
  {
   "cell_type": "code",
   "execution_count": 12,
   "metadata": {},
   "outputs": [],
   "source": [
    "z = zarr.open(\n",
    "    \"/Users/thomasathey/Documents/mimlab/mouselight/brainlit_parent/brainlit/experiments/sriram/sample/3-1-soma.zarr\"\n",
    ")\n",
    "ng_path = \"precomputed://file:///Users/thomasathey/Documents/mimlab/mouselight/brainlit_parent/brainlit/experiments/sriram/sample/ng/im\"\n",
    "\n",
    "info = CloudVolume.create_new_info(\n",
    "    num_channels=1,\n",
    "    layer_type=\"image\",\n",
    "    data_type=\"uint8\",  # Channel images might be 'uint8'\n",
    "    # raw, png, jpeg, compressed_segmentation, fpzip, kempressed, zfpc, compresso\n",
    "    encoding=\"raw\",\n",
    "    resolution=[500, 500, 300],  # Voxel scaling, units are in nanometers\n",
    "    voxel_offset=[0, 0, 0],  # x,y,z offset in voxels from the origin\n",
    "    # Pick a convenient size for your underlying chunk representation\n",
    "    # Powers of two are recommended, doesn't need to cover image exactly\n",
    "    chunk_size=z.shape,  # units are voxels\n",
    "    volume_size=z.shape,  # e.g. a cubic millimeter dataset\n",
    ")\n",
    "vol = CloudVolume(ng_path, info=info, compress=False)\n",
    "vol.commit_info()\n",
    "vol[:, :, :] = z[:, :, :]"
   ]
  },
  {
   "cell_type": "code",
   "execution_count": 15,
   "metadata": {},
   "outputs": [
    {
     "name": "stderr",
     "output_type": "stream",
     "text": [
      "Uploading: 100%|██████████| 1/1 [00:00<00:00,  6.83it/s]\n"
     ]
    }
   ],
   "source": [
    "z = zarr.open(\n",
    "    \"/Users/thomasathey/Documents/mimlab/mouselight/brainlit_parent/brainlit/experiments/sriram/sample/3-1-soma_labels.zarr\"\n",
    ")\n",
    "ng_path = \"precomputed://file:///Users/thomasathey/Documents/mimlab/mouselight/brainlit_parent/brainlit/experiments/sriram/sample/ng/frags\"\n",
    "\n",
    "info = CloudVolume.create_new_info(\n",
    "    num_channels=1,\n",
    "    layer_type=\"segmentation\",\n",
    "    data_type=\"uint16\",  # Channel images might be 'uint8'\n",
    "    # raw, png, jpeg, compressed_segmentation, fpzip, kempressed, zfpc, compresso\n",
    "    encoding=\"raw\",\n",
    "    resolution=[500, 500, 300],  # Voxel scaling, units are in nanometers\n",
    "    voxel_offset=[0, 0, 0],  # x,y,z offset in voxels from the origin\n",
    "    # Pick a convenient size for your underlying chunk representation\n",
    "    # Powers of two are recommended, doesn't need to cover image exactly\n",
    "    chunk_size=z.shape,  # units are voxels\n",
    "    volume_size=z.shape,  # e.g. a cubic millimeter dataset\n",
    ")\n",
    "vol = CloudVolume(ng_path, info=info, compress=False)\n",
    "vol.commit_info()\n",
    "vol[:, :, :] = z[:, :, :]"
   ]
  },
  {
   "cell_type": "code",
   "execution_count": null,
   "metadata": {},
   "outputs": [],
   "source": []
  }
 ],
 "metadata": {
  "kernelspec": {
   "display_name": "dwalin-38",
   "language": "python",
   "name": "dwalin-38"
  },
  "language_info": {
   "codemirror_mode": {
    "name": "ipython",
    "version": 3
   },
   "file_extension": ".py",
   "mimetype": "text/x-python",
   "name": "python",
   "nbconvert_exporter": "python",
   "pygments_lexer": "ipython3",
   "version": "3.8.0"
  },
  "orig_nbformat": 4,
  "vscode": {
   "interpreter": {
    "hash": "5dc00d68ff54f8375e99934614da4863299fb9e10af4294c095b7f517546ff26"
   }
  }
 },
 "nbformat": 4,
 "nbformat_minor": 2
}
